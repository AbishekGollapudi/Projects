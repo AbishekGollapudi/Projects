{
 "cells": [
  {
   "cell_type": "code",
   "execution_count": 2,
   "metadata": {},
   "outputs": [],
   "source": [
    "import pandas as pd, numpy as np"
   ]
  },
  {
   "cell_type": "code",
   "execution_count": 3,
   "metadata": {},
   "outputs": [],
   "source": [
    "rules = pd.read_pickle('rules.pkl')"
   ]
  },
  {
   "cell_type": "code",
   "execution_count": 4,
   "metadata": {},
   "outputs": [
    {
     "data": {
      "text/html": [
       "<div>\n",
       "<style scoped>\n",
       "    .dataframe tbody tr th:only-of-type {\n",
       "        vertical-align: middle;\n",
       "    }\n",
       "\n",
       "    .dataframe tbody tr th {\n",
       "        vertical-align: top;\n",
       "    }\n",
       "\n",
       "    .dataframe thead th {\n",
       "        text-align: right;\n",
       "    }\n",
       "</style>\n",
       "<table border=\"1\" class=\"dataframe\">\n",
       "  <thead>\n",
       "    <tr style=\"text-align: right;\">\n",
       "      <th></th>\n",
       "      <th>itemA</th>\n",
       "      <th>itemB</th>\n",
       "      <th>freqAB</th>\n",
       "      <th>supportAB</th>\n",
       "      <th>freqA</th>\n",
       "      <th>supportA</th>\n",
       "      <th>freqB</th>\n",
       "      <th>supportB</th>\n",
       "      <th>confidenceAtoB</th>\n",
       "      <th>confidenceBtoA</th>\n",
       "      <th>lift</th>\n",
       "    </tr>\n",
       "  </thead>\n",
       "  <tbody>\n",
       "    <tr>\n",
       "      <th>0</th>\n",
       "      <td>Organic Strawberry Chia Lowfat 2% Cottage Cheese</td>\n",
       "      <td>Organic Cottage Cheese Blueberry Acai Chia</td>\n",
       "      <td>306</td>\n",
       "      <td>0.010155</td>\n",
       "      <td>1163</td>\n",
       "      <td>0.038595</td>\n",
       "      <td>839</td>\n",
       "      <td>0.027843</td>\n",
       "      <td>0.263113</td>\n",
       "      <td>0.364720</td>\n",
       "      <td>9.449868</td>\n",
       "    </tr>\n",
       "    <tr>\n",
       "      <th>1</th>\n",
       "      <td>Grain Free Chicken Formula Cat Food</td>\n",
       "      <td>Grain Free Turkey Formula Cat Food</td>\n",
       "      <td>318</td>\n",
       "      <td>0.010553</td>\n",
       "      <td>1809</td>\n",
       "      <td>0.060033</td>\n",
       "      <td>879</td>\n",
       "      <td>0.029170</td>\n",
       "      <td>0.175788</td>\n",
       "      <td>0.361775</td>\n",
       "      <td>6.026229</td>\n",
       "    </tr>\n",
       "    <tr>\n",
       "      <th>3</th>\n",
       "      <td>Organic Fruit Yogurt Smoothie Mixed Berry</td>\n",
       "      <td>Apple Blueberry Fruit Yogurt Smoothie</td>\n",
       "      <td>349</td>\n",
       "      <td>0.011582</td>\n",
       "      <td>1518</td>\n",
       "      <td>0.050376</td>\n",
       "      <td>1249</td>\n",
       "      <td>0.041449</td>\n",
       "      <td>0.229908</td>\n",
       "      <td>0.279424</td>\n",
       "      <td>5.546732</td>\n",
       "    </tr>\n",
       "    <tr>\n",
       "      <th>9</th>\n",
       "      <td>Nonfat Strawberry With Fruit On The Bottom Gre...</td>\n",
       "      <td>0% Greek, Blueberry on the Bottom Yogurt</td>\n",
       "      <td>409</td>\n",
       "      <td>0.013573</td>\n",
       "      <td>1666</td>\n",
       "      <td>0.055288</td>\n",
       "      <td>1391</td>\n",
       "      <td>0.046162</td>\n",
       "      <td>0.245498</td>\n",
       "      <td>0.294033</td>\n",
       "      <td>5.318230</td>\n",
       "    </tr>\n",
       "    <tr>\n",
       "      <th>10</th>\n",
       "      <td>Organic Grapefruit Ginger Sparkling Yerba Mate</td>\n",
       "      <td>Cranberry Pomegranate Sparkling Yerba Mate</td>\n",
       "      <td>351</td>\n",
       "      <td>0.011648</td>\n",
       "      <td>1731</td>\n",
       "      <td>0.057445</td>\n",
       "      <td>1149</td>\n",
       "      <td>0.038131</td>\n",
       "      <td>0.202773</td>\n",
       "      <td>0.305483</td>\n",
       "      <td>5.317849</td>\n",
       "    </tr>\n",
       "  </tbody>\n",
       "</table>\n",
       "</div>"
      ],
      "text/plain": [
       "                                                itemA  \\\n",
       "0    Organic Strawberry Chia Lowfat 2% Cottage Cheese   \n",
       "1                 Grain Free Chicken Formula Cat Food   \n",
       "3           Organic Fruit Yogurt Smoothie Mixed Berry   \n",
       "9   Nonfat Strawberry With Fruit On The Bottom Gre...   \n",
       "10     Organic Grapefruit Ginger Sparkling Yerba Mate   \n",
       "\n",
       "                                         itemB  freqAB  supportAB  freqA  \\\n",
       "0   Organic Cottage Cheese Blueberry Acai Chia     306   0.010155   1163   \n",
       "1           Grain Free Turkey Formula Cat Food     318   0.010553   1809   \n",
       "3        Apple Blueberry Fruit Yogurt Smoothie     349   0.011582   1518   \n",
       "9     0% Greek, Blueberry on the Bottom Yogurt     409   0.013573   1666   \n",
       "10  Cranberry Pomegranate Sparkling Yerba Mate     351   0.011648   1731   \n",
       "\n",
       "    supportA  freqB  supportB  confidenceAtoB  confidenceBtoA      lift  \n",
       "0   0.038595    839  0.027843        0.263113        0.364720  9.449868  \n",
       "1   0.060033    879  0.029170        0.175788        0.361775  6.026229  \n",
       "3   0.050376   1249  0.041449        0.229908        0.279424  5.546732  \n",
       "9   0.055288   1391  0.046162        0.245498        0.294033  5.318230  \n",
       "10  0.057445   1149  0.038131        0.202773        0.305483  5.317849  "
      ]
     },
     "execution_count": 4,
     "metadata": {},
     "output_type": "execute_result"
    }
   ],
   "source": [
    "rules.head()"
   ]
  },
  {
   "cell_type": "markdown",
   "metadata": {},
   "source": [
    "**Create a helper function for association mining**"
   ]
  },
  {
   "cell_type": "code",
   "execution_count": 25,
   "metadata": {},
   "outputs": [],
   "source": [
    "def find_association(item_nameAnt = None, item_nameCon = None, num_association = 3):\n",
    "    \n",
    "    '''\n",
    "    item_nameAnt is the antecedent \n",
    "    itemname_Cont is the consequent\n",
    "    \n",
    "    RETURN: num_association = 3 (by default)\n",
    "    \n",
    "    A tuple of lists corresponding to (ant_assocation, ant_cond, con_assocation, con_cond)\n",
    "    \n",
    "    ant_association - the products associated with the antecedent with a lift score > 1 (high to low)\n",
    "    ant_cond - the products associated with the antecedent with decreasing confidence score\n",
    "    \n",
    "    cond_association - the products associated with the consequent with a lift score > 1 (high to low)\n",
    "    ant_cond - the products associated with the consequent with decreasing confidence score\n",
    "    \n",
    "    It is possible that one or more of the outputs contains an empty list\n",
    "    '''\n",
    "    \n",
    "    rules = pd.read_pickle('rules.pkl')\n",
    "    association_df_a = rules[rules.itemA == item_nameAnt].sort_values(by = 'confidenceAtoB', ascending = False)\n",
    "    association_df_c = rules[rules.itemB == item_nameCon].sort_values(by = 'confidenceBtoA', ascending = False)\n",
    "    \n",
    "    # all the prodcuct item which has a lift greater than 1\n",
    "    association_items = set(list(rules[rules.lift > 1].itemB.unique()) + list(rules[rules.lift > 1].itemA.unique()))\n",
    "    \n",
    "    # check if the Ant item is a association item\n",
    "    # if so, print the Con items with a lift > 1\n",
    "    ant_association = []\n",
    "    if item_nameAnt in association_items:\n",
    "        print(f'You have found {item_nameAnt} to have high associations with: ')\n",
    "        high_lift = rules[rules.itemA == item_nameAnt].sort_values(by = 'lift', ascending = False)\n",
    "        for item in high_lift[high_lift.lift > 1].itemB:\n",
    "            ant_association.append(item)\n",
    "            print(item)\n",
    "    \n",
    "    ant_cond = []\n",
    "    if item_nameAnt != None:\n",
    "        print('\\n\\n')\n",
    "        print(f'If they bought {item_nameAnt}, they will also buy:')\n",
    "        for index, item in enumerate(association_df_a.iloc[:num_association,1]):\n",
    "            ant_cond.append(item)\n",
    "            print(f'{item}, {round(association_df_a.iloc[index,8],3)}')\n",
    "\n",
    "            \n",
    "    # check if the Con item is a association item\n",
    "    # if so, print the Ant items with a lift > 1\n",
    "    con_association = []\n",
    "    if item_nameCon in association_items:\n",
    "        print('\\n\\n')\n",
    "        print(f'You have found {item_nameCon} to have high associations with: ')\n",
    "        high_lift = rules[rules.itemB == item_nameCon].sort_values(by = 'lift', ascending = False)\n",
    "        for item in high_lift[high_lift.lift > 1].itemA:\n",
    "            con_association.append(item)\n",
    "            print(item)\n",
    "    \n",
    "    con_cond = []\n",
    "    if item_nameCon != None:\n",
    "        print('\\n\\n')\n",
    "        print(f'These are the products they will buy before purchasing {item_nameCon}:')\n",
    "        for index, item in enumerate(association_df_c.iloc[:num_association,0]):\n",
    "            con_cond.append(item)\n",
    "            print(f'{item}, {round(association_df_c.iloc[index,9],3)}')\n",
    "    \n",
    "    \n",
    "    return (ant_association, ant_cond, con_association, con_cond)"
   ]
  },
  {
   "cell_type": "code",
   "execution_count": 26,
   "metadata": {},
   "outputs": [
    {
     "name": "stdout",
     "output_type": "stream",
     "text": [
      "You have found Almond Milk Strawberry Yogurt to have high associations with: \n",
      "Almond Milk Blueberry Yogurt\n",
      "Almond Milk Peach Yogurt\n",
      "\n",
      "\n",
      "\n",
      "If they bought Almond Milk Strawberry Yogurt, they will also buy:\n",
      "Almond Milk Blueberry Yogurt, 0.287\n",
      "Almond Milk Peach Yogurt, 0.241\n",
      "Vanilla Almond Milk Yogurt, 0.172\n",
      "\n",
      "\n",
      "\n",
      "You have found Almond Milk Peach Yogurt to have high associations with: \n",
      "Almond Milk Strawberry Yogurt\n",
      "Almond Milk Blueberry Yogurt\n",
      "\n",
      "\n",
      "\n",
      "These are the products they will buy before purchasing Almond Milk Peach Yogurt:\n",
      "Almond Milk Strawberry Yogurt, 0.293\n",
      "Almond Milk Blueberry Yogurt, 0.206\n",
      "Vanilla Almond Milk Yogurt, 0.165\n"
     ]
    },
    {
     "data": {
      "text/plain": [
       "(['Almond Milk Blueberry Yogurt', 'Almond Milk Peach Yogurt'],\n",
       " ['Almond Milk Blueberry Yogurt',\n",
       "  'Almond Milk Peach Yogurt',\n",
       "  'Vanilla Almond Milk Yogurt'],\n",
       " ['Almond Milk Strawberry Yogurt', 'Almond Milk Blueberry Yogurt'],\n",
       " ['Almond Milk Strawberry Yogurt',\n",
       "  'Almond Milk Blueberry Yogurt',\n",
       "  'Vanilla Almond Milk Yogurt'])"
      ]
     },
     "execution_count": 26,
     "metadata": {},
     "output_type": "execute_result"
    }
   ],
   "source": [
    "find_association(item_nameAnt =  'Almond Milk Strawberry Yogurt',\n",
    "                 item_nameCon = 'Almond Milk Peach Yogurt')"
   ]
  },
  {
   "cell_type": "code",
   "execution_count": 28,
   "metadata": {},
   "outputs": [
    {
     "name": "stdout",
     "output_type": "stream",
     "text": [
      "You have found Peanut Butter Bar to have high associations with: \n",
      "Carob Chip\n",
      "Organic Gluten Free Cranberry Crunch Bar\n",
      "Almond Coconut Bar, Organic\n",
      "Almond Butter\n",
      "\n",
      "\n",
      "\n",
      "If they bought Peanut Butter Bar, they will also buy:\n",
      "Almond Butter, 0.116\n",
      "Bag of Organic Bananas, 0.101\n",
      "Carob Chip, 0.079\n",
      "\n",
      "\n",
      "\n",
      "You have found Peanut Butter Bar to have high associations with: \n",
      "\n",
      "\n",
      "\n",
      "These are the products they will buy before purchasing Peanut Butter Bar:\n",
      "Bag of Organic Bananas, 0.14\n",
      "Banana, 0.105\n",
      "Almond Butter, 0.083\n"
     ]
    },
    {
     "data": {
      "text/plain": [
       "['Carob Chip',\n",
       " 'Organic Gluten Free Cranberry Crunch Bar',\n",
       " 'Almond Coconut Bar, Organic',\n",
       " 'Almond Butter']"
      ]
     },
     "execution_count": 28,
     "metadata": {},
     "output_type": "execute_result"
    }
   ],
   "source": [
    "find_association(item_nameAnt =  'Peanut Butter Bar', item_nameCon =  'Peanut Butter Bar')[0]"
   ]
  },
  {
   "cell_type": "code",
   "execution_count": 9,
   "metadata": {},
   "outputs": [],
   "source": [
    "association_items = set(list(rules[rules.lift > 1].itemB.unique()) + list(rules[rules.lift > 1].itemA.unique()))"
   ]
  },
  {
   "cell_type": "code",
   "execution_count": 1,
   "metadata": {},
   "outputs": [
    {
     "ename": "NameError",
     "evalue": "name 'association_items' is not defined",
     "output_type": "error",
     "traceback": [
      "\u001b[0;31m---------------------------------------------------------------------------\u001b[0m",
      "\u001b[0;31mNameError\u001b[0m                                 Traceback (most recent call last)",
      "\u001b[0;32m<ipython-input-1-6a88478d4fce>\u001b[0m in \u001b[0;36m<module>\u001b[0;34m()\u001b[0m\n\u001b[0;32m----> 1\u001b[0;31m \u001b[0massociation_items\u001b[0m\u001b[0;34m[\u001b[0m\u001b[0;34m:\u001b[0m\u001b[0;36m20\u001b[0m\u001b[0;34m]\u001b[0m\u001b[0;34m\u001b[0m\u001b[0;34m\u001b[0m\u001b[0m\n\u001b[0m",
      "\u001b[0;31mNameError\u001b[0m: name 'association_items' is not defined"
     ]
    }
   ],
   "source": [
    "association_items[:20]"
   ]
  },
  {
   "cell_type": "code",
   "execution_count": null,
   "metadata": {},
   "outputs": [],
   "source": []
  }
 ],
 "metadata": {
  "kernelspec": {
   "display_name": "Python 3",
   "language": "python",
   "name": "python3"
  },
  "language_info": {
   "codemirror_mode": {
    "name": "ipython",
    "version": 3
   },
   "file_extension": ".py",
   "mimetype": "text/x-python",
   "name": "python",
   "nbconvert_exporter": "python",
   "pygments_lexer": "ipython3",
   "version": "3.7.3"
  }
 },
 "nbformat": 4,
 "nbformat_minor": 4
}
