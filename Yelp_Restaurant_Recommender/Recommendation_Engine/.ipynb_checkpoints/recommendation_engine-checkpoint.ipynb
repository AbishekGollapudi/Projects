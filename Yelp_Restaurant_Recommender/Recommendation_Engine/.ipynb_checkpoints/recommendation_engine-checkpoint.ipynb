{
 "cells": [
  {
   "cell_type": "markdown",
   "metadata": {},
   "source": [
    "### Yelp Content-Based Recommender Engine"
   ]
  },
  {
   "cell_type": "code",
   "execution_count": 1,
   "metadata": {},
   "outputs": [],
   "source": [
    "import pandas as pd, numpy as np\n",
    "\n",
    "from sklearn.feature_extraction.text import CountVectorizer, TfidfVectorizer\n",
    "from sklearn.decomposition import TruncatedSVD\n",
    "from sklearn.decomposition import NMF\n",
    "from sklearn.metrics.pairwise import cosine_similarity\n",
    "import matplotlib.pyplot as plt\n",
    "import seaborn as sns\n",
    "%matplotlib inline\n",
    "\n",
    "import pickle"
   ]
  },
  {
   "cell_type": "markdown",
   "metadata": {},
   "source": [
    "#### Text Preprocessing"
   ]
  },
  {
   "cell_type": "code",
   "execution_count": 2,
   "metadata": {},
   "outputs": [
    {
     "name": "stderr",
     "output_type": "stream",
     "text": [
      "[nltk_data] Downloading package wordnet to\n",
      "[nltk_data]     /Users/bentleyou/nltk_data...\n",
      "[nltk_data]   Package wordnet is already up-to-date!\n"
     ]
    }
   ],
   "source": [
    "import nltk\n",
    "from nltk.stem import WordNetLemmatizer \n",
    "nltk.download('wordnet')\n",
    "from nltk.stem import PorterStemmer "
   ]
  },
  {
   "cell_type": "code",
   "execution_count": 3,
   "metadata": {},
   "outputs": [],
   "source": [
    "def preprocessing(texts):\n",
    "    \n",
    "    lemmatizer = WordNetLemmatizer()\n",
    "    ps = PorterStemmer() \n",
    "\n",
    "    return [''.join([ps.stem(lemmatizer.lemmatize(w)) for w in texts])]"
   ]
  },
  {
   "cell_type": "markdown",
   "metadata": {},
   "source": [
    "#### Using LSA transformer"
   ]
  },
  {
   "cell_type": "code",
   "execution_count": 18,
   "metadata": {},
   "outputs": [],
   "source": [
    "with open(\"Tfidf.pkl\", \"rb\") as fp:   # Unpickling\n",
    "    Tfidf_vectorizer = pickle.load(fp)\n",
    "       \n",
    "with open(\"lsa_model.pkl\", \"rb\") as fp:   # Unpickling\n",
    "    lsa = pickle.load(fp)\n",
    "\n",
    "def text_transformer_lsa(preprocessed_texts):\n",
    "    \n",
    "    vectorized_text = Tfidf_vectorizer.transform(preprocessed_texts)\n",
    "    \n",
    "    compressed_vector = lsa.transform(vectorized_text)\n",
    "    \n",
    "    return compressed_vector"
   ]
  },
  {
   "cell_type": "markdown",
   "metadata": {},
   "source": [
    "#### Using NMF transformer"
   ]
  },
  {
   "cell_type": "code",
   "execution_count": 5,
   "metadata": {
    "jupyter": {
     "source_hidden": true
    }
   },
   "outputs": [],
   "source": [
    "with open(\"Tfidf_vectorizer.txt\", \"rb\") as fp:   # Unpickling\n",
    "    Tfidf_vectorizer = pickle.load(fp)\n",
    "with open(\"nmf_model.pkl\", \"rb\") as fp:   # Unpickling\n",
    "    nmf = pickle.load(fp)\n",
    "\n",
    "def text_transformer_nmf(preprocessed_texts):\n",
    "    \n",
    "    vectorized_text = Tfidf_vectorizer.transform(preprocessed_texts)\n",
    "    \n",
    "    compressed_vector = nmf.transform(vectorized_text)\n",
    "    \n",
    "    return compressed_vector"
   ]
  },
  {
   "cell_type": "code",
   "execution_count": 6,
   "metadata": {},
   "outputs": [],
   "source": [
    "doc_topic_lsa = pd.read_pickle('doc_topic_lsa.pkl')\n",
    "\n",
    "def find_similarity_LSA(search, top_search, location):\n",
    "    \n",
    "    preprocessed_search = preprocessing(search)\n",
    "    \n",
    "    search_vector = text_transformer_lsa(preprocessed_search)\n",
    "    \n",
    "    location_res_topic = doc_topic_lsa[doc_topic_lsa['city'] == location].iloc[:,0:10]\n",
    "    restaurant_topic_array = location_res_topic.values\n",
    "    restaurant_index = location_res_topic.index\n",
    "    \n",
    "    print(restaurant_topic_array.shape)\n",
    "    cosine_list = []\n",
    "    \n",
    "    \n",
    "    for restaurant in restaurant_topic_array:\n",
    "        \n",
    "        cosine_list.append(cosine_similarity([restaurant],[search_vector])[1][0])\n",
    "    \n",
    "    cosine_array = np.array(cosine_list)\n",
    "    \n",
    "    restaurant_sim = pd.DataFrame(cosine_array, \n",
    "                                  index = restaurant_index,\n",
    "                                 columns = ['Similarity']).sort_values(by = 'Similarity', \n",
    "                                                                       ascending = False)\n",
    "    return restaurant_sim[:top_search]"
   ]
  },
  {
   "cell_type": "code",
   "execution_count": 7,
   "metadata": {
    "jupyter": {
     "source_hidden": true
    }
   },
   "outputs": [],
   "source": [
    "doc_topic_nmf = pd.read_pickle('doc_topic_nmf.pkl')\n",
    "\n",
    "def find_similarity_NMF(search, top_search, location):\n",
    "    \n",
    "    preprocessed_search = preprocessing(search)\n",
    "\n",
    "    \n",
    "    search_vector = text_transformer_nmf(preprocessed_search)\n",
    "    \n",
    "    location_res_topic = doc_topic_nmf[doc_topic_nmf['city'] == location].iloc[:,0:5]\n",
    "    restaurant_topic_array = location_res_topic.values\n",
    "    restaurant_index = location_res_topic.index\n",
    "    \n",
    "    print(restaurant_topic_array.shape)\n",
    "    cosine_list = []\n",
    "    \n",
    "    \n",
    "    for restaurant in restaurant_topic_array:\n",
    "        \n",
    "        cosine_list.append(cosine_similarity([restaurant,search_vector.reshape(-1)])[1][0])\n",
    "    \n",
    "    cosine_array = np.array(cosine_list)\n",
    "    \n",
    "    restaurant_sim = pd.DataFrame(cosine_array, \n",
    "                                  index = restaurant_index,\n",
    "                                 columns = ['Similarity']).sort_values(by = 'Similarity', \n",
    "                                                                       ascending = False)\n",
    "    return restaurant_sim[:top_search]"
   ]
  },
  {
   "cell_type": "code",
   "execution_count": 19,
   "metadata": {},
   "outputs": [
    {
     "data": {
      "text/plain": [
       "['the best burger in town']"
      ]
     },
     "execution_count": 19,
     "metadata": {},
     "output_type": "execute_result"
    }
   ],
   "source": [
    "preprocessing('the best burger in town')"
   ]
  },
  {
   "cell_type": "code",
   "execution_count": 20,
   "metadata": {},
   "outputs": [
    {
     "data": {
      "text/plain": [
       "TfidfVectorizer(analyzer='word', binary=False, decode_error='strict',\n",
       "                dtype=<class 'numpy.float64'>, encoding='utf-8',\n",
       "                input='content', lowercase=True, max_df=1.0, max_features=None,\n",
       "                min_df=3, ngram_range=(1, 1), norm='l2', preprocessor=None,\n",
       "                smooth_idf=True, stop_words='english', strip_accents=None,\n",
       "                sublinear_tf=False, token_pattern='(?u)\\\\b\\\\w\\\\w+\\\\b',\n",
       "                tokenizer=None, use_idf=True, vocabulary=None)"
      ]
     },
     "execution_count": 20,
     "metadata": {},
     "output_type": "execute_result"
    }
   ],
   "source": [
    "Tfidf_vectorizer"
   ]
  },
  {
   "cell_type": "code",
   "execution_count": 21,
   "metadata": {},
   "outputs": [
    {
     "data": {
      "text/plain": [
       "(1, 119269)"
      ]
     },
     "execution_count": 21,
     "metadata": {},
     "output_type": "execute_result"
    }
   ],
   "source": [
    "Tfidf_vectorizer.transform(preprocessing('the best burger in town')).shape"
   ]
  },
  {
   "cell_type": "code",
   "execution_count": 22,
   "metadata": {},
   "outputs": [
    {
     "data": {
      "text/plain": [
       "array([[ 0.07510358, -0.02398096, -0.12689207,  0.02622772, -0.19288896,\n",
       "         0.14638499,  0.29520272,  0.44437212,  0.11443655,  0.02469081]])"
      ]
     },
     "execution_count": 22,
     "metadata": {},
     "output_type": "execute_result"
    }
   ],
   "source": [
    "text_transformer_lsa(preprocessing('the best burger in town'))"
   ]
  },
  {
   "cell_type": "code",
   "execution_count": 23,
   "metadata": {},
   "outputs": [
    {
     "name": "stdout",
     "output_type": "stream",
     "text": [
      "(6455, 6)\n"
     ]
    },
    {
     "ename": "ValueError",
     "evalue": "setting an array element with a sequence.",
     "output_type": "error",
     "traceback": [
      "\u001b[0;31m---------------------------------------------------------------------------\u001b[0m",
      "\u001b[0;31mValueError\u001b[0m                                Traceback (most recent call last)",
      "\u001b[0;32m<ipython-input-23-0ebd5b127fd8>\u001b[0m in \u001b[0;36m<module>\u001b[0;34m()\u001b[0m\n\u001b[0;32m----> 1\u001b[0;31m \u001b[0mfind_similarity_LSA\u001b[0m\u001b[0;34m(\u001b[0m\u001b[0;34m'Burgers in the latenight snack'\u001b[0m\u001b[0;34m,\u001b[0m \u001b[0;36m5\u001b[0m\u001b[0;34m,\u001b[0m \u001b[0;34m'Las Vegas'\u001b[0m\u001b[0;34m)\u001b[0m\u001b[0;34m\u001b[0m\u001b[0;34m\u001b[0m\u001b[0m\n\u001b[0m",
      "\u001b[0;32m<ipython-input-6-66d8ee66ed54>\u001b[0m in \u001b[0;36mfind_similarity_LSA\u001b[0;34m(search, top_search, location)\u001b[0m\n\u001b[1;32m     17\u001b[0m     \u001b[0;32mfor\u001b[0m \u001b[0mrestaurant\u001b[0m \u001b[0;32min\u001b[0m \u001b[0mrestaurant_topic_array\u001b[0m\u001b[0;34m:\u001b[0m\u001b[0;34m\u001b[0m\u001b[0;34m\u001b[0m\u001b[0m\n\u001b[1;32m     18\u001b[0m \u001b[0;34m\u001b[0m\u001b[0m\n\u001b[0;32m---> 19\u001b[0;31m         \u001b[0mcosine_list\u001b[0m\u001b[0;34m.\u001b[0m\u001b[0mappend\u001b[0m\u001b[0;34m(\u001b[0m\u001b[0mcosine_similarity\u001b[0m\u001b[0;34m(\u001b[0m\u001b[0;34m[\u001b[0m\u001b[0mrestaurant\u001b[0m\u001b[0;34m,\u001b[0m\u001b[0msearch_vector\u001b[0m\u001b[0;34m.\u001b[0m\u001b[0mreshape\u001b[0m\u001b[0;34m(\u001b[0m\u001b[0;34m-\u001b[0m\u001b[0;36m1\u001b[0m\u001b[0;34m)\u001b[0m\u001b[0;34m]\u001b[0m\u001b[0;34m)\u001b[0m\u001b[0;34m[\u001b[0m\u001b[0;36m1\u001b[0m\u001b[0;34m]\u001b[0m\u001b[0;34m[\u001b[0m\u001b[0;36m0\u001b[0m\u001b[0;34m]\u001b[0m\u001b[0;34m)\u001b[0m\u001b[0;34m\u001b[0m\u001b[0;34m\u001b[0m\u001b[0m\n\u001b[0m\u001b[1;32m     20\u001b[0m \u001b[0;34m\u001b[0m\u001b[0m\n\u001b[1;32m     21\u001b[0m     \u001b[0mcosine_array\u001b[0m \u001b[0;34m=\u001b[0m \u001b[0mnp\u001b[0m\u001b[0;34m.\u001b[0m\u001b[0marray\u001b[0m\u001b[0;34m(\u001b[0m\u001b[0mcosine_list\u001b[0m\u001b[0;34m)\u001b[0m\u001b[0;34m\u001b[0m\u001b[0;34m\u001b[0m\u001b[0m\n",
      "\u001b[0;32m/Users/bentleyou/anaconda3/lib/python3.7/site-packages/sklearn/metrics/pairwise.py\u001b[0m in \u001b[0;36mcosine_similarity\u001b[0;34m(X, Y, dense_output)\u001b[0m\n\u001b[1;32m   1025\u001b[0m     \u001b[0;31m# to avoid recursive import\u001b[0m\u001b[0;34m\u001b[0m\u001b[0;34m\u001b[0m\u001b[0;34m\u001b[0m\u001b[0m\n\u001b[1;32m   1026\u001b[0m \u001b[0;34m\u001b[0m\u001b[0m\n\u001b[0;32m-> 1027\u001b[0;31m     \u001b[0mX\u001b[0m\u001b[0;34m,\u001b[0m \u001b[0mY\u001b[0m \u001b[0;34m=\u001b[0m \u001b[0mcheck_pairwise_arrays\u001b[0m\u001b[0;34m(\u001b[0m\u001b[0mX\u001b[0m\u001b[0;34m,\u001b[0m \u001b[0mY\u001b[0m\u001b[0;34m)\u001b[0m\u001b[0;34m\u001b[0m\u001b[0;34m\u001b[0m\u001b[0m\n\u001b[0m\u001b[1;32m   1028\u001b[0m \u001b[0;34m\u001b[0m\u001b[0m\n\u001b[1;32m   1029\u001b[0m     \u001b[0mX_normalized\u001b[0m \u001b[0;34m=\u001b[0m \u001b[0mnormalize\u001b[0m\u001b[0;34m(\u001b[0m\u001b[0mX\u001b[0m\u001b[0;34m,\u001b[0m \u001b[0mcopy\u001b[0m\u001b[0;34m=\u001b[0m\u001b[0;32mTrue\u001b[0m\u001b[0;34m)\u001b[0m\u001b[0;34m\u001b[0m\u001b[0;34m\u001b[0m\u001b[0m\n",
      "\u001b[0;32m/Users/bentleyou/anaconda3/lib/python3.7/site-packages/sklearn/metrics/pairwise.py\u001b[0m in \u001b[0;36mcheck_pairwise_arrays\u001b[0;34m(X, Y, precomputed, dtype)\u001b[0m\n\u001b[1;32m    107\u001b[0m     \u001b[0;32mif\u001b[0m \u001b[0mY\u001b[0m \u001b[0;32mis\u001b[0m \u001b[0mX\u001b[0m \u001b[0;32mor\u001b[0m \u001b[0mY\u001b[0m \u001b[0;32mis\u001b[0m \u001b[0;32mNone\u001b[0m\u001b[0;34m:\u001b[0m\u001b[0;34m\u001b[0m\u001b[0;34m\u001b[0m\u001b[0m\n\u001b[1;32m    108\u001b[0m         X = Y = check_array(X, accept_sparse='csr', dtype=dtype,\n\u001b[0;32m--> 109\u001b[0;31m                             estimator=estimator)\n\u001b[0m\u001b[1;32m    110\u001b[0m     \u001b[0;32melse\u001b[0m\u001b[0;34m:\u001b[0m\u001b[0;34m\u001b[0m\u001b[0;34m\u001b[0m\u001b[0m\n\u001b[1;32m    111\u001b[0m         X = check_array(X, accept_sparse='csr', dtype=dtype,\n",
      "\u001b[0;32m/Users/bentleyou/anaconda3/lib/python3.7/site-packages/sklearn/utils/validation.py\u001b[0m in \u001b[0;36mcheck_array\u001b[0;34m(array, accept_sparse, accept_large_sparse, dtype, order, copy, force_all_finite, ensure_2d, allow_nd, ensure_min_samples, ensure_min_features, warn_on_dtype, estimator)\u001b[0m\n\u001b[1;32m    494\u001b[0m             \u001b[0;32mtry\u001b[0m\u001b[0;34m:\u001b[0m\u001b[0;34m\u001b[0m\u001b[0;34m\u001b[0m\u001b[0m\n\u001b[1;32m    495\u001b[0m                 \u001b[0mwarnings\u001b[0m\u001b[0;34m.\u001b[0m\u001b[0msimplefilter\u001b[0m\u001b[0;34m(\u001b[0m\u001b[0;34m'error'\u001b[0m\u001b[0;34m,\u001b[0m \u001b[0mComplexWarning\u001b[0m\u001b[0;34m)\u001b[0m\u001b[0;34m\u001b[0m\u001b[0;34m\u001b[0m\u001b[0m\n\u001b[0;32m--> 496\u001b[0;31m                 \u001b[0marray\u001b[0m \u001b[0;34m=\u001b[0m \u001b[0mnp\u001b[0m\u001b[0;34m.\u001b[0m\u001b[0masarray\u001b[0m\u001b[0;34m(\u001b[0m\u001b[0marray\u001b[0m\u001b[0;34m,\u001b[0m \u001b[0mdtype\u001b[0m\u001b[0;34m=\u001b[0m\u001b[0mdtype\u001b[0m\u001b[0;34m,\u001b[0m \u001b[0morder\u001b[0m\u001b[0;34m=\u001b[0m\u001b[0morder\u001b[0m\u001b[0;34m)\u001b[0m\u001b[0;34m\u001b[0m\u001b[0;34m\u001b[0m\u001b[0m\n\u001b[0m\u001b[1;32m    497\u001b[0m             \u001b[0;32mexcept\u001b[0m \u001b[0mComplexWarning\u001b[0m\u001b[0;34m:\u001b[0m\u001b[0;34m\u001b[0m\u001b[0;34m\u001b[0m\u001b[0m\n\u001b[1;32m    498\u001b[0m                 raise ValueError(\"Complex data not supported\\n\"\n",
      "\u001b[0;32m/Users/bentleyou/anaconda3/lib/python3.7/site-packages/numpy/core/_asarray.py\u001b[0m in \u001b[0;36masarray\u001b[0;34m(a, dtype, order)\u001b[0m\n\u001b[1;32m     83\u001b[0m \u001b[0;34m\u001b[0m\u001b[0m\n\u001b[1;32m     84\u001b[0m     \"\"\"\n\u001b[0;32m---> 85\u001b[0;31m     \u001b[0;32mreturn\u001b[0m \u001b[0marray\u001b[0m\u001b[0;34m(\u001b[0m\u001b[0ma\u001b[0m\u001b[0;34m,\u001b[0m \u001b[0mdtype\u001b[0m\u001b[0;34m,\u001b[0m \u001b[0mcopy\u001b[0m\u001b[0;34m=\u001b[0m\u001b[0;32mFalse\u001b[0m\u001b[0;34m,\u001b[0m \u001b[0morder\u001b[0m\u001b[0;34m=\u001b[0m\u001b[0morder\u001b[0m\u001b[0;34m)\u001b[0m\u001b[0;34m\u001b[0m\u001b[0;34m\u001b[0m\u001b[0m\n\u001b[0m\u001b[1;32m     86\u001b[0m \u001b[0;34m\u001b[0m\u001b[0m\n\u001b[1;32m     87\u001b[0m \u001b[0;34m\u001b[0m\u001b[0m\n",
      "\u001b[0;31mValueError\u001b[0m: setting an array element with a sequence."
     ]
    }
   ],
   "source": [
    "find_similarity_LSA('Burgers in the latenight snack', 5, 'Las Vegas')"
   ]
  },
  {
   "cell_type": "code",
   "execution_count": 82,
   "metadata": {},
   "outputs": [
    {
     "name": "stdout",
     "output_type": "stream",
     "text": [
      "(6455, 5)\n"
     ]
    },
    {
     "data": {
      "text/html": [
       "<div>\n",
       "<style scoped>\n",
       "    .dataframe tbody tr th:only-of-type {\n",
       "        vertical-align: middle;\n",
       "    }\n",
       "\n",
       "    .dataframe tbody tr th {\n",
       "        vertical-align: top;\n",
       "    }\n",
       "\n",
       "    .dataframe thead th {\n",
       "        text-align: right;\n",
       "    }\n",
       "</style>\n",
       "<table border=\"1\" class=\"dataframe\">\n",
       "  <thead>\n",
       "    <tr style=\"text-align: right;\">\n",
       "      <th></th>\n",
       "      <th>Similarity</th>\n",
       "    </tr>\n",
       "    <tr>\n",
       "      <th>name</th>\n",
       "      <th></th>\n",
       "    </tr>\n",
       "  </thead>\n",
       "  <tbody>\n",
       "    <tr>\n",
       "      <th>Kilroy's Restaurant &amp; Bar</th>\n",
       "      <td>0.834243</td>\n",
       "    </tr>\n",
       "    <tr>\n",
       "      <th>Burger Stop</th>\n",
       "      <td>0.817671</td>\n",
       "    </tr>\n",
       "    <tr>\n",
       "      <th>The Habit Burger Grill</th>\n",
       "      <td>0.802033</td>\n",
       "    </tr>\n",
       "    <tr>\n",
       "      <th>Burger Bar</th>\n",
       "      <td>0.794919</td>\n",
       "    </tr>\n",
       "    <tr>\n",
       "      <th>Baby's Badass Burgers</th>\n",
       "      <td>0.772852</td>\n",
       "    </tr>\n",
       "  </tbody>\n",
       "</table>\n",
       "</div>"
      ],
      "text/plain": [
       "                           Similarity\n",
       "name                                 \n",
       "Kilroy's Restaurant & Bar    0.834243\n",
       "Burger Stop                  0.817671\n",
       "The Habit Burger Grill       0.802033\n",
       "Burger Bar                   0.794919\n",
       "Baby's Badass Burgers        0.772852"
      ]
     },
     "execution_count": 82,
     "metadata": {},
     "output_type": "execute_result"
    }
   ],
   "source": [
    "find_similarity_LSA('Burgers in the latenight snack', 5, 'Las Vegas')"
   ]
  },
  {
   "cell_type": "code",
   "execution_count": 83,
   "metadata": {},
   "outputs": [
    {
     "name": "stdout",
     "output_type": "stream",
     "text": [
      "(6455, 5)\n"
     ]
    },
    {
     "data": {
      "text/html": [
       "<div>\n",
       "<style scoped>\n",
       "    .dataframe tbody tr th:only-of-type {\n",
       "        vertical-align: middle;\n",
       "    }\n",
       "\n",
       "    .dataframe tbody tr th {\n",
       "        vertical-align: top;\n",
       "    }\n",
       "\n",
       "    .dataframe thead th {\n",
       "        text-align: right;\n",
       "    }\n",
       "</style>\n",
       "<table border=\"1\" class=\"dataframe\">\n",
       "  <thead>\n",
       "    <tr style=\"text-align: right;\">\n",
       "      <th></th>\n",
       "      <th>Similarity</th>\n",
       "    </tr>\n",
       "    <tr>\n",
       "      <th>name</th>\n",
       "      <th></th>\n",
       "    </tr>\n",
       "  </thead>\n",
       "  <tbody>\n",
       "    <tr>\n",
       "      <th>Kilroy's Restaurant &amp; Bar</th>\n",
       "      <td>0.798284</td>\n",
       "    </tr>\n",
       "    <tr>\n",
       "      <th>Burger Stop</th>\n",
       "      <td>0.779579</td>\n",
       "    </tr>\n",
       "    <tr>\n",
       "      <th>The Habit Burger Grill</th>\n",
       "      <td>0.761498</td>\n",
       "    </tr>\n",
       "    <tr>\n",
       "      <th>Burger Bar</th>\n",
       "      <td>0.750133</td>\n",
       "    </tr>\n",
       "    <tr>\n",
       "      <th>Baby's Badass Burgers</th>\n",
       "      <td>0.730820</td>\n",
       "    </tr>\n",
       "  </tbody>\n",
       "</table>\n",
       "</div>"
      ],
      "text/plain": [
       "                           Similarity\n",
       "name                                 \n",
       "Kilroy's Restaurant & Bar    0.798284\n",
       "Burger Stop                  0.779579\n",
       "The Habit Burger Grill       0.761498\n",
       "Burger Bar                   0.750133\n",
       "Baby's Badass Burgers        0.730820"
      ]
     },
     "execution_count": 83,
     "metadata": {},
     "output_type": "execute_result"
    }
   ],
   "source": [
    "find_similarity_LSA('Give me the worst burger possible', 5, 'Las Vegas')"
   ]
  },
  {
   "cell_type": "code",
   "execution_count": 64,
   "metadata": {},
   "outputs": [
    {
     "name": "stdout",
     "output_type": "stream",
     "text": [
      "(6455, 5)\n"
     ]
    },
    {
     "data": {
      "text/html": [
       "<div>\n",
       "<style scoped>\n",
       "    .dataframe tbody tr th:only-of-type {\n",
       "        vertical-align: middle;\n",
       "    }\n",
       "\n",
       "    .dataframe tbody tr th {\n",
       "        vertical-align: top;\n",
       "    }\n",
       "\n",
       "    .dataframe thead th {\n",
       "        text-align: right;\n",
       "    }\n",
       "</style>\n",
       "<table border=\"1\" class=\"dataframe\">\n",
       "  <thead>\n",
       "    <tr style=\"text-align: right;\">\n",
       "      <th></th>\n",
       "      <th>Similarity</th>\n",
       "    </tr>\n",
       "    <tr>\n",
       "      <th>name</th>\n",
       "      <th></th>\n",
       "    </tr>\n",
       "  </thead>\n",
       "  <tbody>\n",
       "    <tr>\n",
       "      <th>Red Plate</th>\n",
       "      <td>0.553427</td>\n",
       "    </tr>\n",
       "    <tr>\n",
       "      <th>American Grill</th>\n",
       "      <td>0.528648</td>\n",
       "    </tr>\n",
       "    <tr>\n",
       "      <th>Antonio's Italian Ristorante</th>\n",
       "      <td>0.520250</td>\n",
       "    </tr>\n",
       "    <tr>\n",
       "      <th>Philippine Gardens Karaoke Restaurant and Lounge</th>\n",
       "      <td>0.515089</td>\n",
       "    </tr>\n",
       "    <tr>\n",
       "      <th>MB Steak</th>\n",
       "      <td>0.501737</td>\n",
       "    </tr>\n",
       "  </tbody>\n",
       "</table>\n",
       "</div>"
      ],
      "text/plain": [
       "                                                  Similarity\n",
       "name                                                        \n",
       "Red Plate                                           0.553427\n",
       "American Grill                                      0.528648\n",
       "Antonio's Italian Ristorante                        0.520250\n",
       "Philippine Gardens Karaoke Restaurant and Lounge    0.515089\n",
       "MB Steak                                            0.501737"
      ]
     },
     "execution_count": 64,
     "metadata": {},
     "output_type": "execute_result"
    }
   ],
   "source": [
    "find_similarity_LSA('Best Burger', 5, 'Las Vegas')"
   ]
  },
  {
   "cell_type": "code",
   "execution_count": 67,
   "metadata": {},
   "outputs": [
    {
     "name": "stdout",
     "output_type": "stream",
     "text": [
      "(6455, 5)\n"
     ]
    },
    {
     "data": {
      "text/html": [
       "<div>\n",
       "<style scoped>\n",
       "    .dataframe tbody tr th:only-of-type {\n",
       "        vertical-align: middle;\n",
       "    }\n",
       "\n",
       "    .dataframe tbody tr th {\n",
       "        vertical-align: top;\n",
       "    }\n",
       "\n",
       "    .dataframe thead th {\n",
       "        text-align: right;\n",
       "    }\n",
       "</style>\n",
       "<table border=\"1\" class=\"dataframe\">\n",
       "  <thead>\n",
       "    <tr style=\"text-align: right;\">\n",
       "      <th></th>\n",
       "      <th>Similarity</th>\n",
       "    </tr>\n",
       "    <tr>\n",
       "      <th>name</th>\n",
       "      <th></th>\n",
       "    </tr>\n",
       "  </thead>\n",
       "  <tbody>\n",
       "    <tr>\n",
       "      <th>Pho Pasteur &amp; Grill</th>\n",
       "      <td>0.883456</td>\n",
       "    </tr>\n",
       "    <tr>\n",
       "      <th>Jasmine Thai Gourmet</th>\n",
       "      <td>0.875490</td>\n",
       "    </tr>\n",
       "    <tr>\n",
       "      <th>Mr. Bangkok</th>\n",
       "      <td>0.866505</td>\n",
       "    </tr>\n",
       "    <tr>\n",
       "      <th>Essence of Thai</th>\n",
       "      <td>0.863637</td>\n",
       "    </tr>\n",
       "    <tr>\n",
       "      <th>Corner Thai Kitchen</th>\n",
       "      <td>0.847785</td>\n",
       "    </tr>\n",
       "  </tbody>\n",
       "</table>\n",
       "</div>"
      ],
      "text/plain": [
       "                      Similarity\n",
       "name                            \n",
       "Pho Pasteur & Grill     0.883456\n",
       "Jasmine Thai Gourmet    0.875490\n",
       "Mr. Bangkok             0.866505\n",
       "Essence of Thai         0.863637\n",
       "Corner Thai Kitchen     0.847785"
      ]
     },
     "execution_count": 67,
     "metadata": {},
     "output_type": "execute_result"
    }
   ],
   "source": [
    "find_similarity_NMF('thai food', 5, 'Las Vegas')"
   ]
  },
  {
   "cell_type": "code",
   "execution_count": 68,
   "metadata": {},
   "outputs": [
    {
     "name": "stdout",
     "output_type": "stream",
     "text": [
      "(6455, 5)\n"
     ]
    },
    {
     "data": {
      "text/html": [
       "<div>\n",
       "<style scoped>\n",
       "    .dataframe tbody tr th:only-of-type {\n",
       "        vertical-align: middle;\n",
       "    }\n",
       "\n",
       "    .dataframe tbody tr th {\n",
       "        vertical-align: top;\n",
       "    }\n",
       "\n",
       "    .dataframe thead th {\n",
       "        text-align: right;\n",
       "    }\n",
       "</style>\n",
       "<table border=\"1\" class=\"dataframe\">\n",
       "  <thead>\n",
       "    <tr style=\"text-align: right;\">\n",
       "      <th></th>\n",
       "      <th>Similarity</th>\n",
       "    </tr>\n",
       "    <tr>\n",
       "      <th>name</th>\n",
       "      <th></th>\n",
       "    </tr>\n",
       "  </thead>\n",
       "  <tbody>\n",
       "    <tr>\n",
       "      <th>Pho Pasteur &amp; Grill</th>\n",
       "      <td>0.905577</td>\n",
       "    </tr>\n",
       "    <tr>\n",
       "      <th>Jasmine Thai Gourmet</th>\n",
       "      <td>0.899147</td>\n",
       "    </tr>\n",
       "    <tr>\n",
       "      <th>Mr. Bangkok</th>\n",
       "      <td>0.891424</td>\n",
       "    </tr>\n",
       "    <tr>\n",
       "      <th>Essence of Thai</th>\n",
       "      <td>0.887788</td>\n",
       "    </tr>\n",
       "    <tr>\n",
       "      <th>Corner Thai Kitchen</th>\n",
       "      <td>0.874384</td>\n",
       "    </tr>\n",
       "  </tbody>\n",
       "</table>\n",
       "</div>"
      ],
      "text/plain": [
       "                      Similarity\n",
       "name                            \n",
       "Pho Pasteur & Grill     0.905577\n",
       "Jasmine Thai Gourmet    0.899147\n",
       "Mr. Bangkok             0.891424\n",
       "Essence of Thai         0.887788\n",
       "Corner Thai Kitchen     0.874384"
      ]
     },
     "execution_count": 68,
     "metadata": {},
     "output_type": "execute_result"
    }
   ],
   "source": [
    "find_similarity_NMF('Best thai food in Las Vegas', 5, 'Las Vegas')"
   ]
  },
  {
   "cell_type": "code",
   "execution_count": 56,
   "metadata": {},
   "outputs": [
    {
     "name": "stdout",
     "output_type": "stream",
     "text": [
      "(6455, 5)\n"
     ]
    },
    {
     "data": {
      "text/html": [
       "<div>\n",
       "<style scoped>\n",
       "    .dataframe tbody tr th:only-of-type {\n",
       "        vertical-align: middle;\n",
       "    }\n",
       "\n",
       "    .dataframe tbody tr th {\n",
       "        vertical-align: top;\n",
       "    }\n",
       "\n",
       "    .dataframe thead th {\n",
       "        text-align: right;\n",
       "    }\n",
       "</style>\n",
       "<table border=\"1\" class=\"dataframe\">\n",
       "  <thead>\n",
       "    <tr style=\"text-align: right;\">\n",
       "      <th></th>\n",
       "      <th>Similarity</th>\n",
       "    </tr>\n",
       "    <tr>\n",
       "      <th>name</th>\n",
       "      <th></th>\n",
       "    </tr>\n",
       "  </thead>\n",
       "  <tbody>\n",
       "    <tr>\n",
       "      <th>Pho Pasteur &amp; Grill</th>\n",
       "      <td>0.929226</td>\n",
       "    </tr>\n",
       "    <tr>\n",
       "      <th>Jasmine Thai Gourmet</th>\n",
       "      <td>0.926814</td>\n",
       "    </tr>\n",
       "    <tr>\n",
       "      <th>Mr. Bangkok</th>\n",
       "      <td>0.921865</td>\n",
       "    </tr>\n",
       "    <tr>\n",
       "      <th>Essence of Thai</th>\n",
       "      <td>0.916986</td>\n",
       "    </tr>\n",
       "    <tr>\n",
       "      <th>Corner Thai Kitchen</th>\n",
       "      <td>0.905324</td>\n",
       "    </tr>\n",
       "  </tbody>\n",
       "</table>\n",
       "</div>"
      ],
      "text/plain": [
       "                      Similarity\n",
       "name                            \n",
       "Pho Pasteur & Grill     0.929226\n",
       "Jasmine Thai Gourmet    0.926814\n",
       "Mr. Bangkok             0.921865\n",
       "Essence of Thai         0.916986\n",
       "Corner Thai Kitchen     0.905324"
      ]
     },
     "execution_count": 56,
     "metadata": {},
     "output_type": "execute_result"
    }
   ],
   "source": [
    "find_similarity_NMF('I want the worst thai and american food in the city', 5, 'Las Vegas')"
   ]
  },
  {
   "cell_type": "code",
   "execution_count": null,
   "metadata": {},
   "outputs": [],
   "source": []
  }
 ],
 "metadata": {
  "kernelspec": {
   "display_name": "Python 3",
   "language": "python",
   "name": "python3"
  },
  "language_info": {
   "codemirror_mode": {
    "name": "ipython",
    "version": 3
   },
   "file_extension": ".py",
   "mimetype": "text/x-python",
   "name": "python",
   "nbconvert_exporter": "python",
   "pygments_lexer": "ipython3",
   "version": "3.7.3"
  }
 },
 "nbformat": 4,
 "nbformat_minor": 4
}
