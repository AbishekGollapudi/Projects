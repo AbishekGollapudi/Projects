{
 "cells": [
  {
   "cell_type": "markdown",
   "metadata": {},
   "source": [
    "## Using Yelp Open Dataset\n",
    "\n",
    "##### Currently, users' opinions about a particular restaurant on Yelp are heavily influenced by only a few aspects displayed on the business's yelp page. Here are just a few:\n",
    "\n",
    "1. Number of reviews on the restaurant\n",
    "2. The overall rating of the restaurant (out of 5 stars)\n",
    "3. Photos\n",
    "4. The top listed reviews picked by Yelp\n",
    "5. Popular dishes\n",
    "\n",
    "Despite Yelp's attempt to give users an overview of what the restaurant is like, it is still a very cumbersome job for users to browser through all these information and make an informed decision which yields a positive experience for the user overall.\n",
    "\n",
    "\n",
    "This project is an attempt to increase overall user experience by analyzing all of a restaurant's reviews and summarizing the main topics in a form of unigram adjectives clouds describing each of the main topics. "
   ]
  },
  {
   "cell_type": "code",
   "execution_count": 4,
   "metadata": {},
   "outputs": [],
   "source": [
    "import pandas as pd, numpy as np\n",
    "\n",
    "from sklearn.feature_extraction.text import CountVectorizer, TfidfVectorizer\n",
    "from sklearn.decomposition import TruncatedSVD\n",
    "from sklearn.decomposition import NMF\n",
    "from sklearn.metrics.pairwise import cosine_similarity\n",
    "import matplotlib.pyplot as plt\n",
    "import seaborn as sns\n",
    "%matplotlib inline"
   ]
  },
  {
   "cell_type": "raw",
   "metadata": {},
   "source": [
    "yelp_df = pd.read_pickle('./Data/yelp_df_top_cities.pkl')"
   ]
  },
  {
   "cell_type": "code",
   "execution_count": 4,
   "metadata": {},
   "outputs": [
    {
     "data": {
      "text/plain": [
       "Toronto       7965\n",
       "Las Vegas     6455\n",
       "Phoenix       4004\n",
       "Montréal      3784\n",
       "Calgary       2912\n",
       "Charlotte     2711\n",
       "Pittsburgh    2454\n",
       "Name: city, dtype: int64"
      ]
     },
     "execution_count": 4,
     "metadata": {},
     "output_type": "execute_result"
    }
   ],
   "source": [
    "yelp_df.city.value_counts()"
   ]
  },
  {
   "cell_type": "code",
   "execution_count": 5,
   "metadata": {},
   "outputs": [
    {
     "data": {
      "text/plain": [
       "(30285, 307)"
      ]
     },
     "execution_count": 5,
     "metadata": {},
     "output_type": "execute_result"
    }
   ],
   "source": [
    "yelp_df.reset_index(inplace = True, drop=True)\n",
    "yelp_df.shape"
   ]
  },
  {
   "cell_type": "code",
   "execution_count": 6,
   "metadata": {},
   "outputs": [],
   "source": [
    "restaurant_review = yelp_df[['name', 'text']]"
   ]
  },
  {
   "cell_type": "markdown",
   "metadata": {},
   "source": [
    "#### Text Preprocessing"
   ]
  },
  {
   "cell_type": "code",
   "execution_count": 3,
   "metadata": {},
   "outputs": [
    {
     "name": "stderr",
     "output_type": "stream",
     "text": [
      "[nltk_data] Downloading package wordnet to\n",
      "[nltk_data]     /Users/bentleyou/nltk_data...\n",
      "[nltk_data]   Package wordnet is already up-to-date!\n"
     ]
    }
   ],
   "source": [
    "import nltk\n",
    "from nltk.stem import WordNetLemmatizer \n",
    "nltk.download('wordnet')\n",
    "from nltk.stem import PorterStemmer "
   ]
  },
  {
   "cell_type": "code",
   "execution_count": 68,
   "metadata": {},
   "outputs": [],
   "source": [
    "# put all the reviews to a list\n",
    "reviews = [review for review in restaurant_review['text']]"
   ]
  },
  {
   "cell_type": "code",
   "execution_count": 69,
   "metadata": {},
   "outputs": [],
   "source": [
    "# tokenize all the words in each review and store it into a list\n",
    "texts = [[text for text in review.split()] for review in reviews]"
   ]
  },
  {
   "cell_type": "code",
   "execution_count": null,
   "metadata": {},
   "outputs": [],
   "source": [
    "# use lemmatization and stemming to convert similar meaning words to a single words\n",
    "lemmatizer = WordNetLemmatizer()\n",
    "\n",
    "lemmatized_reviews = []\n",
    "\n",
    "for n in texts:\n",
    "    lemmatized_reviews.append(' '.join([lemmatizer.lemmatize(w) for w in n]))"
   ]
  },
  {
   "cell_type": "code",
   "execution_count": 70,
   "metadata": {},
   "outputs": [],
   "source": [
    "# use lemmatization and stemming to convert similar meaning words to a single words\n",
    "lemmatizer = WordNetLemmatizer()\n",
    "ps = PorterStemmer() \n",
    "\n",
    "lemmatized_reviews = []\n",
    "\n",
    "for n in texts:\n",
    "    lemmatized_reviews.append(' '.join([ps.stem(lemmatizer.lemmatize(w)) for w in n]))"
   ]
  },
  {
   "cell_type": "markdown",
   "metadata": {},
   "source": [
    "#### Pickle Checkpoint for preprocessed reviews"
   ]
  },
  {
   "cell_type": "code",
   "execution_count": 9,
   "metadata": {},
   "outputs": [],
   "source": [
    "import pickle\n",
    "# with open(\"./Data/preprocessed_reviews.txt\", \"wb\") as fp:   #Pickling\n",
    "#     pickle.dump(lemmatized_reviews, fp)"
   ]
  },
  {
   "cell_type": "code",
   "execution_count": 6,
   "metadata": {},
   "outputs": [],
   "source": [
    "# with open(\"./Data/preprocessed_reviews.txt\", \"rb\") as fp:   # Unpickling\n",
    "#     preprocessed_reviews = pickle.load(fp)"
   ]
  },
  {
   "cell_type": "markdown",
   "metadata": {},
   "source": [
    "#### Vectorize the review corpus using TF-IDF\n",
    "\n",
    "1. TF is the term frequency (normalized). We want to increase the importances of terms that shows up more in a document to matter more. But this is unfair for longer reviews, thus we normalize it.\n",
    "\n",
    "2. Secondly, IDF is the inverse document frequency because we want to decrease the relevance of the same terms that show up across many documents but increase the relevance of the rarer terms. The logarithmic transformation resolve this."
   ]
  },
  {
   "cell_type": "markdown",
   "metadata": {},
   "source": [
    "TF-IDF produces a restaurant (rows) and word (cols) matrix"
   ]
  },
  {
   "cell_type": "code",
   "execution_count": 17,
   "metadata": {
    "collapsed": true,
    "jupyter": {
     "outputs_hidden": true
    }
   },
   "outputs": [
    {
     "ename": "NameError",
     "evalue": "name 'preprocessed_reviews' is not defined",
     "output_type": "error",
     "traceback": [
      "\u001b[0;31m---------------------------------------------------------------------------\u001b[0m",
      "\u001b[0;31mNameError\u001b[0m                                 Traceback (most recent call last)",
      "\u001b[0;32m<ipython-input-17-937c0b8bc788>\u001b[0m in \u001b[0;36m<module>\u001b[0;34m()\u001b[0m\n\u001b[1;32m      1\u001b[0m Tfidf_vectorizer = TfidfVectorizer(stop_words='english', ngram_range=(1,1), \n\u001b[1;32m      2\u001b[0m                                    min_df = 3)\n\u001b[0;32m----> 3\u001b[0;31m \u001b[0mdoc_word\u001b[0m \u001b[0;34m=\u001b[0m \u001b[0mTfidf_vectorizer\u001b[0m\u001b[0;34m.\u001b[0m\u001b[0mfit_transform\u001b[0m\u001b[0;34m(\u001b[0m\u001b[0mpreprocessed_reviews\u001b[0m\u001b[0;34m)\u001b[0m\u001b[0;34m\u001b[0m\u001b[0;34m\u001b[0m\u001b[0m\n\u001b[0m\u001b[1;32m      4\u001b[0m \u001b[0mdoc_word\u001b[0m\u001b[0;34m.\u001b[0m\u001b[0mshape\u001b[0m\u001b[0;34m\u001b[0m\u001b[0;34m\u001b[0m\u001b[0m\n",
      "\u001b[0;31mNameError\u001b[0m: name 'preprocessed_reviews' is not defined"
     ]
    }
   ],
   "source": [
    "Tfidf_vectorizer = TfidfVectorizer(stop_words='english', ngram_range=(1,1), \n",
    "                                   min_df = 3)\n",
    "doc_word = Tfidf_vectorizer.fit_transform(preprocessed_reviews)\n",
    "doc_word.shape"
   ]
  },
  {
   "cell_type": "code",
   "execution_count": 27,
   "metadata": {},
   "outputs": [
    {
     "data": {
      "text/plain": [
       "TfidfVectorizer(analyzer='word', binary=False, decode_error='strict',\n",
       "                dtype=<class 'numpy.float64'>, encoding='utf-8',\n",
       "                input='content', lowercase=True, max_df=1.0, max_features=None,\n",
       "                min_df=3, ngram_range=(1, 1), norm='l2', preprocessor=None,\n",
       "                smooth_idf=True, stop_words='english', strip_accents=None,\n",
       "                sublinear_tf=False, token_pattern='(?u)\\\\b\\\\w\\\\w+\\\\b',\n",
       "                tokenizer=None, use_idf=True, vocabulary=None)"
      ]
     },
     "execution_count": 27,
     "metadata": {},
     "output_type": "execute_result"
    }
   ],
   "source": [
    "Tfidf_vectorizer"
   ]
  },
  {
   "cell_type": "markdown",
   "metadata": {},
   "source": [
    "#### Pickle TF-IDF vectorizer model"
   ]
  },
  {
   "cell_type": "code",
   "execution_count": 76,
   "metadata": {},
   "outputs": [],
   "source": [
    "with open(\"./Recommendation_Engine/Tfidf.pkl\", \"wb\") as fp:   #Pickling\n",
    "    pickle.dump(Tfidf_vectorizer, fp)"
   ]
  },
  {
   "cell_type": "code",
   "execution_count": 10,
   "metadata": {},
   "outputs": [],
   "source": [
    "with open(\"../Recommendation_Engine/Tfidf.pkl\", \"rb\") as fp:   # Unpickling\n",
    "    Tfidf_vectorizer = pickle.load(fp)"
   ]
  },
  {
   "cell_type": "markdown",
   "metadata": {},
   "source": [
    "#### Dimensionality Reduction"
   ]
  },
  {
   "cell_type": "markdown",
   "metadata": {},
   "source": [
    "#### LSA model"
   ]
  },
  {
   "cell_type": "code",
   "execution_count": 29,
   "metadata": {},
   "outputs": [
    {
     "data": {
      "text/plain": [
       "0.1698760617909907"
      ]
     },
     "execution_count": 29,
     "metadata": {},
     "output_type": "execute_result"
    }
   ],
   "source": [
    "lsa = TruncatedSVD(10)\n",
    "doc_topic = lsa.fit_transform(doc_word)\n",
    "sum(lsa.explained_variance_ratio_)"
   ]
  },
  {
   "cell_type": "code",
   "execution_count": 34,
   "metadata": {},
   "outputs": [],
   "source": [
    "variance = []\n",
    "for n in range(1,20):\n",
    "    lsa_mod = TruncatedSVD(n)\n",
    "    lsa_mod.fit_transform(doc_word)\n",
    "    variance.append(sum(lsa_mod.explained_variance_ratio_))"
   ]
  },
  {
   "cell_type": "code",
   "execution_count": 46,
   "metadata": {},
   "outputs": [
    {
     "data": {
      "image/png": "[encoded data removed]",
      "text/plain": [
       "<Figure size 432x288 with 1 Axes>"
      ]
     },
     "metadata": {
      "needs_background": "light"
     },
     "output_type": "display_data"
    }
   ],
   "source": [
    "plt.figure(figsize = (6,4))\n",
    "sns.lineplot(range(1,20), variance)\n",
    "plt.ylim([0,1]);\n",
    "plt.xlim([1,20]);\n",
    "# plt.title();\n",
    "plt.xlabel('n_components')\n",
    "plt.ylabel('Cumulative Variance Explained')\n",
    "plt.savefig('Total_variance_explained_LSA.png')"
   ]
  },
  {
   "cell_type": "code",
   "execution_count": 16,
   "metadata": {
    "collapsed": true,
    "jupyter": {
     "outputs_hidden": true
    }
   },
   "outputs": [
    {
     "ename": "NameError",
     "evalue": "name 'doc_word' is not defined",
     "output_type": "error",
     "traceback": [
      "\u001b[0;31m---------------------------------------------------------------------------\u001b[0m",
      "\u001b[0;31mNameError\u001b[0m                                 Traceback (most recent call last)",
      "\u001b[0;32m<ipython-input-16-eecb97566506>\u001b[0m in \u001b[0;36m<module>\u001b[0;34m()\u001b[0m\n\u001b[1;32m      4\u001b[0m \u001b[0;32mwith\u001b[0m \u001b[0mopen\u001b[0m\u001b[0;34m(\u001b[0m\u001b[0;34m\"../Recommendation_Engine/lsa_model.pkl\"\u001b[0m\u001b[0;34m,\u001b[0m \u001b[0;34m\"rb\"\u001b[0m\u001b[0;34m)\u001b[0m \u001b[0;32mas\u001b[0m \u001b[0mfp\u001b[0m\u001b[0;34m:\u001b[0m   \u001b[0;31m# Unpickling\u001b[0m\u001b[0;34m\u001b[0m\u001b[0;34m\u001b[0m\u001b[0m\n\u001b[1;32m      5\u001b[0m     \u001b[0mlsa\u001b[0m \u001b[0;34m=\u001b[0m \u001b[0mpickle\u001b[0m\u001b[0;34m.\u001b[0m\u001b[0mload\u001b[0m\u001b[0;34m(\u001b[0m\u001b[0mfp\u001b[0m\u001b[0;34m)\u001b[0m\u001b[0;34m\u001b[0m\u001b[0;34m\u001b[0m\u001b[0m\n\u001b[0;32m----> 6\u001b[0;31m \u001b[0mdoc_topic_lsa\u001b[0m \u001b[0;34m=\u001b[0m \u001b[0mlsa\u001b[0m\u001b[0;34m.\u001b[0m\u001b[0mfit_transform\u001b[0m\u001b[0;34m(\u001b[0m\u001b[0mdoc_word\u001b[0m\u001b[0;34m)\u001b[0m\u001b[0;34m\u001b[0m\u001b[0;34m\u001b[0m\u001b[0m\n\u001b[0m",
      "\u001b[0;31mNameError\u001b[0m: name 'doc_word' is not defined"
     ]
    }
   ],
   "source": [
    "with open(\"../Recommendation_Engine/lsa_model.pkl\", \"wb\") as fp:   #Pickling\n",
    "    pickle.dump(lsa, fp)\n",
    "    \n",
    "with open(\"../Recommendation_Engine/lsa_model.pkl\", \"rb\") as fp:   # Unpickling\n",
    "    lsa = pickle.load(fp)\n",
    "doc_topic_lsa = lsa.fit_transform(doc_word)"
   ]
  },
  {
   "cell_type": "code",
   "execution_count": 80,
   "metadata": {},
   "outputs": [],
   "source": [
    "doc_topic_lsa = pd.DataFrame(doc_topic_lsa, index = yelp_df['name'])\n",
    "doc_topic_lsa.reset_index(inplace = True)\n",
    "doc_topic_lsa['city'] = yelp_df['city']\n",
    "doc_topic_lsa.set_index('name', inplace = True)\n",
    "\n",
    "doc_topic_lsa.to_pickle('./Recommendation_Engine/doc_topic_lsa.pkl')"
   ]
  },
  {
   "cell_type": "code",
   "execution_count": 81,
   "metadata": {},
   "outputs": [
    {
     "data": {
      "text/html": [
       "<div>\n",
       "<style scoped>\n",
       "    .dataframe tbody tr th:only-of-type {\n",
       "        vertical-align: middle;\n",
       "    }\n",
       "\n",
       "    .dataframe tbody tr th {\n",
       "        vertical-align: top;\n",
       "    }\n",
       "\n",
       "    .dataframe thead th {\n",
       "        text-align: right;\n",
       "    }\n",
       "</style>\n",
       "<table border=\"1\" class=\"dataframe\">\n",
       "  <thead>\n",
       "    <tr style=\"text-align: right;\">\n",
       "      <th></th>\n",
       "      <th>0</th>\n",
       "      <th>1</th>\n",
       "      <th>2</th>\n",
       "      <th>3</th>\n",
       "      <th>4</th>\n",
       "      <th>5</th>\n",
       "      <th>6</th>\n",
       "      <th>7</th>\n",
       "      <th>8</th>\n",
       "      <th>9</th>\n",
       "      <th>city</th>\n",
       "    </tr>\n",
       "    <tr>\n",
       "      <th>name</th>\n",
       "      <th></th>\n",
       "      <th></th>\n",
       "      <th></th>\n",
       "      <th></th>\n",
       "      <th></th>\n",
       "      <th></th>\n",
       "      <th></th>\n",
       "      <th></th>\n",
       "      <th></th>\n",
       "      <th></th>\n",
       "      <th></th>\n",
       "    </tr>\n",
       "  </thead>\n",
       "  <tbody>\n",
       "    <tr>\n",
       "      <th>Musashi Japanese Restaurant</th>\n",
       "      <td>0.465727</td>\n",
       "      <td>-0.097584</td>\n",
       "      <td>0.407637</td>\n",
       "      <td>-0.098822</td>\n",
       "      <td>-0.040383</td>\n",
       "      <td>0.065129</td>\n",
       "      <td>0.018685</td>\n",
       "      <td>0.006019</td>\n",
       "      <td>0.011766</td>\n",
       "      <td>-0.017761</td>\n",
       "      <td>Charlotte</td>\n",
       "    </tr>\n",
       "    <tr>\n",
       "      <th>Taco Bell</th>\n",
       "      <td>0.434946</td>\n",
       "      <td>-0.014908</td>\n",
       "      <td>-0.105627</td>\n",
       "      <td>-0.083963</td>\n",
       "      <td>0.277239</td>\n",
       "      <td>0.295453</td>\n",
       "      <td>-0.139237</td>\n",
       "      <td>0.056019</td>\n",
       "      <td>0.014514</td>\n",
       "      <td>-0.001800</td>\n",
       "      <td>Phoenix</td>\n",
       "    </tr>\n",
       "    <tr>\n",
       "      <th>Carluccio's Tivoli Gardens</th>\n",
       "      <td>0.467667</td>\n",
       "      <td>-0.027968</td>\n",
       "      <td>-0.022786</td>\n",
       "      <td>0.024090</td>\n",
       "      <td>-0.034207</td>\n",
       "      <td>-0.037951</td>\n",
       "      <td>-0.085192</td>\n",
       "      <td>-0.013680</td>\n",
       "      <td>-0.007526</td>\n",
       "      <td>-0.009368</td>\n",
       "      <td>Las Vegas</td>\n",
       "    </tr>\n",
       "    <tr>\n",
       "      <th>Marathon Diner</th>\n",
       "      <td>0.471496</td>\n",
       "      <td>-0.023915</td>\n",
       "      <td>-0.075306</td>\n",
       "      <td>-0.009050</td>\n",
       "      <td>-0.030503</td>\n",
       "      <td>0.007930</td>\n",
       "      <td>0.075372</td>\n",
       "      <td>-0.080971</td>\n",
       "      <td>-0.075043</td>\n",
       "      <td>-0.047618</td>\n",
       "      <td>Pittsburgh</td>\n",
       "    </tr>\n",
       "    <tr>\n",
       "      <th>Maria's Mexican Restaurant &amp; Bakery</th>\n",
       "      <td>0.649114</td>\n",
       "      <td>-0.092932</td>\n",
       "      <td>-0.073829</td>\n",
       "      <td>-0.074755</td>\n",
       "      <td>0.273695</td>\n",
       "      <td>0.180593</td>\n",
       "      <td>-0.171728</td>\n",
       "      <td>0.034240</td>\n",
       "      <td>0.026673</td>\n",
       "      <td>0.004204</td>\n",
       "      <td>Las Vegas</td>\n",
       "    </tr>\n",
       "  </tbody>\n",
       "</table>\n",
       "</div>"
      ],
      "text/plain": [
       "                                            0         1         2         3  \\\n",
       "name                                                                          \n",
       "Musashi Japanese Restaurant          0.465727 -0.097584  0.407637 -0.098822   \n",
       "Taco Bell                            0.434946 -0.014908 -0.105627 -0.083963   \n",
       "Carluccio's Tivoli Gardens           0.467667 -0.027968 -0.022786  0.024090   \n",
       "Marathon Diner                       0.471496 -0.023915 -0.075306 -0.009050   \n",
       "Maria's Mexican Restaurant & Bakery  0.649114 -0.092932 -0.073829 -0.074755   \n",
       "\n",
       "                                            4         5         6         7  \\\n",
       "name                                                                          \n",
       "Musashi Japanese Restaurant         -0.040383  0.065129  0.018685  0.006019   \n",
       "Taco Bell                            0.277239  0.295453 -0.139237  0.056019   \n",
       "Carluccio's Tivoli Gardens          -0.034207 -0.037951 -0.085192 -0.013680   \n",
       "Marathon Diner                      -0.030503  0.007930  0.075372 -0.080971   \n",
       "Maria's Mexican Restaurant & Bakery  0.273695  0.180593 -0.171728  0.034240   \n",
       "\n",
       "                                            8         9        city  \n",
       "name                                                                 \n",
       "Musashi Japanese Restaurant          0.011766 -0.017761   Charlotte  \n",
       "Taco Bell                            0.014514 -0.001800     Phoenix  \n",
       "Carluccio's Tivoli Gardens          -0.007526 -0.009368   Las Vegas  \n",
       "Marathon Diner                      -0.075043 -0.047618  Pittsburgh  \n",
       "Maria's Mexican Restaurant & Bakery  0.026673  0.004204   Las Vegas  "
      ]
     },
     "execution_count": 81,
     "metadata": {},
     "output_type": "execute_result"
    }
   ],
   "source": [
    "doc_topic_lsa.head()"
   ]
  },
  {
   "cell_type": "markdown",
   "metadata": {},
   "source": [
    "#### NMF model"
   ]
  },
  {
   "cell_type": "code",
   "execution_count": 82,
   "metadata": {},
   "outputs": [
    {
     "data": {
      "text/plain": [
       "(30285, 10)"
      ]
     },
     "execution_count": 82,
     "metadata": {},
     "output_type": "execute_result"
    }
   ],
   "source": [
    "nmf = NMF(10)\n",
    "doc_topic = nmf.fit_transform(doc_word)\n",
    "doc_topic.shape"
   ]
  },
  {
   "cell_type": "code",
   "execution_count": 11,
   "metadata": {},
   "outputs": [],
   "source": [
    "nmf = pd.read_pickle('../Recommendation_Engine/nmf_model.pkl')\n",
    "lsa = pd.read_pickle('../Recommendation_Engine/lsa_model.pkl')"
   ]
  },
  {
   "cell_type": "code",
   "execution_count": 12,
   "metadata": {},
   "outputs": [
    {
     "data": {
      "text/plain": [
       "0.16987720693546696"
      ]
     },
     "execution_count": 12,
     "metadata": {},
     "output_type": "execute_result"
    }
   ],
   "source": [
    "sum(lsa.explained_variance_ratio_)"
   ]
  },
  {
   "cell_type": "code",
   "execution_count": 13,
   "metadata": {},
   "outputs": [
    {
     "data": {
      "text/plain": [
       "0.16987720693546696"
      ]
     },
     "execution_count": 13,
     "metadata": {},
     "output_type": "execute_result"
    }
   ],
   "source": [
    "sum(nmf.explained_variance_ratio_)"
   ]
  },
  {
   "cell_type": "code",
   "execution_count": 14,
   "metadata": {
    "collapsed": true,
    "jupyter": {
     "outputs_hidden": true
    }
   },
   "outputs": [
    {
     "ename": "NameError",
     "evalue": "name 'doc_word' is not defined",
     "output_type": "error",
     "traceback": [
      "\u001b[0;31m---------------------------------------------------------------------------\u001b[0m",
      "\u001b[0;31mNameError\u001b[0m                                 Traceback (most recent call last)",
      "\u001b[0;32m<ipython-input-14-765e1e5898b0>\u001b[0m in \u001b[0;36m<module>\u001b[0;34m()\u001b[0m\n\u001b[1;32m      5\u001b[0m     \u001b[0mnmf\u001b[0m \u001b[0;34m=\u001b[0m \u001b[0mpickle\u001b[0m\u001b[0;34m.\u001b[0m\u001b[0mload\u001b[0m\u001b[0;34m(\u001b[0m\u001b[0mfp\u001b[0m\u001b[0;34m)\u001b[0m\u001b[0;34m\u001b[0m\u001b[0;34m\u001b[0m\u001b[0m\n\u001b[1;32m      6\u001b[0m \u001b[0;34m\u001b[0m\u001b[0m\n\u001b[0;32m----> 7\u001b[0;31m \u001b[0mdoc_topic_nmf\u001b[0m \u001b[0;34m=\u001b[0m \u001b[0mnmf\u001b[0m\u001b[0;34m.\u001b[0m\u001b[0mfit_transform\u001b[0m\u001b[0;34m(\u001b[0m\u001b[0mdoc_word\u001b[0m\u001b[0;34m)\u001b[0m\u001b[0;34m\u001b[0m\u001b[0;34m\u001b[0m\u001b[0m\n\u001b[0m",
      "\u001b[0;31mNameError\u001b[0m: name 'doc_word' is not defined"
     ]
    }
   ],
   "source": [
    "# with open(\"./Recommendation_Engine/nmf_model.pkl\", \"wb\") as fp:   #Pickling\n",
    "#     pickle.dump(lsa, fp)\n",
    "    \n",
    "with open(\"../Recommendation_Engine/nmf_model.pkl\", \"rb\") as fp:   # Unpickling\n",
    "    nmf = pickle.load(fp)\n",
    "    \n",
    "doc_topic_nmf = nmf.fit_transform(doc_word)"
   ]
  },
  {
   "cell_type": "code",
   "execution_count": 1,
   "metadata": {
    "collapsed": true,
    "jupyter": {
     "outputs_hidden": true
    }
   },
   "outputs": [
    {
     "ename": "NameError",
     "evalue": "name 'pd' is not defined",
     "output_type": "error",
     "traceback": [
      "\u001b[0;31m---------------------------------------------------------------------------\u001b[0m",
      "\u001b[0;31mNameError\u001b[0m                                 Traceback (most recent call last)",
      "\u001b[0;32m<ipython-input-1-908c4d41688b>\u001b[0m in \u001b[0;36m<module>\u001b[0;34m()\u001b[0m\n\u001b[0;32m----> 1\u001b[0;31m \u001b[0mdoc_topic_nmf\u001b[0m \u001b[0;34m=\u001b[0m \u001b[0mpd\u001b[0m\u001b[0;34m.\u001b[0m\u001b[0mDataFrame\u001b[0m\u001b[0;34m(\u001b[0m\u001b[0mdoc_topic_nmf\u001b[0m\u001b[0;34m,\u001b[0m \u001b[0mindex\u001b[0m \u001b[0;34m=\u001b[0m \u001b[0myelp_df\u001b[0m\u001b[0;34m[\u001b[0m\u001b[0;34m'name'\u001b[0m\u001b[0;34m]\u001b[0m\u001b[0;34m)\u001b[0m\u001b[0;34m\u001b[0m\u001b[0;34m\u001b[0m\u001b[0m\n\u001b[0m\u001b[1;32m      2\u001b[0m \u001b[0mdoc_topic_nmf\u001b[0m\u001b[0;34m.\u001b[0m\u001b[0mreset_index\u001b[0m\u001b[0;34m(\u001b[0m\u001b[0minplace\u001b[0m \u001b[0;34m=\u001b[0m \u001b[0;32mTrue\u001b[0m\u001b[0;34m)\u001b[0m\u001b[0;34m\u001b[0m\u001b[0;34m\u001b[0m\u001b[0m\n\u001b[1;32m      3\u001b[0m \u001b[0mdoc_topic_nmf\u001b[0m\u001b[0;34m[\u001b[0m\u001b[0;34m'city'\u001b[0m\u001b[0;34m]\u001b[0m \u001b[0;34m=\u001b[0m \u001b[0myelp_df\u001b[0m\u001b[0;34m[\u001b[0m\u001b[0;34m'city'\u001b[0m\u001b[0;34m]\u001b[0m\u001b[0;34m\u001b[0m\u001b[0;34m\u001b[0m\u001b[0m\n\u001b[1;32m      4\u001b[0m \u001b[0mdoc_topic_nmf\u001b[0m\u001b[0;34m.\u001b[0m\u001b[0mset_index\u001b[0m\u001b[0;34m(\u001b[0m\u001b[0;34m'name'\u001b[0m\u001b[0;34m,\u001b[0m \u001b[0minplace\u001b[0m \u001b[0;34m=\u001b[0m \u001b[0;32mTrue\u001b[0m\u001b[0;34m)\u001b[0m\u001b[0;34m\u001b[0m\u001b[0;34m\u001b[0m\u001b[0m\n\u001b[1;32m      5\u001b[0m \u001b[0;34m\u001b[0m\u001b[0m\n",
      "\u001b[0;31mNameError\u001b[0m: name 'pd' is not defined"
     ]
    }
   ],
   "source": [
    "doc_topic_nmf = pd.DataFrame(doc_topic_nmf, index = yelp_df['name'])\n",
    "doc_topic_nmf.reset_index(inplace = True)\n",
    "doc_topic_nmf['city'] = yelp_df['city']\n",
    "doc_topic_nmf.set_index('name', inplace = True)\n",
    "\n",
    "# doc_topic_nmf.to_pickle('./Recommendation_Engine/doc_topic_nmf.pkl')"
   ]
  },
  {
   "cell_type": "code",
   "execution_count": 72,
   "metadata": {},
   "outputs": [],
   "source": [
    "def find_similarity_LSA(search, top_search, location):\n",
    "    \n",
    "    string_word = Tfidf_vectorizer.transform([search])\n",
    "    print(string_word.shape)\n",
    "    \n",
    "    string_topic = lsa.transform(string_word)\n",
    "    \n",
    "    print(string_topic.shape)\n",
    "    \n",
    "    cosine_list = []\n",
    "    print(cosine_list)\n",
    "    \n",
    "    location_res_topic = doc_topic_lsa[doc_topic_lsa['city'] == location].iloc[:,0:5]\n",
    "    restaurant_topic_array = location_res_topic.values\n",
    "    restaurant_index = location_res_topic.index\n",
    "    \n",
    "    print(restaurant_topic_array.shape)\n",
    "    \n",
    "    for restaurant in restaurant_topic_array:\n",
    "        \n",
    "        cosine_list.append(cosine_similarity([restaurant,string_topic.reshape(-1)])[1][0])\n",
    "    \n",
    "    cosine_array = np.array(cosine_list)\n",
    "    \n",
    "    restaurant_sim = pd.DataFrame(cosine_array, \n",
    "                                  index = restaurant_index,\n",
    "                                 columns = ['Similarity']).sort_values(by = 'Similarity', \n",
    "                                                                       ascending = False)\n",
    "    return restaurant_sim[:top_search]"
   ]
  },
  {
   "cell_type": "code",
   "execution_count": null,
   "metadata": {},
   "outputs": [],
   "source": []
  }
 ],
 "metadata": {
  "kernelspec": {
   "display_name": "Python 3",
   "language": "python",
   "name": "python3"
  },
  "language_info": {
   "codemirror_mode": {
    "name": "ipython",
    "version": 3
   },
   "file_extension": ".py",
   "mimetype": "text/x-python",
   "name": "python",
   "nbconvert_exporter": "python",
   "pygments_lexer": "ipython3",
   "version": "3.7.3"
  }
 },
 "nbformat": 4,
 "nbformat_minor": 4
}
