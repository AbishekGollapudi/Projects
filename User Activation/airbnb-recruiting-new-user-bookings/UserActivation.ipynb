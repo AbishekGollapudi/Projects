{
 "cells": [
  {
   "cell_type": "markdown",
   "metadata": {},
   "source": [
    "## New User Recruitment - Identifying Potential Customers at Risk\n",
    "\n",
    "In this project, we want to identify first time experience users who will book within 2 days of interacting with the site and users who would not. Users who would not make a reservation within 2 days are at risk of chooising another competitor. We can also custom target users to improve Lead Velocity Rate.\n",
    "\n",
    "Lead Velocity Rate is a SaaS metric defined to be how many users are you working on to converting to actual customers. \n",
    "\n",
    "\n",
    "This is important because, we want to convert these users who are at risk to actual customers. By correctly identifying which new users we are at risk of losing, companies like AirBnB can run personalized promotion (first user discounts) to convert these users to lower the risk of losing them to competitors.\n",
    "\n",
    "Terminologies:\n",
    "* User activation is when a user have started using the product, in our case - makes a booking on AirBnB.\n",
    "* Lead Velocity Rate is the number of user you are working on to be converted to actual customers compared to previous month.\n",
    "* User is someone who have interacted with the site.\n",
    "* Potential Customers are users who are likely to be converted to be customers.\n",
    "\n",
    "Data - We will use airbnb recruiting-new-user-bookings [dataset](https://www.kaggle.com/c/airbnb-recruiting-new-user-bookings/data) from kaggle competition for this case study.\n",
    "\n",
    "An important design of this project is to determine who are at risk. This will be our target variable. In this case study, we will define users who had their first activity and did not make a booking within 2 days or less. If users fits the condition, they are at risk of going to a competitor.\n",
    "\n",
    "* Design Reasoning: We chose 2 days threshold because as business, because after two days the user are likely to turn to other competitors for alternative options."
   ]
  },
  {
   "cell_type": "markdown",
   "metadata": {},
   "source": [
    "#### Data\n",
    "* train_users.csv - the training set of users\n",
    "* test_users.csv - the test set of users\n",
    "* id: user id\n",
    "* date_account_created: the date of account creation\n",
    "* timestamp_first_active: timestamp of the first activity, note that it can be earlier than date_account_created or date_first_booking because a user can search before signing up\n",
    "* date_first_booking: date of first booking\n",
    "* gender\n",
    "* age\n",
    "* signup_method\n",
    "* signup_flow: the page a user came to signup up from\n",
    "* language: international language preference\n",
    "* affiliate_channel: what kind of paid marketing\n",
    "* affiliate_provider: where the marketing is e.g. google, craigslist, other\n",
    "* first_affiliate_tracked: whats the first marketing the user interacted with before the signing up\n",
    "* signup_app\n",
    "* first_device_type\n",
    "* first_browser\n",
    "* country_destination: this is the target variable you are to predict"
   ]
  },
  {
   "cell_type": "markdown",
   "metadata": {},
   "source": [
    "## EDA and Preprocessing"
   ]
  },
  {
   "cell_type": "code",
   "execution_count": 1,
   "metadata": {},
   "outputs": [],
   "source": [
    "import numpy as np\n",
    "import pandas as pd\n",
    "import seaborn as sns\n",
    "import matplotlib.pyplot as plt\n",
    "%matplotlib inline"
   ]
  },
  {
   "cell_type": "code",
   "execution_count": 2,
   "metadata": {},
   "outputs": [],
   "source": [
    "train_df = pd.read_csv('train_users_2.csv')\n",
    "test_df = pd.read_csv('test_users.csv')"
   ]
  },
  {
   "cell_type": "code",
   "execution_count": 3,
   "metadata": {},
   "outputs": [
    {
     "data": {
      "text/plain": [
       "((213451, 16), (62096, 15))"
      ]
     },
     "execution_count": 3,
     "metadata": {},
     "output_type": "execute_result"
    }
   ],
   "source": [
    "train_df.shape, test_df.shape"
   ]
  },
  {
   "cell_type": "markdown",
   "metadata": {},
   "source": [
    "#### Remove the country_destination column from train_df and combine both train and test datasets"
   ]
  },
  {
   "cell_type": "code",
   "execution_count": 4,
   "metadata": {},
   "outputs": [
    {
     "data": {
      "text/plain": [
       "(275547, 15)"
      ]
     },
     "execution_count": 4,
     "metadata": {},
     "output_type": "execute_result"
    }
   ],
   "source": [
    "booking = pd.concat([train_df.drop('country_destination',1), test_df])\n",
    "booking.shape"
   ]
  },
  {
   "cell_type": "code",
   "execution_count": 5,
   "metadata": {},
   "outputs": [
    {
     "data": {
      "text/html": [
       "<div>\n",
       "<style scoped>\n",
       "    .dataframe tbody tr th:only-of-type {\n",
       "        vertical-align: middle;\n",
       "    }\n",
       "\n",
       "    .dataframe tbody tr th {\n",
       "        vertical-align: top;\n",
       "    }\n",
       "\n",
       "    .dataframe thead th {\n",
       "        text-align: right;\n",
       "    }\n",
       "</style>\n",
       "<table border=\"1\" class=\"dataframe\">\n",
       "  <thead>\n",
       "    <tr style=\"text-align: right;\">\n",
       "      <th></th>\n",
       "      <th>id</th>\n",
       "      <th>date_account_created</th>\n",
       "      <th>timestamp_first_active</th>\n",
       "      <th>date_first_booking</th>\n",
       "      <th>gender</th>\n",
       "      <th>age</th>\n",
       "      <th>signup_method</th>\n",
       "      <th>signup_flow</th>\n",
       "      <th>language</th>\n",
       "      <th>affiliate_channel</th>\n",
       "      <th>affiliate_provider</th>\n",
       "      <th>first_affiliate_tracked</th>\n",
       "      <th>signup_app</th>\n",
       "      <th>first_device_type</th>\n",
       "      <th>first_browser</th>\n",
       "    </tr>\n",
       "  </thead>\n",
       "  <tbody>\n",
       "    <tr>\n",
       "      <th>0</th>\n",
       "      <td>gxn3p5htnn</td>\n",
       "      <td>2010-06-28</td>\n",
       "      <td>20090319043255</td>\n",
       "      <td>NaN</td>\n",
       "      <td>-unknown-</td>\n",
       "      <td>NaN</td>\n",
       "      <td>facebook</td>\n",
       "      <td>0</td>\n",
       "      <td>en</td>\n",
       "      <td>direct</td>\n",
       "      <td>direct</td>\n",
       "      <td>untracked</td>\n",
       "      <td>Web</td>\n",
       "      <td>Mac Desktop</td>\n",
       "      <td>Chrome</td>\n",
       "    </tr>\n",
       "    <tr>\n",
       "      <th>1</th>\n",
       "      <td>820tgsjxq7</td>\n",
       "      <td>2011-05-25</td>\n",
       "      <td>20090523174809</td>\n",
       "      <td>NaN</td>\n",
       "      <td>MALE</td>\n",
       "      <td>38.0</td>\n",
       "      <td>facebook</td>\n",
       "      <td>0</td>\n",
       "      <td>en</td>\n",
       "      <td>seo</td>\n",
       "      <td>google</td>\n",
       "      <td>untracked</td>\n",
       "      <td>Web</td>\n",
       "      <td>Mac Desktop</td>\n",
       "      <td>Chrome</td>\n",
       "    </tr>\n",
       "    <tr>\n",
       "      <th>2</th>\n",
       "      <td>4ft3gnwmtx</td>\n",
       "      <td>2010-09-28</td>\n",
       "      <td>20090609231247</td>\n",
       "      <td>2010-08-02</td>\n",
       "      <td>FEMALE</td>\n",
       "      <td>56.0</td>\n",
       "      <td>basic</td>\n",
       "      <td>3</td>\n",
       "      <td>en</td>\n",
       "      <td>direct</td>\n",
       "      <td>direct</td>\n",
       "      <td>untracked</td>\n",
       "      <td>Web</td>\n",
       "      <td>Windows Desktop</td>\n",
       "      <td>IE</td>\n",
       "    </tr>\n",
       "    <tr>\n",
       "      <th>3</th>\n",
       "      <td>bjjt8pjhuk</td>\n",
       "      <td>2011-12-05</td>\n",
       "      <td>20091031060129</td>\n",
       "      <td>2012-09-08</td>\n",
       "      <td>FEMALE</td>\n",
       "      <td>42.0</td>\n",
       "      <td>facebook</td>\n",
       "      <td>0</td>\n",
       "      <td>en</td>\n",
       "      <td>direct</td>\n",
       "      <td>direct</td>\n",
       "      <td>untracked</td>\n",
       "      <td>Web</td>\n",
       "      <td>Mac Desktop</td>\n",
       "      <td>Firefox</td>\n",
       "    </tr>\n",
       "    <tr>\n",
       "      <th>4</th>\n",
       "      <td>87mebub9p4</td>\n",
       "      <td>2010-09-14</td>\n",
       "      <td>20091208061105</td>\n",
       "      <td>2010-02-18</td>\n",
       "      <td>-unknown-</td>\n",
       "      <td>41.0</td>\n",
       "      <td>basic</td>\n",
       "      <td>0</td>\n",
       "      <td>en</td>\n",
       "      <td>direct</td>\n",
       "      <td>direct</td>\n",
       "      <td>untracked</td>\n",
       "      <td>Web</td>\n",
       "      <td>Mac Desktop</td>\n",
       "      <td>Chrome</td>\n",
       "    </tr>\n",
       "  </tbody>\n",
       "</table>\n",
       "</div>"
      ],
      "text/plain": [
       "           id date_account_created  timestamp_first_active date_first_booking  \\\n",
       "0  gxn3p5htnn           2010-06-28          20090319043255                NaN   \n",
       "1  820tgsjxq7           2011-05-25          20090523174809                NaN   \n",
       "2  4ft3gnwmtx           2010-09-28          20090609231247         2010-08-02   \n",
       "3  bjjt8pjhuk           2011-12-05          20091031060129         2012-09-08   \n",
       "4  87mebub9p4           2010-09-14          20091208061105         2010-02-18   \n",
       "\n",
       "      gender   age signup_method  signup_flow language affiliate_channel  \\\n",
       "0  -unknown-   NaN      facebook            0       en            direct   \n",
       "1       MALE  38.0      facebook            0       en               seo   \n",
       "2     FEMALE  56.0         basic            3       en            direct   \n",
       "3     FEMALE  42.0      facebook            0       en            direct   \n",
       "4  -unknown-  41.0         basic            0       en            direct   \n",
       "\n",
       "  affiliate_provider first_affiliate_tracked signup_app first_device_type  \\\n",
       "0             direct               untracked        Web       Mac Desktop   \n",
       "1             google               untracked        Web       Mac Desktop   \n",
       "2             direct               untracked        Web   Windows Desktop   \n",
       "3             direct               untracked        Web       Mac Desktop   \n",
       "4             direct               untracked        Web       Mac Desktop   \n",
       "\n",
       "  first_browser  \n",
       "0        Chrome  \n",
       "1        Chrome  \n",
       "2            IE  \n",
       "3       Firefox  \n",
       "4        Chrome  "
      ]
     },
     "execution_count": 5,
     "metadata": {},
     "output_type": "execute_result"
    }
   ],
   "source": [
    "booking.head()"
   ]
  },
  {
   "cell_type": "markdown",
   "metadata": {},
   "source": [
    "#### We need to covnert the datetime columns to datetime objects"
   ]
  },
  {
   "cell_type": "code",
   "execution_count": 6,
   "metadata": {},
   "outputs": [],
   "source": [
    "booking_time = booking.copy()\n",
    "booking_time['date_account_created'] = pd.to_datetime(booking_time['date_account_created'].astype(str))\n",
    "booking_time['timestamp_first_active'] = pd.to_datetime(booking_time['timestamp_first_active'].astype(str))\n",
    "booking_time['date_first_booking'] = pd.to_datetime(booking_time['date_first_booking'].astype(str))"
   ]
  },
  {
   "cell_type": "markdown",
   "metadata": {},
   "source": [
    "#### We want to create a column that calculates the time delta between account made and first activity"
   ]
  },
  {
   "cell_type": "code",
   "execution_count": 7,
   "metadata": {},
   "outputs": [],
   "source": [
    "booking_time['time_delta_account_first'] = abs(booking_time['date_account_created'] - \n",
    "                                               booking_time['timestamp_first_active'])\n"
   ]
  },
  {
   "cell_type": "markdown",
   "metadata": {},
   "source": [
    "We want to find all our users who made an account and had his/her first activity within 24 hours apart"
   ]
  },
  {
   "cell_type": "code",
   "execution_count": 8,
   "metadata": {},
   "outputs": [
    {
     "name": "stdout",
     "output_type": "stream",
     "text": [
      "(275547, 17)\n"
     ]
    }
   ],
   "source": [
    "booking_time['serious_customer'] = [1 if time.days == 0  else 0 for time in \n",
    "                                    booking_time['time_delta_account_first']]\n",
    "print(booking_time.shape)"
   ]
  },
  {
   "cell_type": "code",
   "execution_count": 9,
   "metadata": {},
   "outputs": [
    {
     "name": "stdout",
     "output_type": "stream",
     "text": [
      "(275376, 17)\n"
     ]
    }
   ],
   "source": [
    "booking_filter = booking_time[booking_time['serious_customer'] == 1]\n",
    "print(booking_filter.shape)"
   ]
  },
  {
   "cell_type": "code",
   "execution_count": 10,
   "metadata": {},
   "outputs": [],
   "source": [
    "#calculate the time between they first browse the website and they first booked a room\n",
    "booking_delta = booking_filter.copy()\n",
    "booking_delta['time_delta_book_activity'] = abs(booking_delta['date_first_booking'] - booking_delta['timestamp_first_active'])"
   ]
  },
  {
   "cell_type": "markdown",
   "metadata": {},
   "source": [
    "Let's create our target variable column 'at_risk' \n",
    "* 1 if the user is at risk of not booking before 5 days\n",
    "* 0 if the user is at not at risk of booking before 5 days (the user will book within 5 days)"
   ]
  },
  {
   "cell_type": "code",
   "execution_count": 34,
   "metadata": {},
   "outputs": [],
   "source": [
    "# User who book within 5 days or less are not at risk\n",
    "booking_delta['user_at_risk'] = [0 if (time.days <= 2) else 1 for time in booking_delta['time_delta_book_activity']]"
   ]
  },
  {
   "cell_type": "code",
   "execution_count": 35,
   "metadata": {},
   "outputs": [
    {
     "data": {
      "text/plain": [
       "1    228677\n",
       "0     46699\n",
       "Name: user_at_risk, dtype: int64"
      ]
     },
     "execution_count": 35,
     "metadata": {},
     "output_type": "execute_result"
    }
   ],
   "source": [
    "booking_delta.user_at_risk.value_counts()"
   ]
  },
  {
   "cell_type": "code",
   "execution_count": 36,
   "metadata": {},
   "outputs": [
    {
     "name": "stdout",
     "output_type": "stream",
     "text": [
      "46699 users are not at risk\n",
      "228677 users are at risk\n"
     ]
    }
   ],
   "source": [
    "print(f'{booking_delta.user_at_risk.value_counts()[0]} users are not at risk')\n",
    "print(f'{booking_delta.user_at_risk.value_counts()[1]} users are at risk')"
   ]
  },
  {
   "cell_type": "markdown",
   "metadata": {},
   "source": [
    "#### We can pickle this DataFrame for later"
   ]
  },
  {
   "cell_type": "code",
   "execution_count": 50,
   "metadata": {},
   "outputs": [],
   "source": [
    "# Drop some columsn that will not be used\n",
    "# cols_to_drop = ['id', 'date_account_created', 'timestamp_first_active','time_delta_account_first', 'serious_customer',\n",
    "#                 'date_first_booking', 'time_delta_book_activity']\n",
    "# booking_delta.drop(cols_to_drop, 1, inplace = True)\n",
    "\n",
    "# booking_delta.to_pickle('booking.pkl')"
   ]
  },
  {
   "cell_type": "code",
   "execution_count": 51,
   "metadata": {},
   "outputs": [],
   "source": [
    "# Read pickled file\n",
    "booking = pd.read_pickle('booking.pkl')"
   ]
  },
  {
   "cell_type": "code",
   "execution_count": 52,
   "metadata": {},
   "outputs": [
    {
     "data": {
      "text/plain": [
       "Index(['gender', 'age', 'signup_method', 'signup_flow', 'language',\n",
       "       'affiliate_channel', 'affiliate_provider', 'first_affiliate_tracked',\n",
       "       'signup_app', 'first_device_type', 'first_browser', 'user_at_risk'],\n",
       "      dtype='object')"
      ]
     },
     "execution_count": 52,
     "metadata": {},
     "output_type": "execute_result"
    }
   ],
   "source": [
    "booking.columns"
   ]
  },
  {
   "cell_type": "code",
   "execution_count": 66,
   "metadata": {},
   "outputs": [
    {
     "data": {
      "text/plain": [
       "Mac Desktop           106241\n",
       "Windows Desktop        86905\n",
       "iPhone                 39792\n",
       "iPad                   18027\n",
       "Other/Unknown          11161\n",
       "Android Phone           9456\n",
       "Android Tablet          2096\n",
       "Desktop (Other)         1507\n",
       "SmartPhone (Other)       191\n",
       "Name: first_device_type, dtype: int64"
      ]
     },
     "execution_count": 66,
     "metadata": {},
     "output_type": "execute_result"
    }
   ],
   "source": [
    "booking.first_device_type.value_counts()"
   ]
  },
  {
   "cell_type": "code",
   "execution_count": 56,
   "metadata": {},
   "outputs": [
    {
     "data": {
      "text/plain": [
       "-unknown-    129450\n",
       "FEMALE        77450\n",
       "MALE          68144\n",
       "OTHER           332\n",
       "Name: gender, dtype: int64"
      ]
     },
     "execution_count": 56,
     "metadata": {},
     "output_type": "execute_result"
    }
   ],
   "source": [
    "booking.gender.value_counts()"
   ]
  },
  {
   "cell_type": "code",
   "execution_count": 64,
   "metadata": {},
   "outputs": [
    {
     "data": {
      "text/plain": [
       "untracked        143082\n",
       "linked            62028\n",
       "omg               54832\n",
       "tracked-other      6652\n",
       "product            2351\n",
       "marketing           281\n",
       "local ops            69\n",
       "Name: first_affiliate_tracked, dtype: int64"
      ]
     },
     "execution_count": 64,
     "metadata": {},
     "output_type": "execute_result"
    }
   ],
   "source": [
    "booking.first_affiliate_tracked.value_counts()"
   ]
  },
  {
   "cell_type": "code",
   "execution_count": 63,
   "metadata": {},
   "outputs": [
    {
     "data": {
      "text/plain": [
       "direct                 181146\n",
       "google                  65936\n",
       "other                   13020\n",
       "facebook                 3993\n",
       "bing                     3715\n",
       "craigslist               3474\n",
       "padmapper                 836\n",
       "vast                      830\n",
       "yahoo                     653\n",
       "facebook-open-graph       564\n",
       "gsp                       455\n",
       "meetup                    357\n",
       "email-marketing           270\n",
       "naver                      66\n",
       "baidu                      32\n",
       "yandex                     18\n",
       "wayn                        8\n",
       "daum                        3\n",
       "Name: affiliate_provider, dtype: int64"
      ]
     },
     "execution_count": 63,
     "metadata": {},
     "output_type": "execute_result"
    }
   ],
   "source": [
    "booking.affiliate_provider.value_counts()"
   ]
  },
  {
   "cell_type": "code",
   "execution_count": 62,
   "metadata": {},
   "outputs": [
    {
     "data": {
      "text/plain": [
       "direct           181446\n",
       "sem-brand         36423\n",
       "sem-non-brand     20072\n",
       "seo               14355\n",
       "other              9540\n",
       "api                8155\n",
       "content            4117\n",
       "remarketing        1268\n",
       "Name: affiliate_channel, dtype: int64"
      ]
     },
     "execution_count": 62,
     "metadata": {},
     "output_type": "execute_result"
    }
   ],
   "source": [
    "booking.affiliate_channel.value_counts()"
   ]
  },
  {
   "cell_type": "code",
   "execution_count": 60,
   "metadata": {},
   "outputs": [
    {
     "data": {
      "text/plain": [
       "en           265368\n",
       "zh             2634\n",
       "fr             1508\n",
       "es             1173\n",
       "ko             1116\n",
       "de              977\n",
       "it              633\n",
       "ru              508\n",
       "ja              345\n",
       "pt              322\n",
       "sv              176\n",
       "nl              134\n",
       "tr               92\n",
       "pl               75\n",
       "da               75\n",
       "no               51\n",
       "cs               49\n",
       "el               30\n",
       "th               28\n",
       "hu               25\n",
       "id               23\n",
       "fi               20\n",
       "ca                6\n",
       "is                5\n",
       "hr                2\n",
       "-unknown-         1\n",
       "Name: language, dtype: int64"
      ]
     },
     "execution_count": 60,
     "metadata": {},
     "output_type": "execute_result"
    }
   ],
   "source": [
    "booking.language.value_counts()"
   ]
  },
  {
   "cell_type": "code",
   "execution_count": 59,
   "metadata": {},
   "outputs": [
    {
     "data": {
      "text/plain": [
       "0     205970\n",
       "25     29826\n",
       "12     11232\n",
       "3       8818\n",
       "2       6875\n",
       "23      6408\n",
       "24      4322\n",
       "1       1042\n",
       "8        308\n",
       "6        300\n",
       "21       197\n",
       "5         36\n",
       "20        14\n",
       "16        11\n",
       "15        10\n",
       "14         4\n",
       "10         2\n",
       "4          1\n",
       "Name: signup_flow, dtype: int64"
      ]
     },
     "execution_count": 59,
     "metadata": {},
     "output_type": "execute_result"
    }
   ],
   "source": [
    "booking.signup_flow.value_counts()"
   ]
  },
  {
   "cell_type": "code",
   "execution_count": 57,
   "metadata": {},
   "outputs": [
    {
     "data": {
      "text/plain": [
       "basic       198106\n",
       "facebook     74809\n",
       "google        2438\n",
       "weibo           23\n",
       "Name: signup_method, dtype: int64"
      ]
     },
     "execution_count": 57,
     "metadata": {},
     "output_type": "execute_result"
    }
   ],
   "source": [
    "booking.signup_method.value_counts()"
   ]
  },
  {
   "cell_type": "code",
   "execution_count": 55,
   "metadata": {},
   "outputs": [
    {
     "data": {
      "text/plain": [
       "30.0      7705\n",
       "28.0      7683\n",
       "29.0      7643\n",
       "31.0      7533\n",
       "27.0      7458\n",
       "32.0      7185\n",
       "33.0      6786\n",
       "26.0      6740\n",
       "34.0      6171\n",
       "25.0      6147\n",
       "35.0      5943\n",
       "36.0      5028\n",
       "24.0      4569\n",
       "37.0      4473\n",
       "38.0      4080\n",
       "39.0      3636\n",
       "23.0      3515\n",
       "40.0      3326\n",
       "41.0      3092\n",
       "42.0      2727\n",
       "45.0      2665\n",
       "44.0      2580\n",
       "22.0      2506\n",
       "43.0      2484\n",
       "46.0      2316\n",
       "19.0      2021\n",
       "47.0      2000\n",
       "48.0      1777\n",
       "50.0      1678\n",
       "51.0      1628\n",
       "          ... \n",
       "1934.0       3\n",
       "111.0        2\n",
       "1938.0       2\n",
       "1929.0       2\n",
       "1944.0       2\n",
       "1926.0       2\n",
       "1923.0       2\n",
       "1940.0       2\n",
       "1936.0       2\n",
       "1951.0       2\n",
       "1920.0       2\n",
       "1942.0       1\n",
       "2008.0       1\n",
       "2002.0       1\n",
       "1945.0       1\n",
       "150.0        1\n",
       "1952.0       1\n",
       "1939.0       1\n",
       "2000.0       1\n",
       "1995.0       1\n",
       "1948.0       1\n",
       "1930.0       1\n",
       "1941.0       1\n",
       "1922.0       1\n",
       "1968.0       1\n",
       "1954.0       1\n",
       "1953.0       1\n",
       "132.0        1\n",
       "1937.0       1\n",
       "112.0        1\n",
       "Name: age, Length: 145, dtype: int64"
      ]
     },
     "execution_count": 55,
     "metadata": {},
     "output_type": "execute_result"
    }
   ],
   "source": [
    "booking.age.value_counts()"
   ]
  },
  {
   "cell_type": "code",
   "execution_count": 54,
   "metadata": {},
   "outputs": [
    {
     "data": {
      "text/plain": [
       "untracked        143082\n",
       "linked            62028\n",
       "omg               54832\n",
       "tracked-other      6652\n",
       "product            2351\n",
       "marketing           281\n",
       "local ops            69\n",
       "Name: first_affiliate_tracked, dtype: int64"
      ]
     },
     "execution_count": 54,
     "metadata": {},
     "output_type": "execute_result"
    }
   ],
   "source": [
    "booking.first_affiliate_tracked.value_counts()"
   ]
  },
  {
   "cell_type": "code",
   "execution_count": null,
   "metadata": {},
   "outputs": [],
   "source": []
  }
 ],
 "metadata": {
  "kernelspec": {
   "display_name": "Python 3",
   "language": "python",
   "name": "python3"
  },
  "language_info": {
   "codemirror_mode": {
    "name": "ipython",
    "version": 3
   },
   "file_extension": ".py",
   "mimetype": "text/x-python",
   "name": "python",
   "nbconvert_exporter": "python",
   "pygments_lexer": "ipython3",
   "version": "3.7.3"
  }
 },
 "nbformat": 4,
 "nbformat_minor": 4
}
