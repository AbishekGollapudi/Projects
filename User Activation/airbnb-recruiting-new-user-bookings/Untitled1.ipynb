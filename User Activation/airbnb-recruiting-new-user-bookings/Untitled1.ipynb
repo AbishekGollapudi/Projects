{
 "cells": [
  {
   "cell_type": "code",
   "execution_count": 2,
   "metadata": {},
   "outputs": [],
   "source": [
    "keys = ['gender', 'age', 'signup_method', 'signup_flow', 'language',\n",
    "   'affiliate_channel', 'affiliate_provider', 'first_affiliate_tracked',\n",
    "   'signup_app', 'first_device_type', 'first_browser',\n",
    "   'delta_account_created_first_activity']\n",
    "\n",
    "values = ['FEMALE', 47.0, 'basic', 0, 'en', 'direct', 'direct', 'omg', 'Web',\n",
    "   'Mac Desktop', 'Safari', 19,]\n",
    "\n",
    "features = {}\n",
    "for key, value in zip(keys,values):\n",
    "    features[key] = value"
   ]
  },
  {
   "cell_type": "code",
   "execution_count": 3,
   "metadata": {},
   "outputs": [
    {
     "data": {
      "text/plain": [
       "{'gender': 'FEMALE',\n",
       " 'age': 47.0,\n",
       " 'signup_method': 'basic',\n",
       " 'signup_flow': 0,\n",
       " 'language': 'en',\n",
       " 'affiliate_channel': 'direct',\n",
       " 'affiliate_provider': 'direct',\n",
       " 'first_affiliate_tracked': 'omg',\n",
       " 'signup_app': 'Web',\n",
       " 'first_device_type': 'Mac Desktop',\n",
       " 'first_browser': 'Safari',\n",
       " 'delta_account_created_first_activity': 19}"
      ]
     },
     "execution_count": 3,
     "metadata": {},
     "output_type": "execute_result"
    }
   ],
   "source": [
    "features"
   ]
  },
  {
   "cell_type": "code",
   "execution_count": null,
   "metadata": {},
   "outputs": [],
   "source": []
  }
 ],
 "metadata": {
  "kernelspec": {
   "display_name": "Python 3",
   "language": "python",
   "name": "python3"
  },
  "language_info": {
   "codemirror_mode": {
    "name": "ipython",
    "version": 3
   },
   "file_extension": ".py",
   "mimetype": "text/x-python",
   "name": "python",
   "nbconvert_exporter": "python",
   "pygments_lexer": "ipython3",
   "version": "3.7.3"
  }
 },
 "nbformat": 4,
 "nbformat_minor": 4
}
