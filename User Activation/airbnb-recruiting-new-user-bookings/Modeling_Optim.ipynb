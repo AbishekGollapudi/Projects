{
 "cells": [
  {
   "cell_type": "code",
   "execution_count": 2,
   "metadata": {},
   "outputs": [],
   "source": [
    "import numpy as np\n",
    "import pandas as pd\n",
    "import seaborn as sns\n",
    "import matplotlib.pyplot as plt\n",
    "from collections import Counter\n",
    "%matplotlib inline\n",
    "sns.set_style('whitegrid')"
   ]
  },
  {
   "cell_type": "code",
   "execution_count": 3,
   "metadata": {},
   "outputs": [],
   "source": [
    "from sklearn.linear_model import LogisticRegression, LogisticRegressionCV\n",
    "from sklearn.neighbors import KNeighborsClassifier\n",
    "from sklearn.model_selection import train_test_split, StratifiedKFold\n",
    "from sklearn.metrics import precision_score, recall_score, precision_recall_curve,f1_score, fbeta_score\n",
    "from sklearn.metrics import confusion_matrix, classification_report\n",
    "from sklearn.preprocessing import StandardScaler"
   ]
  },
  {
   "cell_type": "code",
   "execution_count": 4,
   "metadata": {},
   "outputs": [],
   "source": [
    "booking_df = pd.read_pickle('booking_cleaned.pkl')"
   ]
  },
  {
   "cell_type": "code",
   "execution_count": 5,
   "metadata": {},
   "outputs": [],
   "source": [
    "booking_df = pd.read_pickle('booking_notNan.pkl')"
   ]
  },
  {
   "cell_type": "code",
   "execution_count": 6,
   "metadata": {},
   "outputs": [],
   "source": [
    "booking_df.to_csv('airbnb_booking.csv')"
   ]
  },
  {
   "cell_type": "code",
   "execution_count": 35,
   "metadata": {},
   "outputs": [
    {
     "name": "stdout",
     "output_type": "stream",
     "text": [
      "There is a total of 39452 positive class and 111470 negative class\n",
      "The ratio of negative:positive is 2.8255\n"
     ]
    }
   ],
   "source": [
    "num_booker = booking_df[booking_df['booker'] == 1].shape[0]\n",
    "num_non_booker = booking_df[booking_df['booker'] == 0].shape[0]\n",
    "print(f'There is a total of {num_booker} positive class and {num_non_booker} negative class')\n",
    "print(f'The ratio of negative:positive is {round(num_non_booker/num_booker, 4)}')"
   ]
  },
  {
   "cell_type": "code",
   "execution_count": 36,
   "metadata": {},
   "outputs": [],
   "source": [
    "booking_df['signup_flow'] = [str(x) for x in booking_df.signup_flow]"
   ]
  },
  {
   "cell_type": "markdown",
   "metadata": {},
   "source": [
    "#### Let's define our features and targets"
   ]
  },
  {
   "cell_type": "code",
   "execution_count": 37,
   "metadata": {},
   "outputs": [],
   "source": [
    "booking_df_dummies = pd.get_dummies(booking_df, drop_first = True)"
   ]
  },
  {
   "cell_type": "code",
   "execution_count": 38,
   "metadata": {},
   "outputs": [],
   "source": [
    "X = booking_df_dummies.drop('booker', 1)\n",
    "y = booking_df_dummies.booker"
   ]
  },
  {
   "cell_type": "markdown",
   "metadata": {},
   "source": [
    "#### Train/Test Split"
   ]
  },
  {
   "cell_type": "code",
   "execution_count": 101,
   "metadata": {},
   "outputs": [],
   "source": [
    "# 60-20-20 train-val-test split (stratify = target for balance positive examples)\n",
    "X_train, X_test, y_train, y_test = train_test_split(X, y, test_size=0.20, random_state=42, stratify = y)\n",
    "X_train, X_val, y_train, y_val = train_test_split(X, y, test_size=0.25, random_state=42, stratify = y)"
   ]
  },
  {
   "cell_type": "markdown",
   "metadata": {},
   "source": [
    "#### Balance out the classes using ADASYN "
   ]
  },
  {
   "cell_type": "code",
   "execution_count": 40,
   "metadata": {},
   "outputs": [],
   "source": [
    "from imblearn.over_sampling import ADASYN\n",
    "\n",
    "X_adasyn_train, y_adasyn_train = ADASYN(random_state=42).fit_sample(X_train,y_train)"
   ]
  },
  {
   "cell_type": "code",
   "execution_count": 30,
   "metadata": {},
   "outputs": [
    {
     "name": "stdout",
     "output_type": "stream",
     "text": [
      "train set, positive class: 166862, negative class: 173117\n"
     ]
    }
   ],
   "source": [
    "print(f'train set, positive class: {Counter(y_adasyn_train)[0]}, negative class: {Counter(y_adasyn_train)[1]}')"
   ]
  },
  {
   "cell_type": "markdown",
   "metadata": {},
   "source": [
    "#### Create a helper function to calculate the score of a model"
   ]
  },
  {
   "cell_type": "code",
   "execution_count": 18,
   "metadata": {},
   "outputs": [],
   "source": [
    "def score(X_train, y_train, X_val, y_val, model, threshold = 0.5):\n",
    "    \n",
    "#     print(\"Training: {:6.2f}%\".format(100*model.score(X_train, y_train)))\n",
    "#     print(\"Test set: {:6.2f}%\".format(100*model.score(X_val, y_val)))\n",
    "    \n",
    "    logit_confusion = confusion_matrix(y_val, model.predict(X_val))\n",
    "#     print(\"Precision: {:6.4f}, Recall: {:6.4f}\".format(precision_score(y_val, logit.predict(X_val)), \n",
    "#                                                      recall_score(y_val, logit.predict(X_val))))\n",
    "    \n",
    "    f1score = f1_score(y_val, model.predict(X_val))\n",
    "    \n",
    "    y_train_pred = (model.predict_proba(X_train)[:,1] > threshold)\n",
    "    y_val_pred = (model.predict_proba(X_val)[:,1] > threshold)\n",
    "\n",
    "    \n",
    "    scores = {'Training': [100*model.score(X_train,y_train),precision_score(y_train, y_train_pred),\n",
    "                         recall_score(y_train, y_train_pred), f1_score(y_train, y_train_pred)],\n",
    "              \n",
    "            'Testing': [100*model.score(X_val,y_val),precision_score(y_val, y_val_pred),\n",
    "                         recall_score(y_val, y_val_pred), f1_score(y_val, y_val_pred)]}\n",
    "    \n",
    "    score_df = pd.DataFrame(scores, index = ['Accuracy', 'Precision', 'Recall', 'F1_Score'])\n",
    "    \n",
    "    return score_df"
   ]
  },
  {
   "cell_type": "markdown",
   "metadata": {},
   "source": [
    "#### Create a helper function to calculate the optimal threshold for the model"
   ]
  },
  {
   "cell_type": "code",
   "execution_count": 19,
   "metadata": {},
   "outputs": [],
   "source": [
    "# We can also use the probabilities to make a curve showing us how recall \n",
    "# and thresholds trade off \n",
    "def plot_threshold_curve(X_val, y_val, model, title):\n",
    "    precision_curve, recall_curve, threshold_curve = precision_recall_curve(y_val, model.predict_proba(X_val)[:,1]);\n",
    "\n",
    "    plt.figure(dpi=80);\n",
    "    plt.plot(threshold_curve, precision_curve[1:],label='precision');\n",
    "    plt.plot(threshold_curve, recall_curve[1:], label='recall');\n",
    "    plt.legend(loc='lower left');\n",
    "    plt.xlabel('Threshold (above this probability, label as positive)');\n",
    "    plt.title(f'Precision and Recall Curves using {title}');\n",
    "    \n",
    "    return plt;"
   ]
  },
  {
   "cell_type": "markdown",
   "metadata": {},
   "source": [
    "#### Create helper function to calculate the ROC and calculate the ROC/AUC score"
   ]
  },
  {
   "cell_type": "code",
   "execution_count": 20,
   "metadata": {},
   "outputs": [],
   "source": [
    "# Precision = TP / (TP + FP)\n",
    "# Recall = TP/P = True positive rate\n",
    "# false positive rate = FP / true negatives = FP / (FP + TN) \n",
    "from sklearn.metrics import roc_auc_score, roc_curve\n",
    "\n",
    "def plot_ROC(X_val, y_val, model):\n",
    "\n",
    "    fpr, tpr, thresholds = roc_curve(y_val, model.predict_proba(X_val)[:,1]);\n",
    "\n",
    "    plt.plot(fpr, tpr,lw=2);\n",
    "    plt.plot([0,1],[0,1],c='violet',ls='--');\n",
    "    plt.xlim([-0.05,1.05]);\n",
    "    plt.ylim([-0.05,1.05]);\n",
    "\n",
    "\n",
    "    plt.xlabel('False positive rate');\n",
    "    plt.ylabel('True positive rate');\n",
    "    plt.title('ROC Curve');\n",
    "    \n",
    "    print(\"ROC AUC score = \", roc_auc_score(y_val, model.predict_proba(X_val)[:,1]))\n",
    "    \n",
    "    return roc_auc_score(y_val, model.predict_proba(X_val)[:,1])"
   ]
  },
  {
   "cell_type": "markdown",
   "metadata": {},
   "source": [
    "### Logistic Regression"
   ]
  },
  {
   "cell_type": "code",
   "execution_count": 12,
   "metadata": {},
   "outputs": [],
   "source": [
    "logit_params = {'solver': ['newton-cg', 'lbfgs', 'liblinear', 'sag', 'saga'],\n",
    "                             'C': [0.1, 0.2, 0.3, 0.4, 0.5, 0.6, 0.7, 0.8, 0.9, 1],\n",
    "                             'max_iter': [100, 200, 300, 400, 500, 600]}"
   ]
  },
  {
   "cell_type": "code",
   "execution_count": 21,
   "metadata": {
    "collapsed": true,
    "jupyter": {
     "outputs_hidden": true
    }
   },
   "outputs": [
    {
     "name": "stdout",
     "output_type": "stream",
     "text": [
      "0.6065761918856973 {'C': 0.3, 'max_iter': 500, 'solver': 'saga'} 0:00:35.049361\n"
     ]
    },
    {
     "name": "stderr",
     "output_type": "stream",
     "text": [
      "/Users/bentleyou/anaconda3/lib/python3.7/site-packages/sklearn/linear_model/logistic.py:1544: UserWarning: 'n_jobs' > 1 does not have any effect when 'solver' is set to 'liblinear'. Got 'n_jobs' = 12.\n",
      "  \" = {}.\".format(effective_n_jobs(self.n_jobs)))\n"
     ]
    },
    {
     "name": "stdout",
     "output_type": "stream",
     "text": [
      "0.6063501065658524 {'C': 0.8, 'max_iter': 400, 'solver': 'liblinear'} 0:00:02.565526\n"
     ]
    },
    {
     "name": "stderr",
     "output_type": "stream",
     "text": [
      "/Users/bentleyou/anaconda3/lib/python3.7/site-packages/sklearn/linear_model/sag.py:337: ConvergenceWarning: The max_iter was reached which means the coef_ did not converge\n",
      "  \"the coef_ did not converge\", ConvergenceWarning)\n"
     ]
    },
    {
     "name": "stdout",
     "output_type": "stream",
     "text": [
      "0.6061663936657194 {'C': 1, 'max_iter': 100, 'solver': 'sag'} 0:00:18.055775\n"
     ]
    },
    {
     "name": "stderr",
     "output_type": "stream",
     "text": [
      "/Users/bentleyou/anaconda3/lib/python3.7/site-packages/sklearn/linear_model/logistic.py:1544: UserWarning: 'n_jobs' > 1 does not have any effect when 'solver' is set to 'liblinear'. Got 'n_jobs' = 12.\n",
      "  \" = {}.\".format(effective_n_jobs(self.n_jobs)))\n"
     ]
    },
    {
     "name": "stdout",
     "output_type": "stream",
     "text": [
      "0.6072622135709818 {'C': 0.2, 'max_iter': 200, 'solver': 'liblinear'} 0:00:01.915910\n",
      "0.6076390159110714 {'C': 0.1, 'max_iter': 400, 'solver': 'lbfgs'} 0:01:22.092639\n"
     ]
    },
    {
     "name": "stderr",
     "output_type": "stream",
     "text": [
      "/Users/bentleyou/anaconda3/lib/python3.7/site-packages/sklearn/linear_model/logistic.py:1544: UserWarning: 'n_jobs' > 1 does not have any effect when 'solver' is set to 'liblinear'. Got 'n_jobs' = 12.\n",
      "  \" = {}.\".format(effective_n_jobs(self.n_jobs)))\n"
     ]
    },
    {
     "name": "stdout",
     "output_type": "stream",
     "text": [
      "0.6064637196853446 {'C': 0.6, 'max_iter': 400, 'solver': 'liblinear'} 0:00:02.512412\n"
     ]
    },
    {
     "name": "stderr",
     "output_type": "stream",
     "text": [
      "/Users/bentleyou/anaconda3/lib/python3.7/site-packages/sklearn/linear_model/logistic.py:1544: UserWarning: 'n_jobs' > 1 does not have any effect when 'solver' is set to 'liblinear'. Got 'n_jobs' = 12.\n",
      "  \" = {}.\".format(effective_n_jobs(self.n_jobs)))\n"
     ]
    },
    {
     "name": "stdout",
     "output_type": "stream",
     "text": [
      "0.606541837938253 {'C': 0.5, 'max_iter': 400, 'solver': 'liblinear'} 0:00:02.411602\n",
      "0.6067593298764979 {'C': 1, 'max_iter': 400, 'solver': 'lbfgs'} 0:01:23.790959\n"
     ]
    },
    {
     "name": "stderr",
     "output_type": "stream",
     "text": [
      "/Users/bentleyou/anaconda3/lib/python3.7/site-packages/sklearn/linear_model/logistic.py:1544: UserWarning: 'n_jobs' > 1 does not have any effect when 'solver' is set to 'liblinear'. Got 'n_jobs' = 12.\n",
      "  \" = {}.\".format(effective_n_jobs(self.n_jobs)))\n"
     ]
    },
    {
     "name": "stdout",
     "output_type": "stream",
     "text": [
      "0.6064637196853446 {'C': 0.6, 'max_iter': 100, 'solver': 'liblinear'} 0:00:02.492716\n",
      "0.6061915686428011 {'C': 0.9, 'max_iter': 600, 'solver': 'sag'} 0:00:44.068157\n",
      "0.606216519351846 {'C': 0.8, 'max_iter': 300, 'solver': 'newton-cg'} 0:01:20.289526\n",
      "0.606850496613356 {'C': 0.2, 'max_iter': 600, 'solver': 'sag'} 0:00:15.054920\n",
      "0.6020577231360928 {'C': 0.5, 'max_iter': 100, 'solver': 'lbfgs'} 0:00:20.205636\n",
      "0.6063501047859474 {'C': 0.5, 'max_iter': 600, 'solver': 'saga'} 0:00:49.660771\n",
      "0.5897259126165475 {'C': 0.4, 'max_iter': 100, 'solver': 'lbfgs'} 0:00:20.728187\n",
      "0.6065772242306285 {'C': 0.3, 'max_iter': 100, 'solver': 'saga'} 0:00:18.862558\n"
     ]
    },
    {
     "name": "stderr",
     "output_type": "stream",
     "text": [
      "/Users/bentleyou/anaconda3/lib/python3.7/site-packages/sklearn/linear_model/sag.py:337: ConvergenceWarning: The max_iter was reached which means the coef_ did not converge\n",
      "  \"the coef_ did not converge\", ConvergenceWarning)\n"
     ]
    },
    {
     "name": "stdout",
     "output_type": "stream",
     "text": [
      "0.606851092881549 {'C': 0.2, 'max_iter': 500, 'solver': 'newton-cg'} 0:01:01.702217\n",
      "0.6040874556632994 {'C': 0.9, 'max_iter': 100, 'solver': 'lbfgs'} 0:00:20.145259\n",
      "0.6061779879672402 {'C': 0.8, 'max_iter': 500, 'solver': 'lbfgs'} 0:01:45.909518\n",
      "0.6065775517331584 {'C': 0.3, 'max_iter': 100, 'solver': 'newton-cg'} 0:01:07.453052\n",
      "0.606216519351846 {'C': 0.8, 'max_iter': 500, 'solver': 'newton-cg'} 0:01:20.527098\n",
      "0.6062161544713099 {'C': 0.8, 'max_iter': 600, 'solver': 'saga'} 0:01:06.400537\n"
     ]
    },
    {
     "name": "stderr",
     "output_type": "stream",
     "text": [
      "/Users/bentleyou/anaconda3/lib/python3.7/site-packages/sklearn/linear_model/logistic.py:1544: UserWarning: 'n_jobs' > 1 does not have any effect when 'solver' is set to 'liblinear'. Got 'n_jobs' = 12.\n",
      "  \" = {}.\".format(effective_n_jobs(self.n_jobs)))\n"
     ]
    },
    {
     "name": "stdout",
     "output_type": "stream",
     "text": [
      "0.6072622135709818 {'C': 0.2, 'max_iter': 300, 'solver': 'liblinear'} 0:00:01.886851\n",
      "0.6052149080411786 {'C': 0.4, 'max_iter': 300, 'solver': 'lbfgs'} 0:01:01.726471\n"
     ]
    },
    {
     "name": "stderr",
     "output_type": "stream",
     "text": [
      "/Users/bentleyou/anaconda3/lib/python3.7/site-packages/sklearn/linear_model/logistic.py:1544: UserWarning: 'n_jobs' > 1 does not have any effect when 'solver' is set to 'liblinear'. Got 'n_jobs' = 12.\n",
      "  \" = {}.\".format(effective_n_jobs(self.n_jobs)))\n"
     ]
    },
    {
     "name": "stdout",
     "output_type": "stream",
     "text": [
      "0.6072622135709818 {'C': 0.2, 'max_iter': 100, 'solver': 'liblinear'} 0:00:01.903603\n",
      "0.6032172850876717 {'C': 0.7, 'max_iter': 300, 'solver': 'newton-cg'} 0:01:42.445254\n",
      "0.6036130523391958 {'C': 0.3, 'max_iter': 300, 'solver': 'saga'} 0:00:35.948685\n",
      "0.6033398169827231 {'C': 0.5, 'max_iter': 500, 'solver': 'sag'} 0:00:29.440981\n",
      "0.6031457115794822 {'C': 0.4, 'max_iter': 500, 'solver': 'lbfgs'} 0:01:45.170439\n",
      "0.6031478049550698 {'C': 0.9, 'max_iter': 200, 'solver': 'newton-cg'} 0:01:39.800516\n"
     ]
    },
    {
     "name": "stderr",
     "output_type": "stream",
     "text": [
      "/Users/bentleyou/anaconda3/lib/python3.7/site-packages/sklearn/linear_model/logistic.py:1544: UserWarning: 'n_jobs' > 1 does not have any effect when 'solver' is set to 'liblinear'. Got 'n_jobs' = 12.\n",
      "  \" = {}.\".format(effective_n_jobs(self.n_jobs)))\n"
     ]
    },
    {
     "name": "stdout",
     "output_type": "stream",
     "text": [
      "0.6032766436781036 {'C': 0.9, 'max_iter': 200, 'solver': 'liblinear'} 0:00:02.638059\n"
     ]
    },
    {
     "name": "stderr",
     "output_type": "stream",
     "text": [
      "/Users/bentleyou/anaconda3/lib/python3.7/site-packages/sklearn/linear_model/sag.py:337: ConvergenceWarning: The max_iter was reached which means the coef_ did not converge\n",
      "  \"the coef_ did not converge\", ConvergenceWarning)\n",
      "/Users/bentleyou/anaconda3/lib/python3.7/site-packages/sklearn/linear_model/logistic.py:1544: UserWarning: 'n_jobs' > 1 does not have any effect when 'solver' is set to 'liblinear'. Got 'n_jobs' = 12.\n",
      "  \" = {}.\".format(effective_n_jobs(self.n_jobs)))\n"
     ]
    },
    {
     "name": "stdout",
     "output_type": "stream",
     "text": [
      "0.6032655163900094 {'C': 0.6, 'max_iter': 100, 'solver': 'sag'} 0:00:18.091067\n",
      "0.6034425258926173 {'C': 0.6, 'max_iter': 300, 'solver': 'liblinear'} 0:00:02.602584\n"
     ]
    },
    {
     "name": "stderr",
     "output_type": "stream",
     "text": [
      "/Users/bentleyou/anaconda3/lib/python3.7/site-packages/sklearn/linear_model/sag.py:337: ConvergenceWarning: The max_iter was reached which means the coef_ did not converge\n",
      "  \"the coef_ did not converge\", ConvergenceWarning)\n",
      "/Users/bentleyou/anaconda3/lib/python3.7/site-packages/sklearn/linear_model/logistic.py:1544: UserWarning: 'n_jobs' > 1 does not have any effect when 'solver' is set to 'liblinear'. Got 'n_jobs' = 12.\n",
      "  \" = {}.\".format(effective_n_jobs(self.n_jobs)))\n"
     ]
    },
    {
     "name": "stdout",
     "output_type": "stream",
     "text": [
      "0.6036090631770428 {'C': 0.3, 'max_iter': 100, 'solver': 'saga'} 0:00:19.246740\n",
      "0.6043643463247819 {'C': 0.2, 'max_iter': 100, 'solver': 'liblinear'} 0:00:01.981123\n",
      "0.6031796114474179 {'C': 0.8, 'max_iter': 600, 'solver': 'sag'} 0:00:40.461325\n",
      "0.6032687614781866 {'C': 0.6, 'max_iter': 400, 'solver': 'sag'} 0:00:33.484938\n",
      "0.6047716947851273 {'C': 0.1, 'max_iter': 400, 'solver': 'saga'} 0:00:17.751539\n",
      "0.603213488174297 {'C': 1, 'max_iter': 600, 'solver': 'lbfgs'} 0:02:06.204931\n",
      "0.6032165997563781 {'C': 0.7, 'max_iter': 200, 'solver': 'sag'} 0:00:36.218248\n"
     ]
    },
    {
     "name": "stderr",
     "output_type": "stream",
     "text": [
      "/Users/bentleyou/anaconda3/lib/python3.7/site-packages/sklearn/linear_model/sag.py:337: ConvergenceWarning: The max_iter was reached which means the coef_ did not converge\n",
      "  \"the coef_ did not converge\", ConvergenceWarning)\n"
     ]
    },
    {
     "name": "stdout",
     "output_type": "stream",
     "text": [
      "0.6031234765841877 {'C': 1, 'max_iter': 300, 'solver': 'newton-cg'} 0:01:35.573099\n"
     ]
    },
    {
     "name": "stderr",
     "output_type": "stream",
     "text": [
      "/Users/bentleyou/anaconda3/lib/python3.7/site-packages/sklearn/linear_model/logistic.py:1544: UserWarning: 'n_jobs' > 1 does not have any effect when 'solver' is set to 'liblinear'. Got 'n_jobs' = 12.\n",
      "  \" = {}.\".format(effective_n_jobs(self.n_jobs)))\n"
     ]
    },
    {
     "name": "stdout",
     "output_type": "stream",
     "text": [
      "0.6054670354757739 {'C': 0.1, 'max_iter': 300, 'solver': 'liblinear'} 0:00:01.727794\n",
      "0.6034509599177318 {'C': 0.4, 'max_iter': 100, 'solver': 'newton-cg'} 0:01:14.793089\n",
      "0.6031805815917166 {'C': 0.8, 'max_iter': 100, 'solver': 'newton-cg'} 0:01:32.597346\n",
      "0.6031222038260711 {'C': 1, 'max_iter': 400, 'solver': 'saga'} 0:01:15.814798\n",
      "0.604771819390817 {'C': 0.1, 'max_iter': 500, 'solver': 'sag'} 0:00:10.016258\n"
     ]
    },
    {
     "name": "stderr",
     "output_type": "stream",
     "text": [
      "/Users/bentleyou/anaconda3/lib/python3.7/site-packages/sklearn/linear_model/logistic.py:1544: UserWarning: 'n_jobs' > 1 does not have any effect when 'solver' is set to 'liblinear'. Got 'n_jobs' = 12.\n",
      "  \" = {}.\".format(effective_n_jobs(self.n_jobs)))\n"
     ]
    },
    {
     "name": "stdout",
     "output_type": "stream",
     "text": [
      "0.6036919348611296 {'C': 0.4, 'max_iter': 600, 'solver': 'liblinear'} 0:00:02.724891\n",
      "0.6036137625916275 {'C': 0.3, 'max_iter': 200, 'solver': 'sag'} 0:00:20.474111\n",
      "0.6070960430395174 {'C': 0.5, 'max_iter': 200, 'solver': 'lbfgs'} 0:00:43.090890\n"
     ]
    },
    {
     "name": "stderr",
     "output_type": "stream",
     "text": [
      "/Users/bentleyou/anaconda3/lib/python3.7/site-packages/sklearn/linear_model/sag.py:337: ConvergenceWarning: The max_iter was reached which means the coef_ did not converge\n",
      "  \"the coef_ did not converge\", ConvergenceWarning)\n"
     ]
    },
    {
     "name": "stdout",
     "output_type": "stream",
     "text": [
      "0.6031164648440177 {'C': 1, 'max_iter': 200, 'solver': 'saga'} 0:00:38.691094\n",
      "0.6055684809581282 {'C': 0.6, 'max_iter': 100, 'solver': 'saga'} 0:00:19.464340\n"
     ]
    },
    {
     "name": "stderr",
     "output_type": "stream",
     "text": [
      "/Users/bentleyou/anaconda3/lib/python3.7/site-packages/sklearn/linear_model/sag.py:337: ConvergenceWarning: The max_iter was reached which means the coef_ did not converge\n",
      "  \"the coef_ did not converge\", ConvergenceWarning)\n"
     ]
    },
    {
     "name": "stdout",
     "output_type": "stream",
     "text": [
      "0.6065401290938155 {'C': 0.3, 'max_iter': 300, 'solver': 'lbfgs'} 0:01:04.591493\n"
     ]
    },
    {
     "name": "stderr",
     "output_type": "stream",
     "text": [
      "/Users/bentleyou/anaconda3/lib/python3.7/site-packages/sklearn/linear_model/logistic.py:1544: UserWarning: 'n_jobs' > 1 does not have any effect when 'solver' is set to 'liblinear'. Got 'n_jobs' = 12.\n",
      "  \" = {}.\".format(effective_n_jobs(self.n_jobs)))\n"
     ]
    },
    {
     "name": "stdout",
     "output_type": "stream",
     "text": [
      "0.6063236370562622 {'C': 0.3, 'max_iter': 300, 'solver': 'liblinear'} 0:00:02.427757\n",
      "0.6063657847985445 {'C': 0.2, 'max_iter': 100, 'solver': 'newton-cg'} 0:01:04.115400\n",
      "0.6055008829361901 {'C': 0.7, 'max_iter': 500, 'solver': 'sag'} 0:00:37.961554\n"
     ]
    },
    {
     "ename": "KeyboardInterrupt",
     "evalue": "",
     "output_type": "error",
     "traceback": [
      "\u001b[0;31m---------------------------------------------------------------------------\u001b[0m",
      "\u001b[0;31mKeyboardInterrupt\u001b[0m                         Traceback (most recent call last)",
      "\u001b[0;32m<ipython-input-21-45655efadb7a>\u001b[0m in \u001b[0;36m<module>\u001b[0;34m()\u001b[0m\n\u001b[1;32m     45\u001b[0m         \u001b[0mmodel_adasyn\u001b[0m \u001b[0;34m=\u001b[0m \u001b[0mLogisticRegression\u001b[0m\u001b[0;34m(\u001b[0m\u001b[0mrandom_state\u001b[0m\u001b[0;34m=\u001b[0m\u001b[0;36m42\u001b[0m\u001b[0;34m,\u001b[0m \u001b[0mn_jobs\u001b[0m \u001b[0;34m=\u001b[0m \u001b[0;34m-\u001b[0m\u001b[0;36m1\u001b[0m\u001b[0;34m,\u001b[0m \u001b[0;34m**\u001b[0m\u001b[0mparam\u001b[0m\u001b[0;34m,\u001b[0m \u001b[0;34m)\u001b[0m\u001b[0;34m\u001b[0m\u001b[0;34m\u001b[0m\u001b[0m\n\u001b[1;32m     46\u001b[0m         \u001b[0;31m# fit the model using oversampled training data\u001b[0m\u001b[0;34m\u001b[0m\u001b[0;34m\u001b[0m\u001b[0;34m\u001b[0m\u001b[0m\n\u001b[0;32m---> 47\u001b[0;31m         \u001b[0mmodel_adasyn\u001b[0m\u001b[0;34m.\u001b[0m\u001b[0mfit\u001b[0m\u001b[0;34m(\u001b[0m\u001b[0mX_adasyn_train\u001b[0m\u001b[0;34m,\u001b[0m \u001b[0my_adasyn_train\u001b[0m\u001b[0;34m)\u001b[0m\u001b[0;34m\u001b[0m\u001b[0;34m\u001b[0m\u001b[0m\n\u001b[0m\u001b[1;32m     48\u001b[0m         \u001b[0mend_time\u001b[0m \u001b[0;34m=\u001b[0m \u001b[0mdatetime\u001b[0m\u001b[0;34m.\u001b[0m\u001b[0mnow\u001b[0m\u001b[0;34m(\u001b[0m\u001b[0;34m)\u001b[0m\u001b[0;34m\u001b[0m\u001b[0;34m\u001b[0m\u001b[0m\n\u001b[1;32m     49\u001b[0m         \u001b[0mduration\u001b[0m \u001b[0;34m=\u001b[0m \u001b[0mend_time\u001b[0m \u001b[0;34m-\u001b[0m \u001b[0mstart_time\u001b[0m\u001b[0;34m\u001b[0m\u001b[0;34m\u001b[0m\u001b[0m\n",
      "\u001b[0;32m/Users/bentleyou/anaconda3/lib/python3.7/site-packages/sklearn/linear_model/logistic.py\u001b[0m in \u001b[0;36mfit\u001b[0;34m(self, X, y, sample_weight)\u001b[0m\n\u001b[1;32m   1604\u001b[0m                       \u001b[0mpenalty\u001b[0m\u001b[0;34m=\u001b[0m\u001b[0mpenalty\u001b[0m\u001b[0;34m,\u001b[0m \u001b[0mmax_squared_sum\u001b[0m\u001b[0;34m=\u001b[0m\u001b[0mmax_squared_sum\u001b[0m\u001b[0;34m,\u001b[0m\u001b[0;34m\u001b[0m\u001b[0;34m\u001b[0m\u001b[0m\n\u001b[1;32m   1605\u001b[0m                       sample_weight=sample_weight)\n\u001b[0;32m-> 1606\u001b[0;31m             for class_, warm_start_coef_ in zip(classes_, warm_start_coef))\n\u001b[0m\u001b[1;32m   1607\u001b[0m \u001b[0;34m\u001b[0m\u001b[0m\n\u001b[1;32m   1608\u001b[0m         \u001b[0mfold_coefs_\u001b[0m\u001b[0;34m,\u001b[0m \u001b[0m_\u001b[0m\u001b[0;34m,\u001b[0m \u001b[0mn_iter_\u001b[0m \u001b[0;34m=\u001b[0m \u001b[0mzip\u001b[0m\u001b[0;34m(\u001b[0m\u001b[0;34m*\u001b[0m\u001b[0mfold_coefs_\u001b[0m\u001b[0;34m)\u001b[0m\u001b[0;34m\u001b[0m\u001b[0;34m\u001b[0m\u001b[0m\n",
      "\u001b[0;32m/Users/bentleyou/anaconda3/lib/python3.7/site-packages/joblib/parallel.py\u001b[0m in \u001b[0;36m__call__\u001b[0;34m(self, iterable)\u001b[0m\n\u001b[1;32m    932\u001b[0m \u001b[0;34m\u001b[0m\u001b[0m\n\u001b[1;32m    933\u001b[0m             \u001b[0;32mwith\u001b[0m \u001b[0mself\u001b[0m\u001b[0;34m.\u001b[0m\u001b[0m_backend\u001b[0m\u001b[0;34m.\u001b[0m\u001b[0mretrieval_context\u001b[0m\u001b[0;34m(\u001b[0m\u001b[0;34m)\u001b[0m\u001b[0;34m:\u001b[0m\u001b[0;34m\u001b[0m\u001b[0;34m\u001b[0m\u001b[0m\n\u001b[0;32m--> 934\u001b[0;31m                 \u001b[0mself\u001b[0m\u001b[0;34m.\u001b[0m\u001b[0mretrieve\u001b[0m\u001b[0;34m(\u001b[0m\u001b[0;34m)\u001b[0m\u001b[0;34m\u001b[0m\u001b[0;34m\u001b[0m\u001b[0m\n\u001b[0m\u001b[1;32m    935\u001b[0m             \u001b[0;31m# Make sure that we get a last message telling us we are done\u001b[0m\u001b[0;34m\u001b[0m\u001b[0;34m\u001b[0m\u001b[0;34m\u001b[0m\u001b[0m\n\u001b[1;32m    936\u001b[0m             \u001b[0melapsed_time\u001b[0m \u001b[0;34m=\u001b[0m \u001b[0mtime\u001b[0m\u001b[0;34m.\u001b[0m\u001b[0mtime\u001b[0m\u001b[0;34m(\u001b[0m\u001b[0;34m)\u001b[0m \u001b[0;34m-\u001b[0m \u001b[0mself\u001b[0m\u001b[0;34m.\u001b[0m\u001b[0m_start_time\u001b[0m\u001b[0;34m\u001b[0m\u001b[0;34m\u001b[0m\u001b[0m\n",
      "\u001b[0;32m/Users/bentleyou/anaconda3/lib/python3.7/site-packages/joblib/parallel.py\u001b[0m in \u001b[0;36mretrieve\u001b[0;34m(self)\u001b[0m\n\u001b[1;32m    831\u001b[0m             \u001b[0;32mtry\u001b[0m\u001b[0;34m:\u001b[0m\u001b[0;34m\u001b[0m\u001b[0;34m\u001b[0m\u001b[0m\n\u001b[1;32m    832\u001b[0m                 \u001b[0;32mif\u001b[0m \u001b[0mgetattr\u001b[0m\u001b[0;34m(\u001b[0m\u001b[0mself\u001b[0m\u001b[0;34m.\u001b[0m\u001b[0m_backend\u001b[0m\u001b[0;34m,\u001b[0m \u001b[0;34m'supports_timeout'\u001b[0m\u001b[0;34m,\u001b[0m \u001b[0;32mFalse\u001b[0m\u001b[0;34m)\u001b[0m\u001b[0;34m:\u001b[0m\u001b[0;34m\u001b[0m\u001b[0;34m\u001b[0m\u001b[0m\n\u001b[0;32m--> 833\u001b[0;31m                     \u001b[0mself\u001b[0m\u001b[0;34m.\u001b[0m\u001b[0m_output\u001b[0m\u001b[0;34m.\u001b[0m\u001b[0mextend\u001b[0m\u001b[0;34m(\u001b[0m\u001b[0mjob\u001b[0m\u001b[0;34m.\u001b[0m\u001b[0mget\u001b[0m\u001b[0;34m(\u001b[0m\u001b[0mtimeout\u001b[0m\u001b[0;34m=\u001b[0m\u001b[0mself\u001b[0m\u001b[0;34m.\u001b[0m\u001b[0mtimeout\u001b[0m\u001b[0;34m)\u001b[0m\u001b[0;34m)\u001b[0m\u001b[0;34m\u001b[0m\u001b[0;34m\u001b[0m\u001b[0m\n\u001b[0m\u001b[1;32m    834\u001b[0m                 \u001b[0;32melse\u001b[0m\u001b[0;34m:\u001b[0m\u001b[0;34m\u001b[0m\u001b[0;34m\u001b[0m\u001b[0m\n\u001b[1;32m    835\u001b[0m                     \u001b[0mself\u001b[0m\u001b[0;34m.\u001b[0m\u001b[0m_output\u001b[0m\u001b[0;34m.\u001b[0m\u001b[0mextend\u001b[0m\u001b[0;34m(\u001b[0m\u001b[0mjob\u001b[0m\u001b[0;34m.\u001b[0m\u001b[0mget\u001b[0m\u001b[0;34m(\u001b[0m\u001b[0;34m)\u001b[0m\u001b[0;34m)\u001b[0m\u001b[0;34m\u001b[0m\u001b[0;34m\u001b[0m\u001b[0m\n",
      "\u001b[0;32m/Users/bentleyou/anaconda3/lib/python3.7/site-packages/joblib/_parallel_backends.py\u001b[0m in \u001b[0;36mwrap_future_result\u001b[0;34m(future, timeout)\u001b[0m\n\u001b[1;32m    519\u001b[0m         AsyncResults.get from multiprocessing.\"\"\"\n\u001b[1;32m    520\u001b[0m         \u001b[0;32mtry\u001b[0m\u001b[0;34m:\u001b[0m\u001b[0;34m\u001b[0m\u001b[0;34m\u001b[0m\u001b[0m\n\u001b[0;32m--> 521\u001b[0;31m             \u001b[0;32mreturn\u001b[0m \u001b[0mfuture\u001b[0m\u001b[0;34m.\u001b[0m\u001b[0mresult\u001b[0m\u001b[0;34m(\u001b[0m\u001b[0mtimeout\u001b[0m\u001b[0;34m=\u001b[0m\u001b[0mtimeout\u001b[0m\u001b[0;34m)\u001b[0m\u001b[0;34m\u001b[0m\u001b[0;34m\u001b[0m\u001b[0m\n\u001b[0m\u001b[1;32m    522\u001b[0m         \u001b[0;32mexcept\u001b[0m \u001b[0mLokyTimeoutError\u001b[0m\u001b[0;34m:\u001b[0m\u001b[0;34m\u001b[0m\u001b[0;34m\u001b[0m\u001b[0m\n\u001b[1;32m    523\u001b[0m             \u001b[0;32mraise\u001b[0m \u001b[0mTimeoutError\u001b[0m\u001b[0;34m(\u001b[0m\u001b[0;34m)\u001b[0m\u001b[0;34m\u001b[0m\u001b[0;34m\u001b[0m\u001b[0m\n",
      "\u001b[0;32m/Users/bentleyou/anaconda3/lib/python3.7/concurrent/futures/_base.py\u001b[0m in \u001b[0;36mresult\u001b[0;34m(self, timeout)\u001b[0m\n\u001b[1;32m    425\u001b[0m                 \u001b[0;32mreturn\u001b[0m \u001b[0mself\u001b[0m\u001b[0;34m.\u001b[0m\u001b[0m__get_result\u001b[0m\u001b[0;34m(\u001b[0m\u001b[0;34m)\u001b[0m\u001b[0;34m\u001b[0m\u001b[0;34m\u001b[0m\u001b[0m\n\u001b[1;32m    426\u001b[0m \u001b[0;34m\u001b[0m\u001b[0m\n\u001b[0;32m--> 427\u001b[0;31m             \u001b[0mself\u001b[0m\u001b[0;34m.\u001b[0m\u001b[0m_condition\u001b[0m\u001b[0;34m.\u001b[0m\u001b[0mwait\u001b[0m\u001b[0;34m(\u001b[0m\u001b[0mtimeout\u001b[0m\u001b[0;34m)\u001b[0m\u001b[0;34m\u001b[0m\u001b[0;34m\u001b[0m\u001b[0m\n\u001b[0m\u001b[1;32m    428\u001b[0m \u001b[0;34m\u001b[0m\u001b[0m\n\u001b[1;32m    429\u001b[0m             \u001b[0;32mif\u001b[0m \u001b[0mself\u001b[0m\u001b[0;34m.\u001b[0m\u001b[0m_state\u001b[0m \u001b[0;32min\u001b[0m \u001b[0;34m[\u001b[0m\u001b[0mCANCELLED\u001b[0m\u001b[0;34m,\u001b[0m \u001b[0mCANCELLED_AND_NOTIFIED\u001b[0m\u001b[0;34m]\u001b[0m\u001b[0;34m:\u001b[0m\u001b[0;34m\u001b[0m\u001b[0;34m\u001b[0m\u001b[0m\n",
      "\u001b[0;32m/Users/bentleyou/anaconda3/lib/python3.7/threading.py\u001b[0m in \u001b[0;36mwait\u001b[0;34m(self, timeout)\u001b[0m\n\u001b[1;32m    294\u001b[0m         \u001b[0;32mtry\u001b[0m\u001b[0;34m:\u001b[0m    \u001b[0;31m# restore state no matter what (e.g., KeyboardInterrupt)\u001b[0m\u001b[0;34m\u001b[0m\u001b[0;34m\u001b[0m\u001b[0m\n\u001b[1;32m    295\u001b[0m             \u001b[0;32mif\u001b[0m \u001b[0mtimeout\u001b[0m \u001b[0;32mis\u001b[0m \u001b[0;32mNone\u001b[0m\u001b[0;34m:\u001b[0m\u001b[0;34m\u001b[0m\u001b[0;34m\u001b[0m\u001b[0m\n\u001b[0;32m--> 296\u001b[0;31m                 \u001b[0mwaiter\u001b[0m\u001b[0;34m.\u001b[0m\u001b[0macquire\u001b[0m\u001b[0;34m(\u001b[0m\u001b[0;34m)\u001b[0m\u001b[0;34m\u001b[0m\u001b[0;34m\u001b[0m\u001b[0m\n\u001b[0m\u001b[1;32m    297\u001b[0m                 \u001b[0mgotit\u001b[0m \u001b[0;34m=\u001b[0m \u001b[0;32mTrue\u001b[0m\u001b[0;34m\u001b[0m\u001b[0;34m\u001b[0m\u001b[0m\n\u001b[1;32m    298\u001b[0m             \u001b[0;32melse\u001b[0m\u001b[0;34m:\u001b[0m\u001b[0;34m\u001b[0m\u001b[0;34m\u001b[0m\u001b[0m\n",
      "\u001b[0;31mKeyboardInterrupt\u001b[0m: "
     ]
    }
   ],
   "source": [
    "folds = 3\n",
    "\n",
    "# model = LogisticRegression(random_state=42, n_jobs = 1, **param)\n",
    "iterations = 25\n",
    "\n",
    "#run the CV\n",
    "from datetime import datetime\n",
    "import random\n",
    "from imblearn.over_sampling import ADASYN\n",
    "from sklearn.model_selection import ParameterGrid\n",
    "\n",
    "# Initiate KFolds - stratify ensures even distribution of target class in each fold\n",
    "kf = StratifiedKFold(n_splits=folds, shuffle=True, random_state = 42)\n",
    "\n",
    "# initial model and score collected in each fold\n",
    "model_clf_model = []\n",
    "model_clf_aucs = []\n",
    "\n",
    "# divide the training and test set into n_splits\n",
    "\n",
    "X_train, y_train = np.array(X_train), np.array(y_train)\n",
    "\n",
    "for train_ind, val_ind in kf.split(X_train,y_train):\n",
    "\n",
    "    X_train_, y_train_ = X_train[train_ind], y_train[train_ind]\n",
    "    X_val_, y_val_ = X_train[val_ind], y_train[val_ind] \n",
    "\n",
    "    # Use adasyn to oversample the training set and leave validation set alone\n",
    "    X_adasyn_train, y_adasyn_train = ADASYN(random_state=42).fit_sample(X_train_,y_train_)\n",
    "\n",
    "    # a dictionary of parameters to test the model on\n",
    "    params = logit_params\n",
    "\n",
    "    # Make the model into a list of parameters to test on\n",
    "    param_list = list(ParameterGrid(logit_params))\n",
    "\n",
    "    # Initials a dictionary of each model and score for each param in param_list\n",
    "    logit_model_aucs = {}\n",
    "\n",
    "    # run the model for each parameter picking randomly for a number of iterations\n",
    "    for param in random.sample(param_list, iterations):\n",
    "        \n",
    "        start_time = datetime.now()\n",
    "        # instantiate a model passing in param as arguments\n",
    "        model_adasyn = LogisticRegression(random_state=42, n_jobs = -1, **param, )\n",
    "        # fit the model using oversampled training data \n",
    "        model_adasyn.fit(X_adasyn_train, y_adasyn_train)\n",
    "        end_time = datetime.now()\n",
    "        duration = end_time - start_time\n",
    "\n",
    "        # append the model and its AUC score into model_aucs which is a dictionary\n",
    "        auc = roc_auc_score(y_val_, model_adasyn.predict_proba(X_val_)[:,1])\n",
    "        logit_model_aucs.update({model_adasyn: auc})\n",
    "        \n",
    "        print(auc, param, duration)\n",
    "\n",
    "    # append this model for to a list\n",
    "    model_clf_model.append(max(logit_model_aucs, key=logit_model_aucs.get))\n",
    "\n",
    "    # append this auc score for the model to a list\n",
    "    model_clf_aucs.append(logit_model_aucs[max(logit_model_aucs, key=logit_model_aucs.get)])\n"
   ]
  },
  {
   "cell_type": "code",
   "execution_count": 41,
   "metadata": {},
   "outputs": [],
   "source": [
    "# Using ADASYN data\n",
    "# std_adasyn = StandardScaler()\n",
    "# std_adasyn.fit(X_adasyn_train)\n",
    "# X_adasyn_train_scaled = std_adasyn.transform(X_adasyn_train)\n",
    "# X_val_adasyn_scaled = std_adasyn.transform(X_val)\n",
    "\n",
    "logit_adasyn =  LogisticRegression(C=0.9, class_weight='balanced', dual=False, fit_intercept=True,\n",
    "                    intercept_scaling=1, l1_ratio=None, max_iter=300,\n",
    "                    multi_class='warn', n_jobs=1, penalty='l2', random_state=42,\n",
    "                    solver='newton-cg', tol=0.0001, verbose=0, warm_start=False)\n",
    "logit_adasyn.fit(X_adasyn_train, y_adasyn_train);"
   ]
  },
  {
   "cell_type": "code",
   "execution_count": 42,
   "metadata": {},
   "outputs": [
    {
     "name": "stdout",
     "output_type": "stream",
     "text": [
      "              precision    recall  f1-score   support\n",
      "\n",
      "           0       0.82      0.60      0.70     27868\n",
      "           1       0.36      0.63      0.46      9863\n",
      "\n",
      "    accuracy                           0.61     37731\n",
      "   macro avg       0.59      0.62      0.58     37731\n",
      "weighted avg       0.70      0.61      0.63     37731\n",
      "\n",
      "ROC AUC score =  0.6676457055459131\n"
     ]
    },
    {
     "data": {
      "text/plain": [
       "0.6676457055459131"
      ]
     },
     "execution_count": 42,
     "metadata": {},
     "output_type": "execute_result"
    },
    {
     "data": {
      "image/png": "[encoded data removed]",
      "text/plain": [
       "<Figure size 432x288 with 1 Axes>"
      ]
     },
     "metadata": {
      "needs_background": "light"
     },
     "output_type": "display_data"
    }
   ],
   "source": [
    "print(classification_report(y_val, logit_adasyn.predict(X_val)))\n",
    "plot_ROC(X_val, y_val, logit_adasyn)"
   ]
  },
  {
   "cell_type": "markdown",
   "metadata": {},
   "source": [
    "#### Using adasyn Logistic Regression"
   ]
  },
  {
   "cell_type": "code",
   "execution_count": 281,
   "metadata": {},
   "outputs": [
    {
     "data": {
      "text/plain": [
       "<module 'matplotlib.pyplot' from '/Users/bentleyou/anaconda3/lib/python3.7/site-packages/matplotlib/pyplot.py'>"
      ]
     },
     "execution_count": 281,
     "metadata": {},
     "output_type": "execute_result"
    },
    {
     "data": {
      "image/png": "[encoded data removed]",
      "text/plain": [
       "<Figure size 480x320 with 1 Axes>"
      ]
     },
     "metadata": {},
     "output_type": "display_data"
    }
   ],
   "source": [
    "plot_threshold_curve(X_val, y_val, logit_adasyn, 'logit_adasyn')"
   ]
  },
  {
   "cell_type": "markdown",
   "metadata": {},
   "source": [
    "#### RandomForest using adasyn and GridSearchCV"
   ]
  },
  {
   "cell_type": "code",
   "execution_count": 340,
   "metadata": {},
   "outputs": [],
   "source": [
    "rf_params = {'max_depth': [8,9,10,11],\n",
    "            'min_samples_leaf': [2, 4, 6, 8],\n",
    "            'min_samples_split': [0,1,2,3],\n",
    "            'n_estimators': [200, 300, 400, 500, 600],\n",
    "            'min_samples_split': [2, 3, 4, 5, 6],\n",
    "            'max_features' :['auto', 'sqrt']}"
   ]
  },
  {
   "cell_type": "code",
   "execution_count": 43,
   "metadata": {},
   "outputs": [],
   "source": [
    "from sklearn.ensemble import RandomForestClassifier\n",
    "rf_adasyn = RandomForestClassifier(bootstrap=True, class_weight=None, criterion='gini',\n",
    "                        max_depth=8, max_features='auto', max_leaf_nodes=None,\n",
    "                        min_impurity_decrease=0.0, min_impurity_split=None,\n",
    "                        min_samples_leaf=2, min_samples_split=2,\n",
    "                        min_weight_fraction_leaf=0.0, n_estimators=400,\n",
    "                        n_jobs=-1, oob_score=False, random_state=42, verbose=0,\n",
    "                        warm_start=False)\n",
    "rf_adasyn_clf = rf_adasyn.fit(X_adasyn_train, y_adasyn_train)"
   ]
  },
  {
   "cell_type": "code",
   "execution_count": 44,
   "metadata": {},
   "outputs": [
    {
     "name": "stdout",
     "output_type": "stream",
     "text": [
      "              precision    recall  f1-score   support\n",
      "\n",
      "           0       0.81      0.66      0.73     27868\n",
      "           1       0.37      0.56      0.44      9863\n",
      "\n",
      "    accuracy                           0.63     37731\n",
      "   macro avg       0.59      0.61      0.59     37731\n",
      "weighted avg       0.69      0.63      0.65     37731\n",
      "\n",
      "ROC AUC score =  0.6614680000752668\n"
     ]
    },
    {
     "data": {
      "text/plain": [
       "0.6614680000752668"
      ]
     },
     "execution_count": 44,
     "metadata": {},
     "output_type": "execute_result"
    },
    {
     "data": {
      "image/png": "[encoded data removed]",
      "text/plain": [
       "<Figure size 432x288 with 1 Axes>"
      ]
     },
     "metadata": {
      "needs_background": "light"
     },
     "output_type": "display_data"
    }
   ],
   "source": [
    "print(classification_report(y_val, rf_adasyn_clf.predict(X_val)))\n",
    "plot_ROC(X_val, y_val, rf_adasyn_clf)"
   ]
  },
  {
   "cell_type": "markdown",
   "metadata": {},
   "source": [
    "### Using XGBoost Classifer"
   ]
  },
  {
   "cell_type": "code",
   "execution_count": 23,
   "metadata": {},
   "outputs": [],
   "source": [
    "from xgboost import XGBClassifier"
   ]
  },
  {
   "cell_type": "markdown",
   "metadata": {},
   "source": [
    "#### XGBoost on adasyn Parameter Tuning"
   ]
  },
  {
   "cell_type": "code",
   "execution_count": 354,
   "metadata": {
    "collapsed": true,
    "jupyter": {
     "outputs_hidden": true
    }
   },
   "outputs": [
    {
     "name": "stdout",
     "output_type": "stream",
     "text": [
      "0.6639173104502546 {'colsample_bytree': 0.5, 'gamma': 6, 'learning_rate': 0.01, 'max_depth': 9, 'n_estimators': 100} 0:00:26.370306\n",
      "0.6589820934248384 {'colsample_bytree': 0.9, 'gamma': 0, 'learning_rate': 0.001, 'max_depth': 6, 'n_estimators': 400} 0:01:48.458304\n",
      "0.6568707617615157 {'colsample_bytree': 0.9, 'gamma': 8, 'learning_rate': 0.001, 'max_depth': 7, 'n_estimators': 100} 0:00:31.298917\n",
      "0.6492765452523672 {'colsample_bytree': 0.3, 'gamma': 8, 'learning_rate': 0.001, 'max_depth': 12, 'n_estimators': 100} 0:00:23.303696\n",
      "0.6636552769664296 {'colsample_bytree': 0.5, 'gamma': 6, 'learning_rate': 0.001, 'max_depth': 8, 'n_estimators': 700} 0:02:42.046205\n",
      "0.6700241072210396 {'colsample_bytree': 0.6, 'gamma': 4, 'learning_rate': 0.01, 'max_depth': 12, 'n_estimators': 700} 0:04:20.134927\n",
      "0.6647804630407679 {'colsample_bytree': 0.9, 'gamma': 6, 'learning_rate': 0.001, 'max_depth': 9, 'n_estimators': 800} 0:05:09.718312\n",
      "0.6737537094638374 {'colsample_bytree': 0.5, 'gamma': 8, 'learning_rate': 0.1, 'max_depth': 12, 'n_estimators': 700} 0:03:42.483726\n",
      "0.671323071456668 {'colsample_bytree': 0.8, 'gamma': 8, 'learning_rate': 0.01, 'max_depth': 10, 'n_estimators': 700} 0:04:30.578439\n",
      "0.671869205182613 {'colsample_bytree': 0.5, 'gamma': 10, 'learning_rate': 0.01, 'max_depth': 9, 'n_estimators': 800} 0:03:22.794508\n",
      "0.6667359338292984 {'colsample_bytree': 0.8, 'gamma': 6, 'learning_rate': 0.001, 'max_depth': 10, 'n_estimators': 700} 0:04:34.575579\n",
      "0.6676674882959132 {'colsample_bytree': 0.6, 'gamma': 8, 'learning_rate': 0.001, 'max_depth': 11, 'n_estimators': 1200} 0:06:58.218913\n",
      "0.6707674794332972 {'colsample_bytree': 0.4, 'gamma': 6, 'learning_rate': 0.1, 'max_depth': 9, 'n_estimators': 100} 0:00:21.519389\n",
      "0.6671896900857492 {'colsample_bytree': 0.5, 'gamma': 2, 'learning_rate': 0.01, 'max_depth': 9, 'n_estimators': 200} 0:00:50.742569\n",
      "0.6645421553232469 {'colsample_bytree': 0.9, 'gamma': 8, 'learning_rate': 0.001, 'max_depth': 12, 'n_estimators': 300} 0:02:35.255039\n",
      "0.6705123669405313 {'colsample_bytree': 0.7, 'gamma': 4, 'learning_rate': 0.01, 'max_depth': 9, 'n_estimators': 500} 0:02:38.305774\n",
      "0.6710378157642641 {'colsample_bytree': 0.7, 'gamma': 6, 'learning_rate': 0.01, 'max_depth': 11, 'n_estimators': 800} 0:05:08.919797\n",
      "0.6622405842356358 {'colsample_bytree': 0.9, 'gamma': 8, 'learning_rate': 0.001, 'max_depth': 8, 'n_estimators': 100} 0:00:36.228270\n",
      "0.6703177126031645 {'colsample_bytree': 1, 'gamma': 10, 'learning_rate': 0.01, 'max_depth': 11, 'n_estimators': 300} 0:02:37.441023\n",
      "0.6648240110251192 {'colsample_bytree': 0.7, 'gamma': 2, 'learning_rate': 0.001, 'max_depth': 7, 'n_estimators': 1200} 0:05:11.571083\n",
      "0.6603281617772798 {'colsample_bytree': 0.4, 'gamma': 6, 'learning_rate': 0.001, 'max_depth': 6, 'n_estimators': 200} 0:00:32.389284\n",
      "0.6622482117689295 {'colsample_bytree': 0.5, 'gamma': 2, 'learning_rate': 0.001, 'max_depth': 9, 'n_estimators': 400} 0:01:44.111872\n",
      "0.6550477032333997 {'colsample_bytree': 0.3, 'gamma': 4, 'learning_rate': 0.001, 'max_depth': 9, 'n_estimators': 600} 0:01:53.481651\n",
      "0.6716733797807692 {'colsample_bytree': 0.6, 'gamma': 6, 'learning_rate': 0.1, 'max_depth': 9, 'n_estimators': 900} 0:04:19.529883\n",
      "0.6665077363017622 {'colsample_bytree': 0.7, 'gamma': 2, 'learning_rate': 0.001, 'max_depth': 9, 'n_estimators': 1000} 0:05:26.599350\n",
      "0.668698188984699 {'colsample_bytree': 0.8, 'gamma': 8, 'learning_rate': 0.1, 'max_depth': 10, 'n_estimators': 1200} 0:07:49.143205\n",
      "0.6710359186398114 {'colsample_bytree': 0.5, 'gamma': 10, 'learning_rate': 0.1, 'max_depth': 10, 'n_estimators': 500} 0:02:18.939322\n",
      "0.6530909715987822 {'colsample_bytree': 0.4, 'gamma': 8, 'learning_rate': 0.001, 'max_depth': 12, 'n_estimators': 700} 0:03:17.715357\n",
      "0.6582769408535616 {'colsample_bytree': 0.5, 'gamma': 2, 'learning_rate': 0.001, 'max_depth': 8, 'n_estimators': 900} 0:03:31.453096\n",
      "0.6614180285469919 {'colsample_bytree': 0.9, 'gamma': 4, 'learning_rate': 0.1, 'max_depth': 10, 'n_estimators': 500} 0:03:34.124782\n",
      "0.6582537537769172 {'colsample_bytree': 0.9, 'gamma': 2, 'learning_rate': 0.1, 'max_depth': 7, 'n_estimators': 1200} 0:06:11.458795\n",
      "0.6503875146039548 {'colsample_bytree': 0.3, 'gamma': 0, 'learning_rate': 0.01, 'max_depth': 8, 'n_estimators': 100} 0:00:17.971427\n",
      "0.665495538431713 {'colsample_bytree': 1, 'gamma': 6, 'learning_rate': 0.01, 'max_depth': 7, 'n_estimators': 600} 0:03:24.834732\n",
      "0.6692131841062006 {'colsample_bytree': 0.9, 'gamma': 10, 'learning_rate': 0.1, 'max_depth': 10, 'n_estimators': 800} 0:05:43.561968\n",
      "0.6461785175997563 {'colsample_bytree': 0.3, 'gamma': 4, 'learning_rate': 0.001, 'max_depth': 12, 'n_estimators': 600} 0:02:21.214189\n",
      "0.6566281328160746 {'colsample_bytree': 0.5, 'gamma': 4, 'learning_rate': 0.001, 'max_depth': 6, 'n_estimators': 500} 0:01:33.079711\n",
      "0.6568218190734738 {'colsample_bytree': 0.5, 'gamma': 6, 'learning_rate': 0.001, 'max_depth': 6, 'n_estimators': 600} 0:01:51.724089\n",
      "0.6697326019478769 {'colsample_bytree': 0.4, 'gamma': 10, 'learning_rate': 0.1, 'max_depth': 8, 'n_estimators': 300} 0:00:59.147161\n",
      "0.6576668592000762 {'colsample_bytree': 0.9, 'gamma': 6, 'learning_rate': 0.001, 'max_depth': 6, 'n_estimators': 1200} 0:05:30.076384\n",
      "0.6713840058449546 {'colsample_bytree': 0.4, 'gamma': 10, 'learning_rate': 0.1, 'max_depth': 6, 'n_estimators': 1200} 0:03:08.605175\n",
      "0.6662387427913955 {'colsample_bytree': 0.6, 'gamma': 4, 'learning_rate': 0.01, 'max_depth': 8, 'n_estimators': 900} 0:03:56.430617\n",
      "0.6707273587643152 {'colsample_bytree': 0.7, 'gamma': 8, 'learning_rate': 0.1, 'max_depth': 6, 'n_estimators': 500} 0:01:52.951597\n",
      "0.6586429102132686 {'colsample_bytree': 1, 'gamma': 2, 'learning_rate': 0.01, 'max_depth': 6, 'n_estimators': 200} 0:01:00.145538\n",
      "0.6661491290340673 {'colsample_bytree': 0.8, 'gamma': 2, 'learning_rate': 0.1, 'max_depth': 6, 'n_estimators': 200} 0:00:50.018996\n",
      "0.6712701939919832 {'colsample_bytree': 0.5, 'gamma': 10, 'learning_rate': 0.1, 'max_depth': 10, 'n_estimators': 900} 0:04:09.068229\n",
      "0.663076814053823 {'colsample_bytree': 0.7, 'gamma': 2, 'learning_rate': 0.1, 'max_depth': 6, 'n_estimators': 1000} 0:03:44.958132\n",
      "0.6568858802039138 {'colsample_bytree': 0.9, 'gamma': 10, 'learning_rate': 0.001, 'max_depth': 7, 'n_estimators': 200} 0:01:03.103282\n",
      "0.6701555474979379 {'colsample_bytree': 0.6, 'gamma': 6, 'learning_rate': 0.1, 'max_depth': 6, 'n_estimators': 1200} 0:04:06.379367\n",
      "0.6668738774175923 {'colsample_bytree': 1, 'gamma': 6, 'learning_rate': 0.1, 'max_depth': 9, 'n_estimators': 600} 0:04:12.232381\n",
      "0.6609922060818656 {'colsample_bytree': 0.9, 'gamma': 2, 'learning_rate': 0.01, 'max_depth': 12, 'n_estimators': 600} 0:05:11.789477\n",
      "0.674029639579456 {'colsample_bytree': 0.5, 'gamma': 8, 'learning_rate': 0.1, 'max_depth': 10, 'n_estimators': 400} 0:01:51.722931\n",
      "0.670960416209431 {'colsample_bytree': 0.7, 'gamma': 10, 'learning_rate': 0.1, 'max_depth': 12, 'n_estimators': 900} 0:06:17.271263\n",
      "0.6639930588041751 {'colsample_bytree': 0.6, 'gamma': 8, 'learning_rate': 0.01, 'max_depth': 7, 'n_estimators': 200} 0:00:47.470749\n",
      "0.6725064086893858 {'colsample_bytree': 0.8, 'gamma': 8, 'learning_rate': 0.1, 'max_depth': 8, 'n_estimators': 1000} 0:05:19.629844\n",
      "0.6703421332010582 {'colsample_bytree': 0.9, 'gamma': 10, 'learning_rate': 0.1, 'max_depth': 7, 'n_estimators': 100} 0:00:31.561021\n",
      "0.6601957143849313 {'colsample_bytree': 0.7, 'gamma': 2, 'learning_rate': 0.1, 'max_depth': 9, 'n_estimators': 500} 0:02:40.276226\n",
      "0.6689921964322942 {'colsample_bytree': 0.4, 'gamma': 4, 'learning_rate': 0.01, 'max_depth': 8, 'n_estimators': 1000} 0:03:19.117086\n",
      "0.6657983718019166 {'colsample_bytree': 0.7, 'gamma': 0, 'learning_rate': 0.01, 'max_depth': 10, 'n_estimators': 300} 0:01:47.790674\n",
      "0.6678679940521166 {'colsample_bytree': 1, 'gamma': 8, 'learning_rate': 0.01, 'max_depth': 12, 'n_estimators': 900} 0:08:28.159957\n",
      "0.6570635853347502 {'colsample_bytree': 1, 'gamma': 2, 'learning_rate': 0.1, 'max_depth': 10, 'n_estimators': 1200} 0:09:12.955988\n",
      "0.6699425894227957 {'colsample_bytree': 0.8, 'gamma': 0, 'learning_rate': 0.01, 'max_depth': 6, 'n_estimators': 1000} 0:04:09.801274\n",
      "0.649339673434774 {'colsample_bytree': 0.3, 'gamma': 6, 'learning_rate': 0.001, 'max_depth': 8, 'n_estimators': 600} 0:01:43.825389\n",
      "0.6602144748378529 {'colsample_bytree': 0.7, 'gamma': 0, 'learning_rate': 0.001, 'max_depth': 12, 'n_estimators': 600} 0:04:18.270798\n",
      "0.6335228081826365 {'colsample_bytree': 0.5, 'gamma': 0, 'learning_rate': 0.1, 'max_depth': 11, 'n_estimators': 1000} 0:05:04.664794\n",
      "0.6652056960701075 {'colsample_bytree': 0.3, 'gamma': 10, 'learning_rate': 0.01, 'max_depth': 9, 'n_estimators': 500} 0:01:37.268461\n",
      "0.6589386859682242 {'colsample_bytree': 0.6, 'gamma': 8, 'learning_rate': 0.001, 'max_depth': 6, 'n_estimators': 700} 0:02:26.725090\n",
      "0.6689204687330781 {'colsample_bytree': 0.5, 'gamma': 6, 'learning_rate': 0.01, 'max_depth': 11, 'n_estimators': 800} 0:04:04.836360\n",
      "0.6622882699811392 {'colsample_bytree': 0.7, 'gamma': 4, 'learning_rate': 0.001, 'max_depth': 12, 'n_estimators': 1000} 0:07:09.378660\n",
      "0.6593582861774294 {'colsample_bytree': 1, 'gamma': 8, 'learning_rate': 0.001, 'max_depth': 9, 'n_estimators': 900} 0:06:25.689160\n",
      "0.6577117343908347 {'colsample_bytree': 1, 'gamma': 10, 'learning_rate': 0.001, 'max_depth': 6, 'n_estimators': 600} 0:02:59.396209\n",
      "0.6651343314008792 {'colsample_bytree': 0.3, 'gamma': 0, 'learning_rate': 0.01, 'max_depth': 11, 'n_estimators': 600} 0:02:12.648490\n",
      "0.6631972111927033 {'colsample_bytree': 0.3, 'gamma': 4, 'learning_rate': 0.01, 'max_depth': 9, 'n_estimators': 400} 0:01:15.868559\n",
      "0.6653477305769744 {'colsample_bytree': 0.5, 'gamma': 8, 'learning_rate': 0.01, 'max_depth': 7, 'n_estimators': 300} 0:01:02.674349\n",
      "0.6547732603696667 {'colsample_bytree': 0.4, 'gamma': 2, 'learning_rate': 0.001, 'max_depth': 9, 'n_estimators': 800} 0:02:57.695483\n",
      "0.6735749464714235 {'colsample_bytree': 0.6, 'gamma': 10, 'learning_rate': 0.1, 'max_depth': 7, 'n_estimators': 800} 0:03:06.047733\n"
     ]
    }
   ],
   "source": [
    "folds = 3\n",
    "parameters = xgboost_params = {'max_depth': [6, 7, 8, 9, 10, 11, 12],\n",
    "                  'n_estimators': [100, 200, 300, 400, 500, 600, 700, 800, 900, 1000, 1200],\n",
    "                  'learning_rate' : [0.001, 0.01, 0.1],\n",
    "                  'colsample_bytree': [0.3, 0.4, 0.5, 0.6, 0.7, 0.8, 0.9, 1],\n",
    "                  'gamma': [0, 2, 4, 6, 8, 10]}\n",
    "model = XGBClassifier(random_state=42, n_jobs = 1, **param)\n",
    "iterations = 25\n",
    "\n",
    "#run the CV\n",
    "from datetime import datetime\n",
    "import random\n",
    "from imblearn.over_sampling import ADASYN\n",
    "from sklearn.model_selection import ParameterGrid\n",
    "\n",
    "# Initiate KFolds - stratify ensures even distribution of target class in each fold\n",
    "kf = StratifiedKFold(n_splits=folds, shuffle=True, random_state = 42)\n",
    "\n",
    "# initial model and score collected in each fold\n",
    "model_clf_model = []\n",
    "model_clf_aucs = []\n",
    "\n",
    "# divide the training and test set into n_splits\n",
    "\n",
    "X_train, y_train = np.array(X_train), np.array(y_train)\n",
    "\n",
    "for train_ind, val_ind in kf.split(X_train,y_train):\n",
    "\n",
    "    X_train_, y_train_ = X_train[train_ind], y_train[train_ind]\n",
    "    X_val_, y_val_ = X_train[val_ind], y_train[val_ind] \n",
    "\n",
    "    # Use adasyn to oversample the training set and leave validation set alone\n",
    "    X_adasyn_train, y_adasyn_train = ADASYN(random_state=42).fit_sample(X_train_,y_train_)\n",
    "\n",
    "    # a dictionary of parameters to test the model on\n",
    "    params = parameters\n",
    "\n",
    "    # Make the model into a list of parameters to test on\n",
    "    param_list = list(ParameterGrid(params))\n",
    "\n",
    "    # Initials a dictionary of each model and score for each param in param_list\n",
    "    xgb_model_aucs = {}\n",
    "\n",
    "    # run the model for each parameter picking randomly for a number of iterations\n",
    "    for param in random.sample(param_list, iterations):\n",
    "        \n",
    "        start_time = datetime.now()\n",
    "        # instantiate a model passing in param as arguments\n",
    "        model_adasyn = XGBClassifier(random_state=101, n_jobs = -1, **param, max_delta_step=1)\n",
    "        # fit the model using oversampled training data \n",
    "        model_adasyn.fit(X_adasyn_train, y_adasyn_train)\n",
    "        end_time = datetime.now()\n",
    "        duration = end_time - start_time\n",
    "\n",
    "        # append the model and its AUC score into model_aucs which is a dictionary\n",
    "        auc = roc_auc_score(y_val_, model_adasyn.predict_proba(X_val_)[:,1])\n",
    "        xgb_model_aucs.update({model_adasyn: auc})\n",
    "        \n",
    "        print(auc, param, duration)\n",
    "\n",
    "    # append this model for to a list\n",
    "    model_clf_model.append(max(model_aucs, key=model_aucs.get))\n",
    "\n",
    "    # append this auc score for the model to a list\n",
    "    model_clf_aucs.append(model_aucs[max(model_aucs, key=model_aucs.get)])\n"
   ]
  },
  {
   "cell_type": "code",
   "execution_count": 45,
   "metadata": {},
   "outputs": [],
   "source": []
  },
  {
   "cell_type": "code",
   "execution_count": 46,
   "metadata": {},
   "outputs": [],
   "source": [
    "xgb_param = {'colsample_bytree': 0.5, 'gamma': 8, 'learning_rate': 0.1, 'max_depth': 10, 'n_estimators': 400}\n",
    "XGBoost_adasyn = XGBClassifier(random_state = 101, **xgb_param, n_jobs = -1 )\n",
    "XGBoost_adasyn_clf = XGBoost_adasyn.fit(X_adasyn_train, y_adasyn_train)"
   ]
  },
  {
   "cell_type": "code",
   "execution_count": 47,
   "metadata": {},
   "outputs": [
    {
     "name": "stdout",
     "output_type": "stream",
     "text": [
      "              precision    recall  f1-score   support\n",
      "\n",
      "           0       0.75      0.97      0.85     27868\n",
      "           1       0.54      0.11      0.18      9863\n",
      "\n",
      "    accuracy                           0.74     37731\n",
      "   macro avg       0.65      0.54      0.52     37731\n",
      "weighted avg       0.70      0.74      0.67     37731\n",
      "\n",
      "ROC AUC score =  0.6755186393769756\n"
     ]
    },
    {
     "data": {
      "text/plain": [
       "0.6755186393769756"
      ]
     },
     "execution_count": 47,
     "metadata": {},
     "output_type": "execute_result"
    },
    {
     "data": {
      "image/png": "[encoded data removed]",
      "text/plain": [
       "<Figure size 432x288 with 1 Axes>"
      ]
     },
     "metadata": {
      "needs_background": "light"
     },
     "output_type": "display_data"
    }
   ],
   "source": [
    "print(classification_report(y_val, XGBoost_adasyn_clf.predict(X_val.values)))\n",
    "plot_ROC(X_val.values, y_val, XGBoost_adasyn_clf)"
   ]
  },
  {
   "cell_type": "markdown",
   "metadata": {},
   "source": [
    "#### Using LightGBM on adasyn"
   ]
  },
  {
   "cell_type": "code",
   "execution_count": 48,
   "metadata": {},
   "outputs": [],
   "source": [
    "import lightgbm as lgb"
   ]
  },
  {
   "cell_type": "code",
   "execution_count": 27,
   "metadata": {},
   "outputs": [],
   "source": [
    "parameters = lgb_params = {'max_depth': [-1, 7, 8, 9, 10],\n",
    "                  'num_leaves': [31, 40, 50, 60],\n",
    "                  'min_child_sample': [20, 50, 100, 200, 300, 400, 500, 600],\n",
    "                  'learning_rate' : [0.001, 0.01, 0.1, 1],\n",
    "                  'n_estimators': [100, 200, 300, 400, 500, 600, 700, 800],\n",
    "                  'colsample_bytree': [0.3, 0.4, 0.5, 0.6, 0.7, 0.8, 0.9, 1],\n",
    "                  'subsample': [0.3, 0.4, 0.5, 0.6, 0.7, 0.8, 0.9, 1]\n",
    "                  }"
   ]
  },
  {
   "cell_type": "code",
   "execution_count": 28,
   "metadata": {
    "collapsed": true,
    "jupyter": {
     "outputs_hidden": true
    }
   },
   "outputs": [
    {
     "name": "stdout",
     "output_type": "stream",
     "text": [
      "0.629321662410644 {'colsample_bytree': 0.3, 'learning_rate': 0.01, 'max_depth': 10, 'min_child_sample': 600, 'n_estimators': 500, 'num_leaves': 50, 'subsample': 0.5} 0:00:06.414204\n",
      "0.6384629324596554 {'colsample_bytree': 0.8, 'learning_rate': 0.001, 'max_depth': -1, 'min_child_sample': 20, 'n_estimators': 200, 'num_leaves': 50, 'subsample': 1} 0:00:04.816837\n",
      "0.6344230410358778 {'colsample_bytree': 0.3, 'learning_rate': 1, 'max_depth': 8, 'min_child_sample': 200, 'n_estimators': 600, 'num_leaves': 40, 'subsample': 0.7} 0:00:05.061161\n",
      "0.6397641517038546 {'colsample_bytree': 0.9, 'learning_rate': 0.001, 'max_depth': -1, 'min_child_sample': 300, 'n_estimators': 300, 'num_leaves': 50, 'subsample': 0.9} 0:00:07.666795\n",
      "0.6368261185127662 {'colsample_bytree': 0.8, 'learning_rate': 0.001, 'max_depth': 9, 'min_child_sample': 400, 'n_estimators': 600, 'num_leaves': 50, 'subsample': 0.5} 0:00:13.032060\n",
      "0.6325047669432425 {'colsample_bytree': 0.4, 'learning_rate': 0.1, 'max_depth': 10, 'min_child_sample': 300, 'n_estimators': 100, 'num_leaves': 31, 'subsample': 0.7} 0:00:01.938801\n",
      "0.6339230775037827 {'colsample_bytree': 0.7, 'learning_rate': 1, 'max_depth': 7, 'min_child_sample': 20, 'n_estimators': 400, 'num_leaves': 40, 'subsample': 0.8} 0:00:05.286973\n",
      "0.6343939468013924 {'colsample_bytree': 0.9, 'learning_rate': 0.001, 'max_depth': 10, 'min_child_sample': 400, 'n_estimators': 100, 'num_leaves': 31, 'subsample': 0.4} 0:00:02.037813\n",
      "0.6163825886989895 {'colsample_bytree': 1, 'learning_rate': 1, 'max_depth': 10, 'min_child_sample': 200, 'n_estimators': 200, 'num_leaves': 60, 'subsample': 0.8} 0:00:04.512755\n",
      "0.6185010543607208 {'colsample_bytree': 0.4, 'learning_rate': 1, 'max_depth': 10, 'min_child_sample': 200, 'n_estimators': 300, 'num_leaves': 50, 'subsample': 0.4} 0:00:06.181784\n",
      "0.633291253067322 {'colsample_bytree': 0.5, 'learning_rate': 1, 'max_depth': 9, 'min_child_sample': 200, 'n_estimators': 500, 'num_leaves': 60, 'subsample': 0.4} 0:00:06.874632\n",
      "0.6338117036865382 {'colsample_bytree': 0.5, 'learning_rate': 1, 'max_depth': 9, 'min_child_sample': 400, 'n_estimators': 700, 'num_leaves': 50, 'subsample': 0.9} 0:00:06.101893\n",
      "0.632252655637432 {'colsample_bytree': 1, 'learning_rate': 1, 'max_depth': 7, 'min_child_sample': 400, 'n_estimators': 500, 'num_leaves': 31, 'subsample': 0.4} 0:00:04.730203\n",
      "0.6416093762792843 {'colsample_bytree': 0.8, 'learning_rate': 0.001, 'max_depth': -1, 'min_child_sample': 300, 'n_estimators': 700, 'num_leaves': 31, 'subsample': 0.5} 0:00:06.330274\n",
      "0.6389192694714079 {'colsample_bytree': 0.8, 'learning_rate': 0.01, 'max_depth': 7, 'min_child_sample': 500, 'n_estimators': 400, 'num_leaves': 31, 'subsample': 1} 0:00:06.790977\n",
      "0.6292987133135359 {'colsample_bytree': 0.9, 'learning_rate': 0.1, 'max_depth': 10, 'min_child_sample': 400, 'n_estimators': 100, 'num_leaves': 60, 'subsample': 0.9} 0:00:02.671026\n",
      "0.6327801239738702 {'colsample_bytree': 0.6, 'learning_rate': 0.001, 'max_depth': 7, 'min_child_sample': 300, 'n_estimators': 300, 'num_leaves': 31, 'subsample': 0.4} 0:00:05.034619\n",
      "0.6257853632646051 {'colsample_bytree': 0.9, 'learning_rate': 0.1, 'max_depth': -1, 'min_child_sample': 50, 'n_estimators': 300, 'num_leaves': 40, 'subsample': 0.8} 0:00:05.985637\n",
      "0.6289287963129848 {'colsample_bytree': 0.3, 'learning_rate': 0.001, 'max_depth': 10, 'min_child_sample': 100, 'n_estimators': 800, 'num_leaves': 60, 'subsample': 0.5} 0:00:07.762403\n",
      "0.634507041059351 {'colsample_bytree': 0.6, 'learning_rate': 0.001, 'max_depth': 7, 'min_child_sample': 200, 'n_estimators': 600, 'num_leaves': 31, 'subsample': 0.4} 0:00:09.747211\n",
      "0.6376198670719281 {'colsample_bytree': 0.8, 'learning_rate': 0.01, 'max_depth': 9, 'min_child_sample': 500, 'n_estimators': 100, 'num_leaves': 50, 'subsample': 0.9} 0:00:02.374158\n",
      "0.6311670204685429 {'colsample_bytree': 0.3, 'learning_rate': 1, 'max_depth': -1, 'min_child_sample': 50, 'n_estimators': 600, 'num_leaves': 31, 'subsample': 0.4} 0:00:04.818047\n",
      "0.6319141218485228 {'colsample_bytree': 1, 'learning_rate': 0.1, 'max_depth': 9, 'min_child_sample': 20, 'n_estimators': 100, 'num_leaves': 50, 'subsample': 0.3} 0:00:02.376566\n",
      "0.6377950405656437 {'colsample_bytree': 0.4, 'learning_rate': 0.1, 'max_depth': 7, 'min_child_sample': 20, 'n_estimators': 800, 'num_leaves': 40, 'subsample': 0.6} 0:00:05.534166\n",
      "0.6342463745160253 {'colsample_bytree': 0.8, 'learning_rate': 1, 'max_depth': -1, 'min_child_sample': 500, 'n_estimators': 700, 'num_leaves': 50, 'subsample': 0.4} 0:00:05.742583\n",
      "0.6285986694477361 {'colsample_bytree': 0.4, 'learning_rate': 1, 'max_depth': 9, 'min_child_sample': 500, 'n_estimators': 800, 'num_leaves': 40, 'subsample': 0.7} 0:00:05.215722\n",
      "0.6371492078856122 {'colsample_bytree': 0.5, 'learning_rate': 0.01, 'max_depth': 9, 'min_child_sample': 100, 'n_estimators': 300, 'num_leaves': 31, 'subsample': 0.7} 0:00:05.187085\n",
      "0.6316348567478253 {'colsample_bytree': 0.3, 'learning_rate': 0.001, 'max_depth': 7, 'min_child_sample': 200, 'n_estimators': 700, 'num_leaves': 50, 'subsample': 0.7} 0:00:06.288732\n",
      "0.6344230410358778 {'colsample_bytree': 0.3, 'learning_rate': 1, 'max_depth': 8, 'min_child_sample': 600, 'n_estimators': 400, 'num_leaves': 40, 'subsample': 1} 0:00:05.229249\n",
      "0.6386415295315157 {'colsample_bytree': 1, 'learning_rate': 0.001, 'max_depth': -1, 'min_child_sample': 100, 'n_estimators': 300, 'num_leaves': 40, 'subsample': 0.7} 0:00:06.868803\n",
      "0.6358033931372203 {'colsample_bytree': 0.4, 'learning_rate': 0.001, 'max_depth': 9, 'min_child_sample': 300, 'n_estimators': 800, 'num_leaves': 31, 'subsample': 0.7} 0:00:05.961180\n",
      "0.6384960163368305 {'colsample_bytree': 0.6, 'learning_rate': 0.001, 'max_depth': 10, 'min_child_sample': 500, 'n_estimators': 400, 'num_leaves': 50, 'subsample': 0.5} 0:00:07.903681\n",
      "0.6310061493742098 {'colsample_bytree': 0.8, 'learning_rate': 1, 'max_depth': 10, 'min_child_sample': 100, 'n_estimators': 700, 'num_leaves': 60, 'subsample': 1} 0:00:06.458189\n",
      "0.6341789312625252 {'colsample_bytree': 1, 'learning_rate': 0.1, 'max_depth': 7, 'min_child_sample': 300, 'n_estimators': 100, 'num_leaves': 40, 'subsample': 0.5} 0:00:01.990006\n",
      "0.633706257479684 {'colsample_bytree': 0.4, 'learning_rate': 0.01, 'max_depth': 9, 'min_child_sample': 200, 'n_estimators': 100, 'num_leaves': 60, 'subsample': 0.6} 0:00:02.367355\n",
      "0.6182263227201801 {'colsample_bytree': 0.6, 'learning_rate': 1, 'max_depth': 8, 'min_child_sample': 400, 'n_estimators': 300, 'num_leaves': 40, 'subsample': 0.9} 0:00:05.155737\n",
      "0.6369213162322647 {'colsample_bytree': 0.6, 'learning_rate': 0.001, 'max_depth': -1, 'min_child_sample': 100, 'n_estimators': 300, 'num_leaves': 40, 'subsample': 0.8} 0:00:06.712671\n",
      "0.6161057534736105 {'colsample_bytree': 0.4, 'learning_rate': 1, 'max_depth': -1, 'min_child_sample': 50, 'n_estimators': 200, 'num_leaves': 50, 'subsample': 0.4} 0:00:04.186697\n",
      "0.6328255154290829 {'colsample_bytree': 0.3, 'learning_rate': 0.1, 'max_depth': 7, 'min_child_sample': 400, 'n_estimators': 700, 'num_leaves': 60, 'subsample': 0.9} 0:00:07.150819\n",
      "0.6231382773621648 {'colsample_bytree': 1, 'learning_rate': 0.001, 'max_depth': 9, 'min_child_sample': 20, 'n_estimators': 200, 'num_leaves': 50, 'subsample': 0.6} 0:00:04.709526\n",
      "0.6406393888385509 {'colsample_bytree': 0.6, 'learning_rate': 0.1, 'max_depth': 9, 'min_child_sample': 500, 'n_estimators': 600, 'num_leaves': 31, 'subsample': 0.9} 0:00:05.580835\n",
      "0.6374779925104765 {'colsample_bytree': 0.9, 'learning_rate': 0.01, 'max_depth': 10, 'min_child_sample': 100, 'n_estimators': 100, 'num_leaves': 40, 'subsample': 0.9} 0:00:02.219916\n",
      "0.6394154732472878 {'colsample_bytree': 0.6, 'learning_rate': 0.001, 'max_depth': -1, 'min_child_sample': 300, 'n_estimators': 600, 'num_leaves': 40, 'subsample': 0.4} 0:00:07.976981\n",
      "0.637646588284739 {'colsample_bytree': 0.8, 'learning_rate': 0.01, 'max_depth': 7, 'min_child_sample': 300, 'n_estimators': 500, 'num_leaves': 40, 'subsample': 0.5} 0:00:09.014388\n",
      "0.6292932652512755 {'colsample_bytree': 0.9, 'learning_rate': 1, 'max_depth': 8, 'min_child_sample': 50, 'n_estimators': 600, 'num_leaves': 40, 'subsample': 0.8} 0:00:05.139353\n",
      "0.6379135729982723 {'colsample_bytree': 0.9, 'learning_rate': 0.001, 'max_depth': 10, 'min_child_sample': 20, 'n_estimators': 500, 'num_leaves': 31, 'subsample': 1} 0:00:09.254861\n",
      "0.6321963062602591 {'colsample_bytree': 0.4, 'learning_rate': 0.1, 'max_depth': 8, 'min_child_sample': 20, 'n_estimators': 100, 'num_leaves': 31, 'subsample': 0.4} 0:00:01.810304\n",
      "0.6353807901117057 {'colsample_bytree': 0.8, 'learning_rate': 0.001, 'max_depth': 8, 'min_child_sample': 100, 'n_estimators': 600, 'num_leaves': 50, 'subsample': 0.6} 0:00:12.650961\n",
      "0.641293247770016 {'colsample_bytree': 0.8, 'learning_rate': 0.1, 'max_depth': 8, 'min_child_sample': 400, 'n_estimators': 600, 'num_leaves': 50, 'subsample': 1} 0:00:06.816759\n",
      "0.6380154275379466 {'colsample_bytree': 0.5, 'learning_rate': 0.01, 'max_depth': 9, 'min_child_sample': 50, 'n_estimators': 700, 'num_leaves': 31, 'subsample': 0.8} 0:00:11.517570\n",
      "0.6258422737625282 {'colsample_bytree': 0.4, 'learning_rate': 0.1, 'max_depth': 8, 'min_child_sample': 50, 'n_estimators': 200, 'num_leaves': 60, 'subsample': 0.3} 0:00:04.562295\n",
      "0.6301641864528019 {'colsample_bytree': 0.3, 'learning_rate': 0.1, 'max_depth': -1, 'min_child_sample': 300, 'n_estimators': 700, 'num_leaves': 50, 'subsample': 0.5} 0:00:07.647727\n",
      "0.6355137485385955 {'colsample_bytree': 0.6, 'learning_rate': 1, 'max_depth': -1, 'min_child_sample': 500, 'n_estimators': 500, 'num_leaves': 31, 'subsample': 0.8} 0:00:04.753958\n",
      "0.6332863142159626 {'colsample_bytree': 0.9, 'learning_rate': 1, 'max_depth': 8, 'min_child_sample': 50, 'n_estimators': 800, 'num_leaves': 31, 'subsample': 0.9} 0:00:04.669261\n",
      "0.6370990852184366 {'colsample_bytree': 0.5, 'learning_rate': 1, 'max_depth': 7, 'min_child_sample': 400, 'n_estimators': 700, 'num_leaves': 50, 'subsample': 0.3} 0:00:05.835744\n",
      "0.6326642933252936 {'colsample_bytree': 0.5, 'learning_rate': 0.001, 'max_depth': -1, 'min_child_sample': 50, 'n_estimators': 200, 'num_leaves': 60, 'subsample': 1} 0:00:05.569119\n",
      "0.6301290682039207 {'colsample_bytree': 0.3, 'learning_rate': 0.001, 'max_depth': -1, 'min_child_sample': 20, 'n_estimators': 500, 'num_leaves': 31, 'subsample': 0.5} 0:00:06.471303\n",
      "0.6346896178863107 {'colsample_bytree': 0.6, 'learning_rate': 0.001, 'max_depth': 7, 'min_child_sample': 500, 'n_estimators': 600, 'num_leaves': 40, 'subsample': 0.7} 0:00:10.819003\n",
      "0.6234765664332139 {'colsample_bytree': 1, 'learning_rate': 0.1, 'max_depth': 10, 'min_child_sample': 500, 'n_estimators': 300, 'num_leaves': 50, 'subsample': 1} 0:00:06.337561\n",
      "0.6413626339350119 {'colsample_bytree': 0.7, 'learning_rate': 0.01, 'max_depth': 8, 'min_child_sample': 300, 'n_estimators': 700, 'num_leaves': 40, 'subsample': 0.9} 0:00:10.256459\n",
      "0.6298123143045653 {'colsample_bytree': 0.9, 'learning_rate': 0.1, 'max_depth': -1, 'min_child_sample': 200, 'n_estimators': 100, 'num_leaves': 40, 'subsample': 0.9} 0:00:02.349646\n",
      "0.6301641864528019 {'colsample_bytree': 0.3, 'learning_rate': 0.1, 'max_depth': -1, 'min_child_sample': 500, 'n_estimators': 800, 'num_leaves': 50, 'subsample': 0.3} 0:00:07.824302\n",
      "0.6171288471618954 {'colsample_bytree': 0.7, 'learning_rate': 1, 'max_depth': -1, 'min_child_sample': 500, 'n_estimators': 100, 'num_leaves': 60, 'subsample': 0.5} 0:00:02.387168\n",
      "0.6141298421451646 {'colsample_bytree': 0.4, 'learning_rate': 1, 'max_depth': 8, 'min_child_sample': 300, 'n_estimators': 100, 'num_leaves': 60, 'subsample': 0.7} 0:00:02.333670\n",
      "0.6349135718068176 {'colsample_bytree': 0.8, 'learning_rate': 1, 'max_depth': -1, 'min_child_sample': 20, 'n_estimators': 700, 'num_leaves': 31, 'subsample': 0.9} 0:00:04.701379\n",
      "0.6303410779153339 {'colsample_bytree': 0.3, 'learning_rate': 0.01, 'max_depth': 8, 'min_child_sample': 500, 'n_estimators': 400, 'num_leaves': 40, 'subsample': 0.5} 0:00:06.857824\n",
      "0.6349968302610176 {'colsample_bytree': 0.5, 'learning_rate': 0.01, 'max_depth': -1, 'min_child_sample': 50, 'n_estimators': 300, 'num_leaves': 60, 'subsample': 0.6} 0:00:08.358568\n",
      "0.6345773962081971 {'colsample_bytree': 0.4, 'learning_rate': 0.1, 'max_depth': 10, 'min_child_sample': 500, 'n_estimators': 600, 'num_leaves': 60, 'subsample': 0.3} 0:00:08.502589\n",
      "0.6387814389343931 {'colsample_bytree': 1, 'learning_rate': 0.1, 'max_depth': 8, 'min_child_sample': 300, 'n_estimators': 600, 'num_leaves': 31, 'subsample': 0.3} 0:00:05.538905\n",
      "0.6303139809740911 {'colsample_bytree': 1, 'learning_rate': 1, 'max_depth': -1, 'min_child_sample': 100, 'n_estimators': 700, 'num_leaves': 31, 'subsample': 0.5} 0:00:04.631658\n",
      "0.6404167178328866 {'colsample_bytree': 0.8, 'learning_rate': 0.1, 'max_depth': 8, 'min_child_sample': 50, 'n_estimators': 400, 'num_leaves': 40, 'subsample': 0.3} 0:00:06.019311\n",
      "0.640746496160577 {'colsample_bytree': 0.6, 'learning_rate': 0.01, 'max_depth': 8, 'min_child_sample': 50, 'n_estimators': 600, 'num_leaves': 31, 'subsample': 0.7} 0:00:09.023971\n",
      "0.6414625925292442 {'colsample_bytree': 0.5, 'learning_rate': 0.1, 'max_depth': 8, 'min_child_sample': 400, 'n_estimators': 500, 'num_leaves': 31, 'subsample': 0.8} 0:00:05.451647\n",
      "0.6327901598780343 {'colsample_bytree': 0.4, 'learning_rate': 0.01, 'max_depth': 10, 'min_child_sample': 600, 'n_estimators': 100, 'num_leaves': 60, 'subsample': 0.3} 0:00:02.409115\n",
      "0.6325047669432425 {'colsample_bytree': 0.4, 'learning_rate': 0.1, 'max_depth': 10, 'min_child_sample': 100, 'n_estimators': 100, 'num_leaves': 31, 'subsample': 0.5} 0:00:01.905517\n",
      "0.6353322469870819 {'colsample_bytree': 0.6, 'learning_rate': 0.001, 'max_depth': 8, 'min_child_sample': 600, 'n_estimators': 300, 'num_leaves': 50, 'subsample': 0.7} 0:00:06.364399\n",
      "0.6273984618261372 {'colsample_bytree': 0.3, 'learning_rate': 0.01, 'max_depth': -1, 'min_child_sample': 200, 'n_estimators': 100, 'num_leaves': 50, 'subsample': 0.3} 0:00:02.462843\n",
      "0.6405011850450019 {'colsample_bytree': 1, 'learning_rate': 0.1, 'max_depth': 10, 'min_child_sample': 500, 'n_estimators': 800, 'num_leaves': 50, 'subsample': 0.8} 0:00:06.579072\n",
      "0.6336859187064177 {'colsample_bytree': 0.9, 'learning_rate': 0.001, 'max_depth': 8, 'min_child_sample': 20, 'n_estimators': 500, 'num_leaves': 40, 'subsample': 0.7} 0:00:09.731248\n",
      "0.6425626512204972 {'colsample_bytree': 0.7, 'learning_rate': 0.01, 'max_depth': 7, 'min_child_sample': 100, 'n_estimators': 800, 'num_leaves': 31, 'subsample': 0.5} 0:00:08.484517\n",
      "0.6407842692274563 {'colsample_bytree': 0.6, 'learning_rate': 0.1, 'max_depth': 7, 'min_child_sample': 200, 'n_estimators': 400, 'num_leaves': 31, 'subsample': 0.3} 0:00:05.434406\n",
      "0.6294058305231525 {'colsample_bytree': 0.7, 'learning_rate': 1, 'max_depth': 10, 'min_child_sample': 20, 'n_estimators': 400, 'num_leaves': 50, 'subsample': 0.6} 0:00:05.874013\n",
      "0.6277927640962888 {'colsample_bytree': 0.8, 'learning_rate': 0.1, 'max_depth': 7, 'min_child_sample': 300, 'n_estimators': 200, 'num_leaves': 50, 'subsample': 0.3} 0:00:04.158171\n",
      "0.6401807603777441 {'colsample_bytree': 1, 'learning_rate': 0.1, 'max_depth': 9, 'min_child_sample': 100, 'n_estimators': 500, 'num_leaves': 60, 'subsample': 0.9} 0:00:07.362361\n",
      "0.6397736264872684 {'colsample_bytree': 0.9, 'learning_rate': 0.01, 'max_depth': -1, 'min_child_sample': 600, 'n_estimators': 500, 'num_leaves': 40, 'subsample': 0.8} 0:00:07.556679\n",
      "0.6212308598436891 {'colsample_bytree': 0.9, 'learning_rate': 1, 'max_depth': 9, 'min_child_sample': 400, 'n_estimators': 200, 'num_leaves': 40, 'subsample': 0.6} 0:00:03.587356\n",
      "0.6333808346355247 {'colsample_bytree': 0.7, 'learning_rate': 0.001, 'max_depth': 8, 'min_child_sample': 20, 'n_estimators': 300, 'num_leaves': 31, 'subsample': 0.7} 0:00:05.342415\n",
      "0.6357235384859843 {'colsample_bytree': 0.5, 'learning_rate': 0.001, 'max_depth': -1, 'min_child_sample': 50, 'n_estimators': 500, 'num_leaves': 31, 'subsample': 0.5} 0:00:07.121405\n",
      "0.6336625839932875 {'colsample_bytree': 0.7, 'learning_rate': 0.001, 'max_depth': 7, 'min_child_sample': 600, 'n_estimators': 500, 'num_leaves': 31, 'subsample': 0.5} 0:00:08.368487\n",
      "0.633471864735708 {'colsample_bytree': 0.3, 'learning_rate': 1, 'max_depth': 8, 'min_child_sample': 50, 'n_estimators': 600, 'num_leaves': 31, 'subsample': 0.6} 0:00:04.649031\n",
      "0.6385982218859606 {'colsample_bytree': 0.5, 'learning_rate': 0.01, 'max_depth': 10, 'min_child_sample': 400, 'n_estimators': 700, 'num_leaves': 40, 'subsample': 0.4} 0:00:07.153544\n",
      "0.6350426691296918 {'colsample_bytree': 0.5, 'learning_rate': 0.001, 'max_depth': 8, 'min_child_sample': 100, 'n_estimators': 100, 'num_leaves': 60, 'subsample': 0.6} 0:00:02.367210\n",
      "0.6348607152209214 {'colsample_bytree': 0.4, 'learning_rate': 0.01, 'max_depth': 7, 'min_child_sample': 300, 'n_estimators': 300, 'num_leaves': 40, 'subsample': 0.4} 0:00:05.204290\n",
      "0.6401982020870498 {'colsample_bytree': 0.7, 'learning_rate': 0.01, 'max_depth': 9, 'min_child_sample': 400, 'n_estimators': 800, 'num_leaves': 31, 'subsample': 1} 0:00:09.767811\n",
      "0.6313328576051092 {'colsample_bytree': 0.3, 'learning_rate': 0.1, 'max_depth': 9, 'min_child_sample': 400, 'n_estimators': 800, 'num_leaves': 31, 'subsample': 0.5} 0:00:05.818974\n",
      "0.635166355468769 {'colsample_bytree': 0.5, 'learning_rate': 1, 'max_depth': 8, 'min_child_sample': 300, 'n_estimators': 800, 'num_leaves': 50, 'subsample': 0.3} 0:00:05.858400\n",
      "0.6169506851440087 {'colsample_bytree': 0.4, 'learning_rate': 1, 'max_depth': 7, 'min_child_sample': 20, 'n_estimators': 300, 'num_leaves': 40, 'subsample': 0.3} 0:00:04.998713\n",
      "0.6295813748015048 {'colsample_bytree': 0.9, 'learning_rate': 0.1, 'max_depth': -1, 'min_child_sample': 200, 'n_estimators': 100, 'num_leaves': 31, 'subsample': 0.9} 0:00:02.128308\n",
      "0.6417592795640668 {'colsample_bytree': 0.9, 'learning_rate': 0.1, 'max_depth': -1, 'min_child_sample': 50, 'n_estimators': 400, 'num_leaves': 40, 'subsample': 0.7} 0:00:06.104803\n",
      "0.6362468243717216 {'colsample_bytree': 1, 'learning_rate': 0.01, 'max_depth': 9, 'min_child_sample': 200, 'n_estimators': 400, 'num_leaves': 60, 'subsample': 0.4} 0:00:09.577298\n",
      "0.6364520156657143 {'colsample_bytree': 0.3, 'learning_rate': 1, 'max_depth': 8, 'min_child_sample': 20, 'n_estimators': 400, 'num_leaves': 50, 'subsample': 1} 0:00:05.344208\n",
      "0.643958320786383 {'colsample_bytree': 0.8, 'learning_rate': 0.001, 'max_depth': -1, 'min_child_sample': 200, 'n_estimators': 100, 'num_leaves': 31, 'subsample': 0.8} 0:00:01.964170\n",
      "0.6304876429721898 {'colsample_bytree': 0.9, 'learning_rate': 0.001, 'max_depth': 7, 'min_child_sample': 200, 'n_estimators': 700, 'num_leaves': 31, 'subsample': 0.9} 0:00:11.174475\n",
      "0.643139720663104 {'colsample_bytree': 0.5, 'learning_rate': 0.001, 'max_depth': 8, 'min_child_sample': 200, 'n_estimators': 200, 'num_leaves': 40, 'subsample': 0.3} 0:00:03.746834\n",
      "0.6480389920153433 {'colsample_bytree': 0.7, 'learning_rate': 0.01, 'max_depth': 9, 'min_child_sample': 100, 'n_estimators': 800, 'num_leaves': 50, 'subsample': 0.4} 0:00:09.906105\n",
      "0.6468469674552628 {'colsample_bytree': 0.6, 'learning_rate': 0.01, 'max_depth': 9, 'min_child_sample': 300, 'n_estimators': 200, 'num_leaves': 60, 'subsample': 0.8} 0:00:04.806840\n",
      "0.6476893857695482 {'colsample_bytree': 0.5, 'learning_rate': 0.01, 'max_depth': 7, 'min_child_sample': 50, 'n_estimators': 600, 'num_leaves': 31, 'subsample': 0.5} 0:00:09.019686\n",
      "0.6444708494910859 {'colsample_bytree': 0.4, 'learning_rate': 0.001, 'max_depth': -1, 'min_child_sample': 500, 'n_estimators': 400, 'num_leaves': 50, 'subsample': 0.8} 0:00:08.059392\n",
      "0.6311055660595574 {'colsample_bytree': 0.4, 'learning_rate': 1, 'max_depth': 10, 'min_child_sample': 100, 'n_estimators': 300, 'num_leaves': 31, 'subsample': 0.6} 0:00:04.785979\n",
      "0.6456904229511435 {'colsample_bytree': 0.6, 'learning_rate': 0.001, 'max_depth': -1, 'min_child_sample': 50, 'n_estimators': 300, 'num_leaves': 31, 'subsample': 1} 0:00:06.077153\n",
      "0.6451255629563195 {'colsample_bytree': 0.4, 'learning_rate': 0.1, 'max_depth': 10, 'min_child_sample': 100, 'n_estimators': 400, 'num_leaves': 60, 'subsample': 0.5} 0:00:08.065834\n",
      "0.636653244025748 {'colsample_bytree': 0.8, 'learning_rate': 0.001, 'max_depth': 8, 'min_child_sample': 50, 'n_estimators': 400, 'num_leaves': 50, 'subsample': 0.3} 0:00:08.624800\n",
      "0.6444039934062623 {'colsample_bytree': 0.6, 'learning_rate': 0.001, 'max_depth': 9, 'min_child_sample': 300, 'n_estimators': 600, 'num_leaves': 40, 'subsample': 0.5} 0:00:12.063681\n",
      "0.647887306184848 {'colsample_bytree': 1, 'learning_rate': 0.01, 'max_depth': 10, 'min_child_sample': 50, 'n_estimators': 500, 'num_leaves': 60, 'subsample': 0.6} 0:00:10.460303\n",
      "0.6396110435512433 {'colsample_bytree': 0.8, 'learning_rate': 1, 'max_depth': 8, 'min_child_sample': 300, 'n_estimators': 700, 'num_leaves': 40, 'subsample': 0.3} 0:00:05.313193\n",
      "0.6274711805822358 {'colsample_bytree': 0.4, 'learning_rate': 1, 'max_depth': 8, 'min_child_sample': 50, 'n_estimators': 100, 'num_leaves': 31, 'subsample': 0.3} 0:00:01.812454\n",
      "0.6383504174586697 {'colsample_bytree': 0.4, 'learning_rate': 1, 'max_depth': 9, 'min_child_sample': 400, 'n_estimators': 800, 'num_leaves': 60, 'subsample': 0.5} 0:00:06.661656\n",
      "0.6298016721487568 {'colsample_bytree': 0.4, 'learning_rate': 1, 'max_depth': 7, 'min_child_sample': 20, 'n_estimators': 200, 'num_leaves': 31, 'subsample': 0.5} 0:00:03.190405\n",
      "0.6326433623196317 {'colsample_bytree': 0.9, 'learning_rate': 1, 'max_depth': 7, 'min_child_sample': 300, 'n_estimators': 300, 'num_leaves': 31, 'subsample': 0.8} 0:00:04.652685\n",
      "0.6504851429768872 {'colsample_bytree': 0.5, 'learning_rate': 0.1, 'max_depth': 7, 'min_child_sample': 500, 'n_estimators': 800, 'num_leaves': 31, 'subsample': 0.3} 0:00:05.462267\n",
      "0.6471530166230898 {'colsample_bytree': 0.6, 'learning_rate': 0.01, 'max_depth': 9, 'min_child_sample': 400, 'n_estimators': 600, 'num_leaves': 40, 'subsample': 0.4} 0:00:08.887500\n",
      "0.6441842598397016 {'colsample_bytree': 0.3, 'learning_rate': 0.001, 'max_depth': 10, 'min_child_sample': 50, 'n_estimators': 700, 'num_leaves': 60, 'subsample': 0.8} 0:00:07.568672\n",
      "0.6462090186934972 {'colsample_bytree': 0.5, 'learning_rate': 0.001, 'max_depth': 9, 'min_child_sample': 600, 'n_estimators': 600, 'num_leaves': 50, 'subsample': 0.7} 0:00:07.260922\n",
      "0.6470457432882593 {'colsample_bytree': 0.8, 'learning_rate': 0.1, 'max_depth': 10, 'min_child_sample': 600, 'n_estimators': 500, 'num_leaves': 40, 'subsample': 0.3} 0:00:06.162923\n",
      "0.635600247092099 {'colsample_bytree': 0.5, 'learning_rate': 0.1, 'max_depth': 8, 'min_child_sample': 20, 'n_estimators': 300, 'num_leaves': 60, 'subsample': 0.7} 0:00:06.986700\n",
      "0.6469237078174002 {'colsample_bytree': 0.4, 'learning_rate': 0.001, 'max_depth': 7, 'min_child_sample': 400, 'n_estimators': 800, 'num_leaves': 40, 'subsample': 0.8} 0:00:05.643306\n",
      "0.6407021065723868 {'colsample_bytree': 0.9, 'learning_rate': 0.001, 'max_depth': 8, 'min_child_sample': 300, 'n_estimators': 600, 'num_leaves': 40, 'subsample': 0.6} 0:00:11.825697\n",
      "0.649534195396587 {'colsample_bytree': 0.9, 'learning_rate': 0.01, 'max_depth': 8, 'min_child_sample': 100, 'n_estimators': 800, 'num_leaves': 40, 'subsample': 0.6} 0:00:09.449094\n",
      "0.6494880844270565 {'colsample_bytree': 0.6, 'learning_rate': 0.1, 'max_depth': -1, 'min_child_sample': 20, 'n_estimators': 400, 'num_leaves': 50, 'subsample': 0.6} 0:00:07.375545\n",
      "0.6280982685060224 {'colsample_bytree': 1, 'learning_rate': 1, 'max_depth': -1, 'min_child_sample': 20, 'n_estimators': 300, 'num_leaves': 31, 'subsample': 0.5} 0:00:04.651433\n",
      "0.6314390701797534 {'colsample_bytree': 0.9, 'learning_rate': 1, 'max_depth': 8, 'min_child_sample': 200, 'n_estimators': 200, 'num_leaves': 50, 'subsample': 0.9} 0:00:03.989936\n",
      "0.6481119077209012 {'colsample_bytree': 1, 'learning_rate': 0.1, 'max_depth': 9, 'min_child_sample': 100, 'n_estimators': 800, 'num_leaves': 40, 'subsample': 0.4} 0:00:06.176382\n",
      "0.6416341113480899 {'colsample_bytree': 0.5, 'learning_rate': 0.001, 'max_depth': 7, 'min_child_sample': 600, 'n_estimators': 600, 'num_leaves': 31, 'subsample': 0.5} 0:00:05.358457\n",
      "0.6465043405278411 {'colsample_bytree': 0.6, 'learning_rate': 0.01, 'max_depth': 7, 'min_child_sample': 500, 'n_estimators': 300, 'num_leaves': 60, 'subsample': 0.9} 0:00:06.462965\n",
      "0.6431469002382215 {'colsample_bytree': 0.3, 'learning_rate': 0.001, 'max_depth': -1, 'min_child_sample': 300, 'n_estimators': 800, 'num_leaves': 40, 'subsample': 0.9} 0:00:06.962579\n",
      "0.6287198530778078 {'colsample_bytree': 0.6, 'learning_rate': 1, 'max_depth': 9, 'min_child_sample': 600, 'n_estimators': 200, 'num_leaves': 60, 'subsample': 0.9} 0:00:04.498037\n",
      "0.6463557005776988 {'colsample_bytree': 0.6, 'learning_rate': 0.001, 'max_depth': 10, 'min_child_sample': 100, 'n_estimators': 800, 'num_leaves': 60, 'subsample': 0.9} 0:00:19.441937\n",
      "0.6481215917414712 {'colsample_bytree': 0.9, 'learning_rate': 0.01, 'max_depth': 8, 'min_child_sample': 50, 'n_estimators': 500, 'num_leaves': 60, 'subsample': 0.9} 0:00:10.216417\n",
      "0.6291219167013038 {'colsample_bytree': 0.9, 'learning_rate': 0.001, 'max_depth': 7, 'min_child_sample': 100, 'n_estimators': 400, 'num_leaves': 40, 'subsample': 0.4} 0:00:07.516361\n",
      "0.6273343780307374 {'colsample_bytree': 1, 'learning_rate': 0.001, 'max_depth': 8, 'min_child_sample': 100, 'n_estimators': 300, 'num_leaves': 60, 'subsample': 0.8} 0:00:07.095269\n",
      "0.6264810148200869 {'colsample_bytree': 0.3, 'learning_rate': 1, 'max_depth': 10, 'min_child_sample': 400, 'n_estimators': 300, 'num_leaves': 50, 'subsample': 0.3} 0:00:06.052280\n",
      "0.6481253990919122 {'colsample_bytree': 1, 'learning_rate': 0.01, 'max_depth': 9, 'min_child_sample': 400, 'n_estimators': 500, 'num_leaves': 31, 'subsample': 0.5} 0:00:08.819916\n",
      "0.6310110745440649 {'colsample_bytree': 0.8, 'learning_rate': 1, 'max_depth': -1, 'min_child_sample': 300, 'n_estimators': 100, 'num_leaves': 50, 'subsample': 0.4} 0:00:02.258278\n",
      "0.6480774709778532 {'colsample_bytree': 0.9, 'learning_rate': 0.01, 'max_depth': 8, 'min_child_sample': 500, 'n_estimators': 600, 'num_leaves': 50, 'subsample': 0.7} 0:00:09.485342\n",
      "0.6321809868039211 {'colsample_bytree': 0.9, 'learning_rate': 1, 'max_depth': 9, 'min_child_sample': 500, 'n_estimators': 200, 'num_leaves': 40, 'subsample': 0.9} 0:00:03.543035\n",
      "0.6381060325341557 {'colsample_bytree': 0.3, 'learning_rate': 0.1, 'max_depth': 7, 'min_child_sample': 600, 'n_estimators': 200, 'num_leaves': 40, 'subsample': 0.6} 0:00:03.619232\n",
      "0.6464575793419693 {'colsample_bytree': 0.8, 'learning_rate': 0.01, 'max_depth': 8, 'min_child_sample': 500, 'n_estimators': 400, 'num_leaves': 31, 'subsample': 0.8} 0:00:07.106102\n",
      "0.6488565364641818 {'colsample_bytree': 0.9, 'learning_rate': 0.1, 'max_depth': 10, 'min_child_sample': 100, 'n_estimators': 800, 'num_leaves': 50, 'subsample': 0.3} 0:00:06.864884\n",
      "0.6463681436911857 {'colsample_bytree': 0.5, 'learning_rate': 0.01, 'max_depth': 7, 'min_child_sample': 200, 'n_estimators': 200, 'num_leaves': 60, 'subsample': 0.6} 0:00:04.422581\n",
      "0.6273363707089553 {'colsample_bytree': 0.6, 'learning_rate': 1, 'max_depth': 7, 'min_child_sample': 20, 'n_estimators': 100, 'num_leaves': 31, 'subsample': 0.9} 0:00:01.838316\n",
      "0.6434437425404362 {'colsample_bytree': 0.5, 'learning_rate': 0.001, 'max_depth': 8, 'min_child_sample': 500, 'n_estimators': 200, 'num_leaves': 60, 'subsample': 0.6} 0:00:04.655558\n",
      "0.6484421088409743 {'colsample_bytree': 0.5, 'learning_rate': 1, 'max_depth': 7, 'min_child_sample': 600, 'n_estimators': 800, 'num_leaves': 50, 'subsample': 0.9} 0:00:05.801083\n",
      "0.6405763008356689 {'colsample_bytree': 0.3, 'learning_rate': 1, 'max_depth': 9, 'min_child_sample': 300, 'n_estimators': 500, 'num_leaves': 50, 'subsample': 1} 0:00:05.980947\n",
      "0.6489044991905177 {'colsample_bytree': 0.8, 'learning_rate': 0.1, 'max_depth': 9, 'min_child_sample': 100, 'n_estimators': 600, 'num_leaves': 40, 'subsample': 0.4} 0:00:06.289259\n",
      "0.6507435705965348 {'colsample_bytree': 0.5, 'learning_rate': 0.1, 'max_depth': 8, 'min_child_sample': 500, 'n_estimators': 400, 'num_leaves': 50, 'subsample': 1} 0:00:07.027194\n",
      "0.6426457070541501 {'colsample_bytree': 0.4, 'learning_rate': 0.001, 'max_depth': 10, 'min_child_sample': 200, 'n_estimators': 200, 'num_leaves': 60, 'subsample': 0.7} 0:00:04.850278\n",
      "0.6432123644150589 {'colsample_bytree': 1, 'learning_rate': 0.001, 'max_depth': 9, 'min_child_sample': 300, 'n_estimators': 800, 'num_leaves': 31, 'subsample': 0.4} 0:00:14.555355\n",
      "0.6494074452391753 {'colsample_bytree': 0.6, 'learning_rate': 0.1, 'max_depth': -1, 'min_child_sample': 500, 'n_estimators': 500, 'num_leaves': 60, 'subsample': 0.8} 0:00:08.200494\n",
      "0.64066400340031 {'colsample_bytree': 0.3, 'learning_rate': 0.001, 'max_depth': 9, 'min_child_sample': 200, 'n_estimators': 200, 'num_leaves': 60, 'subsample': 1} 0:00:04.605609\n",
      "0.6485039313118379 {'colsample_bytree': 0.6, 'learning_rate': 0.01, 'max_depth': 7, 'min_child_sample': 300, 'n_estimators': 800, 'num_leaves': 40, 'subsample': 0.4} 0:00:09.566597\n",
      "0.6418027052757713 {'colsample_bytree': 0.8, 'learning_rate': 1, 'max_depth': 7, 'min_child_sample': 400, 'n_estimators': 800, 'num_leaves': 40, 'subsample': 0.3} 0:00:05.344111\n",
      "0.6437329503633251 {'colsample_bytree': 0.5, 'learning_rate': 0.001, 'max_depth': -1, 'min_child_sample': 200, 'n_estimators': 200, 'num_leaves': 40, 'subsample': 0.4} 0:00:04.541216\n",
      "0.6483907466946017 {'colsample_bytree': 1, 'learning_rate': 0.01, 'max_depth': 9, 'min_child_sample': 500, 'n_estimators': 700, 'num_leaves': 50, 'subsample': 0.3} 0:00:10.321492\n",
      "0.6299569106822287 {'colsample_bytree': 0.9, 'learning_rate': 0.001, 'max_depth': 8, 'min_child_sample': 400, 'n_estimators': 200, 'num_leaves': 40, 'subsample': 0.3} 0:00:04.025721\n",
      "0.645420019483745 {'colsample_bytree': 0.9, 'learning_rate': 0.01, 'max_depth': 10, 'min_child_sample': 500, 'n_estimators': 100, 'num_leaves': 40, 'subsample': 0.8} 0:00:02.260911\n",
      "0.643075821455636 {'colsample_bytree': 0.6, 'learning_rate': 0.01, 'max_depth': 8, 'min_child_sample': 100, 'n_estimators': 100, 'num_leaves': 40, 'subsample': 0.4} 0:00:02.085741\n",
      "0.6462357072311672 {'colsample_bytree': 0.7, 'learning_rate': 0.01, 'max_depth': -1, 'min_child_sample': 20, 'n_estimators': 100, 'num_leaves': 40, 'subsample': 0.8} 0:00:02.466131\n",
      "0.6451583976454158 {'colsample_bytree': 0.4, 'learning_rate': 0.1, 'max_depth': -1, 'min_child_sample': 400, 'n_estimators': 600, 'num_leaves': 60, 'subsample': 0.6} 0:00:08.511573\n",
      "0.6373341515675554 {'colsample_bytree': 1, 'learning_rate': 0.001, 'max_depth': -1, 'min_child_sample': 300, 'n_estimators': 100, 'num_leaves': 40, 'subsample': 1} 0:00:02.508097\n",
      "0.6461412305495076 {'colsample_bytree': 0.6, 'learning_rate': 0.001, 'max_depth': 10, 'min_child_sample': 500, 'n_estimators': 700, 'num_leaves': 50, 'subsample': 0.4} 0:00:15.559469\n",
      "0.647233013011546 {'colsample_bytree': 0.8, 'learning_rate': 0.01, 'max_depth': 8, 'min_child_sample': 200, 'n_estimators': 300, 'num_leaves': 40, 'subsample': 1} 0:00:05.985347\n",
      "0.6417130026159958 {'colsample_bytree': 0.3, 'learning_rate': 0.1, 'max_depth': 10, 'min_child_sample': 500, 'n_estimators': 500, 'num_leaves': 40, 'subsample': 0.7} 0:00:07.159165\n",
      "0.646568378184416 {'colsample_bytree': 0.4, 'learning_rate': 0.1, 'max_depth': 8, 'min_child_sample': 300, 'n_estimators': 800, 'num_leaves': 40, 'subsample': 1} 0:00:06.235106\n",
      "0.641034112475461 {'colsample_bytree': 0.6, 'learning_rate': 0.001, 'max_depth': 7, 'min_child_sample': 400, 'n_estimators': 500, 'num_leaves': 31, 'subsample': 0.6} 0:00:08.336485\n",
      "0.642996544508075 {'colsample_bytree': 0.6, 'learning_rate': 0.001, 'max_depth': 9, 'min_child_sample': 50, 'n_estimators': 200, 'num_leaves': 31, 'subsample': 0.5} 0:00:03.692998\n",
      "0.6365465937118986 {'colsample_bytree': 0.7, 'learning_rate': 0.1, 'max_depth': 7, 'min_child_sample': 500, 'n_estimators': 300, 'num_leaves': 50, 'subsample': 0.6} 0:00:06.195240\n",
      "0.6489182476812989 {'colsample_bytree': 0.7, 'learning_rate': 0.1, 'max_depth': 9, 'min_child_sample': 500, 'n_estimators': 700, 'num_leaves': 60, 'subsample': 0.3} 0:00:07.570970\n",
      "0.6458448802360834 {'colsample_bytree': 0.9, 'learning_rate': 0.01, 'max_depth': -1, 'min_child_sample': 20, 'n_estimators': 800, 'num_leaves': 40, 'subsample': 0.8} 0:00:08.800257\n",
      "0.6450499870500639 {'colsample_bytree': 0.4, 'learning_rate': 0.1, 'max_depth': 10, 'min_child_sample': 400, 'n_estimators': 600, 'num_leaves': 31, 'subsample': 0.5} 0:00:05.802666\n",
      "0.6287935129473154 {'colsample_bytree': 0.8, 'learning_rate': 1, 'max_depth': 10, 'min_child_sample': 600, 'n_estimators': 100, 'num_leaves': 40, 'subsample': 0.5} 0:00:01.982841\n",
      "0.6470790600769243 {'colsample_bytree': 0.9, 'learning_rate': 0.01, 'max_depth': -1, 'min_child_sample': 400, 'n_estimators': 800, 'num_leaves': 50, 'subsample': 0.5} 0:00:10.278948\n",
      "0.6486021930931894 {'colsample_bytree': 0.6, 'learning_rate': 0.01, 'max_depth': -1, 'min_child_sample': 100, 'n_estimators': 700, 'num_leaves': 50, 'subsample': 0.5} 0:00:08.238705\n",
      "0.6457859231672726 {'colsample_bytree': 0.6, 'learning_rate': 0.001, 'max_depth': 9, 'min_child_sample': 400, 'n_estimators': 800, 'num_leaves': 50, 'subsample': 0.8} 0:00:17.193291\n",
      "0.6421350622462241 {'colsample_bytree': 0.7, 'learning_rate': 1, 'max_depth': 7, 'min_child_sample': 400, 'n_estimators': 500, 'num_leaves': 31, 'subsample': 0.9} 0:00:04.742664\n",
      "0.6455741207566956 {'colsample_bytree': 0.4, 'learning_rate': 0.1, 'max_depth': 9, 'min_child_sample': 200, 'n_estimators': 500, 'num_leaves': 40, 'subsample': 0.6} 0:00:06.247380\n",
      "0.646568378184416 {'colsample_bytree': 0.4, 'learning_rate': 0.1, 'max_depth': 8, 'min_child_sample': 600, 'n_estimators': 500, 'num_leaves': 40, 'subsample': 0.7} 0:00:06.288411\n",
      "0.6273848353133039 {'colsample_bytree': 0.9, 'learning_rate': 1, 'max_depth': 7, 'min_child_sample': 100, 'n_estimators': 100, 'num_leaves': 50, 'subsample': 0.7} 0:00:02.164336\n",
      "0.643494808010151 {'colsample_bytree': 0.6, 'learning_rate': 0.001, 'max_depth': 9, 'min_child_sample': 500, 'n_estimators': 100, 'num_leaves': 50, 'subsample': 0.3} 0:00:02.332026\n",
      "0.6402631240111396 {'colsample_bytree': 0.6, 'learning_rate': 1, 'max_depth': 10, 'min_child_sample': 400, 'n_estimators': 600, 'num_leaves': 31, 'subsample': 0.3} 0:00:04.815385\n",
      "0.6384459053132713 {'colsample_bytree': 0.5, 'learning_rate': 1, 'max_depth': -1, 'min_child_sample': 600, 'n_estimators': 500, 'num_leaves': 40, 'subsample': 0.5} 0:00:05.442705\n",
      "0.6332100122636241 {'colsample_bytree': 1, 'learning_rate': 0.001, 'max_depth': 8, 'min_child_sample': 300, 'n_estimators': 700, 'num_leaves': 60, 'subsample': 0.4} 0:00:16.113149\n",
      "0.6504188777730737 {'colsample_bytree': 0.5, 'learning_rate': 0.1, 'max_depth': 7, 'min_child_sample': 200, 'n_estimators': 700, 'num_leaves': 60, 'subsample': 0.8} 0:00:07.011872\n",
      "0.6487552213855611 {'colsample_bytree': 0.6, 'learning_rate': 0.01, 'max_depth': -1, 'min_child_sample': 50, 'n_estimators': 400, 'num_leaves': 40, 'subsample': 0.6} 0:00:07.480722\n",
      "0.6480824032272883 {'colsample_bytree': 0.4, 'learning_rate': 0.001, 'max_depth': 9, 'min_child_sample': 50, 'n_estimators': 400, 'num_leaves': 50, 'subsample': 0.8} 0:00:06.746859\n",
      "0.6465175797236933 {'colsample_bytree': 0.8, 'learning_rate': 0.01, 'max_depth': 7, 'min_child_sample': 500, 'n_estimators': 300, 'num_leaves': 31, 'subsample': 0.9} 0:00:05.179471\n",
      "0.6419291142550266 {'colsample_bytree': 0.5, 'learning_rate': 0.001, 'max_depth': 7, 'min_child_sample': 300, 'n_estimators': 700, 'num_leaves': 60, 'subsample': 0.9} 0:00:06.915962\n",
      "0.6385020217030842 {'colsample_bytree': 1, 'learning_rate': 1, 'max_depth': 10, 'min_child_sample': 500, 'n_estimators': 800, 'num_leaves': 40, 'subsample': 0.5} 0:00:05.286609\n",
      "0.6422834623827349 {'colsample_bytree': 0.5, 'learning_rate': 0.001, 'max_depth': 9, 'min_child_sample': 20, 'n_estimators': 100, 'num_leaves': 31, 'subsample': 0.7} 0:00:01.933648\n",
      "0.641349393231955 {'colsample_bytree': 0.3, 'learning_rate': 0.1, 'max_depth': 10, 'min_child_sample': 20, 'n_estimators': 700, 'num_leaves': 60, 'subsample': 1} 0:00:07.718620\n",
      "0.6441429080582226 {'colsample_bytree': 0.3, 'learning_rate': 0.1, 'max_depth': 7, 'min_child_sample': 100, 'n_estimators': 400, 'num_leaves': 31, 'subsample': 0.9} 0:00:05.195150\n",
      "0.6390272704454911 {'colsample_bytree': 1, 'learning_rate': 0.1, 'max_depth': 7, 'min_child_sample': 500, 'n_estimators': 500, 'num_leaves': 31, 'subsample': 0.4} 0:00:04.936339\n",
      "0.6169372982785513 {'colsample_bytree': 1, 'learning_rate': 1, 'max_depth': 7, 'min_child_sample': 300, 'n_estimators': 200, 'num_leaves': 50, 'subsample': 0.3} 0:00:03.631186\n",
      "0.6270738863710176 {'colsample_bytree': 0.3, 'learning_rate': 0.001, 'max_depth': 10, 'min_child_sample': 20, 'n_estimators': 300, 'num_leaves': 31, 'subsample': 0.4} 0:00:04.644607\n",
      "0.632711134292142 {'colsample_bytree': 0.6, 'learning_rate': 1, 'max_depth': 9, 'min_child_sample': 600, 'n_estimators': 700, 'num_leaves': 40, 'subsample': 0.4} 0:00:05.014334\n",
      "0.6349961470436867 {'colsample_bytree': 1, 'learning_rate': 0.1, 'max_depth': -1, 'min_child_sample': 20, 'n_estimators': 800, 'num_leaves': 50, 'subsample': 0.8} 0:00:06.488557\n",
      "0.6295902569850655 {'colsample_bytree': 0.3, 'learning_rate': 0.1, 'max_depth': 10, 'min_child_sample': 20, 'n_estimators': 700, 'num_leaves': 40, 'subsample': 0.6} 0:00:06.813343\n",
      "0.6152564139459613 {'colsample_bytree': 0.4, 'learning_rate': 1, 'max_depth': 10, 'min_child_sample': 100, 'n_estimators': 200, 'num_leaves': 31, 'subsample': 0.4} 0:00:03.152597\n",
      "0.6173578920729182 {'colsample_bytree': 0.7, 'learning_rate': 1, 'max_depth': -1, 'min_child_sample': 300, 'n_estimators': 200, 'num_leaves': 31, 'subsample': 0.8} 0:00:03.223926\n",
      "0.6382656687549374 {'colsample_bytree': 0.7, 'learning_rate': 0.01, 'max_depth': 9, 'min_child_sample': 600, 'n_estimators': 600, 'num_leaves': 40, 'subsample': 0.3} 0:00:10.371351\n",
      "0.6367312926905779 {'colsample_bytree': 0.6, 'learning_rate': 0.01, 'max_depth': 10, 'min_child_sample': 100, 'n_estimators': 500, 'num_leaves': 31, 'subsample': 0.3} 0:00:08.816541\n",
      "0.6365056410801094 {'colsample_bytree': 0.7, 'learning_rate': 0.01, 'max_depth': 8, 'min_child_sample': 600, 'n_estimators': 400, 'num_leaves': 40, 'subsample': 1} 0:00:07.648458\n",
      "0.6180707903584317 {'colsample_bytree': 0.8, 'learning_rate': 1, 'max_depth': 8, 'min_child_sample': 600, 'n_estimators': 300, 'num_leaves': 40, 'subsample': 0.7} 0:00:05.181100\n",
      "0.6380578331116104 {'colsample_bytree': 1, 'learning_rate': 0.01, 'max_depth': 7, 'min_child_sample': 50, 'n_estimators': 600, 'num_leaves': 31, 'subsample': 0.7} 0:00:09.405749\n",
      "0.6281042258307097 {'colsample_bytree': 0.9, 'learning_rate': 1, 'max_depth': 9, 'min_child_sample': 50, 'n_estimators': 400, 'num_leaves': 31, 'subsample': 0.4} 0:00:04.716070\n",
      "0.6250640717164129 {'colsample_bytree': 0.6, 'learning_rate': 0.1, 'max_depth': 8, 'min_child_sample': 20, 'n_estimators': 200, 'num_leaves': 40, 'subsample': 0.9} 0:00:03.880606\n",
      "0.6332989993983218 {'colsample_bytree': 0.4, 'learning_rate': 0.001, 'max_depth': 7, 'min_child_sample': 300, 'n_estimators': 300, 'num_leaves': 31, 'subsample': 0.5} 0:00:04.744136\n",
      "0.6354799200254437 {'colsample_bytree': 0.5, 'learning_rate': 0.001, 'max_depth': 8, 'min_child_sample': 400, 'n_estimators': 300, 'num_leaves': 40, 'subsample': 0.8} 0:00:05.571469\n",
      "0.6280323685910483 {'colsample_bytree': 0.8, 'learning_rate': 1, 'max_depth': 10, 'min_child_sample': 600, 'n_estimators': 800, 'num_leaves': 31, 'subsample': 0.6} 0:00:04.680602\n",
      "0.6356629181436662 {'colsample_bytree': 0.9, 'learning_rate': 0.001, 'max_depth': 9, 'min_child_sample': 500, 'n_estimators': 800, 'num_leaves': 50, 'subsample': 0.4} 0:00:17.532560\n",
      "0.6215090297235406 {'colsample_bytree': 0.9, 'learning_rate': 1, 'max_depth': 8, 'min_child_sample': 300, 'n_estimators': 300, 'num_leaves': 31, 'subsample': 0.9} 0:00:04.498995\n",
      "0.6269304141848921 {'colsample_bytree': 0.3, 'learning_rate': 0.001, 'max_depth': 9, 'min_child_sample': 500, 'n_estimators': 200, 'num_leaves': 40, 'subsample': 1} 0:00:03.705035\n",
      "0.639066002743748 {'colsample_bytree': 0.8, 'learning_rate': 0.1, 'max_depth': 8, 'min_child_sample': 200, 'n_estimators': 800, 'num_leaves': 60, 'subsample': 1} 0:00:07.266380\n",
      "0.6319147833068097 {'colsample_bytree': 0.7, 'learning_rate': 1, 'max_depth': -1, 'min_child_sample': 300, 'n_estimators': 700, 'num_leaves': 31, 'subsample': 0.4} 0:00:04.698350\n",
      "0.6337972086043556 {'colsample_bytree': 0.4, 'learning_rate': 0.001, 'max_depth': 7, 'min_child_sample': 100, 'n_estimators': 200, 'num_leaves': 40, 'subsample': 0.5} 0:00:03.559060\n",
      "0.6333005396907904 {'colsample_bytree': 0.3, 'learning_rate': 1, 'max_depth': 7, 'min_child_sample': 50, 'n_estimators': 500, 'num_leaves': 31, 'subsample': 0.4} 0:00:04.617795\n",
      "0.6334473965645396 {'colsample_bytree': 0.4, 'learning_rate': 0.001, 'max_depth': 9, 'min_child_sample': 400, 'n_estimators': 200, 'num_leaves': 40, 'subsample': 0.4} 0:00:03.851808\n",
      "0.6299120668539346 {'colsample_bytree': 0.7, 'learning_rate': 0.001, 'max_depth': 7, 'min_child_sample': 100, 'n_estimators': 200, 'num_leaves': 31, 'subsample': 0.3} 0:00:03.512785\n",
      "0.635379034577316 {'colsample_bytree': 0.4, 'learning_rate': 0.001, 'max_depth': 8, 'min_child_sample': 300, 'n_estimators': 600, 'num_leaves': 50, 'subsample': 0.3} 0:00:07.094383\n",
      "0.6311655558759759 {'colsample_bytree': 0.3, 'learning_rate': 0.001, 'max_depth': 10, 'min_child_sample': 400, 'n_estimators': 800, 'num_leaves': 31, 'subsample': 1} 0:00:05.715360\n",
      "0.6350798964290532 {'colsample_bytree': 0.5, 'learning_rate': 0.001, 'max_depth': 10, 'min_child_sample': 400, 'n_estimators': 200, 'num_leaves': 50, 'subsample': 0.7} 0:00:04.449974\n",
      "0.632310482711342 {'colsample_bytree': 0.9, 'learning_rate': 1, 'max_depth': 8, 'min_child_sample': 300, 'n_estimators': 400, 'num_leaves': 31, 'subsample': 0.8} 0:00:04.645520\n",
      "0.6236460186381817 {'colsample_bytree': 0.7, 'learning_rate': 0.1, 'max_depth': 9, 'min_child_sample': 500, 'n_estimators': 200, 'num_leaves': 40, 'subsample': 0.9} 0:00:04.127988\n",
      "0.6352228741392658 {'colsample_bytree': 0.8, 'learning_rate': 0.001, 'max_depth': 10, 'min_child_sample': 200, 'n_estimators': 400, 'num_leaves': 50, 'subsample': 0.5} 0:00:09.165405\n",
      "0.6293968278974607 {'colsample_bytree': 0.8, 'learning_rate': 1, 'max_depth': 10, 'min_child_sample': 100, 'n_estimators': 800, 'num_leaves': 60, 'subsample': 0.6} 0:00:06.885226\n",
      "0.6293968278974607 {'colsample_bytree': 0.8, 'learning_rate': 1, 'max_depth': 10, 'min_child_sample': 500, 'n_estimators': 700, 'num_leaves': 60, 'subsample': 0.9} 0:00:06.795155\n",
      "0.6335029929638056 {'colsample_bytree': 0.4, 'learning_rate': 0.1, 'max_depth': 8, 'min_child_sample': 100, 'n_estimators': 800, 'num_leaves': 60, 'subsample': 0.8} 0:00:07.576711\n",
      "0.6376990685853914 {'colsample_bytree': 1, 'learning_rate': 0.1, 'max_depth': 7, 'min_child_sample': 300, 'n_estimators': 500, 'num_leaves': 60, 'subsample': 0.8} 0:00:06.748079\n",
      "0.6374287336590545 {'colsample_bytree': 1, 'learning_rate': 0.1, 'max_depth': 8, 'min_child_sample': 300, 'n_estimators': 600, 'num_leaves': 60, 'subsample': 0.3} 0:00:07.123050\n",
      "0.637230527934131 {'colsample_bytree': 0.5, 'learning_rate': 0.01, 'max_depth': 8, 'min_child_sample': 100, 'n_estimators': 700, 'num_leaves': 40, 'subsample': 1} 0:00:08.594201\n",
      "0.6179482963129106 {'colsample_bytree': 0.7, 'learning_rate': 1, 'max_depth': 9, 'min_child_sample': 50, 'n_estimators': 100, 'num_leaves': 40, 'subsample': 0.9} 0:00:01.969267\n",
      "0.6306520673642337 {'colsample_bytree': 0.9, 'learning_rate': 1, 'max_depth': 7, 'min_child_sample': 100, 'n_estimators': 600, 'num_leaves': 50, 'subsample': 0.4} 0:00:05.903080\n",
      "0.6370860692685594 {'colsample_bytree': 0.6, 'learning_rate': 0.01, 'max_depth': 10, 'min_child_sample': 300, 'n_estimators': 600, 'num_leaves': 40, 'subsample': 0.5} 0:00:10.790453\n",
      "0.6343986322400669 {'colsample_bytree': 0.9, 'learning_rate': 0.001, 'max_depth': 7, 'min_child_sample': 300, 'n_estimators': 800, 'num_leaves': 40, 'subsample': 0.4} 0:00:15.063408\n",
      "0.6341039072893265 {'colsample_bytree': 0.6, 'learning_rate': 0.001, 'max_depth': -1, 'min_child_sample': 500, 'n_estimators': 200, 'num_leaves': 50, 'subsample': 0.9} 0:00:05.288747\n",
      "0.6203380242285286 {'colsample_bytree': 1, 'learning_rate': 0.001, 'max_depth': 7, 'min_child_sample': 500, 'n_estimators': 200, 'num_leaves': 40, 'subsample': 0.9} 0:00:04.017541\n",
      "0.6356501853889093 {'colsample_bytree': 0.7, 'learning_rate': 0.001, 'max_depth': 9, 'min_child_sample': 400, 'n_estimators': 200, 'num_leaves': 60, 'subsample': 0.6} 0:00:05.011352\n",
      "0.6315792171180441 {'colsample_bytree': 0.4, 'learning_rate': 0.001, 'max_depth': -1, 'min_child_sample': 400, 'n_estimators': 200, 'num_leaves': 40, 'subsample': 0.4} 0:00:04.523318\n",
      "0.631584048147713 {'colsample_bytree': 1, 'learning_rate': 1, 'max_depth': -1, 'min_child_sample': 100, 'n_estimators': 600, 'num_leaves': 31, 'subsample': 0.4} 0:00:04.821570\n",
      "0.6372811771018885 {'colsample_bytree': 0.7, 'learning_rate': 0.1, 'max_depth': 7, 'min_child_sample': 400, 'n_estimators': 400, 'num_leaves': 31, 'subsample': 1} 0:00:05.492936\n",
      "0.6306652228958961 {'colsample_bytree': 1, 'learning_rate': 1, 'max_depth': 7, 'min_child_sample': 50, 'n_estimators': 400, 'num_leaves': 40, 'subsample': 0.8} 0:00:05.312972\n",
      "0.6274923415570611 {'colsample_bytree': 0.4, 'learning_rate': 1, 'max_depth': 8, 'min_child_sample': 400, 'n_estimators': 400, 'num_leaves': 60, 'subsample': 0.6} 0:00:06.471474\n",
      "0.633682443217353 {'colsample_bytree': 0.4, 'learning_rate': 0.01, 'max_depth': 7, 'min_child_sample': 500, 'n_estimators': 300, 'num_leaves': 50, 'subsample': 0.8} 0:00:05.799765\n",
      "0.629443770968251 {'colsample_bytree': 0.3, 'learning_rate': 0.1, 'max_depth': -1, 'min_child_sample': 400, 'n_estimators': 700, 'num_leaves': 40, 'subsample': 0.7} 0:00:07.056234\n",
      "0.6257952928068786 {'colsample_bytree': 0.3, 'learning_rate': 0.1, 'max_depth': 8, 'min_child_sample': 50, 'n_estimators': 100, 'num_leaves': 40, 'subsample': 0.9} 0:00:01.935246\n",
      "0.6311814137185024 {'colsample_bytree': 1, 'learning_rate': 0.001, 'max_depth': 9, 'min_child_sample': 500, 'n_estimators': 500, 'num_leaves': 60, 'subsample': 0.8} 0:00:12.121587\n",
      "0.6176949763027364 {'colsample_bytree': 0.9, 'learning_rate': 1, 'max_depth': 10, 'min_child_sample': 400, 'n_estimators': 100, 'num_leaves': 31, 'subsample': 1} 0:00:01.831099\n",
      "0.6167370602576259 {'colsample_bytree': 0.4, 'learning_rate': 1, 'max_depth': 10, 'min_child_sample': 50, 'n_estimators': 100, 'num_leaves': 60, 'subsample': 0.9} 0:00:02.455485\n",
      "0.6306748379800224 {'colsample_bytree': 0.3, 'learning_rate': 0.1, 'max_depth': 7, 'min_child_sample': 600, 'n_estimators': 500, 'num_leaves': 50, 'subsample': 0.4} 0:00:06.010223\n",
      "0.6320377100187545 {'colsample_bytree': 0.6, 'learning_rate': 0.001, 'max_depth': 7, 'min_child_sample': 500, 'n_estimators': 100, 'num_leaves': 60, 'subsample': 0.8} 0:00:02.338028\n",
      "0.635681896129203 {'colsample_bytree': 0.5, 'learning_rate': 0.01, 'max_depth': 9, 'min_child_sample': 300, 'n_estimators': 200, 'num_leaves': 60, 'subsample': 0.3} 0:00:04.755633\n",
      "0.6362923563122224 {'colsample_bytree': 1, 'learning_rate': 0.01, 'max_depth': 10, 'min_child_sample': 100, 'n_estimators': 200, 'num_leaves': 60, 'subsample': 1} 0:00:05.132590\n",
      "0.6288018472828943 {'colsample_bytree': 0.3, 'learning_rate': 0.001, 'max_depth': 8, 'min_child_sample': 500, 'n_estimators': 100, 'num_leaves': 50, 'subsample': 0.7} 0:00:02.117931\n",
      "0.6402482946514716 {'colsample_bytree': 0.6, 'learning_rate': 0.1, 'max_depth': 7, 'min_child_sample': 50, 'n_estimators': 400, 'num_leaves': 50, 'subsample': 0.7} 0:00:06.475074\n",
      "0.6329638436245639 {'colsample_bytree': 0.5, 'learning_rate': 0.001, 'max_depth': 7, 'min_child_sample': 600, 'n_estimators': 300, 'num_leaves': 31, 'subsample': 1} 0:00:04.948003\n",
      "0.6382845033424593 {'colsample_bytree': 0.9, 'learning_rate': 0.01, 'max_depth': 10, 'min_child_sample': 300, 'n_estimators': 500, 'num_leaves': 50, 'subsample': 0.6} 0:00:10.486127\n",
      "0.639964561900275 {'colsample_bytree': 0.7, 'learning_rate': 0.01, 'max_depth': 8, 'min_child_sample': 400, 'n_estimators': 700, 'num_leaves': 50, 'subsample': 0.7} 0:00:11.017546\n",
      "0.6281604452696259 {'colsample_bytree': 0.5, 'learning_rate': 0.1, 'max_depth': 10, 'min_child_sample': 600, 'n_estimators': 100, 'num_leaves': 60, 'subsample': 1} 0:00:02.586758\n",
      "0.6313166776044739 {'colsample_bytree': 0.4, 'learning_rate': 0.1, 'max_depth': -1, 'min_child_sample': 300, 'n_estimators': 600, 'num_leaves': 40, 'subsample': 1} 0:00:07.630684\n",
      "0.6374962543449598 {'colsample_bytree': 0.6, 'learning_rate': 0.1, 'max_depth': 8, 'min_child_sample': 500, 'n_estimators': 800, 'num_leaves': 40, 'subsample': 0.6} 0:00:06.098069\n",
      "0.637488231473273 {'colsample_bytree': 0.6, 'learning_rate': 0.01, 'max_depth': 9, 'min_child_sample': 400, 'n_estimators': 700, 'num_leaves': 31, 'subsample': 1} 0:00:09.065792\n",
      "0.6248856598622825 {'colsample_bytree': 0.4, 'learning_rate': 0.1, 'max_depth': 7, 'min_child_sample': 50, 'n_estimators': 200, 'num_leaves': 60, 'subsample': 0.8} 0:00:04.281852\n",
      "0.6350395620288387 {'colsample_bytree': 0.9, 'learning_rate': 0.001, 'max_depth': 10, 'min_child_sample': 300, 'n_estimators': 600, 'num_leaves': 60, 'subsample': 0.7} 0:00:14.992892\n",
      "0.6397110020692829 {'colsample_bytree': 0.7, 'learning_rate': 0.01, 'max_depth': 8, 'min_child_sample': 500, 'n_estimators': 700, 'num_leaves': 40, 'subsample': 0.3} 0:00:09.819767\n",
      "0.6378983572125642 {'colsample_bytree': 0.9, 'learning_rate': 0.01, 'max_depth': 8, 'min_child_sample': 100, 'n_estimators': 200, 'num_leaves': 60, 'subsample': 0.6} 0:00:04.748107\n",
      "0.635379034577316 {'colsample_bytree': 0.4, 'learning_rate': 0.001, 'max_depth': 8, 'min_child_sample': 300, 'n_estimators': 700, 'num_leaves': 50, 'subsample': 0.6} 0:00:07.164321\n",
      "0.6318476384225982 {'colsample_bytree': 0.5, 'learning_rate': 1, 'max_depth': 9, 'min_child_sample': 200, 'n_estimators': 400, 'num_leaves': 31, 'subsample': 1} 0:00:04.681897\n",
      "0.6194969800378096 {'colsample_bytree': 1, 'learning_rate': 0.001, 'max_depth': 8, 'min_child_sample': 600, 'n_estimators': 400, 'num_leaves': 40, 'subsample': 0.3} 0:00:08.015073\n",
      "0.6386408869671577 {'colsample_bytree': 0.6, 'learning_rate': 0.01, 'max_depth': 7, 'min_child_sample': 100, 'n_estimators': 200, 'num_leaves': 31, 'subsample': 0.4} 0:00:03.490644\n",
      "0.635765222737664 {'colsample_bytree': 0.7, 'learning_rate': 0.001, 'max_depth': 9, 'min_child_sample': 600, 'n_estimators': 400, 'num_leaves': 60, 'subsample': 1} 0:00:09.507191\n",
      "0.6226880655073778 {'colsample_bytree': 1, 'learning_rate': 0.1, 'max_depth': 10, 'min_child_sample': 500, 'n_estimators': 200, 'num_leaves': 50, 'subsample': 0.4} 0:00:04.635088\n",
      "0.6362906256465273 {'colsample_bytree': 0.6, 'learning_rate': 0.1, 'max_depth': -1, 'min_child_sample': 500, 'n_estimators': 400, 'num_leaves': 50, 'subsample': 0.7} 0:00:07.047580\n",
      "0.6342724889623087 {'colsample_bytree': 0.5, 'learning_rate': 0.01, 'max_depth': -1, 'min_child_sample': 400, 'n_estimators': 700, 'num_leaves': 50, 'subsample': 0.7} 0:00:09.300220\n",
      "0.6221331893617266 {'colsample_bytree': 0.6, 'learning_rate': 0.1, 'max_depth': -1, 'min_child_sample': 100, 'n_estimators': 300, 'num_leaves': 31, 'subsample': 0.7} 0:00:05.434853\n",
      "0.6389690557962664 {'colsample_bytree': 0.8, 'learning_rate': 0.01, 'max_depth': 9, 'min_child_sample': 200, 'n_estimators': 600, 'num_leaves': 50, 'subsample': 0.7} 0:00:10.342601\n",
      "0.6274006484161541 {'colsample_bytree': 0.9, 'learning_rate': 0.001, 'max_depth': 7, 'min_child_sample': 200, 'n_estimators': 400, 'num_leaves': 60, 'subsample': 0.8} 0:00:08.871974\n",
      "0.6331592753396159 {'colsample_bytree': 0.8, 'learning_rate': 0.001, 'max_depth': 8, 'min_child_sample': 400, 'n_estimators': 400, 'num_leaves': 60, 'subsample': 0.3} 0:00:09.245495\n",
      "0.6206226964839597 {'colsample_bytree': 0.9, 'learning_rate': 1, 'max_depth': 9, 'min_child_sample': 200, 'n_estimators': 300, 'num_leaves': 50, 'subsample': 0.9} 0:00:06.350821\n",
      "0.6330220582737885 {'colsample_bytree': 0.4, 'learning_rate': 0.001, 'max_depth': -1, 'min_child_sample': 200, 'n_estimators': 700, 'num_leaves': 31, 'subsample': 0.4} 0:00:06.841180\n",
      "0.6375294905434449 {'colsample_bytree': 0.5, 'learning_rate': 0.01, 'max_depth': 8, 'min_child_sample': 400, 'n_estimators': 600, 'num_leaves': 60, 'subsample': 0.8} 0:00:10.491374\n",
      "0.6398351501367325 {'colsample_bytree': 0.7, 'learning_rate': 0.1, 'max_depth': 8, 'min_child_sample': 500, 'n_estimators': 400, 'num_leaves': 40, 'subsample': 0.5} 0:00:06.339561\n",
      "0.6326741969414489 {'colsample_bytree': 0.8, 'learning_rate': 1, 'max_depth': 8, 'min_child_sample': 200, 'n_estimators': 400, 'num_leaves': 31, 'subsample': 0.6} 0:00:04.822351\n",
      "0.6349945078560355 {'colsample_bytree': 0.4, 'learning_rate': 0.01, 'max_depth': 8, 'min_child_sample': 200, 'n_estimators': 400, 'num_leaves': 60, 'subsample': 0.9} 0:00:07.989479\n",
      "0.626629750578438 {'colsample_bytree': 0.6, 'learning_rate': 1, 'max_depth': -1, 'min_child_sample': 600, 'n_estimators': 400, 'num_leaves': 31, 'subsample': 0.4} 0:00:04.816463\n",
      "0.6155148320027976 {'colsample_bytree': 0.7, 'learning_rate': 1, 'max_depth': 10, 'min_child_sample': 400, 'n_estimators': 300, 'num_leaves': 40, 'subsample': 0.4} 0:00:05.410867\n",
      "0.6331681907403254 {'colsample_bytree': 0.5, 'learning_rate': 0.001, 'max_depth': 7, 'min_child_sample': 400, 'n_estimators': 300, 'num_leaves': 40, 'subsample': 0.8} 0:00:05.509186\n",
      "0.6323593220972583 {'colsample_bytree': 0.9, 'learning_rate': 0.01, 'max_depth': -1, 'min_child_sample': 400, 'n_estimators': 300, 'num_leaves': 60, 'subsample': 0.8} 0:00:08.986252\n",
      "0.6210351907628735 {'colsample_bytree': 1, 'learning_rate': 0.1, 'max_depth': -1, 'min_child_sample': 300, 'n_estimators': 300, 'num_leaves': 50, 'subsample': 0.7} 0:00:06.720995\n",
      "0.6304149513297248 {'colsample_bytree': 0.3, 'learning_rate': 0.01, 'max_depth': 8, 'min_child_sample': 200, 'n_estimators': 600, 'num_leaves': 31, 'subsample': 0.6} 0:00:05.519250\n",
      "0.6204218255338658 {'colsample_bytree': 1, 'learning_rate': 1, 'max_depth': 10, 'min_child_sample': 200, 'n_estimators': 300, 'num_leaves': 40, 'subsample': 1} 0:00:05.202723\n",
      "0.6370398802735362 {'colsample_bytree': 0.7, 'learning_rate': 0.001, 'max_depth': -1, 'min_child_sample': 600, 'n_estimators': 500, 'num_leaves': 50, 'subsample': 0.9} 0:00:09.487704\n",
      "0.6276969186041221 {'colsample_bytree': 0.7, 'learning_rate': 0.1, 'max_depth': -1, 'min_child_sample': 500, 'n_estimators': 200, 'num_leaves': 50, 'subsample': 0.7} 0:00:04.350808\n",
      "0.6372464648928036 {'colsample_bytree': 0.9, 'learning_rate': 0.01, 'max_depth': -1, 'min_child_sample': 500, 'n_estimators': 100, 'num_leaves': 31, 'subsample': 0.9} 0:00:01.965177\n",
      "0.6215329920262792 {'colsample_bytree': 1, 'learning_rate': 1, 'max_depth': 9, 'min_child_sample': 500, 'n_estimators': 100, 'num_leaves': 31, 'subsample': 0.5} 0:00:01.647843\n",
      "0.6379545321486482 {'colsample_bytree': 1, 'learning_rate': 0.1, 'max_depth': 10, 'min_child_sample': 20, 'n_estimators': 500, 'num_leaves': 31, 'subsample': 0.3} 0:00:05.175093\n",
      "0.6377798733666966 {'colsample_bytree': 0.7, 'learning_rate': 0.001, 'max_depth': 10, 'min_child_sample': 500, 'n_estimators': 700, 'num_leaves': 60, 'subsample': 0.9} 0:00:08.207655\n",
      "0.6324679139524884 {'colsample_bytree': 0.3, 'learning_rate': 0.1, 'max_depth': 9, 'min_child_sample': 20, 'n_estimators': 800, 'num_leaves': 40, 'subsample': 0.3} 0:00:05.628603\n",
      "0.627502384362852 {'colsample_bytree': 0.9, 'learning_rate': 0.1, 'max_depth': 10, 'min_child_sample': 300, 'n_estimators': 200, 'num_leaves': 60, 'subsample': 0.5} 0:00:04.824952\n",
      "0.6391795813885596 {'colsample_bytree': 0.5, 'learning_rate': 0.1, 'max_depth': 8, 'min_child_sample': 50, 'n_estimators': 500, 'num_leaves': 60, 'subsample': 1} 0:00:07.645486\n",
      "0.6416482647455684 {'colsample_bytree': 0.6, 'learning_rate': 0.01, 'max_depth': 7, 'min_child_sample': 600, 'n_estimators': 700, 'num_leaves': 31, 'subsample': 0.4} 0:00:08.647979\n",
      "0.6331928453093422 {'colsample_bytree': 0.3, 'learning_rate': 0.001, 'max_depth': 10, 'min_child_sample': 500, 'n_estimators': 500, 'num_leaves': 50, 'subsample': 0.9} 0:00:07.128448\n",
      "0.6387849994995903 {'colsample_bytree': 0.4, 'learning_rate': 0.001, 'max_depth': 9, 'min_child_sample': 100, 'n_estimators': 500, 'num_leaves': 40, 'subsample': 0.8} 0:00:05.741697\n",
      "0.637078481535676 {'colsample_bytree': 0.5, 'learning_rate': 0.01, 'max_depth': 8, 'min_child_sample': 50, 'n_estimators': 200, 'num_leaves': 40, 'subsample': 0.9} 0:00:03.810795\n",
      "0.6335220970407001 {'colsample_bytree': 0.7, 'learning_rate': 0.001, 'max_depth': 8, 'min_child_sample': 400, 'n_estimators': 200, 'num_leaves': 31, 'subsample': 0.3} 0:00:03.547859\n",
      "0.6391729158532538 {'colsample_bytree': 0.7, 'learning_rate': 0.01, 'max_depth': 10, 'min_child_sample': 300, 'n_estimators': 700, 'num_leaves': 31, 'subsample': 0.3} 0:00:09.963679\n",
      "0.6334472284427293 {'colsample_bytree': 0.4, 'learning_rate': 1, 'max_depth': 10, 'min_child_sample': 50, 'n_estimators': 500, 'num_leaves': 31, 'subsample': 0.6} 0:00:04.742284\n",
      "0.6410487176459465 {'colsample_bytree': 0.7, 'learning_rate': 1, 'max_depth': 9, 'min_child_sample': 50, 'n_estimators': 600, 'num_leaves': 60, 'subsample': 1} 0:00:06.482667\n",
      "0.6409690921896937 {'colsample_bytree': 0.6, 'learning_rate': 0.01, 'max_depth': -1, 'min_child_sample': 20, 'n_estimators': 500, 'num_leaves': 40, 'subsample': 0.5} 0:00:08.157225\n",
      "0.6368059956391181 {'colsample_bytree': 0.9, 'learning_rate': 1, 'max_depth': 8, 'min_child_sample': 20, 'n_estimators': 700, 'num_leaves': 50, 'subsample': 0.3} 0:00:06.008134\n",
      "0.6263624097037536 {'colsample_bytree': 0.9, 'learning_rate': 0.1, 'max_depth': -1, 'min_child_sample': 500, 'n_estimators': 300, 'num_leaves': 40, 'subsample': 0.7} 0:00:05.883475\n",
      "0.6262502798733667 {'colsample_bytree': 0.5, 'learning_rate': 0.1, 'max_depth': 10, 'min_child_sample': 500, 'n_estimators': 300, 'num_leaves': 40, 'subsample': 0.7} 0:00:06.029530\n",
      "0.6198905086930844 {'colsample_bytree': 0.7, 'learning_rate': 1, 'max_depth': 7, 'min_child_sample': 400, 'n_estimators': 200, 'num_leaves': 40, 'subsample': 0.8} 0:00:03.617009\n",
      "0.6393163188127515 {'colsample_bytree': 1, 'learning_rate': 0.01, 'max_depth': 7, 'min_child_sample': 400, 'n_estimators': 400, 'num_leaves': 40, 'subsample': 0.5} 0:00:07.329555\n",
      "0.6347638867626424 {'colsample_bytree': 0.3, 'learning_rate': 1, 'max_depth': -1, 'min_child_sample': 400, 'n_estimators': 500, 'num_leaves': 31, 'subsample': 0.3} 0:00:04.835746\n",
      "0.6404200755836102 {'colsample_bytree': 0.6, 'learning_rate': 0.01, 'max_depth': -1, 'min_child_sample': 100, 'n_estimators': 800, 'num_leaves': 60, 'subsample': 0.5} 0:00:10.425301\n",
      "0.6285488091239904 {'colsample_bytree': 0.6, 'learning_rate': 0.1, 'max_depth': 10, 'min_child_sample': 100, 'n_estimators': 200, 'num_leaves': 31, 'subsample': 0.8} 0:00:03.800327\n",
      "0.642010141997659 {'colsample_bytree': 0.8, 'learning_rate': 0.1, 'max_depth': 9, 'min_child_sample': 50, 'n_estimators': 500, 'num_leaves': 40, 'subsample': 0.6} 0:00:06.333573\n"
     ]
    },
    {
     "ename": "KeyboardInterrupt",
     "evalue": "",
     "output_type": "error",
     "traceback": [
      "\u001b[0;31m---------------------------------------------------------------------------\u001b[0m",
      "\u001b[0;31mKeyboardInterrupt\u001b[0m                         Traceback (most recent call last)",
      "\u001b[0;32m<ipython-input-28-3e4d90708bad>\u001b[0m in \u001b[0;36m<module>\u001b[0;34m()\u001b[0m\n\u001b[1;32m     46\u001b[0m         \u001b[0;31m# fit the model using oversampled training data\u001b[0m\u001b[0;34m\u001b[0m\u001b[0;34m\u001b[0m\u001b[0;34m\u001b[0m\u001b[0m\n\u001b[1;32m     47\u001b[0m         model_adasyn.fit(X_adasyn_train, y_adasyn_train, eval_metric='auc',  \n\u001b[0;32m---> 48\u001b[0;31m                   eval_set=[(X_val_, y_val_)], early_stopping_rounds=300, verbose = False)\n\u001b[0m\u001b[1;32m     49\u001b[0m \u001b[0;34m\u001b[0m\u001b[0m\n\u001b[1;32m     50\u001b[0m         \u001b[0mend_time\u001b[0m \u001b[0;34m=\u001b[0m \u001b[0mdatetime\u001b[0m\u001b[0;34m.\u001b[0m\u001b[0mnow\u001b[0m\u001b[0;34m(\u001b[0m\u001b[0;34m)\u001b[0m\u001b[0;34m\u001b[0m\u001b[0;34m\u001b[0m\u001b[0m\n",
      "\u001b[0;32m/Users/bentleyou/anaconda3/lib/python3.7/site-packages/lightgbm/sklearn.py\u001b[0m in \u001b[0;36mfit\u001b[0;34m(self, X, y, sample_weight, init_score, eval_set, eval_names, eval_sample_weight, eval_class_weight, eval_init_score, eval_metric, early_stopping_rounds, verbose, feature_name, categorical_feature, callbacks)\u001b[0m\n\u001b[1;32m    742\u001b[0m                                         \u001b[0mverbose\u001b[0m\u001b[0;34m=\u001b[0m\u001b[0mverbose\u001b[0m\u001b[0;34m,\u001b[0m \u001b[0mfeature_name\u001b[0m\u001b[0;34m=\u001b[0m\u001b[0mfeature_name\u001b[0m\u001b[0;34m,\u001b[0m\u001b[0;34m\u001b[0m\u001b[0;34m\u001b[0m\u001b[0m\n\u001b[1;32m    743\u001b[0m                                         \u001b[0mcategorical_feature\u001b[0m\u001b[0;34m=\u001b[0m\u001b[0mcategorical_feature\u001b[0m\u001b[0;34m,\u001b[0m\u001b[0;34m\u001b[0m\u001b[0;34m\u001b[0m\u001b[0m\n\u001b[0;32m--> 744\u001b[0;31m                                         callbacks=callbacks)\n\u001b[0m\u001b[1;32m    745\u001b[0m         \u001b[0;32mreturn\u001b[0m \u001b[0mself\u001b[0m\u001b[0;34m\u001b[0m\u001b[0;34m\u001b[0m\u001b[0m\n\u001b[1;32m    746\u001b[0m \u001b[0;34m\u001b[0m\u001b[0m\n",
      "\u001b[0;32m/Users/bentleyou/anaconda3/lib/python3.7/site-packages/lightgbm/sklearn.py\u001b[0m in \u001b[0;36mfit\u001b[0;34m(self, X, y, sample_weight, init_score, group, eval_set, eval_names, eval_sample_weight, eval_class_weight, eval_init_score, eval_group, eval_metric, early_stopping_rounds, verbose, feature_name, categorical_feature, callbacks)\u001b[0m\n\u001b[1;32m    542\u001b[0m                               \u001b[0mverbose_eval\u001b[0m\u001b[0;34m=\u001b[0m\u001b[0mverbose\u001b[0m\u001b[0;34m,\u001b[0m \u001b[0mfeature_name\u001b[0m\u001b[0;34m=\u001b[0m\u001b[0mfeature_name\u001b[0m\u001b[0;34m,\u001b[0m\u001b[0;34m\u001b[0m\u001b[0;34m\u001b[0m\u001b[0m\n\u001b[1;32m    543\u001b[0m                               \u001b[0mcategorical_feature\u001b[0m\u001b[0;34m=\u001b[0m\u001b[0mcategorical_feature\u001b[0m\u001b[0;34m,\u001b[0m\u001b[0;34m\u001b[0m\u001b[0;34m\u001b[0m\u001b[0m\n\u001b[0;32m--> 544\u001b[0;31m                               callbacks=callbacks)\n\u001b[0m\u001b[1;32m    545\u001b[0m \u001b[0;34m\u001b[0m\u001b[0m\n\u001b[1;32m    546\u001b[0m         \u001b[0;32mif\u001b[0m \u001b[0mevals_result\u001b[0m\u001b[0;34m:\u001b[0m\u001b[0;34m\u001b[0m\u001b[0;34m\u001b[0m\u001b[0m\n",
      "\u001b[0;32m/Users/bentleyou/anaconda3/lib/python3.7/site-packages/lightgbm/engine.py\u001b[0m in \u001b[0;36mtrain\u001b[0;34m(params, train_set, num_boost_round, valid_sets, valid_names, fobj, feval, init_model, feature_name, categorical_feature, early_stopping_rounds, evals_result, verbose_eval, learning_rates, keep_training_booster, callbacks)\u001b[0m\n\u001b[1;32m    216\u001b[0m                                     evaluation_result_list=None))\n\u001b[1;32m    217\u001b[0m \u001b[0;34m\u001b[0m\u001b[0m\n\u001b[0;32m--> 218\u001b[0;31m         \u001b[0mbooster\u001b[0m\u001b[0;34m.\u001b[0m\u001b[0mupdate\u001b[0m\u001b[0;34m(\u001b[0m\u001b[0mfobj\u001b[0m\u001b[0;34m=\u001b[0m\u001b[0mfobj\u001b[0m\u001b[0;34m)\u001b[0m\u001b[0;34m\u001b[0m\u001b[0;34m\u001b[0m\u001b[0m\n\u001b[0m\u001b[1;32m    219\u001b[0m \u001b[0;34m\u001b[0m\u001b[0m\n\u001b[1;32m    220\u001b[0m         \u001b[0mevaluation_result_list\u001b[0m \u001b[0;34m=\u001b[0m \u001b[0;34m[\u001b[0m\u001b[0;34m]\u001b[0m\u001b[0;34m\u001b[0m\u001b[0;34m\u001b[0m\u001b[0m\n",
      "\u001b[0;32m/Users/bentleyou/anaconda3/lib/python3.7/site-packages/lightgbm/basic.py\u001b[0m in \u001b[0;36mupdate\u001b[0;34m(self, train_set, fobj)\u001b[0m\n\u001b[1;32m   1800\u001b[0m             _safe_call(_LIB.LGBM_BoosterUpdateOneIter(\n\u001b[1;32m   1801\u001b[0m                 \u001b[0mself\u001b[0m\u001b[0;34m.\u001b[0m\u001b[0mhandle\u001b[0m\u001b[0;34m,\u001b[0m\u001b[0;34m\u001b[0m\u001b[0;34m\u001b[0m\u001b[0m\n\u001b[0;32m-> 1802\u001b[0;31m                 ctypes.byref(is_finished)))\n\u001b[0m\u001b[1;32m   1803\u001b[0m             \u001b[0mself\u001b[0m\u001b[0;34m.\u001b[0m\u001b[0m__is_predicted_cur_iter\u001b[0m \u001b[0;34m=\u001b[0m \u001b[0;34m[\u001b[0m\u001b[0;32mFalse\u001b[0m \u001b[0;32mfor\u001b[0m \u001b[0m_\u001b[0m \u001b[0;32min\u001b[0m \u001b[0mrange_\u001b[0m\u001b[0;34m(\u001b[0m\u001b[0mself\u001b[0m\u001b[0;34m.\u001b[0m\u001b[0m__num_dataset\u001b[0m\u001b[0;34m)\u001b[0m\u001b[0;34m]\u001b[0m\u001b[0;34m\u001b[0m\u001b[0;34m\u001b[0m\u001b[0m\n\u001b[1;32m   1804\u001b[0m             \u001b[0;32mreturn\u001b[0m \u001b[0mis_finished\u001b[0m\u001b[0;34m.\u001b[0m\u001b[0mvalue\u001b[0m \u001b[0;34m==\u001b[0m \u001b[0;36m1\u001b[0m\u001b[0;34m\u001b[0m\u001b[0;34m\u001b[0m\u001b[0m\n",
      "\u001b[0;31mKeyboardInterrupt\u001b[0m: "
     ]
    }
   ],
   "source": [
    "folds = 5\n",
    "\n",
    "model = lgb.LGBMClassifier(random_state=101, n_jobs = -1)\n",
    "iterations = 100\n",
    "\n",
    "#run the CV\n",
    "from datetime import datetime\n",
    "import random\n",
    "from imblearn.over_sampling import ADASYN\n",
    "from sklearn.model_selection import ParameterGrid\n",
    "\n",
    "# Initiate KFolds - stratify ensures even distribution of target class in each fold\n",
    "kf = StratifiedKFold(n_splits=folds, shuffle=True, random_state = 42)\n",
    "\n",
    "# initial model and score collected in each fold\n",
    "model_clf_model = []\n",
    "model_clf_aucs = []\n",
    "\n",
    "# divide the training and test set into n_splits\n",
    "\n",
    "X_train, y_train = np.array(X_train), np.array(y_train)\n",
    "\n",
    "for train_ind, val_ind in kf.split(X_train,y_train):\n",
    "\n",
    "    X_train_, y_train_ = X_train[train_ind], y_train[train_ind]\n",
    "    X_val_, y_val_ = X_train[val_ind], y_train[val_ind] \n",
    "\n",
    "    # Use adasyn to oversample the training set and leave validation set alone\n",
    "    X_adasyn_train, y_adasyn_train = ADASYN(random_state=42).fit_sample(X_train_,y_train_)\n",
    "\n",
    "    # a dictionary of parameters to test the model on\n",
    "    params = parameters\n",
    "\n",
    "    # Make the model into a list of parameters to test on\n",
    "    param_list = list(ParameterGrid(params))\n",
    "\n",
    "    # Initials a dictionary of each model and score for each param in param_list\n",
    "    lgb_model_aucs = {}\n",
    "\n",
    "    # run the model for each parameter picking randomly for a number of iterations\n",
    "    for param in random.sample(param_list, iterations):\n",
    "        \n",
    "        start_time = datetime.now()\n",
    "        # instantiate a model passing in param as arguments\n",
    "        model_adasyn = lgb.LGBMClassifier(random_state=90, n_jobs = -1, **param)\n",
    "        # fit the model using oversampled training data \n",
    "        model_adasyn.fit(X_adasyn_train, y_adasyn_train, eval_metric='auc',  \n",
    "                  eval_set=[(X_val_, y_val_)], early_stopping_rounds=300, verbose = False)\n",
    "\n",
    "        end_time = datetime.now()\n",
    "        duration = end_time - start_time\n",
    "\n",
    "        # append the model and its AUC score into model_aucs which is a dictionary\n",
    "        auc = roc_auc_score(y_val_, model_adasyn.predict_proba(X_val_)[:,1])\n",
    "        lgb_model_aucs.update({model_adasyn: auc})\n",
    "        \n",
    "        print(auc, param, duration)\n",
    "\n",
    "    # append this model for to a list\n",
    "    model_clf_model.append(max(lgb_model_aucs, key=lgb_model_aucs.get))\n",
    "\n",
    "    # append this auc score for the model to a list\n",
    "    model_clf_aucs.append(lgb_model_aucs[max(lgb_model_aucs, key=lgb_model_aucs.get)])"
   ]
  },
  {
   "cell_type": "code",
   "execution_count": 49,
   "metadata": {},
   "outputs": [
    {
     "data": {
      "text/plain": [
       "LGBMClassifier(boosting_type='gbdt', class_weight=None, colsample_bytree=0.3,\n",
       "               importance_type='split', learning_rate=0.1, max_depth=-1,\n",
       "               min_child_sample=300, min_child_samples=20,\n",
       "               min_child_weight=0.001, min_split_gain=0.0, n_estimators=800,\n",
       "               n_jobs=-1, num_leaves=50, objective=None, random_state=90,\n",
       "               reg_alpha=0.0, reg_lambda=0.0, silent=True, subsample=0.6,\n",
       "               subsample_for_bin=200000, subsample_freq=0)"
      ]
     },
     "execution_count": 49,
     "metadata": {},
     "output_type": "execute_result"
    }
   ],
   "source": [
    "lgb_model = lgb.LGBMClassifier(boosting_type='gbdt', class_weight=None, colsample_bytree=0.3,\n",
    "                importance_type='split', learning_rate=0.1, max_depth=-1,\n",
    "                min_child_sample=300, min_child_samples=20,\n",
    "                min_child_weight=0.001, min_split_gain=0.0, n_estimators=800,\n",
    "                n_jobs=-1, num_leaves=50, objective=None, random_state=90,\n",
    "                reg_alpha=0.0, reg_lambda=0.0, silent=True, subsample=0.6,\n",
    "                subsample_for_bin=200000, subsample_freq=0)\n",
    "lgb_model.fit(X_adasyn_train, y_adasyn_train, eval_metric='auc',  \n",
    "                  eval_set=[(X_val, y_val)], \n",
    "                  verbose=False, early_stopping_rounds=300)"
   ]
  },
  {
   "cell_type": "code",
   "execution_count": 50,
   "metadata": {},
   "outputs": [
    {
     "name": "stdout",
     "output_type": "stream",
     "text": [
      "              precision    recall  f1-score   support\n",
      "\n",
      "           0       0.76      0.96      0.85     27868\n",
      "           1       0.53      0.12      0.20      9863\n",
      "\n",
      "    accuracy                           0.74     37731\n",
      "   macro avg       0.64      0.54      0.52     37731\n",
      "weighted avg       0.70      0.74      0.68     37731\n",
      "\n",
      "ROC AUC score =  0.6758777394702429\n"
     ]
    },
    {
     "data": {
      "text/plain": [
       "0.6758777394702429"
      ]
     },
     "execution_count": 50,
     "metadata": {},
     "output_type": "execute_result"
    },
    {
     "data": {
      "image/png": "[encoded data removed]",
      "text/plain": [
       "<Figure size 432x288 with 1 Axes>"
      ]
     },
     "metadata": {
      "needs_background": "light"
     },
     "output_type": "display_data"
    }
   ],
   "source": [
    "print(classification_report(y_val, lgb_model.predict(X_val)))\n",
    "plot_ROC(X_val, y_val, lgb_model)"
   ]
  },
  {
   "cell_type": "markdown",
   "metadata": {},
   "source": [
    "### Parameter Tuning with Catboost"
   ]
  },
  {
   "cell_type": "code",
   "execution_count": 53,
   "metadata": {},
   "outputs": [],
   "source": [
    "booking_df_cat = booking_df.copy()\n",
    "X_catboost = booking_df_cat.drop('booker', 1)\n",
    "y_catboost = booking_df_cat.booker\n",
    "\n",
    "X_catboost, X_test_catboost, y_catboost, y_test_catboost = train_test_split(X_catboost, y_catboost, test_size=0.20, random_state=42, stratify = y_catboost)\n",
    "X_train_catboost, X_val_catboost, y_train_catboost, y_val_catboost = train_test_split(X_catboost, y_catboost, test_size=0.25, random_state=42, stratify = y_catboost)\n",
    "\n",
    "booking_features = list(X_train_catboost.drop(['age', 'delta_account_created_first_activity'], 1).columns)"
   ]
  },
  {
   "cell_type": "code",
   "execution_count": 83,
   "metadata": {},
   "outputs": [
    {
     "data": {
      "text/plain": [
       "RandomizedSearchCV(cv=StratifiedKFold(n_splits=3, random_state=42, shuffle=True),\n",
       "                   error_score='raise-deprecating',\n",
       "                   estimator=<catboost.core.CatBoostClassifier object at 0x1a2ea66048>,\n",
       "                   iid='warn', n_iter=50, n_jobs=1,\n",
       "                   param_distributions={'depth': [2, 3, 4, 5, 6, 7, 8, 9, 10],\n",
       "                                        'l2_leaf_reg': [2, 3, 4, 5, 6, 7, 8, 9],\n",
       "                                        'learning_rate': [0.001, 0.01, 0.1, 1],\n",
       "                                        'n_estimators': [100, 200, 300, 400,\n",
       "                                                         500, 600]},\n",
       "                   pre_dispatch='2*n_jobs', random_state=None, refit=True,\n",
       "                   return_train_score=False, scoring='roc_auc', verbose=0)"
      ]
     },
     "execution_count": 83,
     "metadata": {},
     "output_type": "execute_result"
    }
   ],
   "source": [
    "folds = 3\n",
    "catboost_params = {\n",
    "                    'learning_rate': [0.001, 0.01, 0.1, 1],\n",
    "                    'depth': [2, 3, 4, 5, 6, 7, 8, 9, 10],\n",
    "                    'l2_leaf_reg': [2, 3, 4, 5, 6, 7, 8, 9],\n",
    "                    'n_estimators': [100, 200, 300, 400, 500, 600]}\n",
    "\n",
    "#run the CV\n",
    "from sklearn.model_selection import RandomizedSearchCV\n",
    "\n",
    "# Initiate KFolds - stratify ensures even distribution of target class in each fold\n",
    "kf = StratifiedKFold(n_splits=folds, shuffle=True, random_state = 42)\n",
    "# instantiate a model passing in param as arguments\n",
    "model = CatBoostClassifier(loss_function='Logloss',\n",
    "                             cat_features=booking_features, random_state = 69, verbose = False)\n",
    "\n",
    "gridsearchCV = RandomizedSearchCV(model, catboost_params, scoring='roc_auc', cv = kf, n_iter=50, n_jobs = 1)\n",
    "# fit the model using oversampled training data \n",
    "gridsearchCV.fit(X_train_catboost, y_train_catboost)"
   ]
  },
  {
   "cell_type": "code",
   "execution_count": 87,
   "metadata": {},
   "outputs": [
    {
     "data": {
      "text/plain": [
       "{'n_estimators': 500, 'learning_rate': 0.1, 'l2_leaf_reg': 6, 'depth': 4}"
      ]
     },
     "execution_count": 87,
     "metadata": {},
     "output_type": "execute_result"
    }
   ],
   "source": [
    "gridsearchCV.best_params_"
   ]
  },
  {
   "cell_type": "code",
   "execution_count": 88,
   "metadata": {},
   "outputs": [],
   "source": [
    "from catboost import CatBoostClassifier\n",
    "\n",
    "catboost_adasyn = CatBoostClassifier(iterations=500,l2_leaf_reg=6, loss_function='Logloss', \n",
    "                                     cat_features=booking_features, learning_rate=0.1, \n",
    "                                     depth= 4, random_state = 69, verbose = False)\n",
    "catboost_adasyn_clf = catboost_adasyn.fit(X_train_catboost, y_train_catboost);"
   ]
  },
  {
   "cell_type": "code",
   "execution_count": 98,
   "metadata": {},
   "outputs": [
    {
     "name": "stdout",
     "output_type": "stream",
     "text": [
      "              precision    recall  f1-score   support\n",
      "\n",
      "           0       0.75      0.98      0.85     22295\n",
      "           1       0.62      0.07      0.13      7890\n",
      "\n",
      "    accuracy                           0.75     30185\n",
      "   macro avg       0.68      0.53      0.49     30185\n",
      "weighted avg       0.72      0.75      0.66     30185\n",
      "\n",
      "ROC AUC score =  0.6817484070467698\n"
     ]
    },
    {
     "data": {
      "text/plain": [
       "0.6817484070467698"
      ]
     },
     "execution_count": 98,
     "metadata": {},
     "output_type": "execute_result"
    },
    {
     "data": {
      "image/png": "[encoded data removed]",
      "text/plain": [
       "<Figure size 432x288 with 1 Axes>"
      ]
     },
     "metadata": {
      "needs_background": "light"
     },
     "output_type": "display_data"
    }
   ],
   "source": [
    "print(classification_report(y_val_catboost, catboost_adasyn_clf.predict(X_val_catboost)))\n",
    "plot_ROC(X_val_catboost, y_val_catboost, catboost_adasyn_clf)"
   ]
  },
  {
   "cell_type": "markdown",
   "metadata": {},
   "source": [
    "#### ExtraTrees Classifer"
   ]
  },
  {
   "cell_type": "code",
   "execution_count": 99,
   "metadata": {},
   "outputs": [],
   "source": [
    "from sklearn.ensemble import ExtraTreesClassifier"
   ]
  },
  {
   "cell_type": "code",
   "execution_count": 103,
   "metadata": {
    "collapsed": true,
    "jupyter": {
     "outputs_hidden": true,
     "source_hidden": true
    }
   },
   "outputs": [
    {
     "name": "stdout",
     "output_type": "stream",
     "text": [
      "0.659763567098618 {'max_depth': 6, 'max_features': 'auto', 'n_estimators': 1200} 0:00:28.965019\n",
      "0.6616964237235428 {'max_depth': 8, 'max_features': 'sqrt', 'n_estimators': 100} 0:00:03.010600\n",
      "0.6610763400163989 {'max_depth': 7, 'max_features': 'auto', 'n_estimators': 1000} 0:00:26.990808\n",
      "0.6600298424572812 {'max_depth': 6, 'max_features': 'sqrt', 'n_estimators': 600} 0:00:14.007416\n",
      "0.6608763888292428 {'max_depth': 8, 'max_features': 'log2', 'n_estimators': 200} 0:00:04.692992\n",
      "0.6639093062395612 {'max_depth': 10, 'max_features': 'sqrt', 'n_estimators': 500} 0:00:17.040356\n",
      "0.6650917046819742 {'max_depth': 11, 'max_features': 'auto', 'n_estimators': 600} 0:00:21.941107\n",
      "0.6655324257091786 {'max_depth': 12, 'max_features': 'auto', 'n_estimators': 500} 0:00:18.497141\n",
      "0.6608807837606296 {'max_depth': 7, 'max_features': 'sqrt', 'n_estimators': 500} 0:00:13.448471\n",
      "0.6597465913123179 {'max_depth': 6, 'max_features': 'auto', 'n_estimators': 1000} 0:00:24.010466\n",
      "0.6606948505127394 {'max_depth': 7, 'max_features': 'log2', 'n_estimators': 400} 0:00:08.517134\n",
      "0.6650692625178525 {'max_depth': 11, 'max_features': 'auto', 'n_estimators': 900} 0:00:31.573604\n",
      "0.6608250849178601 {'max_depth': 7, 'max_features': 'log2', 'n_estimators': 600} 0:00:12.558701\n",
      "0.6595644090364969 {'max_depth': 6, 'max_features': 'log2', 'n_estimators': 1200} 0:00:23.439842\n",
      "0.6632039142947049 {'max_depth': 10, 'max_features': 'log2', 'n_estimators': 500} 0:00:13.964954\n",
      "0.6650006553832284 {'max_depth': 11, 'max_features': 'auto', 'n_estimators': 400} 0:00:15.531023\n",
      "0.6592015215892781 {'max_depth': 6, 'max_features': 'log2', 'n_estimators': 600} 0:00:12.157842\n",
      "0.6637263854115287 {'max_depth': 10, 'max_features': 'auto', 'n_estimators': 300} 0:00:10.538962\n",
      "0.6600148985991098 {'max_depth': 6, 'max_features': 'auto', 'n_estimators': 700} 0:00:17.669068\n",
      "0.6622349956423964 {'max_depth': 8, 'max_features': 'auto', 'n_estimators': 500} 0:00:15.281782\n",
      "0.6656111924844461 {'max_depth': 12, 'max_features': 'auto', 'n_estimators': 1000} 0:00:38.856156\n",
      "0.6631824617177827 {'max_depth': 10, 'max_features': 'log2', 'n_estimators': 600} 0:00:15.708195\n",
      "0.6597465913123179 {'max_depth': 6, 'max_features': 'sqrt', 'n_estimators': 1000} 0:00:25.500828\n",
      "0.6590746870710622 {'max_depth': 6, 'max_features': 'sqrt', 'n_estimators': 100} 0:00:02.528760\n",
      "0.662106973255722 {'max_depth': 8, 'max_features': 'sqrt', 'n_estimators': 300} 0:00:09.709007\n",
      "0.6634433889397419 {'max_depth': 9, 'max_features': 'sqrt', 'n_estimators': 1200} 0:00:39.893708\n",
      "0.6634433889397419 {'max_depth': 9, 'max_features': 'auto', 'n_estimators': 1200} 0:00:37.648183\n",
      "0.6593284652531413 {'max_depth': 6, 'max_features': 'log2', 'n_estimators': 500} 0:00:09.825433\n",
      "0.6646605902908019 {'max_depth': 12, 'max_features': 'log2', 'n_estimators': 500} 0:00:15.589982\n",
      "0.6622415261902765 {'max_depth': 8, 'max_features': 'sqrt', 'n_estimators': 200} 0:00:05.818131\n",
      "0.6634713938936736 {'max_depth': 9, 'max_features': 'auto', 'n_estimators': 300} 0:00:10.602145\n",
      "0.6648974327066515 {'max_depth': 11, 'max_features': 'sqrt', 'n_estimators': 300} 0:00:10.971742\n",
      "0.6655582513883581 {'max_depth': 12, 'max_features': 'auto', 'n_estimators': 900} 0:00:33.102750\n",
      "0.6609281784387548 {'max_depth': 7, 'max_features': 'sqrt', 'n_estimators': 800} 0:00:20.843282\n",
      "0.6630453947951584 {'max_depth': 10, 'max_features': 'sqrt', 'n_estimators': 100} 0:00:03.323226\n",
      "0.6636553807108586 {'max_depth': 11, 'max_features': 'log2', 'n_estimators': 200} 0:00:05.623073\n",
      "0.6609442319443376 {'max_depth': 7, 'max_features': 'auto', 'n_estimators': 900} 0:00:23.419569\n",
      "0.6646872582105577 {'max_depth': 12, 'max_features': 'log2', 'n_estimators': 800} 0:00:23.257086\n",
      "0.6648151114214793 {'max_depth': 12, 'max_features': 'log2', 'n_estimators': 1000} 0:00:29.197778\n",
      "0.6600624988348702 {'max_depth': 6, 'max_features': 'auto', 'n_estimators': 500} 0:00:11.604529\n",
      "0.6617925592094398 {'max_depth': 9, 'max_features': 'log2', 'n_estimators': 200} 0:00:04.883379\n",
      "0.6645083466659591 {'max_depth': 12, 'max_features': 'sqrt', 'n_estimators': 100} 0:00:03.735695\n",
      "0.6616650043299533 {'max_depth': 8, 'max_features': 'log2', 'n_estimators': 1200} 0:00:27.004555\n",
      "0.6650917046819742 {'max_depth': 11, 'max_features': 'sqrt', 'n_estimators': 600} 0:00:20.897374\n",
      "0.6609138730826185 {'max_depth': 7, 'max_features': 'log2', 'n_estimators': 700} 0:00:14.328009\n",
      "0.6655700427564246 {'max_depth': 12, 'max_features': 'auto', 'n_estimators': 800} 0:00:29.033591\n",
      "0.6609281784387548 {'max_depth': 7, 'max_features': 'auto', 'n_estimators': 800} 0:00:20.696400\n",
      "0.6607654641081744 {'max_depth': 7, 'max_features': 'sqrt', 'n_estimators': 100} 0:00:02.627425\n",
      "0.6635837466036241 {'max_depth': 10, 'max_features': 'auto', 'n_estimators': 200} 0:00:06.552588\n",
      "0.664112502690622 {'max_depth': 11, 'max_features': 'log2', 'n_estimators': 600} 0:00:16.613977\n",
      "0.6645807766639805 {'max_depth': 7, 'max_features': 'log2', 'n_estimators': 400} 0:00:08.190167\n",
      "0.6658851721631167 {'max_depth': 8, 'max_features': 'log2', 'n_estimators': 1200} 0:00:27.462298\n",
      "0.668455906346851 {'max_depth': 10, 'max_features': 'sqrt', 'n_estimators': 500} 0:00:16.404426\n",
      "0.6688815714536285 {'max_depth': 12, 'max_features': 'log2', 'n_estimators': 500} 0:00:14.589009\n",
      "0.6683580428480511 {'max_depth': 10, 'max_features': 'sqrt', 'n_estimators': 300} 0:00:09.842658\n",
      "0.6677028562195974 {'max_depth': 10, 'max_features': 'log2', 'n_estimators': 900} 0:00:23.673629\n",
      "0.663054265441064 {'max_depth': 6, 'max_features': 'sqrt', 'n_estimators': 100} 0:00:02.341686\n",
      "0.6696183983173998 {'max_depth': 12, 'max_features': 'sqrt', 'n_estimators': 1200} 0:00:43.635754\n",
      "0.669558688048586 {'max_depth': 12, 'max_features': 'sqrt', 'n_estimators': 600} 0:00:21.968846\n",
      "0.6680569937981327 {'max_depth': 11, 'max_features': 'log2', 'n_estimators': 800} 0:00:22.199898\n",
      "0.6677894009086432 {'max_depth': 9, 'max_features': 'sqrt', 'n_estimators': 800} 0:00:24.581159\n",
      "0.669232751078988 {'max_depth': 11, 'max_features': 'sqrt', 'n_estimators': 500} 0:00:17.324839\n",
      "0.6667414741392976 {'max_depth': 8, 'max_features': 'sqrt', 'n_estimators': 800} 0:00:22.741631\n",
      "0.6672958156667033 {'max_depth': 10, 'max_features': 'log2', 'n_estimators': 200} 0:00:05.267085\n",
      "0.6677270510395477 {'max_depth': 10, 'max_features': 'log2', 'n_estimators': 500} 0:00:13.069346\n",
      "0.6695470763541692 {'max_depth': 12, 'max_features': 'auto', 'n_estimators': 900} 0:00:32.688886\n",
      "0.6684538852607635 {'max_depth': 10, 'max_features': 'auto', 'n_estimators': 800} 0:00:26.058781\n",
      "0.6688912002643049 {'max_depth': 12, 'max_features': 'log2', 'n_estimators': 900} 0:00:26.104958\n",
      "0.6677166363520125 {'max_depth': 9, 'max_features': 'auto', 'n_estimators': 400} 0:00:12.440695\n",
      "0.6695617460555285 {'max_depth': 12, 'max_features': 'auto', 'n_estimators': 400} 0:00:14.706678\n",
      "0.6633126824905664 {'max_depth': 6, 'max_features': 'auto', 'n_estimators': 300} 0:00:07.010295\n",
      "0.6681674640715383 {'max_depth': 11, 'max_features': 'log2', 'n_estimators': 1000} 0:00:27.560861\n",
      "0.665196394756439 {'max_depth': 7, 'max_features': 'auto', 'n_estimators': 1000} 0:00:25.855532\n",
      "0.6646711106620455 {'max_depth': 7, 'max_features': 'log2', 'n_estimators': 1000} 0:00:20.474612\n",
      "0.6650991734209053 {'max_depth': 7, 'max_features': 'auto', 'n_estimators': 900} 0:00:23.352231\n",
      "0.664592677604741 {'max_depth': 7, 'max_features': 'log2', 'n_estimators': 800} 0:00:16.338940\n",
      "0.6684531012030643 {'max_depth': 10, 'max_features': 'sqrt', 'n_estimators': 1200} 0:00:39.260717\n",
      "0.6646676051418918 {'max_depth': 7, 'max_features': 'log2', 'n_estimators': 700} 0:00:14.293598\n",
      "0.6676803532178843 {'max_depth': 10, 'max_features': 'sqrt', 'n_estimators': 100} 0:00:03.362228\n",
      "0.6635676249456249 {'max_depth': 6, 'max_features': 'log2', 'n_estimators': 900} 0:00:16.421381\n",
      "0.663831828741162 {'max_depth': 7, 'max_features': 'log2', 'n_estimators': 100} 0:00:02.139254\n",
      "0.6678147745438812 {'max_depth': 9, 'max_features': 'auto', 'n_estimators': 1200} 0:00:36.850981\n",
      "0.6667953485447731 {'max_depth': 8, 'max_features': 'auto', 'n_estimators': 500} 0:00:14.272045\n",
      "0.6692435623432711 {'max_depth': 11, 'max_features': 'sqrt', 'n_estimators': 600} 0:00:20.838388\n",
      "0.6629873021837434 {'max_depth': 6, 'max_features': 'log2', 'n_estimators': 100} 0:00:01.919939\n",
      "0.6650937850707781 {'max_depth': 7, 'max_features': 'auto', 'n_estimators': 300} 0:00:07.796101\n",
      "0.6675921421788329 {'max_depth': 9, 'max_features': 'auto', 'n_estimators': 200} 0:00:06.196414\n",
      "0.665161306810033 {'max_depth': 7, 'max_features': 'auto', 'n_estimators': 700} 0:00:18.215591\n",
      "0.6685284853492234 {'max_depth': 11, 'max_features': 'sqrt', 'n_estimators': 200} 0:00:06.932689\n",
      "0.6633126824905664 {'max_depth': 6, 'max_features': 'sqrt', 'n_estimators': 300} 0:00:07.003767\n",
      "0.6629800109928892 {'max_depth': 6, 'max_features': 'log2', 'n_estimators': 200} 0:00:03.706967\n",
      "0.668455906346851 {'max_depth': 10, 'max_features': 'auto', 'n_estimators': 500} 0:00:16.373263\n",
      "0.6691889129758932 {'max_depth': 11, 'max_features': 'auto', 'n_estimators': 900} 0:00:31.365194\n",
      "0.668421034880413 {'max_depth': 10, 'max_features': 'auto', 'n_estimators': 400} 0:00:13.124670\n",
      "0.6680508468585378 {'max_depth': 11, 'max_features': 'log2', 'n_estimators': 700} 0:00:19.440206\n",
      "0.6677894009086432 {'max_depth': 9, 'max_features': 'auto', 'n_estimators': 800} 0:00:24.605430\n",
      "0.6696183983173998 {'max_depth': 12, 'max_features': 'auto', 'n_estimators': 1200} 0:00:43.843921\n",
      "0.6669710120334083 {'max_depth': 9, 'max_features': 'log2', 'n_estimators': 600} 0:00:14.603134\n",
      "0.6639259283991743 {'max_depth': 6, 'max_features': 'auto', 'n_estimators': 1000} 0:00:24.119492\n",
      "0.6658075813766118 {'max_depth': 8, 'max_features': 'log2', 'n_estimators': 800} 0:00:18.533978\n",
      "0.663341667157203 {'max_depth': 6, 'max_features': 'sqrt', 'n_estimators': 300} 0:00:07.143538\n",
      "0.6649777609037404 {'max_depth': 7, 'max_features': 'sqrt', 'n_estimators': 200} 0:00:05.306316\n",
      "0.6660112399091728 {'max_depth': 7, 'max_features': 'auto', 'n_estimators': 800} 0:00:21.179679\n",
      "0.6637910795707196 {'max_depth': 6, 'max_features': 'log2', 'n_estimators': 200} 0:00:03.813377\n",
      "0.664815235384254 {'max_depth': 6, 'max_features': 'log2', 'n_estimators': 900} 0:00:16.770756\n",
      "0.6691033560903988 {'max_depth': 10, 'max_features': 'auto', 'n_estimators': 800} 0:00:27.020968\n",
      "0.6694826599200012 {'max_depth': 11, 'max_features': 'auto', 'n_estimators': 100} 0:00:03.679911\n",
      "0.6686844746290044 {'max_depth': 10, 'max_features': 'sqrt', 'n_estimators': 100} 0:00:03.486119\n",
      "0.670375741660825 {'max_depth': 12, 'max_features': 'sqrt', 'n_estimators': 600} 0:00:22.449561\n",
      "0.6686844746290044 {'max_depth': 10, 'max_features': 'auto', 'n_estimators': 100} 0:00:03.382253\n",
      "0.6690818663604686 {'max_depth': 10, 'max_features': 'auto', 'n_estimators': 1000} 0:00:33.608094\n",
      "0.6704022686431194 {'max_depth': 12, 'max_features': 'sqrt', 'n_estimators': 1000} 0:00:37.301408\n",
      "0.6669987596716564 {'max_depth': 8, 'max_features': 'log2', 'n_estimators': 700} 0:00:16.145923\n",
      "0.6666781946797512 {'max_depth': 8, 'max_features': 'log2', 'n_estimators': 600} 0:00:13.960128\n",
      "0.6703445030556985 {'max_depth': 12, 'max_features': 'sqrt', 'n_estimators': 100} 0:00:03.767796\n",
      "0.6660394350606321 {'max_depth': 7, 'max_features': 'log2', 'n_estimators': 1200} 0:00:25.024642\n",
      "0.6686226632310894 {'max_depth': 10, 'max_features': 'log2', 'n_estimators': 800} 0:00:21.460338\n",
      "0.6691835209874473 {'max_depth': 10, 'max_features': 'auto', 'n_estimators': 1200} 0:00:40.628919\n",
      "0.6662974864590963 {'max_depth': 7, 'max_features': 'sqrt', 'n_estimators': 1200} 0:00:31.997380\n",
      "0.6685849884400243 {'max_depth': 10, 'max_features': 'log2', 'n_estimators': 1000} 0:00:26.724747\n",
      "0.6671386839548225 {'max_depth': 8, 'max_features': 'auto', 'n_estimators': 700} 0:00:20.424625\n",
      "0.6668295287306409 {'max_depth': 8, 'max_features': 'sqrt', 'n_estimators': 300} 0:00:08.855641\n",
      "0.666088454129683 {'max_depth': 7, 'max_features': 'auto', 'n_estimators': 1000} 0:00:26.534346\n",
      "0.6691218623989217 {'max_depth': 10, 'max_features': 'auto', 'n_estimators': 900} 0:00:30.271662\n",
      "0.6680180183081003 {'max_depth': 10, 'max_features': 'log2', 'n_estimators': 200} 0:00:05.375812\n",
      "0.6677042424190561 {'max_depth': 10, 'max_features': 'log2', 'n_estimators': 300} 0:00:08.181940\n",
      "0.6688295216650259 {'max_depth': 10, 'max_features': 'auto', 'n_estimators': 200} 0:00:06.804321\n",
      "0.6669219856877198 {'max_depth': 8, 'max_features': 'sqrt', 'n_estimators': 400} 0:00:11.644863\n",
      "0.6666292956752203 {'max_depth': 8, 'max_features': 'log2', 'n_estimators': 500} 0:00:11.606881\n",
      "0.6704260705246402 {'max_depth': 12, 'max_features': 'auto', 'n_estimators': 200} 0:00:07.536490\n",
      "0.6690251085873524 {'max_depth': 10, 'max_features': 'auto', 'n_estimators': 600} 0:00:20.200390\n",
      "0.6699964232779476 {'max_depth': 11, 'max_features': 'auto', 'n_estimators': 800} 0:00:28.504064\n",
      "0.6659692391570669 {'max_depth': 7, 'max_features': 'log2', 'n_estimators': 1000} 0:00:21.121332\n",
      "0.6701279284914348 {'max_depth': 11, 'max_features': 'sqrt', 'n_estimators': 500} 0:00:18.112753\n",
      "0.6648774906570611 {'max_depth': 6, 'max_features': 'log2', 'n_estimators': 700} 0:00:13.223399\n",
      "0.6704460740013449 {'max_depth': 12, 'max_features': 'auto', 'n_estimators': 800} 0:00:30.089395\n",
      "0.6652000276177503 {'max_depth': 7, 'max_features': 'auto', 'n_estimators': 300} 0:00:08.110072\n",
      "0.669189151285774 {'max_depth': 10, 'max_features': 'auto', 'n_estimators': 500} 0:00:16.966554\n",
      "0.6653550090832265 {'max_depth': 7, 'max_features': 'log2', 'n_estimators': 300} 0:00:06.364988\n",
      "0.6642678248541422 {'max_depth': 6, 'max_features': 'auto', 'n_estimators': 1200} 0:00:28.564043\n",
      "0.6669219856877198 {'max_depth': 8, 'max_features': 'auto', 'n_estimators': 400} 0:00:11.649039\n",
      "0.668523833758651 {'max_depth': 9, 'max_features': 'auto', 'n_estimators': 700} 0:00:22.133446\n",
      "0.6701129786395286 {'max_depth': 11, 'max_features': 'sqrt', 'n_estimators': 600} 0:00:21.496682\n",
      "0.6685231624888343 {'max_depth': 9, 'max_features': 'sqrt', 'n_estimators': 800} 0:00:25.200335\n",
      "0.6690402985682986 {'max_depth': 10, 'max_features': 'sqrt', 'n_estimators': 700} 0:00:23.801796\n",
      "0.666928774790581 {'max_depth': 8, 'max_features': 'log2', 'n_estimators': 1000} 0:00:23.320174\n",
      "0.6682369068431141 {'max_depth': 9, 'max_features': 'sqrt', 'n_estimators': 300} 0:00:09.516964\n",
      "0.6698258261482268 {'max_depth': 11, 'max_features': 'auto', 'n_estimators': 200} 0:00:07.091392\n",
      "0.6642520709337837 {'max_depth': 6, 'max_features': 'sqrt', 'n_estimators': 700} 0:00:16.690436\n",
      "0.6698258261482268 {'max_depth': 11, 'max_features': 'sqrt', 'n_estimators': 200} 0:00:07.197143\n"
     ]
    }
   ],
   "source": [
    "folds = 3\n",
    "extra_params = {'max_depth': [6, 7, 8, 9, 10, 11, 12],\n",
    "                'n_estimators': [100, 200, 300, 400, 500, 600, 700, 800, 900, 1000, 1200],\n",
    "                'max_features': ['auto', 'sqrt', 'log2']}\n",
    "\n",
    "# model = ExtraTreesClassifier(random_state=42, n_jobs = 1, **param)\n",
    "iterations = 50\n",
    "\n",
    "#run the CV\n",
    "from datetime import datetime\n",
    "import random\n",
    "from imblearn.over_sampling import ADASYN\n",
    "from sklearn.model_selection import ParameterGrid\n",
    "\n",
    "# Initiate KFolds - stratify ensures even distribution of target class in each fold\n",
    "kf = StratifiedKFold(n_splits=folds, shuffle=True, random_state = 42)\n",
    "\n",
    "# initial model and score collected in each fold\n",
    "model_clf_model = []\n",
    "model_clf_aucs = []\n",
    "\n",
    "# divide the training and test set into n_splits\n",
    "\n",
    "X_train, y_train = np.array(X_train), np.array(y_train)\n",
    "\n",
    "for train_ind, val_ind in kf.split(X_train,y_train):\n",
    "\n",
    "    X_train_, y_train_ = X_train[train_ind], y_train[train_ind]\n",
    "    X_val_, y_val_ = X_train[val_ind], y_train[val_ind] \n",
    "\n",
    "    # Use adasyn to oversample the training set and leave validation set alone\n",
    "    X_adasyn_train, y_adasyn_train = ADASYN(random_state=42).fit_sample(X_train_,y_train_)\n",
    "\n",
    "    # a dictionary of parameters to test the model on\n",
    "    params = parameters\n",
    "\n",
    "    # Make the model into a list of parameters to test on\n",
    "    param_list = list(ParameterGrid(extra_params))\n",
    "\n",
    "    # Initials a dictionary of each model and score for each param in param_list\n",
    "    extra_model_aucs = {}\n",
    "\n",
    "    # run the model for each parameter picking randomly for a number of iterations\n",
    "    for param in random.sample(param_list, iterations):\n",
    "        \n",
    "        start_time = datetime.now()\n",
    "        # instantiate a model passing in param as arguments\n",
    "        model_adasyn = ExtraTreesClassifier(random_state=69, n_jobs = -1, **param)\n",
    "        # fit the model using oversampled training data \n",
    "        model_adasyn.fit(X_adasyn_train, y_adasyn_train)\n",
    "        end_time = datetime.now()\n",
    "        duration = end_time - start_time\n",
    "\n",
    "        # append the model and its AUC score into model_aucs which is a dictionary\n",
    "        auc = roc_auc_score(y_val_, model_adasyn.predict_proba(X_val_)[:,1])\n",
    "        extra_model_aucs.update({model_adasyn: auc})\n",
    "        \n",
    "        print(auc, param, duration)\n",
    "\n",
    "    # append this model for to a list\n",
    "    model_clf_model.append(max(extra_model_aucs, key=extra_model_aucs.get))\n",
    "\n",
    "    # append this auc score for the model to a list\n",
    "    model_clf_aucs.append(extra_model_aucs[max(extra_model_aucs, key=extra_model_aucs.get)])"
   ]
  },
  {
   "cell_type": "code",
   "execution_count": 107,
   "metadata": {},
   "outputs": [
    {
     "data": {
      "text/plain": [
       "ExtraTreesClassifier(bootstrap=False, class_weight=None, criterion='gini',\n",
       "                     max_depth=12, max_features='auto', max_leaf_nodes=None,\n",
       "                     min_impurity_decrease=0.0, min_impurity_split=None,\n",
       "                     min_samples_leaf=1, min_samples_split=2,\n",
       "                     min_weight_fraction_leaf=0.0, n_estimators=800, n_jobs=-1,\n",
       "                     oob_score=False, random_state=69, verbose=0,\n",
       "                     warm_start=False)"
      ]
     },
     "execution_count": 107,
     "metadata": {},
     "output_type": "execute_result"
    }
   ],
   "source": [
    "extra_model = ExtraTreesClassifier(bootstrap=False, class_weight=None, criterion='gini',\n",
    "                      max_depth=12, max_features='auto', max_leaf_nodes=None,\n",
    "                      min_impurity_decrease=0.0, min_impurity_split=None,\n",
    "                      min_samples_leaf=1, min_samples_split=2,\n",
    "                      min_weight_fraction_leaf=0.0, n_estimators=800, n_jobs=-1,\n",
    "                      oob_score=False, random_state=69, verbose=0,\n",
    "                      warm_start=False)\n",
    "extra_model.fit(X_adasyn_train, y_adasyn_train)"
   ]
  },
  {
   "cell_type": "code",
   "execution_count": 113,
   "metadata": {},
   "outputs": [
    {
     "name": "stdout",
     "output_type": "stream",
     "text": [
      "              precision    recall  f1-score   support\n",
      "\n",
      "           0       0.81      0.65      0.72     27868\n",
      "           1       0.37      0.58      0.45      9863\n",
      "\n",
      "    accuracy                           0.63     37731\n",
      "   macro avg       0.59      0.61      0.59     37731\n",
      "weighted avg       0.70      0.63      0.65     37731\n",
      "\n",
      "ROC AUC score =  0.663438060813073\n"
     ]
    },
    {
     "data": {
      "text/plain": [
       "0.663438060813073"
      ]
     },
     "execution_count": 113,
     "metadata": {},
     "output_type": "execute_result"
    },
    {
     "data": {
      "image/png": "[encoded data removed]",
      "text/plain": [
       "<Figure size 432x288 with 1 Axes>"
      ]
     },
     "metadata": {
      "needs_background": "light"
     },
     "output_type": "display_data"
    }
   ],
   "source": [
    "print(classification_report(y_val, extra_model.predict(X_val)))\n",
    "plot_ROC(X_val, y_val, extra_model)"
   ]
  },
  {
   "cell_type": "code",
   "execution_count": null,
   "metadata": {},
   "outputs": [],
   "source": [
    "plt.figure(figsize = (14,12))\n",
    "for model in zip(sorted_by_AUC):\n",
    "\n",
    "    fpr, tpr, thresholds = roc_curve(y_val, model[0][0].predict_proba(X_val)[:,1])\n",
    "    plt.plot(fpr, tpr,lw=lw, label = model[0][1] + f' = {model[0][2]}')\n",
    "    \n",
    "fpr_xgb_adasyn, tpr_xgb_adasyn, thresholds_xgb_adasyn = roc_curve(y_val, XGBoost_adasyn_clf.predict_proba(X_val.values)[:,1])\n",
    "auc_xgb_adasyn = roc_auc_score(y_val, XGBoost_adasyn_clf.predict_proba(X_val.values)[:,1])\n",
    "plt.plot(fpr_xgb_adasyn, tpr_xgb_adasyn,lw=lw, label = 'XGBoost_adasyn' + f' = {round(auc_xgb_adasyn,3)}')\n",
    "\n",
    "fpr_xgb_smoted, tpr_xgb_smoted, thresholds_xgb_smoted = roc_curve(y_val, XGBoost_smoted_clf.predict_proba(X_val.values)[:,1])\n",
    "auc_xgb_smoted = roc_auc_score(y_val, XGBoost_smoted_clf.predict_proba(X_val.values)[:,1])\n",
    "plt.plot(fpr_xgb_smoted, tpr_xgb_smoted,lw=lw, label = 'XGBoost_smoted' + f' = {round(auc_xgb_smoted,3)}')\n",
    "\n",
    "# fpr_logit_adasyn, tpr_logit_adasyn, thresholds_logit_adasyn = roc_curve(y_val, logit_adasyn.predict_proba(X_val_adasyn_scaled)[:,1])\n",
    "# auc_logit_adasyn = roc_auc_score(y_val, logit_adasyn.predict_proba(X_val_adasyn_scaled)[:,1])\n",
    "# plt.plot(fpr_logit_adasyn, tpr_logit_adasyn,lw=lw, label = 'Logit_adasyn' + f' = {round(auc_logit_adasyn,3)}')\n",
    "\n",
    "# fpr_logit_smoted, tpr_logit_smoted, thresholds_logit_smoted = roc_curve(y_val, logit_adasyn.predict_proba(X_val_smoted_scaled)[:,1])\n",
    "# auc_logit_smoted = roc_auc_score(y_val, logit_smoted.predict_proba(X_val_smoted_scaled)[:,1])\n",
    "# plt.plot(fpr_logit_smoted, tpr_logit_smoted,lw=lw, label = 'Logit_adasyn' + f' = {round(auc_logit_smoted,3)}')\n",
    "\n",
    "# fpr_xgb_smoted, tpr_xgb_smoted, thresholds_xgb_smoted = roc_curve(y_val, XGBoost_smoted_clf.predict_proba(X_val)[:,1])\n",
    "# auc_xgb_smoted = roc_auc_score(y_val, XGBoost_smoted_clf.predict_proba(X_val.values)[:,1])\n",
    "# plt.plot(fpr_xgb_smoted, tpr_xgb_smoted,lw=2, label = 'XGBoost_smoted' + f' = {round(auc_xgb_smoted,3)}')\n",
    "\n",
    "        \n",
    "plt.plot([0,1],[0,1],c='violet',ls='--', lw=lw);\n",
    "plt.xlim([0,1.00]);\n",
    "plt.ylim([0,1.00]);\n",
    "plt.xlabel('False Positive Rate', size = 20);\n",
    "plt.ylabel('True Positive Rate', size = 20);\n",
    "plt.title('ROC Curve', size = 25);\n",
    "plt.legend(loc = 'lower right', prop={'size': 15});"
   ]
  }
 ],
 "metadata": {
  "kernelspec": {
   "display_name": "Python 3",
   "language": "python",
   "name": "python3"
  },
  "language_info": {
   "codemirror_mode": {
    "name": "ipython",
    "version": 3
   },
   "file_extension": ".py",
   "mimetype": "text/x-python",
   "name": "python",
   "nbconvert_exporter": "python",
   "pygments_lexer": "ipython3",
   "version": "3.7.3"
  }
 },
 "nbformat": 4,
 "nbformat_minor": 4
}
