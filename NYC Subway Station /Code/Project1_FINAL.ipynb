{
 "cells": [
  {
   "cell_type": "markdown",
   "metadata": {},
   "source": [
    "## Problem statement:\n",
    "WTWY needs to optimize their street teams so that they can get the most email signups for their annual OMGYN Gala. Ideally, the email signups will convert at a high rate to gala attendees, and among attendees, many will make contributions to WTWY.\n",
    "\n",
    "MTA data obtained from the NYC Data Portal provides rich information about the travel patterns of New Yorkers -- using this information, can we create a street team deployment plan that will optimize WTWY’s resources toward achieving their goals?"
   ]
  },
  {
   "cell_type": "markdown",
   "metadata": {},
   "source": [
    "Import useful libaries for analysis"
   ]
  },
  {
   "cell_type": "code",
   "execution_count": 1,
   "metadata": {},
   "outputs": [],
   "source": [
    "import pandas as pd\n",
    "import numpy as np\n",
    "import matplotlib.pyplot as plt\n",
    "import seaborn as sns\n",
    "import pickle"
   ]
  },
  {
   "cell_type": "code",
   "execution_count": 2,
   "metadata": {},
   "outputs": [],
   "source": [
    "%matplotlib inline"
   ]
  },
  {
   "cell_type": "markdown",
   "metadata": {},
   "source": [
    "Below are a few functions that will help us conveniently download the data from the MTA website"
   ]
  },
  {
   "cell_type": "code",
   "execution_count": 4,
   "metadata": {},
   "outputs": [],
   "source": [
    "def read_MTA_data(list_of_dates):\n",
    "    '''\n",
    "    1. Takes a list of dates in the form of 'yymmdd' and \n",
    "    extracts the .txt file corresponding to the dates \n",
    "    from 'http://web.mta.info/developers/turnstile.html.'\n",
    "    \n",
    "    2. Converts each extraction to a csv file\n",
    "    \n",
    "    3. Concatenates all the csv files into a single dataframe\n",
    "    '''\n",
    "    # Initiate an empty dataframe \n",
    "    combined_df = pd.DataFrame()\n",
    "    \n",
    "    root_url = 'http://web.mta.info/developers/data/nyct/turnstile/turnstile_'\n",
    "    \n",
    "    # loop through the url links and concatenate all the data set into a one\n",
    "    for date in list_of_dates:\n",
    "        # represents a url link matching each date provided\n",
    "        MTA_url = f'{root_url}{date}.txt'\n",
    "        # converts the url into csv file \n",
    "        dataset = pd.read_csv(MTA_url)\n",
    "        # concatenate the obtained dataset to the overall dataframe\n",
    "        combined_df = pd.concat([combined_df, dataset], ignore_index = True)\n",
    "    \n",
    "    return combined_df"
   ]
  },
  {
   "cell_type": "code",
   "execution_count": 5,
   "metadata": {},
   "outputs": [],
   "source": [
    "def all_SAT(year):\n",
    "    '''\n",
    "    Takes in a year yyyy and returns all the saturdays in yyyy\n",
    "    in the format of yymmdd\n",
    "    '''\n",
    "    return pd.date_range(start=str(year), end=str(year+1), \n",
    "                         freq='W-SAT').strftime('%y%m%d').tolist()"
   ]
  },
  {
   "cell_type": "code",
   "execution_count": 6,
   "metadata": {},
   "outputs": [],
   "source": [
    "def month_filter(list_of_dates, list_of_months):\n",
    "    \n",
    "    '''\n",
    "    Takes a list of dates in format yymmdd and a list of months in format mm\n",
    "        - The list_of_months contains the months of interest\n",
    "    \n",
    "    Returns a list of dates from the list list_of_dates that only contains\n",
    "    the months of interest\n",
    "    '''\n",
    "    \n",
    "    # Initial an empty list of dates\n",
    "    dates_for_months = []\n",
    "    for month in list_of_months:\n",
    "        # return the dates containing the months of interest in list_of_dates\n",
    "        filtered_dates = list(filter(lambda x: (x[2:4] in month), list_of_dates))\n",
    "        dates_for_months += filtered_dates\n",
    "    \n",
    "    return dates_for_months"
   ]
  },
  {
   "cell_type": "markdown",
   "metadata": {},
   "source": [
    "Import MTA data for the months of April, May, June of 2019"
   ]
  },
  {
   "cell_type": "markdown",
   "metadata": {},
   "source": [
    "Since the DataFrame is fairly large, we will use pickle to save it to bytes."
   ]
  },
  {
   "cell_type": "code",
   "execution_count": null,
   "metadata": {},
   "outputs": [],
   "source": [
    "# Create a list of dates (SATURDAY) for the year of 2019\n",
    "sat_2019 = all_SAT(2019)\n",
    "\n",
    "# Filter the year to only April, May, and June\n",
    "months_of_interest = ['04', '05', '06']\n",
    "april_may_june_2019 = month_filter(sat_2019, months_of_interest)\n",
    "\n",
    "# Read each date into a combined dataframe using read_MTA_data containing April, May, and June of 2019\n",
    "summer19_MTA = read_MTA_data(april_may_june_2019)\n",
    "summer19_MTA.head(25)"
   ]
  },
  {
   "cell_type": "code",
   "execution_count": 8,
   "metadata": {},
   "outputs": [],
   "source": [
    "import pickle \n",
    "\n",
    "with open('summer19_MTA.pickle', 'wb') as to_write:\n",
    "    pickle.dump(summer19_MTA, to_write)"
   ]
  },
  {
   "cell_type": "markdown",
   "metadata": {},
   "source": [
    "Now the DataFrame is saved into bytes. We can open it with without having to run previous cells."
   ]
  },
  {
   "cell_type": "code",
   "execution_count": 7,
   "metadata": {},
   "outputs": [],
   "source": [
    "with open('summer19_MTA.pickle', 'rb') as to_read:\n",
    "    summer19_MTA = pickle.load(to_read)"
   ]
  },
  {
   "cell_type": "code",
   "execution_count": 8,
   "metadata": {},
   "outputs": [
    {
     "data": {
      "text/html": [
       "<div>\n",
       "<style scoped>\n",
       "    .dataframe tbody tr th:only-of-type {\n",
       "        vertical-align: middle;\n",
       "    }\n",
       "\n",
       "    .dataframe tbody tr th {\n",
       "        vertical-align: top;\n",
       "    }\n",
       "\n",
       "    .dataframe thead th {\n",
       "        text-align: right;\n",
       "    }\n",
       "</style>\n",
       "<table border=\"1\" class=\"dataframe\">\n",
       "  <thead>\n",
       "    <tr style=\"text-align: right;\">\n",
       "      <th></th>\n",
       "      <th>C/A</th>\n",
       "      <th>UNIT</th>\n",
       "      <th>SCP</th>\n",
       "      <th>STATION</th>\n",
       "      <th>LINENAME</th>\n",
       "      <th>DIVISION</th>\n",
       "      <th>DATE</th>\n",
       "      <th>TIME</th>\n",
       "      <th>DESC</th>\n",
       "      <th>ENTRIES</th>\n",
       "      <th>EXITS</th>\n",
       "    </tr>\n",
       "  </thead>\n",
       "  <tbody>\n",
       "    <tr>\n",
       "      <th>0</th>\n",
       "      <td>A002</td>\n",
       "      <td>R051</td>\n",
       "      <td>02-00-00</td>\n",
       "      <td>59 ST</td>\n",
       "      <td>NQR456W</td>\n",
       "      <td>BMT</td>\n",
       "      <td>03/30/2019</td>\n",
       "      <td>00:00:00</td>\n",
       "      <td>REGULAR</td>\n",
       "      <td>6999064</td>\n",
       "      <td>2373568</td>\n",
       "    </tr>\n",
       "    <tr>\n",
       "      <th>1</th>\n",
       "      <td>A002</td>\n",
       "      <td>R051</td>\n",
       "      <td>02-00-00</td>\n",
       "      <td>59 ST</td>\n",
       "      <td>NQR456W</td>\n",
       "      <td>BMT</td>\n",
       "      <td>03/30/2019</td>\n",
       "      <td>04:00:00</td>\n",
       "      <td>REGULAR</td>\n",
       "      <td>6999084</td>\n",
       "      <td>2373576</td>\n",
       "    </tr>\n",
       "    <tr>\n",
       "      <th>2</th>\n",
       "      <td>A002</td>\n",
       "      <td>R051</td>\n",
       "      <td>02-00-00</td>\n",
       "      <td>59 ST</td>\n",
       "      <td>NQR456W</td>\n",
       "      <td>BMT</td>\n",
       "      <td>03/30/2019</td>\n",
       "      <td>08:00:00</td>\n",
       "      <td>REGULAR</td>\n",
       "      <td>6999107</td>\n",
       "      <td>2373622</td>\n",
       "    </tr>\n",
       "    <tr>\n",
       "      <th>3</th>\n",
       "      <td>A002</td>\n",
       "      <td>R051</td>\n",
       "      <td>02-00-00</td>\n",
       "      <td>59 ST</td>\n",
       "      <td>NQR456W</td>\n",
       "      <td>BMT</td>\n",
       "      <td>03/30/2019</td>\n",
       "      <td>12:00:00</td>\n",
       "      <td>REGULAR</td>\n",
       "      <td>6999214</td>\n",
       "      <td>2373710</td>\n",
       "    </tr>\n",
       "    <tr>\n",
       "      <th>4</th>\n",
       "      <td>A002</td>\n",
       "      <td>R051</td>\n",
       "      <td>02-00-00</td>\n",
       "      <td>59 ST</td>\n",
       "      <td>NQR456W</td>\n",
       "      <td>BMT</td>\n",
       "      <td>03/30/2019</td>\n",
       "      <td>16:00:00</td>\n",
       "      <td>REGULAR</td>\n",
       "      <td>6999451</td>\n",
       "      <td>2373781</td>\n",
       "    </tr>\n",
       "  </tbody>\n",
       "</table>\n",
       "</div>"
      ],
      "text/plain": [
       "    C/A  UNIT       SCP STATION LINENAME DIVISION        DATE      TIME  \\\n",
       "0  A002  R051  02-00-00   59 ST  NQR456W      BMT  03/30/2019  00:00:00   \n",
       "1  A002  R051  02-00-00   59 ST  NQR456W      BMT  03/30/2019  04:00:00   \n",
       "2  A002  R051  02-00-00   59 ST  NQR456W      BMT  03/30/2019  08:00:00   \n",
       "3  A002  R051  02-00-00   59 ST  NQR456W      BMT  03/30/2019  12:00:00   \n",
       "4  A002  R051  02-00-00   59 ST  NQR456W      BMT  03/30/2019  16:00:00   \n",
       "\n",
       "      DESC  ENTRIES  \\\n",
       "0  REGULAR  6999064   \n",
       "1  REGULAR  6999084   \n",
       "2  REGULAR  6999107   \n",
       "3  REGULAR  6999214   \n",
       "4  REGULAR  6999451   \n",
       "\n",
       "   EXITS                                                                 \n",
       "0                                            2373568                     \n",
       "1                                            2373576                     \n",
       "2                                            2373622                     \n",
       "3                                            2373710                     \n",
       "4                                            2373781                     "
      ]
     },
     "execution_count": 8,
     "metadata": {},
     "output_type": "execute_result"
    }
   ],
   "source": [
    "summer19_MTA.head()"
   ]
  },
  {
   "cell_type": "code",
   "execution_count": 9,
   "metadata": {},
   "outputs": [
    {
     "name": "stdout",
     "output_type": "stream",
     "text": [
      "<class 'pandas.core.frame.DataFrame'>\n",
      "RangeIndex: 2664248 entries, 0 to 2664247\n",
      "Data columns (total 11 columns):\n",
      "C/A                                                                     object\n",
      "UNIT                                                                    object\n",
      "SCP                                                                     object\n",
      "STATION                                                                 object\n",
      "LINENAME                                                                object\n",
      "DIVISION                                                                object\n",
      "DATE                                                                    object\n",
      "TIME                                                                    object\n",
      "DESC                                                                    object\n",
      "ENTRIES                                                                 int64\n",
      "EXITS                                                                   int64\n",
      "dtypes: int64(2), object(9)\n",
      "memory usage: 223.6+ MB\n",
      "We have a total of 2664248 data points\n"
     ]
    }
   ],
   "source": [
    "summer19_MTA.info()\n",
    "print(f'We have a total of {np.shape(summer19_MTA)[0]} data points')"
   ]
  },
  {
   "cell_type": "code",
   "execution_count": 10,
   "metadata": {},
   "outputs": [
    {
     "data": {
      "text/plain": [
       "Index(['C/A', 'UNIT', 'SCP', 'STATION', 'LINENAME', 'DIVISION', 'DATE', 'TIME',\n",
       "       'DESC', 'ENTRIES',\n",
       "       'EXITS                                                               '],\n",
       "      dtype='object')"
      ]
     },
     "execution_count": 10,
     "metadata": {},
     "output_type": "execute_result"
    }
   ],
   "source": [
    "# Let's examine the column names\n",
    "summer19_MTA.columns"
   ]
  },
  {
   "cell_type": "markdown",
   "metadata": {},
   "source": [
    "Eliminate column name mistakes such as 'EXITS         '"
   ]
  },
  {
   "cell_type": "code",
   "execution_count": 11,
   "metadata": {},
   "outputs": [],
   "source": [
    "# Use string method strip to eliminate all spacings before and after in a string.\n",
    "summer19_MTA.columns = summer19_MTA.columns.str.strip()"
   ]
  },
  {
   "cell_type": "markdown",
   "metadata": {},
   "source": [
    "Make Unique Station names with combination of STATION and LINENAME"
   ]
  },
  {
   "cell_type": "code",
   "execution_count": 12,
   "metadata": {},
   "outputs": [],
   "source": [
    "summer19_MTA['Unique_Station'] = summer19_MTA['STATION'] + '_' + summer19_MTA['LINENAME']"
   ]
  },
  {
   "cell_type": "markdown",
   "metadata": {},
   "source": [
    "Since the ENTRIES and EXITS are accumulations of traffic per every 4 hours, we create two columns that accounts for the differences to track the actual number of entires and exits.\n",
    "\n",
    "In addition, we will treat the sum of number of entries and exits in a specifc station to be our total traffic for that station."
   ]
  },
  {
   "cell_type": "code",
   "execution_count": 13,
   "metadata": {},
   "outputs": [],
   "source": [
    "summer19_MTA['ENTRIES DIFF'] = summer19_MTA['ENTRIES'].diff()\n",
    "summer19_MTA['EXITS DIFF'] = summer19_MTA['EXITS'].diff()\n",
    "summer19_MTA['Total_Traffic'] = summer19_MTA['ENTRIES DIFF'] + summer19_MTA['EXITS DIFF']"
   ]
  },
  {
   "cell_type": "markdown",
   "metadata": {},
   "source": [
    "We want to convert the date to the day of the week"
   ]
  },
  {
   "cell_type": "code",
   "execution_count": 14,
   "metadata": {},
   "outputs": [],
   "source": [
    "import datetime\n",
    "import calendar\n",
    "\n",
    "def findDay(date): \n",
    "    \n",
    "    '''\n",
    "    grabs the data in the format mm/dd/yy \n",
    "    and returns the day of the week\n",
    "    '''\n",
    "    mmddyy = datetime.datetime.strptime(date, '%m/%d/%Y').weekday() \n",
    "    return (calendar.day_name[mmddyy]) "
   ]
  },
  {
   "cell_type": "markdown",
   "metadata": {},
   "source": [
    "Create a new column to indicate what day of the week it is. We can use this information later."
   ]
  },
  {
   "cell_type": "code",
   "execution_count": 15,
   "metadata": {},
   "outputs": [],
   "source": [
    "summer19_MTA['DAY_OF_WEEK'] = summer19_MTA['DATE'].apply(lambda date: findDay(date))"
   ]
  },
  {
   "cell_type": "markdown",
   "metadata": {},
   "source": [
    "Let's group by each unique station and sum the total traffic in April, May, and June of 2019"
   ]
  },
  {
   "cell_type": "code",
   "execution_count": 16,
   "metadata": {},
   "outputs": [
    {
     "data": {
      "text/html": [
       "<div>\n",
       "<style scoped>\n",
       "    .dataframe tbody tr th:only-of-type {\n",
       "        vertical-align: middle;\n",
       "    }\n",
       "\n",
       "    .dataframe tbody tr th {\n",
       "        vertical-align: top;\n",
       "    }\n",
       "\n",
       "    .dataframe thead th {\n",
       "        text-align: right;\n",
       "    }\n",
       "</style>\n",
       "<table border=\"1\" class=\"dataframe\">\n",
       "  <thead>\n",
       "    <tr style=\"text-align: right;\">\n",
       "      <th></th>\n",
       "      <th>ENTRIES</th>\n",
       "      <th>EXITS</th>\n",
       "      <th>ENTRIES DIFF</th>\n",
       "      <th>EXITS DIFF</th>\n",
       "      <th>Total_Traffic</th>\n",
       "    </tr>\n",
       "    <tr>\n",
       "      <th>Unique_Station</th>\n",
       "      <th></th>\n",
       "      <th></th>\n",
       "      <th></th>\n",
       "      <th></th>\n",
       "      <th></th>\n",
       "    </tr>\n",
       "  </thead>\n",
       "  <tbody>\n",
       "    <tr>\n",
       "      <th>1 AV_L</th>\n",
       "      <td>799849750681</td>\n",
       "      <td>828041356350</td>\n",
       "      <td>-5.677284e+07</td>\n",
       "      <td>-9.944337e+07</td>\n",
       "      <td>-1.562162e+08</td>\n",
       "    </tr>\n",
       "    <tr>\n",
       "      <th>103 ST-CORONA_7</th>\n",
       "      <td>39770511766</td>\n",
       "      <td>40001193343</td>\n",
       "      <td>5.963920e+07</td>\n",
       "      <td>1.046125e+08</td>\n",
       "      <td>1.642517e+08</td>\n",
       "    </tr>\n",
       "    <tr>\n",
       "      <th>103 ST_1</th>\n",
       "      <td>36123986643</td>\n",
       "      <td>19507779049</td>\n",
       "      <td>1.471258e+08</td>\n",
       "      <td>1.387234e+08</td>\n",
       "      <td>2.858493e+08</td>\n",
       "    </tr>\n",
       "    <tr>\n",
       "      <th>103 ST_6</th>\n",
       "      <td>283467824157</td>\n",
       "      <td>507193667658</td>\n",
       "      <td>-3.908337e+09</td>\n",
       "      <td>3.902927e+09</td>\n",
       "      <td>-5.409978e+06</td>\n",
       "    </tr>\n",
       "    <tr>\n",
       "      <th>103 ST_BC</th>\n",
       "      <td>16335771399</td>\n",
       "      <td>14068256692</td>\n",
       "      <td>6.274388e+07</td>\n",
       "      <td>1.079485e+08</td>\n",
       "      <td>1.706924e+08</td>\n",
       "    </tr>\n",
       "    <tr>\n",
       "      <th>104 ST_A</th>\n",
       "      <td>929908198748</td>\n",
       "      <td>544226211876</td>\n",
       "      <td>2.181723e+10</td>\n",
       "      <td>1.271053e+10</td>\n",
       "      <td>3.452776e+10</td>\n",
       "    </tr>\n",
       "    <tr>\n",
       "      <th>104 ST_JZ</th>\n",
       "      <td>1715206978839</td>\n",
       "      <td>1385219485966</td>\n",
       "      <td>4.322307e+07</td>\n",
       "      <td>5.862511e+07</td>\n",
       "      <td>1.018482e+08</td>\n",
       "    </tr>\n",
       "    <tr>\n",
       "      <th>110 ST_6</th>\n",
       "      <td>21024033135</td>\n",
       "      <td>20218237598</td>\n",
       "      <td>-4.293304e+09</td>\n",
       "      <td>-3.844511e+09</td>\n",
       "      <td>-8.137816e+09</td>\n",
       "    </tr>\n",
       "    <tr>\n",
       "      <th>111 ST_7</th>\n",
       "      <td>28809071524</td>\n",
       "      <td>17589378769</td>\n",
       "      <td>-2.965029e+06</td>\n",
       "      <td>-4.931508e+07</td>\n",
       "      <td>-5.228011e+07</td>\n",
       "    </tr>\n",
       "    <tr>\n",
       "      <th>111 ST_A</th>\n",
       "      <td>31361894403</td>\n",
       "      <td>11327343682</td>\n",
       "      <td>-2.184806e+10</td>\n",
       "      <td>-1.271699e+10</td>\n",
       "      <td>-3.456505e+10</td>\n",
       "    </tr>\n",
       "  </tbody>\n",
       "</table>\n",
       "</div>"
      ],
      "text/plain": [
       "                       ENTRIES          EXITS  ENTRIES DIFF    EXITS DIFF  \\\n",
       "Unique_Station                                                              \n",
       "1 AV_L            799849750681   828041356350 -5.677284e+07 -9.944337e+07   \n",
       "103 ST-CORONA_7    39770511766    40001193343  5.963920e+07  1.046125e+08   \n",
       "103 ST_1           36123986643    19507779049  1.471258e+08  1.387234e+08   \n",
       "103 ST_6          283467824157   507193667658 -3.908337e+09  3.902927e+09   \n",
       "103 ST_BC          16335771399    14068256692  6.274388e+07  1.079485e+08   \n",
       "104 ST_A          929908198748   544226211876  2.181723e+10  1.271053e+10   \n",
       "104 ST_JZ        1715206978839  1385219485966  4.322307e+07  5.862511e+07   \n",
       "110 ST_6           21024033135    20218237598 -4.293304e+09 -3.844511e+09   \n",
       "111 ST_7           28809071524    17589378769 -2.965029e+06 -4.931508e+07   \n",
       "111 ST_A           31361894403    11327343682 -2.184806e+10 -1.271699e+10   \n",
       "\n",
       "                 Total_Traffic  \n",
       "Unique_Station                  \n",
       "1 AV_L           -1.562162e+08  \n",
       "103 ST-CORONA_7   1.642517e+08  \n",
       "103 ST_1          2.858493e+08  \n",
       "103 ST_6         -5.409978e+06  \n",
       "103 ST_BC         1.706924e+08  \n",
       "104 ST_A          3.452776e+10  \n",
       "104 ST_JZ         1.018482e+08  \n",
       "110 ST_6         -8.137816e+09  \n",
       "111 ST_7         -5.228011e+07  \n",
       "111 ST_A         -3.456505e+10  "
      ]
     },
     "execution_count": 16,
     "metadata": {},
     "output_type": "execute_result"
    }
   ],
   "source": [
    "summer19_MTA.groupby('Unique_Station').sum().head(10)"
   ]
  },
  {
   "cell_type": "markdown",
   "metadata": {},
   "source": [
    "Some of the total traffic for each unique station are negative which does not make senses. We need to investigate why this is the case."
   ]
  },
  {
   "cell_type": "code",
   "execution_count": 17,
   "metadata": {},
   "outputs": [
    {
     "data": {
      "image/png": "[encoded data removed]",
      "text/plain": [
       "<Figure size 1152x288 with 2 Axes>"
      ]
     },
     "metadata": {
      "needs_background": "light"
     },
     "output_type": "display_data"
    }
   ],
   "source": [
    "plt.figure(figsize = [16,4])\n",
    "plt.subplot(1,2,1)\n",
    "sns.distplot(summer19_MTA['Total_Traffic'][1:]);\n",
    "plt.title('Distribution of Total Traffic', size = 20);\n",
    "plt.subplot(1,2,2)\n",
    "sns.boxplot(summer19_MTA.Total_Traffic[1:]);\n",
    "plt.title('Box Plot of Total Traffic', size = 20);\n",
    "sns.despine()\n",
    "plt.savefig('Initial Distribution Plots.png')"
   ]
  },
  {
   "cell_type": "markdown",
   "metadata": {},
   "source": [
    "Plotting the distribution and box plot, we can see that we have some very large positive values or very large negative values. We need to filter down the values to something that makes sense.\n",
    "\n",
    "1. we should remove all negative traffic\n",
    "2. We can calculate the IQR for total traffic per four hours per scp to use as our mask filter."
   ]
  },
  {
   "cell_type": "code",
   "execution_count": 18,
   "metadata": {},
   "outputs": [
    {
     "name": "stdout",
     "output_type": "stream",
     "text": [
      "We have a total of 2664248 data points\n"
     ]
    }
   ],
   "source": [
    "# remove all negative traffic\n",
    "mask = summer19_MTA['Total_Traffic'] > 0\n",
    "summer19_MTA_pos = summer19_MTA[mask]\n",
    "\n",
    "print(f'We have a total of {np.shape(summer19_MTA)[0]} data points')"
   ]
  },
  {
   "cell_type": "code",
   "execution_count": 19,
   "metadata": {},
   "outputs": [
    {
     "name": "stdout",
     "output_type": "stream",
     "text": [
      "-627.5 1112.5\n"
     ]
    }
   ],
   "source": [
    "# calculate the 25th, 50th, and 75th quartiles\n",
    "q25, q50, q75 = np.percentile(summer19_MTA.Total_Traffic[1:], [25, 50, 75])\n",
    "\n",
    "# interquartile range use to calculate the max and min values from the data set\n",
    "IQR = q75 - q25\n",
    "\n",
    "# calculate the min and max values. Anything outside these values are outliers.\n",
    "min_traffic = q25 - (1.5 * IQR)\n",
    "max_traffic = q75 + (1.5 * IQR)\n",
    "\n",
    "print(min_traffic, max_traffic)"
   ]
  },
  {
   "cell_type": "markdown",
   "metadata": {},
   "source": [
    "Filter out all the outliers based on the IQR calculated above on the total traffic"
   ]
  },
  {
   "cell_type": "code",
   "execution_count": 20,
   "metadata": {},
   "outputs": [
    {
     "name": "stdout",
     "output_type": "stream",
     "text": [
      "We have a total of 2135517 data points\n"
     ]
    }
   ],
   "source": [
    "total_traffic_mask = ((summer19_MTA_pos['Total_Traffic'] > min_traffic) & (summer19_MTA_pos['Total_Traffic'] < max_traffic))\n",
    "summer19_MTA_cleaned = summer19_MTA_pos[total_traffic_mask]\n",
    "\n",
    "print(f'We have a total of {np.shape(summer19_MTA_cleaned)[0]} data points')"
   ]
  },
  {
   "cell_type": "markdown",
   "metadata": {},
   "source": [
    "Using a logic mask with the max total traffic per SCP to be 1 second per person."
   ]
  },
  {
   "cell_type": "markdown",
   "metadata": {},
   "source": [
    "total_traffic_mask = ((summer19_MTA['Total_Traffic'] > 0) & (summer19_MTA['Total_Traffic'] < 30000))\n",
    "summer19_MTA_cleaned = summer19_MTA[total_traffic_mask]\n",
    "print(f'We have a total of {np.shape(summer19_MTA_cleaned)[0]} data points')"
   ]
  },
  {
   "cell_type": "markdown",
   "metadata": {},
   "source": [
    "We will examine the distribution and box plot again after the filter"
   ]
  },
  {
   "cell_type": "code",
   "execution_count": 21,
   "metadata": {},
   "outputs": [
    {
     "data": {
      "image/png": "[encoded data removed]",
      "text/plain": [
       "<Figure size 1152x288 with 2 Axes>"
      ]
     },
     "metadata": {
      "needs_background": "light"
     },
     "output_type": "display_data"
    }
   ],
   "source": [
    "plt.figure(figsize = [16,4])\n",
    "\n",
    "plt.subplot(1,2,1)\n",
    "sns.distplot(summer19_MTA_cleaned.Total_Traffic);\n",
    "plt.title('Distribution of Total Traffic', size = 20);\n",
    "\n",
    "plt.subplot(1,2,2)\n",
    "sns.boxplot(summer19_MTA_cleaned.Total_Traffic);\n",
    "plt.title('Box Plot of Total Traffic', size = 20);\n",
    "plt.savefig('Distribution after filter.png')"
   ]
  },
  {
   "cell_type": "markdown",
   "metadata": {},
   "source": [
    "We should normalize the total_traffic since the goal is to find the top stations. Large numbers presents problems in terms of visualizing them on graphs"
   ]
  },
  {
   "cell_type": "code",
   "execution_count": 22,
   "metadata": {},
   "outputs": [
    {
     "name": "stderr",
     "output_type": "stream",
     "text": [
      "/Users/bentleyou/anaconda3/lib/python3.7/site-packages/ipykernel_launcher.py:6: SettingWithCopyWarning: \n",
      "A value is trying to be set on a copy of a slice from a DataFrame.\n",
      "Try using .loc[row_indexer,col_indexer] = value instead\n",
      "\n",
      "See the caveats in the documentation: http://pandas.pydata.org/pandas-docs/stable/indexing.html#indexing-view-versus-copy\n",
      "  \n"
     ]
    }
   ],
   "source": [
    "# tt = Total Traffic\n",
    "\n",
    "tt_min = summer19_MTA_cleaned['Total_Traffic'].min()\n",
    "tt_max = summer19_MTA_cleaned['Total_Traffic'].max()\n",
    "\n",
    "summer19_MTA_cleaned['Total_Traffic'] = (summer19_MTA_cleaned.Total_Traffic - tt_min) / (tt_max - tt_min)"
   ]
  },
  {
   "cell_type": "markdown",
   "metadata": {},
   "source": [
    "Distribution of after normalization. The total traffic per time slot should be between 0 and 1."
   ]
  },
  {
   "cell_type": "code",
   "execution_count": 23,
   "metadata": {},
   "outputs": [
    {
     "data": {
      "image/png": "[encoded data removed]",
      "text/plain": [
       "<Figure size 1152x288 with 2 Axes>"
      ]
     },
     "metadata": {
      "needs_background": "light"
     },
     "output_type": "display_data"
    }
   ],
   "source": [
    "plt.figure(figsize = [16,4])\n",
    "\n",
    "plt.subplot(1,2,1)\n",
    "sns.distplot(summer19_MTA_cleaned.Total_Traffic);\n",
    "plt.title('Distribution of Total Traffic', size = 20);\n",
    "\n",
    "plt.subplot(1,2,2)\n",
    "sns.boxplot(summer19_MTA_cleaned.Total_Traffic);\n",
    "plt.title('Box Plot of Total Traffic', size = 20);\n",
    "plt.savefig('Distribution after normalization.png')"
   ]
  },
  {
   "cell_type": "code",
   "execution_count": 24,
   "metadata": {},
   "outputs": [
    {
     "data": {
      "text/html": [
       "<div>\n",
       "<style scoped>\n",
       "    .dataframe tbody tr th:only-of-type {\n",
       "        vertical-align: middle;\n",
       "    }\n",
       "\n",
       "    .dataframe tbody tr th {\n",
       "        vertical-align: top;\n",
       "    }\n",
       "\n",
       "    .dataframe thead th {\n",
       "        text-align: right;\n",
       "    }\n",
       "</style>\n",
       "<table border=\"1\" class=\"dataframe\">\n",
       "  <thead>\n",
       "    <tr style=\"text-align: right;\">\n",
       "      <th></th>\n",
       "      <th>C/A</th>\n",
       "      <th>UNIT</th>\n",
       "      <th>SCP</th>\n",
       "      <th>STATION</th>\n",
       "      <th>LINENAME</th>\n",
       "      <th>DIVISION</th>\n",
       "      <th>DATE</th>\n",
       "      <th>TIME</th>\n",
       "      <th>DESC</th>\n",
       "      <th>ENTRIES</th>\n",
       "      <th>EXITS</th>\n",
       "      <th>Unique_Station</th>\n",
       "      <th>ENTRIES DIFF</th>\n",
       "      <th>EXITS DIFF</th>\n",
       "      <th>Total_Traffic</th>\n",
       "      <th>DAY_OF_WEEK</th>\n",
       "    </tr>\n",
       "  </thead>\n",
       "  <tbody>\n",
       "    <tr>\n",
       "      <th>1</th>\n",
       "      <td>A002</td>\n",
       "      <td>R051</td>\n",
       "      <td>02-00-00</td>\n",
       "      <td>59 ST</td>\n",
       "      <td>NQR456W</td>\n",
       "      <td>BMT</td>\n",
       "      <td>03/30/2019</td>\n",
       "      <td>04:00:00</td>\n",
       "      <td>REGULAR</td>\n",
       "      <td>6999084</td>\n",
       "      <td>2373576</td>\n",
       "      <td>59 ST_NQR456W</td>\n",
       "      <td>20.0</td>\n",
       "      <td>8.0</td>\n",
       "      <td>0.024302</td>\n",
       "      <td>Saturday</td>\n",
       "    </tr>\n",
       "    <tr>\n",
       "      <th>2</th>\n",
       "      <td>A002</td>\n",
       "      <td>R051</td>\n",
       "      <td>02-00-00</td>\n",
       "      <td>59 ST</td>\n",
       "      <td>NQR456W</td>\n",
       "      <td>BMT</td>\n",
       "      <td>03/30/2019</td>\n",
       "      <td>08:00:00</td>\n",
       "      <td>REGULAR</td>\n",
       "      <td>6999107</td>\n",
       "      <td>2373622</td>\n",
       "      <td>59 ST_NQR456W</td>\n",
       "      <td>23.0</td>\n",
       "      <td>46.0</td>\n",
       "      <td>0.061206</td>\n",
       "      <td>Saturday</td>\n",
       "    </tr>\n",
       "    <tr>\n",
       "      <th>3</th>\n",
       "      <td>A002</td>\n",
       "      <td>R051</td>\n",
       "      <td>02-00-00</td>\n",
       "      <td>59 ST</td>\n",
       "      <td>NQR456W</td>\n",
       "      <td>BMT</td>\n",
       "      <td>03/30/2019</td>\n",
       "      <td>12:00:00</td>\n",
       "      <td>REGULAR</td>\n",
       "      <td>6999214</td>\n",
       "      <td>2373710</td>\n",
       "      <td>59 ST_NQR456W</td>\n",
       "      <td>107.0</td>\n",
       "      <td>88.0</td>\n",
       "      <td>0.174617</td>\n",
       "      <td>Saturday</td>\n",
       "    </tr>\n",
       "    <tr>\n",
       "      <th>4</th>\n",
       "      <td>A002</td>\n",
       "      <td>R051</td>\n",
       "      <td>02-00-00</td>\n",
       "      <td>59 ST</td>\n",
       "      <td>NQR456W</td>\n",
       "      <td>BMT</td>\n",
       "      <td>03/30/2019</td>\n",
       "      <td>16:00:00</td>\n",
       "      <td>REGULAR</td>\n",
       "      <td>6999451</td>\n",
       "      <td>2373781</td>\n",
       "      <td>59 ST_NQR456W</td>\n",
       "      <td>237.0</td>\n",
       "      <td>71.0</td>\n",
       "      <td>0.276328</td>\n",
       "      <td>Saturday</td>\n",
       "    </tr>\n",
       "    <tr>\n",
       "      <th>5</th>\n",
       "      <td>A002</td>\n",
       "      <td>R051</td>\n",
       "      <td>02-00-00</td>\n",
       "      <td>59 ST</td>\n",
       "      <td>NQR456W</td>\n",
       "      <td>BMT</td>\n",
       "      <td>03/30/2019</td>\n",
       "      <td>20:00:00</td>\n",
       "      <td>REGULAR</td>\n",
       "      <td>6999796</td>\n",
       "      <td>2373837</td>\n",
       "      <td>59 ST_NQR456W</td>\n",
       "      <td>345.0</td>\n",
       "      <td>56.0</td>\n",
       "      <td>0.360036</td>\n",
       "      <td>Saturday</td>\n",
       "    </tr>\n",
       "  </tbody>\n",
       "</table>\n",
       "</div>"
      ],
      "text/plain": [
       "    C/A  UNIT       SCP STATION LINENAME DIVISION        DATE      TIME  \\\n",
       "1  A002  R051  02-00-00   59 ST  NQR456W      BMT  03/30/2019  04:00:00   \n",
       "2  A002  R051  02-00-00   59 ST  NQR456W      BMT  03/30/2019  08:00:00   \n",
       "3  A002  R051  02-00-00   59 ST  NQR456W      BMT  03/30/2019  12:00:00   \n",
       "4  A002  R051  02-00-00   59 ST  NQR456W      BMT  03/30/2019  16:00:00   \n",
       "5  A002  R051  02-00-00   59 ST  NQR456W      BMT  03/30/2019  20:00:00   \n",
       "\n",
       "      DESC  ENTRIES    EXITS Unique_Station  ENTRIES DIFF  EXITS DIFF  \\\n",
       "1  REGULAR  6999084  2373576  59 ST_NQR456W          20.0         8.0   \n",
       "2  REGULAR  6999107  2373622  59 ST_NQR456W          23.0        46.0   \n",
       "3  REGULAR  6999214  2373710  59 ST_NQR456W         107.0        88.0   \n",
       "4  REGULAR  6999451  2373781  59 ST_NQR456W         237.0        71.0   \n",
       "5  REGULAR  6999796  2373837  59 ST_NQR456W         345.0        56.0   \n",
       "\n",
       "   Total_Traffic DAY_OF_WEEK  \n",
       "1       0.024302    Saturday  \n",
       "2       0.061206    Saturday  \n",
       "3       0.174617    Saturday  \n",
       "4       0.276328    Saturday  \n",
       "5       0.360036    Saturday  "
      ]
     },
     "execution_count": 24,
     "metadata": {},
     "output_type": "execute_result"
    }
   ],
   "source": [
    "summer19_MTA_cleaned.head()"
   ]
  },
  {
   "cell_type": "markdown",
   "metadata": {},
   "source": [
    "Let's bin our date time together into categories"
   ]
  },
  {
   "cell_type": "code",
   "execution_count": 112,
   "metadata": {},
   "outputs": [
    {
     "name": "stderr",
     "output_type": "stream",
     "text": [
      "/Users/bentleyou/anaconda3/lib/python3.7/site-packages/ipykernel_launcher.py:6: SettingWithCopyWarning: \n",
      "A value is trying to be set on a copy of a slice from a DataFrame\n",
      "\n",
      "See the caveats in the documentation: http://pandas.pydata.org/pandas-docs/stable/indexing.html#indexing-view-versus-copy\n",
      "  \n"
     ]
    }
   ],
   "source": [
    "# We need to turn our datetime into integers\n",
    "# We can grab the hours from each time \n",
    "summer19_MTA_cleaned['TIME_INT'] = summer19_MTA_cleaned['TIME'].apply(lambda x: int(x.split(':')[0]))\n",
    "\n",
    "# Convert the 0th hour to 23rd to capture 8PM to midnight traffic\n",
    "summer19_MTA_cleaned['TIME_INT'][summer19_MTA_cleaned['TIME_INT'] == 0] = 23"
   ]
  },
  {
   "cell_type": "code",
   "execution_count": 113,
   "metadata": {},
   "outputs": [],
   "source": [
    "def simplify_time(df):\n",
    "    '''\n",
    "    Takes an interger and bins it into the follow group names\n",
    "    Creates another column called 'TIME_OF_DAY' \n",
    "    Return the new dateframe\n",
    "    '''\n",
    "    bins = (0, 4, 8, 12, 16, 20, 23)\n",
    "    group_names = ['Midnight-4AM', '4AM-8AM', '8AM-Noon', 'Noon-4PM', '4PM-8PM', '8PM-Midnight']\n",
    "    categories = pd.cut(df.TIME_INT, bins, labels=group_names, include_lowest = True)\n",
    "    df['TIME_OF_DAY'] = categories\n",
    "    return df"
   ]
  },
  {
   "cell_type": "code",
   "execution_count": 114,
   "metadata": {},
   "outputs": [],
   "source": [
    "simplify_time(summer19_MTA_cleaned);"
   ]
  },
  {
   "cell_type": "code",
   "execution_count": 29,
   "metadata": {},
   "outputs": [
    {
     "data": {
      "text/html": [
       "<div>\n",
       "<style scoped>\n",
       "    .dataframe tbody tr th:only-of-type {\n",
       "        vertical-align: middle;\n",
       "    }\n",
       "\n",
       "    .dataframe tbody tr th {\n",
       "        vertical-align: top;\n",
       "    }\n",
       "\n",
       "    .dataframe thead th {\n",
       "        text-align: right;\n",
       "    }\n",
       "</style>\n",
       "<table border=\"1\" class=\"dataframe\">\n",
       "  <thead>\n",
       "    <tr style=\"text-align: right;\">\n",
       "      <th></th>\n",
       "      <th>C/A</th>\n",
       "      <th>UNIT</th>\n",
       "      <th>SCP</th>\n",
       "      <th>STATION</th>\n",
       "      <th>LINENAME</th>\n",
       "      <th>DIVISION</th>\n",
       "      <th>DATE</th>\n",
       "      <th>TIME</th>\n",
       "      <th>DESC</th>\n",
       "      <th>ENTRIES</th>\n",
       "      <th>EXITS</th>\n",
       "      <th>Unique_Station</th>\n",
       "      <th>ENTRIES DIFF</th>\n",
       "      <th>EXITS DIFF</th>\n",
       "      <th>Total_Traffic</th>\n",
       "      <th>DAY_OF_WEEK</th>\n",
       "      <th>TIME_INT</th>\n",
       "      <th>TIME_OF_DAY</th>\n",
       "    </tr>\n",
       "  </thead>\n",
       "  <tbody>\n",
       "    <tr>\n",
       "      <th>1</th>\n",
       "      <td>A002</td>\n",
       "      <td>R051</td>\n",
       "      <td>02-00-00</td>\n",
       "      <td>59 ST</td>\n",
       "      <td>NQR456W</td>\n",
       "      <td>BMT</td>\n",
       "      <td>03/30/2019</td>\n",
       "      <td>04:00:00</td>\n",
       "      <td>REGULAR</td>\n",
       "      <td>6999084</td>\n",
       "      <td>2373576</td>\n",
       "      <td>59 ST_NQR456W</td>\n",
       "      <td>20.0</td>\n",
       "      <td>8.0</td>\n",
       "      <td>0.024302</td>\n",
       "      <td>Saturday</td>\n",
       "      <td>4</td>\n",
       "      <td>Midnight-4AM</td>\n",
       "    </tr>\n",
       "    <tr>\n",
       "      <th>2</th>\n",
       "      <td>A002</td>\n",
       "      <td>R051</td>\n",
       "      <td>02-00-00</td>\n",
       "      <td>59 ST</td>\n",
       "      <td>NQR456W</td>\n",
       "      <td>BMT</td>\n",
       "      <td>03/30/2019</td>\n",
       "      <td>08:00:00</td>\n",
       "      <td>REGULAR</td>\n",
       "      <td>6999107</td>\n",
       "      <td>2373622</td>\n",
       "      <td>59 ST_NQR456W</td>\n",
       "      <td>23.0</td>\n",
       "      <td>46.0</td>\n",
       "      <td>0.061206</td>\n",
       "      <td>Saturday</td>\n",
       "      <td>8</td>\n",
       "      <td>4AM-8AM</td>\n",
       "    </tr>\n",
       "    <tr>\n",
       "      <th>3</th>\n",
       "      <td>A002</td>\n",
       "      <td>R051</td>\n",
       "      <td>02-00-00</td>\n",
       "      <td>59 ST</td>\n",
       "      <td>NQR456W</td>\n",
       "      <td>BMT</td>\n",
       "      <td>03/30/2019</td>\n",
       "      <td>12:00:00</td>\n",
       "      <td>REGULAR</td>\n",
       "      <td>6999214</td>\n",
       "      <td>2373710</td>\n",
       "      <td>59 ST_NQR456W</td>\n",
       "      <td>107.0</td>\n",
       "      <td>88.0</td>\n",
       "      <td>0.174617</td>\n",
       "      <td>Saturday</td>\n",
       "      <td>12</td>\n",
       "      <td>8AM-Noon</td>\n",
       "    </tr>\n",
       "    <tr>\n",
       "      <th>4</th>\n",
       "      <td>A002</td>\n",
       "      <td>R051</td>\n",
       "      <td>02-00-00</td>\n",
       "      <td>59 ST</td>\n",
       "      <td>NQR456W</td>\n",
       "      <td>BMT</td>\n",
       "      <td>03/30/2019</td>\n",
       "      <td>16:00:00</td>\n",
       "      <td>REGULAR</td>\n",
       "      <td>6999451</td>\n",
       "      <td>2373781</td>\n",
       "      <td>59 ST_NQR456W</td>\n",
       "      <td>237.0</td>\n",
       "      <td>71.0</td>\n",
       "      <td>0.276328</td>\n",
       "      <td>Saturday</td>\n",
       "      <td>16</td>\n",
       "      <td>Noon-4PM</td>\n",
       "    </tr>\n",
       "    <tr>\n",
       "      <th>5</th>\n",
       "      <td>A002</td>\n",
       "      <td>R051</td>\n",
       "      <td>02-00-00</td>\n",
       "      <td>59 ST</td>\n",
       "      <td>NQR456W</td>\n",
       "      <td>BMT</td>\n",
       "      <td>03/30/2019</td>\n",
       "      <td>20:00:00</td>\n",
       "      <td>REGULAR</td>\n",
       "      <td>6999796</td>\n",
       "      <td>2373837</td>\n",
       "      <td>59 ST_NQR456W</td>\n",
       "      <td>345.0</td>\n",
       "      <td>56.0</td>\n",
       "      <td>0.360036</td>\n",
       "      <td>Saturday</td>\n",
       "      <td>20</td>\n",
       "      <td>4PM-8PM</td>\n",
       "    </tr>\n",
       "    <tr>\n",
       "      <th>6</th>\n",
       "      <td>A002</td>\n",
       "      <td>R051</td>\n",
       "      <td>02-00-00</td>\n",
       "      <td>59 ST</td>\n",
       "      <td>NQR456W</td>\n",
       "      <td>BMT</td>\n",
       "      <td>03/31/2019</td>\n",
       "      <td>00:00:00</td>\n",
       "      <td>REGULAR</td>\n",
       "      <td>6999957</td>\n",
       "      <td>2373867</td>\n",
       "      <td>59 ST_NQR456W</td>\n",
       "      <td>161.0</td>\n",
       "      <td>30.0</td>\n",
       "      <td>0.171017</td>\n",
       "      <td>Sunday</td>\n",
       "      <td>23</td>\n",
       "      <td>Midnight-4AM</td>\n",
       "    </tr>\n",
       "    <tr>\n",
       "      <th>7</th>\n",
       "      <td>A002</td>\n",
       "      <td>R051</td>\n",
       "      <td>02-00-00</td>\n",
       "      <td>59 ST</td>\n",
       "      <td>NQR456W</td>\n",
       "      <td>BMT</td>\n",
       "      <td>03/31/2019</td>\n",
       "      <td>04:00:00</td>\n",
       "      <td>REGULAR</td>\n",
       "      <td>6999983</td>\n",
       "      <td>2373876</td>\n",
       "      <td>59 ST_NQR456W</td>\n",
       "      <td>26.0</td>\n",
       "      <td>9.0</td>\n",
       "      <td>0.030603</td>\n",
       "      <td>Sunday</td>\n",
       "      <td>4</td>\n",
       "      <td>Midnight-4AM</td>\n",
       "    </tr>\n",
       "    <tr>\n",
       "      <th>8</th>\n",
       "      <td>A002</td>\n",
       "      <td>R051</td>\n",
       "      <td>02-00-00</td>\n",
       "      <td>59 ST</td>\n",
       "      <td>NQR456W</td>\n",
       "      <td>BMT</td>\n",
       "      <td>03/31/2019</td>\n",
       "      <td>08:00:00</td>\n",
       "      <td>REGULAR</td>\n",
       "      <td>6999998</td>\n",
       "      <td>2373900</td>\n",
       "      <td>59 ST_NQR456W</td>\n",
       "      <td>15.0</td>\n",
       "      <td>24.0</td>\n",
       "      <td>0.034203</td>\n",
       "      <td>Sunday</td>\n",
       "      <td>8</td>\n",
       "      <td>4AM-8AM</td>\n",
       "    </tr>\n",
       "    <tr>\n",
       "      <th>9</th>\n",
       "      <td>A002</td>\n",
       "      <td>R051</td>\n",
       "      <td>02-00-00</td>\n",
       "      <td>59 ST</td>\n",
       "      <td>NQR456W</td>\n",
       "      <td>BMT</td>\n",
       "      <td>03/31/2019</td>\n",
       "      <td>12:00:00</td>\n",
       "      <td>REGULAR</td>\n",
       "      <td>7000069</td>\n",
       "      <td>2373957</td>\n",
       "      <td>59 ST_NQR456W</td>\n",
       "      <td>71.0</td>\n",
       "      <td>57.0</td>\n",
       "      <td>0.114311</td>\n",
       "      <td>Sunday</td>\n",
       "      <td>12</td>\n",
       "      <td>8AM-Noon</td>\n",
       "    </tr>\n",
       "    <tr>\n",
       "      <th>10</th>\n",
       "      <td>A002</td>\n",
       "      <td>R051</td>\n",
       "      <td>02-00-00</td>\n",
       "      <td>59 ST</td>\n",
       "      <td>NQR456W</td>\n",
       "      <td>BMT</td>\n",
       "      <td>03/31/2019</td>\n",
       "      <td>16:00:00</td>\n",
       "      <td>REGULAR</td>\n",
       "      <td>7000220</td>\n",
       "      <td>2374010</td>\n",
       "      <td>59 ST_NQR456W</td>\n",
       "      <td>151.0</td>\n",
       "      <td>53.0</td>\n",
       "      <td>0.182718</td>\n",
       "      <td>Sunday</td>\n",
       "      <td>16</td>\n",
       "      <td>Noon-4PM</td>\n",
       "    </tr>\n",
       "  </tbody>\n",
       "</table>\n",
       "</div>"
      ],
      "text/plain": [
       "     C/A  UNIT       SCP STATION LINENAME DIVISION        DATE      TIME  \\\n",
       "1   A002  R051  02-00-00   59 ST  NQR456W      BMT  03/30/2019  04:00:00   \n",
       "2   A002  R051  02-00-00   59 ST  NQR456W      BMT  03/30/2019  08:00:00   \n",
       "3   A002  R051  02-00-00   59 ST  NQR456W      BMT  03/30/2019  12:00:00   \n",
       "4   A002  R051  02-00-00   59 ST  NQR456W      BMT  03/30/2019  16:00:00   \n",
       "5   A002  R051  02-00-00   59 ST  NQR456W      BMT  03/30/2019  20:00:00   \n",
       "6   A002  R051  02-00-00   59 ST  NQR456W      BMT  03/31/2019  00:00:00   \n",
       "7   A002  R051  02-00-00   59 ST  NQR456W      BMT  03/31/2019  04:00:00   \n",
       "8   A002  R051  02-00-00   59 ST  NQR456W      BMT  03/31/2019  08:00:00   \n",
       "9   A002  R051  02-00-00   59 ST  NQR456W      BMT  03/31/2019  12:00:00   \n",
       "10  A002  R051  02-00-00   59 ST  NQR456W      BMT  03/31/2019  16:00:00   \n",
       "\n",
       "       DESC  ENTRIES    EXITS Unique_Station  ENTRIES DIFF  EXITS DIFF  \\\n",
       "1   REGULAR  6999084  2373576  59 ST_NQR456W          20.0         8.0   \n",
       "2   REGULAR  6999107  2373622  59 ST_NQR456W          23.0        46.0   \n",
       "3   REGULAR  6999214  2373710  59 ST_NQR456W         107.0        88.0   \n",
       "4   REGULAR  6999451  2373781  59 ST_NQR456W         237.0        71.0   \n",
       "5   REGULAR  6999796  2373837  59 ST_NQR456W         345.0        56.0   \n",
       "6   REGULAR  6999957  2373867  59 ST_NQR456W         161.0        30.0   \n",
       "7   REGULAR  6999983  2373876  59 ST_NQR456W          26.0         9.0   \n",
       "8   REGULAR  6999998  2373900  59 ST_NQR456W          15.0        24.0   \n",
       "9   REGULAR  7000069  2373957  59 ST_NQR456W          71.0        57.0   \n",
       "10  REGULAR  7000220  2374010  59 ST_NQR456W         151.0        53.0   \n",
       "\n",
       "    Total_Traffic DAY_OF_WEEK  TIME_INT   TIME_OF_DAY  \n",
       "1        0.024302    Saturday         4  Midnight-4AM  \n",
       "2        0.061206    Saturday         8       4AM-8AM  \n",
       "3        0.174617    Saturday        12      8AM-Noon  \n",
       "4        0.276328    Saturday        16      Noon-4PM  \n",
       "5        0.360036    Saturday        20       4PM-8PM  \n",
       "6        0.171017      Sunday        23  Midnight-4AM  \n",
       "7        0.030603      Sunday         4  Midnight-4AM  \n",
       "8        0.034203      Sunday         8       4AM-8AM  \n",
       "9        0.114311      Sunday        12      8AM-Noon  \n",
       "10       0.182718      Sunday        16      Noon-4PM  "
      ]
     },
     "execution_count": 29,
     "metadata": {},
     "output_type": "execute_result"
    }
   ],
   "source": [
    "summer19_MTA_cleaned.head(10)"
   ]
  },
  {
   "cell_type": "markdown",
   "metadata": {},
   "source": [
    "Let's create another column differentiating weekdays and weekends"
   ]
  },
  {
   "cell_type": "code",
   "execution_count": 30,
   "metadata": {},
   "outputs": [
    {
     "name": "stderr",
     "output_type": "stream",
     "text": [
      "/Users/bentleyou/anaconda3/lib/python3.7/site-packages/ipykernel_launcher.py:2: SettingWithCopyWarning: \n",
      "A value is trying to be set on a copy of a slice from a DataFrame.\n",
      "Try using .loc[row_indexer,col_indexer] = value instead\n",
      "\n",
      "See the caveats in the documentation: http://pandas.pydata.org/pandas-docs/stable/indexing.html#indexing-view-versus-copy\n",
      "  \n"
     ]
    }
   ],
   "source": [
    "summer19_MTA_cleaned['WEEKEND'] = (summer19_MTA_cleaned['DAY_OF_WEEK']\n",
    "                                   .apply(lambda x: 'WEEKEND' \n",
    "                                          if (x == 'Saturday' or x == 'Sunday') \n",
    "                                          else 'WEEKDAY'))"
   ]
  },
  {
   "cell_type": "markdown",
   "metadata": {},
   "source": [
    "After data cleaning, let's pickle the cleaned data frame"
   ]
  },
  {
   "cell_type": "code",
   "execution_count": 31,
   "metadata": {},
   "outputs": [],
   "source": [
    "import pickle \n",
    "\n",
    "with open('summer19_MTA_cleaned.pickle', 'wb') as to_write:\n",
    "    pickle.dump(summer19_MTA_cleaned, to_write)"
   ]
  },
  {
   "cell_type": "code",
   "execution_count": 32,
   "metadata": {},
   "outputs": [],
   "source": [
    "with open('summer19_MTA_cleaned.pickle', 'rb') as to_read:\n",
    "    summer19_MTA_cleaned = pickle.load(to_read)"
   ]
  },
  {
   "cell_type": "markdown",
   "metadata": {},
   "source": [
    "Let's count all the total traffic per station for the months of April, May, and June of 2019. Below displays the top candidates."
   ]
  },
  {
   "cell_type": "code",
   "execution_count": 33,
   "metadata": {},
   "outputs": [
    {
     "data": {
      "text/html": [
       "<div>\n",
       "<style scoped>\n",
       "    .dataframe tbody tr th:only-of-type {\n",
       "        vertical-align: middle;\n",
       "    }\n",
       "\n",
       "    .dataframe tbody tr th {\n",
       "        vertical-align: top;\n",
       "    }\n",
       "\n",
       "    .dataframe thead th {\n",
       "        text-align: right;\n",
       "    }\n",
       "</style>\n",
       "<table border=\"1\" class=\"dataframe\">\n",
       "  <thead>\n",
       "    <tr style=\"text-align: right;\">\n",
       "      <th></th>\n",
       "      <th>Unique_Station</th>\n",
       "      <th>ENTRIES</th>\n",
       "      <th>EXITS</th>\n",
       "      <th>ENTRIES DIFF</th>\n",
       "      <th>EXITS DIFF</th>\n",
       "      <th>Total_Traffic</th>\n",
       "      <th>TIME_INT</th>\n",
       "    </tr>\n",
       "  </thead>\n",
       "  <tbody>\n",
       "    <tr>\n",
       "      <th>94</th>\n",
       "      <td>34 ST-PENN STA_ACE</td>\n",
       "      <td>670283993176</td>\n",
       "      <td>715364962094</td>\n",
       "      <td>5251396.0</td>\n",
       "      <td>4303253.0</td>\n",
       "      <td>8576.776778</td>\n",
       "      <td>347573</td>\n",
       "    </tr>\n",
       "    <tr>\n",
       "      <th>312</th>\n",
       "      <td>GRD CNTRL-42 ST_4567S</td>\n",
       "      <td>580325761542</td>\n",
       "      <td>537573481170</td>\n",
       "      <td>4457804.0</td>\n",
       "      <td>4385398.0</td>\n",
       "      <td>7936.803780</td>\n",
       "      <td>289547</td>\n",
       "    </tr>\n",
       "    <tr>\n",
       "      <th>90</th>\n",
       "      <td>34 ST-HERALD SQ_BDFMNQRW</td>\n",
       "      <td>976660703407</td>\n",
       "      <td>937652785399</td>\n",
       "      <td>4035201.0</td>\n",
       "      <td>4110163.0</td>\n",
       "      <td>7311.983798</td>\n",
       "      <td>275743</td>\n",
       "    </tr>\n",
       "    <tr>\n",
       "      <th>302</th>\n",
       "      <td>FULTON ST_2345ACJZ</td>\n",
       "      <td>306473275121</td>\n",
       "      <td>340456131519</td>\n",
       "      <td>4155459.0</td>\n",
       "      <td>3971517.0</td>\n",
       "      <td>7290.098110</td>\n",
       "      <td>327214</td>\n",
       "    </tr>\n",
       "    <tr>\n",
       "      <th>103</th>\n",
       "      <td>42 ST-PORT AUTH_ACENQRS1237W</td>\n",
       "      <td>1464593492427</td>\n",
       "      <td>1220246777724</td>\n",
       "      <td>3878724.0</td>\n",
       "      <td>2342674.0</td>\n",
       "      <td>5585.650765</td>\n",
       "      <td>198939</td>\n",
       "    </tr>\n",
       "    <tr>\n",
       "      <th>448</th>\n",
       "      <td>TIMES SQ-42 ST_1237ACENQRSW</td>\n",
       "      <td>1984085919748</td>\n",
       "      <td>1029532078965</td>\n",
       "      <td>2865069.0</td>\n",
       "      <td>2706036.0</td>\n",
       "      <td>5001.166517</td>\n",
       "      <td>184935</td>\n",
       "    </tr>\n",
       "    <tr>\n",
       "      <th>289</th>\n",
       "      <td>FLUSHING-MAIN_7</td>\n",
       "      <td>90929349471</td>\n",
       "      <td>87244537783</td>\n",
       "      <td>2884312.0</td>\n",
       "      <td>2427216.0</td>\n",
       "      <td>4770.527453</td>\n",
       "      <td>149095</td>\n",
       "    </tr>\n",
       "    <tr>\n",
       "      <th>235</th>\n",
       "      <td>CANAL ST_JNQRZ6W</td>\n",
       "      <td>881131763593</td>\n",
       "      <td>1543023208107</td>\n",
       "      <td>2771874.0</td>\n",
       "      <td>2370918.0</td>\n",
       "      <td>4616.092709</td>\n",
       "      <td>153690</td>\n",
       "    </tr>\n",
       "    <tr>\n",
       "      <th>124</th>\n",
       "      <td>59 ST_456NQRW</td>\n",
       "      <td>191775112849</td>\n",
       "      <td>122469424546</td>\n",
       "      <td>2147214.0</td>\n",
       "      <td>2413130.0</td>\n",
       "      <td>4091.318632</td>\n",
       "      <td>198612</td>\n",
       "    </tr>\n",
       "    <tr>\n",
       "      <th>404</th>\n",
       "      <td>PATH NEW WTC_1</td>\n",
       "      <td>1422459420</td>\n",
       "      <td>1673071952</td>\n",
       "      <td>2253297.0</td>\n",
       "      <td>2131509.0</td>\n",
       "      <td>3932.065707</td>\n",
       "      <td>201047</td>\n",
       "    </tr>\n",
       "  </tbody>\n",
       "</table>\n",
       "</div>"
      ],
      "text/plain": [
       "                   Unique_Station        ENTRIES          EXITS  ENTRIES DIFF  \\\n",
       "94             34 ST-PENN STA_ACE   670283993176   715364962094     5251396.0   \n",
       "312         GRD CNTRL-42 ST_4567S   580325761542   537573481170     4457804.0   \n",
       "90       34 ST-HERALD SQ_BDFMNQRW   976660703407   937652785399     4035201.0   \n",
       "302            FULTON ST_2345ACJZ   306473275121   340456131519     4155459.0   \n",
       "103  42 ST-PORT AUTH_ACENQRS1237W  1464593492427  1220246777724     3878724.0   \n",
       "448   TIMES SQ-42 ST_1237ACENQRSW  1984085919748  1029532078965     2865069.0   \n",
       "289               FLUSHING-MAIN_7    90929349471    87244537783     2884312.0   \n",
       "235              CANAL ST_JNQRZ6W   881131763593  1543023208107     2771874.0   \n",
       "124                 59 ST_456NQRW   191775112849   122469424546     2147214.0   \n",
       "404                PATH NEW WTC_1     1422459420     1673071952     2253297.0   \n",
       "\n",
       "     EXITS DIFF  Total_Traffic  TIME_INT  \n",
       "94    4303253.0    8576.776778    347573  \n",
       "312   4385398.0    7936.803780    289547  \n",
       "90    4110163.0    7311.983798    275743  \n",
       "302   3971517.0    7290.098110    327214  \n",
       "103   2342674.0    5585.650765    198939  \n",
       "448   2706036.0    5001.166517    184935  \n",
       "289   2427216.0    4770.527453    149095  \n",
       "235   2370918.0    4616.092709    153690  \n",
       "124   2413130.0    4091.318632    198612  \n",
       "404   2131509.0    3932.065707    201047  "
      ]
     },
     "execution_count": 33,
     "metadata": {},
     "output_type": "execute_result"
    }
   ],
   "source": [
    "top = 10 # filter to top stations\n",
    "top_unique_stations = (summer19_MTA_cleaned.groupby(['Unique_Station'])\n",
    "                       .sum()\n",
    "                       .reset_index()\n",
    "                       .sort_values(by = 'Total_Traffic', ascending = False)\n",
    "                       .head(top))\n",
    "top_unique_stations"
   ]
  },
  {
   "cell_type": "markdown",
   "metadata": {},
   "source": [
    "Let's visualize this with a horizontal bar graph for the top ten unique stations for both weekdays and weekends"
   ]
  },
  {
   "cell_type": "code",
   "execution_count": 135,
   "metadata": {},
   "outputs": [
    {
     "data": {
      "image/png": "[encoded data removed]",
      "text/plain": [
       "<Figure size 1152x720 with 1 Axes>"
      ]
     },
     "metadata": {
      "needs_background": "light"
     },
     "output_type": "display_data"
    }
   ],
   "source": [
    "plt.figure(figsize = [16,10])\n",
    "sns.barplot(x = 'Total_Traffic', y = 'Unique_Station', data = top_unique_stations)\n",
    "plt.title('Top NYC Stations for the months of April, May, and June of 2019', fontsize = 20)\n",
    "plt.xlabel('Total Entries and Exits per station', fontsize = 20)\n",
    "plt.ylabel('NYC Stations', fontsize = 20);\n",
    "plt.savefig('Overall TOP NYC Stations.png', bbox_inches = 'tight')"
   ]
  },
  {
   "cell_type": "markdown",
   "metadata": {},
   "source": [
    "Let's see the top stations for weekdays versuys weekends"
   ]
  },
  {
   "cell_type": "code",
   "execution_count": 35,
   "metadata": {},
   "outputs": [
    {
     "data": {
      "text/html": [
       "<div>\n",
       "<style scoped>\n",
       "    .dataframe tbody tr th:only-of-type {\n",
       "        vertical-align: middle;\n",
       "    }\n",
       "\n",
       "    .dataframe tbody tr th {\n",
       "        vertical-align: top;\n",
       "    }\n",
       "\n",
       "    .dataframe thead th {\n",
       "        text-align: right;\n",
       "    }\n",
       "</style>\n",
       "<table border=\"1\" class=\"dataframe\">\n",
       "  <thead>\n",
       "    <tr style=\"text-align: right;\">\n",
       "      <th></th>\n",
       "      <th>Unique_Station</th>\n",
       "      <th>Total_Traffic</th>\n",
       "    </tr>\n",
       "  </thead>\n",
       "  <tbody>\n",
       "    <tr>\n",
       "      <th>90</th>\n",
       "      <td>34 ST-HERALD SQ_BDFMNQRW</td>\n",
       "      <td>1888.076508</td>\n",
       "    </tr>\n",
       "    <tr>\n",
       "      <th>312</th>\n",
       "      <td>GRD CNTRL-42 ST_4567S</td>\n",
       "      <td>1744.849685</td>\n",
       "    </tr>\n",
       "    <tr>\n",
       "      <th>94</th>\n",
       "      <td>34 ST-PENN STA_ACE</td>\n",
       "      <td>1708.066607</td>\n",
       "    </tr>\n",
       "    <tr>\n",
       "      <th>103</th>\n",
       "      <td>42 ST-PORT AUTH_ACENQRS1237W</td>\n",
       "      <td>1465.750675</td>\n",
       "    </tr>\n",
       "    <tr>\n",
       "      <th>448</th>\n",
       "      <td>TIMES SQ-42 ST_1237ACENQRSW</td>\n",
       "      <td>1181.265527</td>\n",
       "    </tr>\n",
       "    <tr>\n",
       "      <th>235</th>\n",
       "      <td>CANAL ST_JNQRZ6W</td>\n",
       "      <td>1135.490549</td>\n",
       "    </tr>\n",
       "    <tr>\n",
       "      <th>339</th>\n",
       "      <td>JKSN HT-ROOSVLT_EFMR7</td>\n",
       "      <td>1097.246625</td>\n",
       "    </tr>\n",
       "    <tr>\n",
       "      <th>25</th>\n",
       "      <td>14 ST-UNION SQ_LNQR456W</td>\n",
       "      <td>1083.328533</td>\n",
       "    </tr>\n",
       "    <tr>\n",
       "      <th>123</th>\n",
       "      <td>59 ST COLUMBUS_ABCD1</td>\n",
       "      <td>1061.417642</td>\n",
       "    </tr>\n",
       "    <tr>\n",
       "      <th>93</th>\n",
       "      <td>34 ST-PENN STA_123ACE</td>\n",
       "      <td>987.854185</td>\n",
       "    </tr>\n",
       "  </tbody>\n",
       "</table>\n",
       "</div>"
      ],
      "text/plain": [
       "                   Unique_Station  Total_Traffic\n",
       "90       34 ST-HERALD SQ_BDFMNQRW    1888.076508\n",
       "312         GRD CNTRL-42 ST_4567S    1744.849685\n",
       "94             34 ST-PENN STA_ACE    1708.066607\n",
       "103  42 ST-PORT AUTH_ACENQRS1237W    1465.750675\n",
       "448   TIMES SQ-42 ST_1237ACENQRSW    1181.265527\n",
       "235              CANAL ST_JNQRZ6W    1135.490549\n",
       "339         JKSN HT-ROOSVLT_EFMR7    1097.246625\n",
       "25        14 ST-UNION SQ_LNQR456W    1083.328533\n",
       "123          59 ST COLUMBUS_ABCD1    1061.417642\n",
       "93          34 ST-PENN STA_123ACE     987.854185"
      ]
     },
     "execution_count": 35,
     "metadata": {},
     "output_type": "execute_result"
    }
   ],
   "source": [
    "# WEEKENDS\n",
    "top = 10 # filter to top stations\n",
    "weekends = summer19_MTA_cleaned[summer19_MTA_cleaned['WEEKEND'] == 'WEEKEND']\n",
    "\n",
    "top_unique_stations_weekends = (weekends.groupby(['Unique_Station'])\n",
    "                       .sum()\n",
    "                       .reset_index()\n",
    "                       .sort_values(by = 'Total_Traffic', ascending = False)\n",
    "                       .head(top))\n",
    "#top_unique_stations\n",
    "top_unique_stations_weekends[['Unique_Station', 'Total_Traffic']]"
   ]
  },
  {
   "cell_type": "code",
   "execution_count": 36,
   "metadata": {},
   "outputs": [
    {
     "data": {
      "image/png": "[encoded data removed]",
      "text/plain": [
       "<Figure size 1152x720 with 1 Axes>"
      ]
     },
     "metadata": {
      "needs_background": "light"
     },
     "output_type": "display_data"
    }
   ],
   "source": [
    "plt.figure(figsize = [16,10])\n",
    "sns.barplot(x = 'Total_Traffic', y = 'Unique_Station', data = top_unique_stations_weekends)\n",
    "plt.title('Top NYC Stations for the months of April, May, and June of 2019 (WEEKENDS)', fontsize = 20)\n",
    "plt.xlabel('Total Entries and Exits per station', fontsize = 20)\n",
    "plt.ylabel('NYC Stations', fontsize = 20);\n",
    "plt.savefig('TOP NYC Stations on Weekends.png', bbox_inches = 'tight')"
   ]
  },
  {
   "cell_type": "code",
   "execution_count": 37,
   "metadata": {},
   "outputs": [
    {
     "data": {
      "text/html": [
       "<div>\n",
       "<style scoped>\n",
       "    .dataframe tbody tr th:only-of-type {\n",
       "        vertical-align: middle;\n",
       "    }\n",
       "\n",
       "    .dataframe tbody tr th {\n",
       "        vertical-align: top;\n",
       "    }\n",
       "\n",
       "    .dataframe thead th {\n",
       "        text-align: right;\n",
       "    }\n",
       "</style>\n",
       "<table border=\"1\" class=\"dataframe\">\n",
       "  <thead>\n",
       "    <tr style=\"text-align: right;\">\n",
       "      <th></th>\n",
       "      <th>Unique_Station</th>\n",
       "      <th>Total_Traffic</th>\n",
       "    </tr>\n",
       "  </thead>\n",
       "  <tbody>\n",
       "    <tr>\n",
       "      <th>94</th>\n",
       "      <td>34 ST-PENN STA_ACE</td>\n",
       "      <td>6868.710171</td>\n",
       "    </tr>\n",
       "    <tr>\n",
       "      <th>302</th>\n",
       "      <td>FULTON ST_2345ACJZ</td>\n",
       "      <td>6367.778578</td>\n",
       "    </tr>\n",
       "    <tr>\n",
       "      <th>312</th>\n",
       "      <td>GRD CNTRL-42 ST_4567S</td>\n",
       "      <td>6191.954095</td>\n",
       "    </tr>\n",
       "    <tr>\n",
       "      <th>90</th>\n",
       "      <td>34 ST-HERALD SQ_BDFMNQRW</td>\n",
       "      <td>5423.907291</td>\n",
       "    </tr>\n",
       "    <tr>\n",
       "      <th>103</th>\n",
       "      <td>42 ST-PORT AUTH_ACENQRS1237W</td>\n",
       "      <td>4119.900090</td>\n",
       "    </tr>\n",
       "    <tr>\n",
       "      <th>289</th>\n",
       "      <td>FLUSHING-MAIN_7</td>\n",
       "      <td>3885.751575</td>\n",
       "    </tr>\n",
       "    <tr>\n",
       "      <th>448</th>\n",
       "      <td>TIMES SQ-42 ST_1237ACENQRSW</td>\n",
       "      <td>3819.900990</td>\n",
       "    </tr>\n",
       "    <tr>\n",
       "      <th>404</th>\n",
       "      <td>PATH NEW WTC_1</td>\n",
       "      <td>3751.805581</td>\n",
       "    </tr>\n",
       "    <tr>\n",
       "      <th>235</th>\n",
       "      <td>CANAL ST_JNQRZ6W</td>\n",
       "      <td>3480.602160</td>\n",
       "    </tr>\n",
       "    <tr>\n",
       "      <th>124</th>\n",
       "      <td>59 ST_456NQRW</td>\n",
       "      <td>3258.932493</td>\n",
       "    </tr>\n",
       "  </tbody>\n",
       "</table>\n",
       "</div>"
      ],
      "text/plain": [
       "                   Unique_Station  Total_Traffic\n",
       "94             34 ST-PENN STA_ACE    6868.710171\n",
       "302            FULTON ST_2345ACJZ    6367.778578\n",
       "312         GRD CNTRL-42 ST_4567S    6191.954095\n",
       "90       34 ST-HERALD SQ_BDFMNQRW    5423.907291\n",
       "103  42 ST-PORT AUTH_ACENQRS1237W    4119.900090\n",
       "289               FLUSHING-MAIN_7    3885.751575\n",
       "448   TIMES SQ-42 ST_1237ACENQRSW    3819.900990\n",
       "404                PATH NEW WTC_1    3751.805581\n",
       "235              CANAL ST_JNQRZ6W    3480.602160\n",
       "124                 59 ST_456NQRW    3258.932493"
      ]
     },
     "execution_count": 37,
     "metadata": {},
     "output_type": "execute_result"
    }
   ],
   "source": [
    "# WEEKDAYS\n",
    "top = 10 # filter to top stations\n",
    "weekdays = summer19_MTA_cleaned[summer19_MTA_cleaned['WEEKEND'] == 'WEEKDAY']\n",
    "\n",
    "top_unique_stations_weekdays = (weekdays.groupby(['Unique_Station'])\n",
    "                       .sum()\n",
    "                       .reset_index()\n",
    "                       .sort_values(by = 'Total_Traffic', ascending = False)\n",
    "                       .head(top))\n",
    "#top_unique_stations\n",
    "top_unique_stations_weekdays[['Unique_Station', 'Total_Traffic']]"
   ]
  },
  {
   "cell_type": "code",
   "execution_count": 136,
   "metadata": {},
   "outputs": [
    {
     "data": {
      "image/png": "[encoded data removed]",
      "text/plain": [
       "<Figure size 1152x1152 with 1 Axes>"
      ]
     },
     "metadata": {
      "needs_background": "light"
     },
     "output_type": "display_data"
    }
   ],
   "source": [
    "plt.figure(figsize = [16,16])\n",
    "sns.barplot(x = 'Total_Traffic', y = 'Unique_Station', data = top_unique_stations_weekdays)\n",
    "plt.title('Top NYC Stations for the months of April, May, and June of 2019 (WEEKDAYS)', fontsize = 20)\n",
    "plt.xlabel('Total Entries and Exits per station', fontsize = 20)\n",
    "plt.ylabel('NYC Stations', fontsize = 20);\n",
    "plt.savefig('Top NYC Stations Weekdays.png', bbox_inches = 'tight')"
   ]
  },
  {
   "cell_type": "markdown",
   "metadata": {},
   "source": [
    "Let's examine the trend of total traffic throughout the week"
   ]
  },
  {
   "cell_type": "code",
   "execution_count": 39,
   "metadata": {},
   "outputs": [
    {
     "data": {
      "text/html": [
       "<div>\n",
       "<style scoped>\n",
       "    .dataframe tbody tr th:only-of-type {\n",
       "        vertical-align: middle;\n",
       "    }\n",
       "\n",
       "    .dataframe tbody tr th {\n",
       "        vertical-align: top;\n",
       "    }\n",
       "\n",
       "    .dataframe thead th {\n",
       "        text-align: right;\n",
       "    }\n",
       "</style>\n",
       "<table border=\"1\" class=\"dataframe\">\n",
       "  <thead>\n",
       "    <tr style=\"text-align: right;\">\n",
       "      <th></th>\n",
       "      <th>ENTRIES</th>\n",
       "      <th>EXITS</th>\n",
       "      <th>ENTRIES DIFF</th>\n",
       "      <th>EXITS DIFF</th>\n",
       "      <th>Total_Traffic</th>\n",
       "      <th>TIME_INT</th>\n",
       "    </tr>\n",
       "    <tr>\n",
       "      <th>DAY_OF_WEEK</th>\n",
       "      <th></th>\n",
       "      <th></th>\n",
       "      <th></th>\n",
       "      <th></th>\n",
       "      <th></th>\n",
       "      <th></th>\n",
       "    </tr>\n",
       "  </thead>\n",
       "  <tbody>\n",
       "    <tr>\n",
       "      <th>Friday</th>\n",
       "      <td>9110407454713</td>\n",
       "      <td>7041622732793</td>\n",
       "      <td>58232711.0</td>\n",
       "      <td>43018708.0</td>\n",
       "      <td>90851.060306</td>\n",
       "      <td>3915300</td>\n",
       "    </tr>\n",
       "    <tr>\n",
       "      <th>Monday</th>\n",
       "      <td>9164587769941</td>\n",
       "      <td>7107276277123</td>\n",
       "      <td>53643256.0</td>\n",
       "      <td>39778304.0</td>\n",
       "      <td>83805.571557</td>\n",
       "      <td>3901970</td>\n",
       "    </tr>\n",
       "    <tr>\n",
       "      <th>Saturday</th>\n",
       "      <td>7575870411015</td>\n",
       "      <td>5855446366739</td>\n",
       "      <td>33453313.0</td>\n",
       "      <td>26198029.0</td>\n",
       "      <td>53458.659766</td>\n",
       "      <td>3224421</td>\n",
       "    </tr>\n",
       "    <tr>\n",
       "      <th>Sunday</th>\n",
       "      <td>9136449754706</td>\n",
       "      <td>7124205641417</td>\n",
       "      <td>32774647.0</td>\n",
       "      <td>27370014.0</td>\n",
       "      <td>53855.558956</td>\n",
       "      <td>3936769</td>\n",
       "    </tr>\n",
       "    <tr>\n",
       "      <th>Thursday</th>\n",
       "      <td>8919831949247</td>\n",
       "      <td>6940603077978</td>\n",
       "      <td>58226326.0</td>\n",
       "      <td>42998915.0</td>\n",
       "      <td>90832.471647</td>\n",
       "      <td>3842948</td>\n",
       "    </tr>\n",
       "    <tr>\n",
       "      <th>Tuesday</th>\n",
       "      <td>9102669064148</td>\n",
       "      <td>7098131270579</td>\n",
       "      <td>57208242.0</td>\n",
       "      <td>42208177.0</td>\n",
       "      <td>89201.938794</td>\n",
       "      <td>3889080</td>\n",
       "    </tr>\n",
       "    <tr>\n",
       "      <th>Wednesday</th>\n",
       "      <td>9033961015501</td>\n",
       "      <td>7025969326268</td>\n",
       "      <td>58379814.0</td>\n",
       "      <td>43297221.0</td>\n",
       "      <td>91237.007201</td>\n",
       "      <td>3876883</td>\n",
       "    </tr>\n",
       "  </tbody>\n",
       "</table>\n",
       "</div>"
      ],
      "text/plain": [
       "                   ENTRIES          EXITS  ENTRIES DIFF  EXITS DIFF  \\\n",
       "DAY_OF_WEEK                                                           \n",
       "Friday       9110407454713  7041622732793    58232711.0  43018708.0   \n",
       "Monday       9164587769941  7107276277123    53643256.0  39778304.0   \n",
       "Saturday     7575870411015  5855446366739    33453313.0  26198029.0   \n",
       "Sunday       9136449754706  7124205641417    32774647.0  27370014.0   \n",
       "Thursday     8919831949247  6940603077978    58226326.0  42998915.0   \n",
       "Tuesday      9102669064148  7098131270579    57208242.0  42208177.0   \n",
       "Wednesday    9033961015501  7025969326268    58379814.0  43297221.0   \n",
       "\n",
       "             Total_Traffic  TIME_INT  \n",
       "DAY_OF_WEEK                           \n",
       "Friday        90851.060306   3915300  \n",
       "Monday        83805.571557   3901970  \n",
       "Saturday      53458.659766   3224421  \n",
       "Sunday        53855.558956   3936769  \n",
       "Thursday      90832.471647   3842948  \n",
       "Tuesday       89201.938794   3889080  \n",
       "Wednesday     91237.007201   3876883  "
      ]
     },
     "execution_count": 39,
     "metadata": {},
     "output_type": "execute_result"
    }
   ],
   "source": [
    "total_traffic_per_week = summer19_MTA_cleaned.groupby('DAY_OF_WEEK').sum()\n",
    "total_traffic_per_week.sort_index()"
   ]
  },
  {
   "cell_type": "code",
   "execution_count": 40,
   "metadata": {},
   "outputs": [
    {
     "data": {
      "image/png": "[encoded data removed]",
      "text/plain": [
       "<Figure size 720x720 with 1 Axes>"
      ]
     },
     "metadata": {
      "needs_background": "light"
     },
     "output_type": "display_data"
    }
   ],
   "source": [
    "plt.figure(figsize = [10,10])\n",
    "sns.lineplot(x = total_traffic_per_week.index , \n",
    "             y = total_traffic_per_week.Total_Traffic, \n",
    "             data = total_traffic_per_week.sort_values(by = 'Total_Traffic'));\n",
    "plt.xlabel('Day of the Week', size = 20)\n",
    "plt.ylabel('Total Traffic', size = 20)\n",
    "plt.title('Total Traffic by Day of the week', size = 20);\n",
    "plt.savefig('Traffic by Day of the Week.png')"
   ]
  },
  {
   "cell_type": "markdown",
   "metadata": {},
   "source": [
    "We see the total traffic dramatically decreases over the Saturday and Sunday period."
   ]
  },
  {
   "cell_type": "markdown",
   "metadata": {},
   "source": [
    "Now let's examine the total traffic per time slot"
   ]
  },
  {
   "cell_type": "code",
   "execution_count": 41,
   "metadata": {},
   "outputs": [
    {
     "data": {
      "text/html": [
       "<div>\n",
       "<style scoped>\n",
       "    .dataframe tbody tr th:only-of-type {\n",
       "        vertical-align: middle;\n",
       "    }\n",
       "\n",
       "    .dataframe tbody tr th {\n",
       "        vertical-align: top;\n",
       "    }\n",
       "\n",
       "    .dataframe thead th {\n",
       "        text-align: right;\n",
       "    }\n",
       "</style>\n",
       "<table border=\"1\" class=\"dataframe\">\n",
       "  <thead>\n",
       "    <tr style=\"text-align: right;\">\n",
       "      <th></th>\n",
       "      <th>C/A</th>\n",
       "      <th>UNIT</th>\n",
       "      <th>SCP</th>\n",
       "      <th>STATION</th>\n",
       "      <th>LINENAME</th>\n",
       "      <th>DIVISION</th>\n",
       "      <th>DATE</th>\n",
       "      <th>TIME</th>\n",
       "      <th>DESC</th>\n",
       "      <th>ENTRIES</th>\n",
       "      <th>EXITS</th>\n",
       "      <th>Unique_Station</th>\n",
       "      <th>ENTRIES DIFF</th>\n",
       "      <th>EXITS DIFF</th>\n",
       "      <th>Total_Traffic</th>\n",
       "      <th>DAY_OF_WEEK</th>\n",
       "      <th>TIME_INT</th>\n",
       "      <th>TIME_OF_DAY</th>\n",
       "      <th>WEEKEND</th>\n",
       "    </tr>\n",
       "  </thead>\n",
       "  <tbody>\n",
       "    <tr>\n",
       "      <th>1</th>\n",
       "      <td>A002</td>\n",
       "      <td>R051</td>\n",
       "      <td>02-00-00</td>\n",
       "      <td>59 ST</td>\n",
       "      <td>NQR456W</td>\n",
       "      <td>BMT</td>\n",
       "      <td>03/30/2019</td>\n",
       "      <td>04:00:00</td>\n",
       "      <td>REGULAR</td>\n",
       "      <td>6999084</td>\n",
       "      <td>2373576</td>\n",
       "      <td>59 ST_NQR456W</td>\n",
       "      <td>20.0</td>\n",
       "      <td>8.0</td>\n",
       "      <td>0.024302</td>\n",
       "      <td>Saturday</td>\n",
       "      <td>4</td>\n",
       "      <td>Midnight-4AM</td>\n",
       "      <td>WEEKEND</td>\n",
       "    </tr>\n",
       "    <tr>\n",
       "      <th>2</th>\n",
       "      <td>A002</td>\n",
       "      <td>R051</td>\n",
       "      <td>02-00-00</td>\n",
       "      <td>59 ST</td>\n",
       "      <td>NQR456W</td>\n",
       "      <td>BMT</td>\n",
       "      <td>03/30/2019</td>\n",
       "      <td>08:00:00</td>\n",
       "      <td>REGULAR</td>\n",
       "      <td>6999107</td>\n",
       "      <td>2373622</td>\n",
       "      <td>59 ST_NQR456W</td>\n",
       "      <td>23.0</td>\n",
       "      <td>46.0</td>\n",
       "      <td>0.061206</td>\n",
       "      <td>Saturday</td>\n",
       "      <td>8</td>\n",
       "      <td>4AM-8AM</td>\n",
       "      <td>WEEKEND</td>\n",
       "    </tr>\n",
       "    <tr>\n",
       "      <th>3</th>\n",
       "      <td>A002</td>\n",
       "      <td>R051</td>\n",
       "      <td>02-00-00</td>\n",
       "      <td>59 ST</td>\n",
       "      <td>NQR456W</td>\n",
       "      <td>BMT</td>\n",
       "      <td>03/30/2019</td>\n",
       "      <td>12:00:00</td>\n",
       "      <td>REGULAR</td>\n",
       "      <td>6999214</td>\n",
       "      <td>2373710</td>\n",
       "      <td>59 ST_NQR456W</td>\n",
       "      <td>107.0</td>\n",
       "      <td>88.0</td>\n",
       "      <td>0.174617</td>\n",
       "      <td>Saturday</td>\n",
       "      <td>12</td>\n",
       "      <td>8AM-Noon</td>\n",
       "      <td>WEEKEND</td>\n",
       "    </tr>\n",
       "    <tr>\n",
       "      <th>4</th>\n",
       "      <td>A002</td>\n",
       "      <td>R051</td>\n",
       "      <td>02-00-00</td>\n",
       "      <td>59 ST</td>\n",
       "      <td>NQR456W</td>\n",
       "      <td>BMT</td>\n",
       "      <td>03/30/2019</td>\n",
       "      <td>16:00:00</td>\n",
       "      <td>REGULAR</td>\n",
       "      <td>6999451</td>\n",
       "      <td>2373781</td>\n",
       "      <td>59 ST_NQR456W</td>\n",
       "      <td>237.0</td>\n",
       "      <td>71.0</td>\n",
       "      <td>0.276328</td>\n",
       "      <td>Saturday</td>\n",
       "      <td>16</td>\n",
       "      <td>Noon-4PM</td>\n",
       "      <td>WEEKEND</td>\n",
       "    </tr>\n",
       "    <tr>\n",
       "      <th>5</th>\n",
       "      <td>A002</td>\n",
       "      <td>R051</td>\n",
       "      <td>02-00-00</td>\n",
       "      <td>59 ST</td>\n",
       "      <td>NQR456W</td>\n",
       "      <td>BMT</td>\n",
       "      <td>03/30/2019</td>\n",
       "      <td>20:00:00</td>\n",
       "      <td>REGULAR</td>\n",
       "      <td>6999796</td>\n",
       "      <td>2373837</td>\n",
       "      <td>59 ST_NQR456W</td>\n",
       "      <td>345.0</td>\n",
       "      <td>56.0</td>\n",
       "      <td>0.360036</td>\n",
       "      <td>Saturday</td>\n",
       "      <td>20</td>\n",
       "      <td>4PM-8PM</td>\n",
       "      <td>WEEKEND</td>\n",
       "    </tr>\n",
       "  </tbody>\n",
       "</table>\n",
       "</div>"
      ],
      "text/plain": [
       "    C/A  UNIT       SCP STATION LINENAME DIVISION        DATE      TIME  \\\n",
       "1  A002  R051  02-00-00   59 ST  NQR456W      BMT  03/30/2019  04:00:00   \n",
       "2  A002  R051  02-00-00   59 ST  NQR456W      BMT  03/30/2019  08:00:00   \n",
       "3  A002  R051  02-00-00   59 ST  NQR456W      BMT  03/30/2019  12:00:00   \n",
       "4  A002  R051  02-00-00   59 ST  NQR456W      BMT  03/30/2019  16:00:00   \n",
       "5  A002  R051  02-00-00   59 ST  NQR456W      BMT  03/30/2019  20:00:00   \n",
       "\n",
       "      DESC  ENTRIES    EXITS Unique_Station  ENTRIES DIFF  EXITS DIFF  \\\n",
       "1  REGULAR  6999084  2373576  59 ST_NQR456W          20.0         8.0   \n",
       "2  REGULAR  6999107  2373622  59 ST_NQR456W          23.0        46.0   \n",
       "3  REGULAR  6999214  2373710  59 ST_NQR456W         107.0        88.0   \n",
       "4  REGULAR  6999451  2373781  59 ST_NQR456W         237.0        71.0   \n",
       "5  REGULAR  6999796  2373837  59 ST_NQR456W         345.0        56.0   \n",
       "\n",
       "   Total_Traffic DAY_OF_WEEK  TIME_INT   TIME_OF_DAY  WEEKEND  \n",
       "1       0.024302    Saturday         4  Midnight-4AM  WEEKEND  \n",
       "2       0.061206    Saturday         8       4AM-8AM  WEEKEND  \n",
       "3       0.174617    Saturday        12      8AM-Noon  WEEKEND  \n",
       "4       0.276328    Saturday        16      Noon-4PM  WEEKEND  \n",
       "5       0.360036    Saturday        20       4PM-8PM  WEEKEND  "
      ]
     },
     "execution_count": 41,
     "metadata": {},
     "output_type": "execute_result"
    }
   ],
   "source": [
    "summer19_MTA_cleaned.head()"
   ]
  },
  {
   "cell_type": "code",
   "execution_count": 138,
   "metadata": {},
   "outputs": [
    {
     "data": {
      "text/html": [
       "<div>\n",
       "<style scoped>\n",
       "    .dataframe tbody tr th:only-of-type {\n",
       "        vertical-align: middle;\n",
       "    }\n",
       "\n",
       "    .dataframe tbody tr th {\n",
       "        vertical-align: top;\n",
       "    }\n",
       "\n",
       "    .dataframe thead th {\n",
       "        text-align: right;\n",
       "    }\n",
       "</style>\n",
       "<table border=\"1\" class=\"dataframe\">\n",
       "  <thead>\n",
       "    <tr style=\"text-align: right;\">\n",
       "      <th></th>\n",
       "      <th>ENTRIES</th>\n",
       "      <th>EXITS</th>\n",
       "      <th>ENTRIES DIFF</th>\n",
       "      <th>EXITS DIFF</th>\n",
       "      <th>Total_Traffic</th>\n",
       "      <th>TIME_INT</th>\n",
       "    </tr>\n",
       "    <tr>\n",
       "      <th>TIME_OF_DAY</th>\n",
       "      <th></th>\n",
       "      <th></th>\n",
       "      <th></th>\n",
       "      <th></th>\n",
       "      <th></th>\n",
       "      <th></th>\n",
       "    </tr>\n",
       "  </thead>\n",
       "  <tbody>\n",
       "    <tr>\n",
       "      <th>Midnight-4AM</th>\n",
       "      <td>10359709599031</td>\n",
       "      <td>8094865621635</td>\n",
       "      <td>15892845.0</td>\n",
       "      <td>16666860.0</td>\n",
       "      <td>28995.439244</td>\n",
       "      <td>973032</td>\n",
       "    </tr>\n",
       "    <tr>\n",
       "      <th>4AM-8AM</th>\n",
       "      <td>11920298904913</td>\n",
       "      <td>9388816459917</td>\n",
       "      <td>35453281.0</td>\n",
       "      <td>22548278.0</td>\n",
       "      <td>51858.585059</td>\n",
       "      <td>2623818</td>\n",
       "    </tr>\n",
       "    <tr>\n",
       "      <th>8AM-Noon</th>\n",
       "      <td>10898662569650</td>\n",
       "      <td>8439194796158</td>\n",
       "      <td>80248377.0</td>\n",
       "      <td>55691165.0</td>\n",
       "      <td>122032.160216</td>\n",
       "      <td>3860278</td>\n",
       "    </tr>\n",
       "    <tr>\n",
       "      <th>Noon-4PM</th>\n",
       "      <td>10489836850110</td>\n",
       "      <td>8154102819392</td>\n",
       "      <td>79801205.0</td>\n",
       "      <td>59405207.0</td>\n",
       "      <td>124964.670567</td>\n",
       "      <td>5456243</td>\n",
       "    </tr>\n",
       "    <tr>\n",
       "      <th>4PM-8PM</th>\n",
       "      <td>8951575281510</td>\n",
       "      <td>6802211081851</td>\n",
       "      <td>85067950.0</td>\n",
       "      <td>61845144.0</td>\n",
       "      <td>131932.126913</td>\n",
       "      <td>6270559</td>\n",
       "    </tr>\n",
       "  </tbody>\n",
       "</table>\n",
       "</div>"
      ],
      "text/plain": [
       "                     ENTRIES          EXITS  ENTRIES DIFF  EXITS DIFF  \\\n",
       "TIME_OF_DAY                                                             \n",
       "Midnight-4AM  10359709599031  8094865621635    15892845.0  16666860.0   \n",
       "4AM-8AM       11920298904913  9388816459917    35453281.0  22548278.0   \n",
       "8AM-Noon      10898662569650  8439194796158    80248377.0  55691165.0   \n",
       "Noon-4PM      10489836850110  8154102819392    79801205.0  59405207.0   \n",
       "4PM-8PM        8951575281510  6802211081851    85067950.0  61845144.0   \n",
       "\n",
       "              Total_Traffic  TIME_INT  \n",
       "TIME_OF_DAY                            \n",
       "Midnight-4AM   28995.439244    973032  \n",
       "4AM-8AM        51858.585059   2623818  \n",
       "8AM-Noon      122032.160216   3860278  \n",
       "Noon-4PM      124964.670567   5456243  \n",
       "4PM-8PM       131932.126913   6270559  "
      ]
     },
     "execution_count": 138,
     "metadata": {},
     "output_type": "execute_result"
    }
   ],
   "source": [
    "total_traffic_time_of_day = summer19_MTA_cleaned.groupby('TIME_OF_DAY').sum()\n",
    "total_traffic_time_of_day.head()"
   ]
  },
  {
   "cell_type": "code",
   "execution_count": 148,
   "metadata": {},
   "outputs": [
    {
     "data": {
      "image/png": "[encoded data removed]",
      "text/plain": [
       "<Figure size 1152x432 with 2 Axes>"
      ]
     },
     "metadata": {
      "needs_background": "light"
     },
     "output_type": "display_data"
    }
   ],
   "source": [
    "plt.figure(figsize = [16,6])\n",
    "\n",
    "plt.subplot(1,2,1)\n",
    "sns.lineplot(x = total_traffic_time_of_day.index, y = 'Total_Traffic', data = total_traffic_time_of_day);\n",
    "plt.title('Total Traffic throughout the day', size = 20);\n",
    "plt.ylabel('Total Cumulative Traffic', size = 15);\n",
    "plt.xlabel('Time of Day', size = 20);\n",
    "\n",
    "plt.subplot(1,2,2)\n",
    "sns.lineplot(x = total_traffic_per_week.index , \n",
    "             y = total_traffic_per_week.Total_Traffic, \n",
    "             data = total_traffic_per_week.sort_values(by = 'Total_Traffic'));\n",
    "plt.xlabel('Day of the Week', size = 20)\n",
    "plt.ylabel('Total Traffic', size = 15)\n",
    "plt.title('Total Traffic by Day of the week', size = 20);\n",
    "plt.savefig('Traffic by Time and Day.png', boxx_inches = 'tight')\n",
    "plt.tight_layout()"
   ]
  },
  {
   "cell_type": "markdown",
   "metadata": {},
   "source": [
    "The busiest times of each days are earlying morning at 8AM all the way to evening time at 8PM."
   ]
  },
  {
   "cell_type": "code",
   "execution_count": 44,
   "metadata": {},
   "outputs": [],
   "source": [
    "group_names = ['Midnight-4AM', '4AM-8AM', '8AM-Noon', 'Noon-4PM', '4PM-8PM', '8PM-Midnight']"
   ]
  },
  {
   "cell_type": "code",
   "execution_count": 45,
   "metadata": {},
   "outputs": [
    {
     "data": {
      "text/html": [
       "<div>\n",
       "<style scoped>\n",
       "    .dataframe tbody tr th:only-of-type {\n",
       "        vertical-align: middle;\n",
       "    }\n",
       "\n",
       "    .dataframe tbody tr th {\n",
       "        vertical-align: top;\n",
       "    }\n",
       "\n",
       "    .dataframe thead th {\n",
       "        text-align: right;\n",
       "    }\n",
       "</style>\n",
       "<table border=\"1\" class=\"dataframe\">\n",
       "  <thead>\n",
       "    <tr style=\"text-align: right;\">\n",
       "      <th></th>\n",
       "      <th>TIME_OF_DAY</th>\n",
       "      <th>Monday</th>\n",
       "      <th>Tuesday</th>\n",
       "      <th>Wednesday</th>\n",
       "      <th>Thursday</th>\n",
       "      <th>Friday</th>\n",
       "      <th>Saturday</th>\n",
       "      <th>Sunday</th>\n",
       "    </tr>\n",
       "  </thead>\n",
       "  <tbody>\n",
       "    <tr>\n",
       "      <th>0</th>\n",
       "      <td>Midnight-4AM</td>\n",
       "      <td>7642.663366</td>\n",
       "      <td>10497.593159</td>\n",
       "      <td>11710.711971</td>\n",
       "      <td>12032.320432</td>\n",
       "      <td>12442.480648</td>\n",
       "      <td>1866.626463</td>\n",
       "      <td>11617.001800</td>\n",
       "    </tr>\n",
       "    <tr>\n",
       "      <th>1</th>\n",
       "      <td>4AM-8AM</td>\n",
       "      <td>8791.835284</td>\n",
       "      <td>9388.177318</td>\n",
       "      <td>9721.990099</td>\n",
       "      <td>9224.481548</td>\n",
       "      <td>8974.081008</td>\n",
       "      <td>3335.212421</td>\n",
       "      <td>2422.807381</td>\n",
       "    </tr>\n",
       "    <tr>\n",
       "      <th>2</th>\n",
       "      <td>8AM-Noon</td>\n",
       "      <td>20029.055806</td>\n",
       "      <td>21198.774077</td>\n",
       "      <td>21104.288029</td>\n",
       "      <td>21021.487849</td>\n",
       "      <td>20757.111611</td>\n",
       "      <td>10277.581458</td>\n",
       "      <td>7643.861386</td>\n",
       "    </tr>\n",
       "    <tr>\n",
       "      <th>3</th>\n",
       "      <td>Noon-4PM</td>\n",
       "      <td>18767.312331</td>\n",
       "      <td>19306.466247</td>\n",
       "      <td>19571.265527</td>\n",
       "      <td>19497.684068</td>\n",
       "      <td>19633.885689</td>\n",
       "      <td>15207.855086</td>\n",
       "      <td>12980.201620</td>\n",
       "    </tr>\n",
       "    <tr>\n",
       "      <th>4</th>\n",
       "      <td>4PM-8PM</td>\n",
       "      <td>20171.088209</td>\n",
       "      <td>20323.807381</td>\n",
       "      <td>20294.375338</td>\n",
       "      <td>20377.250225</td>\n",
       "      <td>20542.225023</td>\n",
       "      <td>16302.918992</td>\n",
       "      <td>13920.461746</td>\n",
       "    </tr>\n",
       "    <tr>\n",
       "      <th>5</th>\n",
       "      <td>8PM-Midnight</td>\n",
       "      <td>8403.616562</td>\n",
       "      <td>8487.120612</td>\n",
       "      <td>8834.376238</td>\n",
       "      <td>8679.247525</td>\n",
       "      <td>8501.276328</td>\n",
       "      <td>6468.465347</td>\n",
       "      <td>5271.225023</td>\n",
       "    </tr>\n",
       "  </tbody>\n",
       "</table>\n",
       "</div>"
      ],
      "text/plain": [
       "    TIME_OF_DAY        Monday       Tuesday     Wednesday      Thursday  \\\n",
       "0  Midnight-4AM   7642.663366  10497.593159  11710.711971  12032.320432   \n",
       "1       4AM-8AM   8791.835284   9388.177318   9721.990099   9224.481548   \n",
       "2      8AM-Noon  20029.055806  21198.774077  21104.288029  21021.487849   \n",
       "3      Noon-4PM  18767.312331  19306.466247  19571.265527  19497.684068   \n",
       "4       4PM-8PM  20171.088209  20323.807381  20294.375338  20377.250225   \n",
       "5  8PM-Midnight   8403.616562   8487.120612   8834.376238   8679.247525   \n",
       "\n",
       "         Friday      Saturday        Sunday  \n",
       "0  12442.480648   1866.626463  11617.001800  \n",
       "1   8974.081008   3335.212421   2422.807381  \n",
       "2  20757.111611  10277.581458   7643.861386  \n",
       "3  19633.885689  15207.855086  12980.201620  \n",
       "4  20542.225023  16302.918992  13920.461746  \n",
       "5   8501.276328   6468.465347   5271.225023  "
      ]
     },
     "execution_count": 45,
     "metadata": {},
     "output_type": "execute_result"
    }
   ],
   "source": [
    "total_traffic_time_of_day = summer19_MTA_cleaned.groupby(['DAY_OF_WEEK', 'TIME_OF_DAY']).sum().reset_index()\n",
    "temp = total_traffic_time_of_day[['DAY_OF_WEEK', 'TIME_OF_DAY', 'Total_Traffic']]\n",
    "temp.head(50)\n",
    "\n",
    "# temp_cols = [['Friday', 'Monday', 'Saturday', 'Sunday', 'Sunday', 'Thursday', 'Tuesday', 'Wednesday']]\n",
    "heat_map_df = pd.DataFrame({'TIME_OF_DAY': group_names, \n",
    "                            'Monday': temp.iloc[6:12]['Total_Traffic'].values,\n",
    "                            'Tuesday': temp.iloc[30:36]['Total_Traffic'].values,\n",
    "                            'Wednesday': temp.iloc[36:42]['Total_Traffic'].values,\n",
    "                            'Thursday': temp.iloc[24:30]['Total_Traffic'].values,\n",
    "                            'Friday': temp.iloc[0:6]['Total_Traffic'].values,\n",
    "                            'Saturday': temp.iloc[12:18]['Total_Traffic'].values,\n",
    "                            'Sunday': temp.iloc[18:24]['Total_Traffic'].values\n",
    "                           })\n",
    "heat_map_df"
   ]
  },
  {
   "cell_type": "markdown",
   "metadata": {},
   "source": [
    "Heatmap comparing the Time of Day and Day of the Week."
   ]
  },
  {
   "cell_type": "code",
   "execution_count": 47,
   "metadata": {},
   "outputs": [
    {
     "data": {
      "image/png": "[encoded data removed]",
      "text/plain": [
       "<Figure size 1152x1152 with 2 Axes>"
      ]
     },
     "metadata": {
      "needs_background": "light"
     },
     "output_type": "display_data"
    }
   ],
   "source": [
    "heat_map_ready = heat_map_df.set_index('TIME_OF_DAY')\n",
    "plt.figure(figsize = [16,16])\n",
    "chart = sns.heatmap(heat_map_ready, cmap = 'seismic', square = True,cbar_kws={\"shrink\": .70});\n",
    "plt.title('Total Traffic (Day vs Time) Heat Map', size = 20); \n",
    "plt.xlabel('Day of the Week', size = 15);\n",
    "plt.ylabel('Time of the Day', size = 15);\n",
    "chart.set_yticklabels(chart.get_yticklabels(), rotation = 0);\n",
    "plt.ylim([6, 0]);\n",
    "plt.savefig('Time and Day Traffic HeatMap.png', bbox_inches = 'tight');\n",
    "# sns.despine()\n"
   ]
  },
  {
   "cell_type": "markdown",
   "metadata": {},
   "source": [
    "Convincingly, we will recommend weekdays to be the best time to promote the WTWY Gala"
   ]
  },
  {
   "cell_type": "code",
   "execution_count": 51,
   "metadata": {},
   "outputs": [],
   "source": [
    "def top_station_barplot(x, y, data, title, xlabel, labelsize):\n",
    "    plt.figure(figsize = [16, 10])\n",
    "    sns.barplot(x = x, y = y, data = data)\n",
    "    plt.title(title, size = labelsize)\n",
    "    plt.xlabel(xlabel, size = labelsize)\n",
    "    plt.ylabel('Total Traffic', size = labelsize)"
   ]
  },
  {
   "cell_type": "markdown",
   "metadata": {},
   "source": [
    "Let's examine the best stations to target throughout Monday through Friday."
   ]
  },
  {
   "cell_type": "code",
   "execution_count": 52,
   "metadata": {},
   "outputs": [],
   "source": [
    "def day_df(DAY_OF_WEEK, top):\n",
    "    \n",
    "    '''\n",
    "    Takes the day of the week as an argument\n",
    "    Returns a dataframe from summer19_MTA_cleaned that is filtered by the argument\n",
    "    \n",
    "    '''\n",
    "    \n",
    "    mask = summer19_MTA_cleaned['DAY_OF_WEEK'] == DAY_OF_WEEK\n",
    "    top_stations = (summer19_MTA_cleaned[mask].groupby('Unique_Station')\n",
    "                       .sum()\n",
    "                       .sort_values(by = 'Total_Traffic', ascending = False))\n",
    "    \n",
    "    return top_stations.head(top)\n",
    "    "
   ]
  },
  {
   "cell_type": "code",
   "execution_count": 53,
   "metadata": {},
   "outputs": [],
   "source": [
    "top_stations_monday = day_df('Monday', top = 5)\n",
    "top_stations_tuesday = day_df('Tuesday', top = 5)\n",
    "top_stations_wednesday = day_df('Wednesday', top = 5)\n",
    "top_stations_thursday = day_df('Thursday', top = 5)\n",
    "top_stations_friday = day_df('Friday', top = 5)"
   ]
  },
  {
   "cell_type": "code",
   "execution_count": 61,
   "metadata": {},
   "outputs": [
    {
     "data": {
      "text/plain": [
       "'34 ST-PENN STA_ACE'"
      ]
     },
     "execution_count": 61,
     "metadata": {},
     "output_type": "execute_result"
    }
   ],
   "source": [
    "top_stations_monday.index[0]"
   ]
  },
  {
   "cell_type": "code",
   "execution_count": 131,
   "metadata": {},
   "outputs": [],
   "source": [
    "def top_station_barplot(x, y, data, title, xlabel, ylabel, labelsize, palette = 'husl'):\n",
    "    '''\n",
    "    Takes the the values of x and y from the dataframe data\n",
    "    Returns a barplot with title, xlabel and labelsize\n",
    "    '''\n",
    "    sns.barplot(x = x, y = y, data = data, palette = palette)\n",
    "    plt.title(title, size = labelsize)\n",
    "    plt.xlabel(xlabel, size = labelsize)\n",
    "    plt.ylabel(ylabel, size = labelsize)"
   ]
  },
  {
   "cell_type": "markdown",
   "metadata": {},
   "source": [
    "Let's plot all the top stations from Monday through Friday"
   ]
  },
  {
   "cell_type": "code",
   "execution_count": 127,
   "metadata": {},
   "outputs": [
    {
     "data": {
      "text/plain": [
       "['34 ST-PENN STA_ACE',\n",
       " 'FULTON ST_2345ACJZ',\n",
       " 'GRD CNTRL-42 ST_4567S',\n",
       " '34 ST-HERALD SQ_BDFMNQRW',\n",
       " '42 ST-PORT AUTH_ACENQRS1237W',\n",
       " 'PATH NEW WTC_1']"
      ]
     },
     "execution_count": 127,
     "metadata": {},
     "output_type": "execute_result"
    }
   ],
   "source": [
    "list(top_stations_monday.index) + list(['PATH NEW WTC_1'])"
   ]
  },
  {
   "cell_type": "code",
   "execution_count": 132,
   "metadata": {},
   "outputs": [
    {
     "data": {
      "image/png": "[encoded data removed]",
      "text/plain": [
       "<Figure size 1440x864 with 5 Axes>"
      ]
     },
     "metadata": {
      "needs_background": "light"
     },
     "output_type": "display_data"
    }
   ],
   "source": [
    "plt.figure(figsize = [20,12])\n",
    "\n",
    "top_stations = list(top_stations_monday.index) + list(['PATH NEW WTC_1'])\n",
    "\n",
    "colors_mon = ([\"#9b59b6\" if (x == top_stations[0])\n",
    "           else \"#3498db\" if (x == top_stations[1])\n",
    "           else \"#95a5a6\" if (x == top_stations[2])\n",
    "           else \"#e74c3c\" if (x == top_stations[3])\n",
    "           else \"#34495e\" if (x == top_stations[4])\n",
    "           else \"#2ecc71\" for x in top_stations_monday.index])\n",
    "\n",
    "plt.subplot(3,2,1)\n",
    "top_station_barplot(y = top_stations_monday.index, \n",
    "                    x = 'Total_Traffic', \n",
    "                    data = top_stations_monday, \n",
    "                    title = 'Top Stations (Monday)', \n",
    "                    xlabel = 'Total Traffic', ylabel = 'Top Stations', labelsize = 20, palette = colors_mon)\n",
    "\n",
    "colors_tue = ([\"#9b59b6\" if (x == top_stations[0])\n",
    "           else \"#3498db\" if (x == top_stations[1])\n",
    "           else \"#95a5a6\" if (x == top_stations[2])\n",
    "           else \"#e74c3c\" if (x == top_stations[3])\n",
    "           else \"#34495e\" if (x == top_stations[4])\n",
    "           else \"#2ecc71\" for x in top_stations_tuesday.index])\n",
    "\n",
    "plt.subplot(3,2,2)\n",
    "top_station_barplot(y = top_stations_tuesday.index, \n",
    "                    x = 'Total_Traffic', \n",
    "                    data = top_stations_tuesday, \n",
    "                    title = 'Top Stations (Tuesday)', \n",
    "                    xlabel = 'Total Traffic', ylabel = 'Top Stations', labelsize = 20, palette = colors_tue)\n",
    "\n",
    "colors_wed = ([\"#9b59b6\" if (x == top_stations[0])\n",
    "           else \"#3498db\" if (x == top_stations[1])\n",
    "           else \"#95a5a6\" if (x == top_stations[2])\n",
    "           else \"#e74c3c\" if (x == top_stations[3])\n",
    "           else \"#34495e\" if (x == top_stations[4])\n",
    "           else \"#2ecc71\" for x in top_stations_wednesday.index])\n",
    "\n",
    "plt.subplot(3,2,3)\n",
    "top_station_barplot(y = top_stations_wednesday.index, \n",
    "                    x = 'Total_Traffic', \n",
    "                    data = top_stations_wednesday, \n",
    "                    title = 'Top Stations (Wednesday)', \n",
    "                    xlabel = 'Total Traffic', ylabel = 'Top Stations', labelsize = 20, palette = colors_wed)\n",
    "\n",
    "colors_thur = ([\"#9b59b6\" if (x == top_stations[0])\n",
    "           else \"#3498db\" if (x == top_stations[1])\n",
    "           else \"#95a5a6\" if (x == top_stations[2])\n",
    "           else \"#e74c3c\" if (x == top_stations[3])\n",
    "           else \"#34495e\" if (x == top_stations[4])\n",
    "           else \"#2ecc71\" for x in top_stations_thursday.index])\n",
    "\n",
    "plt.subplot(3,2,4)\n",
    "top_station_barplot(y = top_stations_thursday.index, \n",
    "                    x = 'Total_Traffic', \n",
    "                    data = top_stations_thursday, \n",
    "                    title = 'Top Stations (Thursday)', \n",
    "                    xlabel = 'Total Traffic', ylabel = 'Top Stations', labelsize = 20, palette = colors_thur)\n",
    "\n",
    "colors_fri = ([\"#9b59b6\" if (x == top_stations[0])\n",
    "           else \"#3498db\" if (x == top_stations[1])\n",
    "           else \"#95a5a6\" if (x == top_stations[2])\n",
    "           else \"#e74c3c\" if (x == top_stations[3])\n",
    "           else \"#34495e\" if (x == top_stations[4])\n",
    "           else \"#2ecc71\" for x in top_stations_friday.index])\n",
    "\n",
    "plt.subplot(3,2,5)\n",
    "top_station_barplot(y = top_stations_friday.index, \n",
    "                    x = 'Total_Traffic', \n",
    "                    data = top_stations_friday, \n",
    "                    title = 'Top Stations (Friday)', \n",
    "                    xlabel = 'Total Traffic', ylabel = 'Top Stations', labelsize = 20, palette = colors_fri)\n",
    "plt.tight_layout()\n",
    "plt.savefig('Day of the Week vs Total Traffic subplot (top 5)', bbox_inches = 'tight')"
   ]
  },
  {
   "cell_type": "markdown",
   "metadata": {},
   "source": [
    "Throughout Monday and Friday, the top 5 stations rankings stayed the same exact for the fifth ranked station during Wednesday.\n",
    "\n",
    "\n",
    "Let's look at each of the top five stations by time of the day.\n",
    "\n",
    "* We can use a similar subplot approach and plot the time of day and the total traffic"
   ]
  },
  {
   "cell_type": "code",
   "execution_count": 87,
   "metadata": {},
   "outputs": [],
   "source": [
    "def day_df(Stations, top = 6):\n",
    "    \n",
    "    '''\n",
    "    Takes the time of the day as an argument\n",
    "    Returns a dataframe from summer19_MTA_cleaned that is filtered by the argument\n",
    "    \n",
    "    '''\n",
    "    \n",
    "    # filters by argument station and weekday data only\n",
    "    mask = (summer19_MTA_cleaned['Unique_Station'] == Stations) & (summer19_MTA_cleaned['WEEKEND'] == 'WEEKDAY')\n",
    "    top_stations = (summer19_MTA_cleaned[mask].groupby('TIME_OF_DAY')\n",
    "                       .sum().reset_index()\n",
    "                       .sort_values(by = 'Total_Traffic', ascending = False))\n",
    "    \n",
    "    return top_stations.head(top)"
   ]
  },
  {
   "cell_type": "code",
   "execution_count": 88,
   "metadata": {},
   "outputs": [
    {
     "data": {
      "text/html": [
       "<div>\n",
       "<style scoped>\n",
       "    .dataframe tbody tr th:only-of-type {\n",
       "        vertical-align: middle;\n",
       "    }\n",
       "\n",
       "    .dataframe tbody tr th {\n",
       "        vertical-align: top;\n",
       "    }\n",
       "\n",
       "    .dataframe thead th {\n",
       "        text-align: right;\n",
       "    }\n",
       "</style>\n",
       "<table border=\"1\" class=\"dataframe\">\n",
       "  <thead>\n",
       "    <tr style=\"text-align: right;\">\n",
       "      <th></th>\n",
       "      <th>Unique_Station</th>\n",
       "      <th>ENTRIES</th>\n",
       "      <th>EXITS</th>\n",
       "      <th>ENTRIES DIFF</th>\n",
       "      <th>EXITS DIFF</th>\n",
       "      <th>Total_Traffic</th>\n",
       "      <th>TIME_INT</th>\n",
       "    </tr>\n",
       "  </thead>\n",
       "  <tbody>\n",
       "    <tr>\n",
       "      <th>94</th>\n",
       "      <td>34 ST-PENN STA_ACE</td>\n",
       "      <td>670283993176</td>\n",
       "      <td>715364962094</td>\n",
       "      <td>5251396.0</td>\n",
       "      <td>4303253.0</td>\n",
       "      <td>8576.776778</td>\n",
       "      <td>347573</td>\n",
       "    </tr>\n",
       "    <tr>\n",
       "      <th>312</th>\n",
       "      <td>GRD CNTRL-42 ST_4567S</td>\n",
       "      <td>580325761542</td>\n",
       "      <td>537573481170</td>\n",
       "      <td>4457804.0</td>\n",
       "      <td>4385398.0</td>\n",
       "      <td>7936.803780</td>\n",
       "      <td>289547</td>\n",
       "    </tr>\n",
       "    <tr>\n",
       "      <th>90</th>\n",
       "      <td>34 ST-HERALD SQ_BDFMNQRW</td>\n",
       "      <td>976660703407</td>\n",
       "      <td>937652785399</td>\n",
       "      <td>4035201.0</td>\n",
       "      <td>4110163.0</td>\n",
       "      <td>7311.983798</td>\n",
       "      <td>275743</td>\n",
       "    </tr>\n",
       "    <tr>\n",
       "      <th>302</th>\n",
       "      <td>FULTON ST_2345ACJZ</td>\n",
       "      <td>306473275121</td>\n",
       "      <td>340456131519</td>\n",
       "      <td>4155459.0</td>\n",
       "      <td>3971517.0</td>\n",
       "      <td>7290.098110</td>\n",
       "      <td>327214</td>\n",
       "    </tr>\n",
       "    <tr>\n",
       "      <th>103</th>\n",
       "      <td>42 ST-PORT AUTH_ACENQRS1237W</td>\n",
       "      <td>1464593492427</td>\n",
       "      <td>1220246777724</td>\n",
       "      <td>3878724.0</td>\n",
       "      <td>2342674.0</td>\n",
       "      <td>5585.650765</td>\n",
       "      <td>198939</td>\n",
       "    </tr>\n",
       "  </tbody>\n",
       "</table>\n",
       "</div>"
      ],
      "text/plain": [
       "                   Unique_Station        ENTRIES          EXITS  ENTRIES DIFF  \\\n",
       "94             34 ST-PENN STA_ACE   670283993176   715364962094     5251396.0   \n",
       "312         GRD CNTRL-42 ST_4567S   580325761542   537573481170     4457804.0   \n",
       "90       34 ST-HERALD SQ_BDFMNQRW   976660703407   937652785399     4035201.0   \n",
       "302            FULTON ST_2345ACJZ   306473275121   340456131519     4155459.0   \n",
       "103  42 ST-PORT AUTH_ACENQRS1237W  1464593492427  1220246777724     3878724.0   \n",
       "\n",
       "     EXITS DIFF  Total_Traffic  TIME_INT  \n",
       "94    4303253.0    8576.776778    347573  \n",
       "312   4385398.0    7936.803780    289547  \n",
       "90    4110163.0    7311.983798    275743  \n",
       "302   3971517.0    7290.098110    327214  \n",
       "103   2342674.0    5585.650765    198939  "
      ]
     },
     "execution_count": 88,
     "metadata": {},
     "output_type": "execute_result"
    }
   ],
   "source": [
    "top_unique_stations.head(5)"
   ]
  },
  {
   "cell_type": "code",
   "execution_count": 89,
   "metadata": {},
   "outputs": [],
   "source": [
    "top_stations_PENN = day_df('34 ST-PENN STA_ACE')\n",
    "top_stations_GRAND = day_df('GRD CNTRL-42 ST_4567S')\n",
    "top_stations_HERALD = day_df('34 ST-HERALD SQ_BDFMNQRW')\n",
    "top_stations_FULTON = day_df('FULTON ST_2345ACJZ')\n",
    "top_stations_42STPORT = day_df('42 ST-PORT AUTH_ACENQRS1237W')"
   ]
  },
  {
   "cell_type": "code",
   "execution_count": 134,
   "metadata": {},
   "outputs": [
    {
     "data": {
      "image/png": "[encoded data removed]",
      "text/plain": [
       "<Figure size 1440x864 with 5 Axes>"
      ]
     },
     "metadata": {
      "needs_background": "light"
     },
     "output_type": "display_data"
    }
   ],
   "source": [
    "plt.figure(figsize = [20,12])\n",
    "plt.subplot(3,2,1)\n",
    "top_station_barplot(y = 'TIME_OF_DAY', \n",
    "                    x = 'Total_Traffic', \n",
    "                    data = top_stations_PENN, \n",
    "                    title = 'TIME OF DAY (PENN)', \n",
    "                    xlabel = 'Total Traffic', ylabel = 'Time of Day', labelsize = 20)\n",
    "plt.subplot(3,2,2)\n",
    "top_station_barplot(y = 'TIME_OF_DAY', \n",
    "                    x = 'Total_Traffic', \n",
    "                    data = top_stations_GRAND, \n",
    "                    title = 'TIME OF DAY (GRAND)', \n",
    "                    xlabel = 'Total Traffic', ylabel = 'Time of Day', labelsize = 20)\n",
    "plt.subplot(3,2,3)\n",
    "top_station_barplot(y = 'TIME_OF_DAY', \n",
    "                    x = 'Total_Traffic', \n",
    "                    data = top_stations_HERALD, \n",
    "                    title = 'TIME OF DAY (HERALD)', \n",
    "                    xlabel = 'Total Traffic', ylabel = 'Time of Day', labelsize = 20)\n",
    "plt.subplot(3,2,4)\n",
    "top_station_barplot(y = 'TIME_OF_DAY', \n",
    "                    x = 'Total_Traffic', \n",
    "                    data = top_stations_FULTON, \n",
    "                    title = 'TIME OF DAY (FULTON)', \n",
    "                    xlabel = 'Total Traffic', ylabel = 'Time of Day', labelsize = 20)\n",
    "plt.subplot(3,2,5)\n",
    "top_station_barplot(y = 'TIME_OF_DAY', \n",
    "                    x = 'Total_Traffic', \n",
    "                    data = top_stations_42STPORT, \n",
    "                    title = 'TIME OF DAY (42ST PORT)', \n",
    "                    xlabel = 'Total Traffic', ylabel = 'Time of Day', labelsize = 20)\n",
    "\n",
    "plt.tight_layout()\n",
    "plt.savefig('Time vs Traffic by Station subplot (top 5)', bbox_tight = 'tight')"
   ]
  },
  {
   "cell_type": "code",
   "execution_count": 124,
   "metadata": {},
   "outputs": [
    {
     "data": {
      "text/html": [
       "<div>\n",
       "<style scoped>\n",
       "    .dataframe tbody tr th:only-of-type {\n",
       "        vertical-align: middle;\n",
       "    }\n",
       "\n",
       "    .dataframe tbody tr th {\n",
       "        vertical-align: top;\n",
       "    }\n",
       "\n",
       "    .dataframe thead th {\n",
       "        text-align: right;\n",
       "    }\n",
       "</style>\n",
       "<table border=\"1\" class=\"dataframe\">\n",
       "  <thead>\n",
       "    <tr style=\"text-align: right;\">\n",
       "      <th></th>\n",
       "      <th>TIME_OF_DAY</th>\n",
       "      <th>ENTRIES</th>\n",
       "      <th>EXITS</th>\n",
       "      <th>ENTRIES DIFF</th>\n",
       "      <th>EXITS DIFF</th>\n",
       "      <th>Total_Traffic</th>\n",
       "      <th>TIME_INT</th>\n",
       "    </tr>\n",
       "  </thead>\n",
       "  <tbody>\n",
       "    <tr>\n",
       "      <th>4</th>\n",
       "      <td>4PM-8PM</td>\n",
       "      <td>72366028824</td>\n",
       "      <td>73455013688</td>\n",
       "      <td>985249.0</td>\n",
       "      <td>869106.0</td>\n",
       "      <td>1666.913591</td>\n",
       "      <td>48280</td>\n",
       "    </tr>\n",
       "    <tr>\n",
       "      <th>2</th>\n",
       "      <td>8AM-Noon</td>\n",
       "      <td>17253823757</td>\n",
       "      <td>14276848395</td>\n",
       "      <td>982427.0</td>\n",
       "      <td>793185.0</td>\n",
       "      <td>1595.724572</td>\n",
       "      <td>32938</td>\n",
       "    </tr>\n",
       "    <tr>\n",
       "      <th>3</th>\n",
       "      <td>Noon-4PM</td>\n",
       "      <td>98667211195</td>\n",
       "      <td>102635901697</td>\n",
       "      <td>901750.0</td>\n",
       "      <td>858837.0</td>\n",
       "      <td>1581.684968</td>\n",
       "      <td>53304</td>\n",
       "    </tr>\n",
       "    <tr>\n",
       "      <th>1</th>\n",
       "      <td>4AM-8AM</td>\n",
       "      <td>97169763940</td>\n",
       "      <td>106586135266</td>\n",
       "      <td>764150.0</td>\n",
       "      <td>431208.0</td>\n",
       "      <td>1072.827183</td>\n",
       "      <td>27529</td>\n",
       "    </tr>\n",
       "    <tr>\n",
       "      <th>5</th>\n",
       "      <td>8PM-Midnight</td>\n",
       "      <td>92952991102</td>\n",
       "      <td>100850822265</td>\n",
       "      <td>551004.0</td>\n",
       "      <td>394117.0</td>\n",
       "      <td>847.655266</td>\n",
       "      <td>77648</td>\n",
       "    </tr>\n",
       "    <tr>\n",
       "      <th>0</th>\n",
       "      <td>Midnight-4AM</td>\n",
       "      <td>89090211728</td>\n",
       "      <td>97608949690</td>\n",
       "      <td>69720.0</td>\n",
       "      <td>48973.0</td>\n",
       "      <td>103.904590</td>\n",
       "      <td>13020</td>\n",
       "    </tr>\n",
       "  </tbody>\n",
       "</table>\n",
       "</div>"
      ],
      "text/plain": [
       "    TIME_OF_DAY      ENTRIES         EXITS  ENTRIES DIFF  EXITS DIFF  \\\n",
       "4       4PM-8PM  72366028824   73455013688      985249.0    869106.0   \n",
       "2      8AM-Noon  17253823757   14276848395      982427.0    793185.0   \n",
       "3      Noon-4PM  98667211195  102635901697      901750.0    858837.0   \n",
       "1       4AM-8AM  97169763940  106586135266      764150.0    431208.0   \n",
       "5  8PM-Midnight  92952991102  100850822265      551004.0    394117.0   \n",
       "0  Midnight-4AM  89090211728   97608949690       69720.0     48973.0   \n",
       "\n",
       "   Total_Traffic  TIME_INT  \n",
       "4    1666.913591     48280  \n",
       "2    1595.724572     32938  \n",
       "3    1581.684968     53304  \n",
       "1    1072.827183     27529  \n",
       "5     847.655266     77648  \n",
       "0     103.904590     13020  "
      ]
     },
     "execution_count": 124,
     "metadata": {},
     "output_type": "execute_result"
    }
   ],
   "source": [
    "top_stations_HERALD = day_df('34 ST-PENN STA_ACE')\n",
    "top_stations_HERALD.head(10)"
   ]
  },
  {
   "cell_type": "code",
   "execution_count": 123,
   "metadata": {},
   "outputs": [
    {
     "data": {
      "text/plain": [
       "array([ 4,  8, 12, 23, 20, 16,  9, 11,  7, 17, 13,  5])"
      ]
     },
     "execution_count": 123,
     "metadata": {},
     "output_type": "execute_result"
    }
   ],
   "source": [
    "summer19_MTA_cleaned[summer19_MTA_cleaned['Unique_Station'] == '34 ST-HERALD SQ_BDFMNQRW'].TIME_INT.unique()"
   ]
  },
  {
   "cell_type": "code",
   "execution_count": null,
   "metadata": {},
   "outputs": [],
   "source": []
  }
 ],
 "metadata": {
  "kernelspec": {
   "display_name": "Python 3",
   "language": "python",
   "name": "python3"
  },
  "language_info": {
   "codemirror_mode": {
    "name": "ipython",
    "version": 3
   },
   "file_extension": ".py",
   "mimetype": "text/x-python",
   "name": "python",
   "nbconvert_exporter": "python",
   "pygments_lexer": "ipython3",
   "version": "3.7.3"
  }
 },
 "nbformat": 4,
 "nbformat_minor": 4
}
