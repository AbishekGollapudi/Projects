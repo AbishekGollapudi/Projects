{
 "cells": [
  {
   "cell_type": "code",
   "execution_count": 50,
   "metadata": {},
   "outputs": [],
   "source": [
    "import help_function \n",
    "import time\n",
    "start_time = time.time()"
   ]
  },
  {
   "cell_type": "code",
   "execution_count": 57,
   "metadata": {},
   "outputs": [
    {
     "name": "stdout",
     "output_type": "stream",
     "text": [
      "Total Time: 0.7534348964691162\n"
     ]
    }
   ],
   "source": [
    "start_time = time.time()\n",
    "help_function.find_similarity_LSA('Burgers and fries for dinner with good service', 5, 'Las Vegas', random = False)\n",
    "print(f'Total Time: {time.time() - start_time}')"
   ]
  },
  {
   "cell_type": "code",
   "execution_count": 59,
   "metadata": {},
   "outputs": [
    {
     "name": "stdout",
     "output_type": "stream",
     "text": [
      "Total Time: 0.7589960098266602\n"
     ]
    }
   ],
   "source": [
    "start_time = time.time()\n",
    "help_function.find_similarity_NMF('Burgers and fries for dinner with good service', 5, 'Las Vegas', random = False)\n",
    "print(f'Total Time: {time.time() - start_time}')"
   ]
  },
  {
   "cell_type": "code",
   "execution_count": 8,
   "metadata": {},
   "outputs": [],
   "source": [
    "somelist = []\n",
    "for n in find_similarity_LSA('Morning Coffee and breakfast food', 5, 'Las Vegas').index:\n",
    "    somelist.append(n)"
   ]
  },
  {
   "cell_type": "code",
   "execution_count": 9,
   "metadata": {},
   "outputs": [
    {
     "data": {
      "text/plain": [
       "['Viva Café Espresso Bar',\n",
       " 'E Go Cafe',\n",
       " 'C.B.M. French bistro',\n",
       " 'Big Town Hero',\n",
       " 'Castle Coffee']"
      ]
     },
     "execution_count": 9,
     "metadata": {},
     "output_type": "execute_result"
    }
   ],
   "source": [
    "somelist"
   ]
  },
  {
   "cell_type": "code",
   "execution_count": null,
   "metadata": {},
   "outputs": [],
   "source": []
  }
 ],
 "metadata": {
  "kernelspec": {
   "display_name": "Python 3",
   "language": "python",
   "name": "python3"
  },
  "language_info": {
   "codemirror_mode": {
    "name": "ipython",
    "version": 3
   },
   "file_extension": ".py",
   "mimetype": "text/x-python",
   "name": "python",
   "nbconvert_exporter": "python",
   "pygments_lexer": "ipython3",
   "version": "3.7.3"
  }
 },
 "nbformat": 4,
 "nbformat_minor": 4
}
