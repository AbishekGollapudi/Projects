{
 "cells": [
  {
   "cell_type": "markdown",
   "metadata": {},
   "source": [
    "### Yelp Content-Based Recommender Engine"
   ]
  },
  {
   "cell_type": "code",
   "execution_count": 1,
   "metadata": {},
   "outputs": [
    {
     "name": "stderr",
     "output_type": "stream",
     "text": [
      "[nltk_data] Downloading package wordnet to\n",
      "[nltk_data]     /Users/bentleyou/nltk_data...\n",
      "[nltk_data]   Package wordnet is already up-to-date!\n"
     ]
    }
   ],
   "source": [
    "import pandas as pd, numpy as np\n",
    "\n",
    "from sklearn.feature_extraction.text import CountVectorizer, TfidfVectorizer\n",
    "from sklearn.decomposition import TruncatedSVD\n",
    "from sklearn.decomposition import NMF\n",
    "from sklearn.metrics.pairwise import cosine_similarity\n",
    "import nltk\n",
    "from nltk.stem import WordNetLemmatizer\n",
    "nltk.download('wordnet');\n",
    "import help_function\n",
    "\n",
    "import pickle"
   ]
  },
  {
   "cell_type": "code",
   "execution_count": 2,
   "metadata": {},
   "outputs": [],
   "source": [
    "Tfidf_vectorizer = pd.read_pickle('Tfidf.pkl')"
   ]
  },
  {
   "cell_type": "code",
   "execution_count": 3,
   "metadata": {},
   "outputs": [],
   "source": [
    "lsa = pd.read_pickle('lsa_model.pkl')\n",
    "doc_topic_lsa = pd.read_pickle('doc_topic_lsa.pkl')"
   ]
  },
  {
   "cell_type": "code",
   "execution_count": 4,
   "metadata": {},
   "outputs": [],
   "source": [
    "nmf = pd.read_pickle('nmf_model.pkl')\n",
    "doc_topic_nmf = pd.read_pickle('doc_topic_nmf.pkl')"
   ]
  },
  {
   "cell_type": "markdown",
   "metadata": {},
   "source": [
    "#### Text Preprocessing"
   ]
  },
  {
   "cell_type": "code",
   "execution_count": 44,
   "metadata": {},
   "outputs": [],
   "source": [
    "def preprocessing(texts):\n",
    "    \n",
    "    lemmatizer = WordNetLemmatizer()\n",
    "\n",
    "    return [''.join([(lemmatizer.lemmatize(w)) for w in texts])]"
   ]
  },
  {
   "cell_type": "markdown",
   "metadata": {},
   "source": [
    "#### Using LSA transformer"
   ]
  },
  {
   "cell_type": "code",
   "execution_count": 45,
   "metadata": {},
   "outputs": [],
   "source": [
    "def text_transformer_lsa(preprocessed_texts):\n",
    "    \n",
    "    vectorized_text = Tfidf_vectorizer.transform(preprocessed_texts)\n",
    "    \n",
    "    compressed_vector = lsa.transform(vectorized_text)\n",
    "    \n",
    "    return compressed_vector"
   ]
  },
  {
   "cell_type": "markdown",
   "metadata": {},
   "source": [
    "#### Using NMF transformer"
   ]
  },
  {
   "cell_type": "code",
   "execution_count": 46,
   "metadata": {},
   "outputs": [],
   "source": [
    "def text_transformer_nmf(preprocessed_texts):\n",
    "    \n",
    "    vectorized_text = Tfidf_vectorizer.transform(preprocessed_texts)\n",
    "    \n",
    "    compressed_vector = nmf.transform(vectorized_text)\n",
    "    \n",
    "    return compressed_vector"
   ]
  },
  {
   "cell_type": "code",
   "execution_count": 47,
   "metadata": {},
   "outputs": [],
   "source": [
    "def find_similarity_LSA(search, top_search, location):\n",
    "    \n",
    "    preprocessed_search = preprocessing(search)\n",
    "    \n",
    "    search_vector = text_transformer_lsa(preprocessed_search)\n",
    "    \n",
    "    location_res_topic = doc_topic_lsa[doc_topic_lsa['city'] == location].iloc[:,0:10]\n",
    "    restaurant_topic_array = location_res_topic.values\n",
    "    restaurant_index = location_res_topic.index\n",
    "    \n",
    "    print(restaurant_topic_array.shape)\n",
    "    cosine_list = []\n",
    "    \n",
    "    \n",
    "    for restaurant in restaurant_topic_array:\n",
    "        \n",
    "        cosine_list.append(cosine_similarity([restaurant,search_vector.reshape(-1)])[1][0])\n",
    "    \n",
    "    cosine_array = np.array(cosine_list)\n",
    "    \n",
    "    restaurant_sim = pd.DataFrame(cosine_array, \n",
    "                                  index = restaurant_index,\n",
    "                                 columns = ['Similarity']).sort_values(by = 'Similarity', \n",
    "                                                                       ascending = False)\n",
    "    return restaurant_sim[:top_search]"
   ]
  },
  {
   "cell_type": "code",
   "execution_count": 48,
   "metadata": {},
   "outputs": [],
   "source": [
    "def find_similarity_NMF(search, top_search, location):\n",
    "    \n",
    "    preprocessed_search = preprocessing(search)\n",
    "\n",
    "    \n",
    "    search_vector = text_transformer_nmf(preprocessed_search)\n",
    "    \n",
    "    location_res_topic = doc_topic_nmf[doc_topic_nmf['city'] == location].iloc[:,0:10]\n",
    "    restaurant_topic_array = location_res_topic.values\n",
    "    restaurant_index = location_res_topic.index\n",
    "    \n",
    "    print(restaurant_topic_array.shape)\n",
    "    cosine_list = []\n",
    "    \n",
    "    \n",
    "    for restaurant in restaurant_topic_array:\n",
    "        \n",
    "        cosine_list.append(cosine_similarity([restaurant,search_vector.reshape(-1)])[1][0])\n",
    "    \n",
    "    cosine_array = np.array(cosine_list)\n",
    "    \n",
    "    restaurant_sim = pd.DataFrame(cosine_array, \n",
    "                                  index = restaurant_index,\n",
    "                                 columns = ['Similarity']).sort_values(by = 'Similarity', \n",
    "                                                                       ascending = False)\n",
    "    return restaurant_sim[:top_search]"
   ]
  },
  {
   "cell_type": "code",
   "execution_count": 18,
   "metadata": {
    "collapsed": true,
    "jupyter": {
     "outputs_hidden": true
    }
   },
   "outputs": [
    {
     "ename": "NameError",
     "evalue": "name 'WordNetLemmatizer' is not defined",
     "output_type": "error",
     "traceback": [
      "\u001b[0;31m---------------------------------------------------------------------------\u001b[0m",
      "\u001b[0;31mNameError\u001b[0m                                 Traceback (most recent call last)",
      "\u001b[0;32m<ipython-input-18-7c1d3365019c>\u001b[0m in \u001b[0;36m<module>\u001b[0;34m()\u001b[0m\n\u001b[0;32m----> 1\u001b[0;31m \u001b[0mfind_similarity_NMF\u001b[0m\u001b[0;34m(\u001b[0m\u001b[0;34m'Salad and pizza'\u001b[0m\u001b[0;34m,\u001b[0m \u001b[0;36m5\u001b[0m\u001b[0;34m,\u001b[0m \u001b[0;34m'Las Vegas'\u001b[0m\u001b[0;34m)\u001b[0m\u001b[0;34m\u001b[0m\u001b[0;34m\u001b[0m\u001b[0m\n\u001b[0m",
      "\u001b[0;32m/Users/bentleyou/Documents/GitHub/Yelp Review Topic Modeling/Recommendation_Engine/help_function.py\u001b[0m in \u001b[0;36mfind_similarity_NMF\u001b[0;34m(search, top_search, location)\u001b[0m\n\u001b[1;32m     51\u001b[0m     \u001b[0;32mreturn\u001b[0m \u001b[0mrestaurant_sim\u001b[0m\u001b[0;34m[\u001b[0m\u001b[0;34m:\u001b[0m\u001b[0mtop_search\u001b[0m\u001b[0;34m]\u001b[0m\u001b[0;34m\u001b[0m\u001b[0;34m\u001b[0m\u001b[0m\n\u001b[1;32m     52\u001b[0m \u001b[0;34m\u001b[0m\u001b[0m\n\u001b[0;32m---> 53\u001b[0;31m \u001b[0;32mdef\u001b[0m \u001b[0mfind_similarity_NMF\u001b[0m\u001b[0;34m(\u001b[0m\u001b[0msearch\u001b[0m\u001b[0;34m,\u001b[0m \u001b[0mtop_search\u001b[0m\u001b[0;34m,\u001b[0m \u001b[0mlocation\u001b[0m\u001b[0;34m)\u001b[0m\u001b[0;34m:\u001b[0m\u001b[0;34m\u001b[0m\u001b[0;34m\u001b[0m\u001b[0m\n\u001b[0m\u001b[1;32m     54\u001b[0m \u001b[0;34m\u001b[0m\u001b[0m\n\u001b[1;32m     55\u001b[0m     \u001b[0mpreprocessed_search\u001b[0m \u001b[0;34m=\u001b[0m \u001b[0mpreprocessing\u001b[0m\u001b[0;34m(\u001b[0m\u001b[0msearch\u001b[0m\u001b[0;34m)\u001b[0m\u001b[0;34m\u001b[0m\u001b[0;34m\u001b[0m\u001b[0m\n",
      "\u001b[0;32m/Users/bentleyou/Documents/GitHub/Yelp Review Topic Modeling/Recommendation_Engine/help_function.py\u001b[0m in \u001b[0;36mpreprocessing\u001b[0;34m(texts)\u001b[0m\n\u001b[1;32m      1\u001b[0m \u001b[0;32mdef\u001b[0m \u001b[0mpreprocessing\u001b[0m\u001b[0;34m(\u001b[0m\u001b[0mtexts\u001b[0m\u001b[0;34m)\u001b[0m\u001b[0;34m:\u001b[0m\u001b[0;34m\u001b[0m\u001b[0;34m\u001b[0m\u001b[0m\n\u001b[1;32m      2\u001b[0m \u001b[0;34m\u001b[0m\u001b[0m\n\u001b[0;32m----> 3\u001b[0;31m     \u001b[0;32mfrom\u001b[0m \u001b[0mnltk\u001b[0m\u001b[0;34m.\u001b[0m\u001b[0mstem\u001b[0m \u001b[0;32mimport\u001b[0m \u001b[0mWordNetLemmatizer\u001b[0m\u001b[0;34m\u001b[0m\u001b[0;34m\u001b[0m\u001b[0m\n\u001b[0m\u001b[1;32m      4\u001b[0m \u001b[0;34m\u001b[0m\u001b[0m\n\u001b[1;32m      5\u001b[0m     \u001b[0mlemmatizer\u001b[0m \u001b[0;34m=\u001b[0m \u001b[0mWordNetLemmatizer\u001b[0m\u001b[0;34m(\u001b[0m\u001b[0;34m)\u001b[0m\u001b[0;34m\u001b[0m\u001b[0;34m\u001b[0m\u001b[0m\n",
      "\u001b[0;31mNameError\u001b[0m: name 'WordNetLemmatizer' is not defined"
     ]
    }
   ],
   "source": [
    "find_similarity_NMF('Salad and pizza', 5, 'Las Vegas')"
   ]
  },
  {
   "cell_type": "code",
   "execution_count": 3,
   "metadata": {
    "collapsed": true,
    "jupyter": {
     "outputs_hidden": true
    }
   },
   "outputs": [
    {
     "ename": "NameError",
     "evalue": "name 'find_similarity_LSA' is not defined",
     "output_type": "error",
     "traceback": [
      "\u001b[0;31m---------------------------------------------------------------------------\u001b[0m",
      "\u001b[0;31mNameError\u001b[0m                                 Traceback (most recent call last)",
      "\u001b[0;32m<ipython-input-3-3755285099f3>\u001b[0m in \u001b[0;36m<module>\u001b[0;34m()\u001b[0m\n\u001b[0;32m----> 1\u001b[0;31m \u001b[0mfind_similarity_LSA\u001b[0m\u001b[0;34m(\u001b[0m\u001b[0;34m'pizza and salad'\u001b[0m\u001b[0;34m,\u001b[0m \u001b[0;36m5\u001b[0m\u001b[0;34m,\u001b[0m \u001b[0;34m'Las Vegas'\u001b[0m\u001b[0;34m)\u001b[0m\u001b[0;34m\u001b[0m\u001b[0;34m\u001b[0m\u001b[0m\n\u001b[0m",
      "\u001b[0;31mNameError\u001b[0m: name 'find_similarity_LSA' is not defined"
     ]
    }
   ],
   "source": [
    "find_similarity_LSA('pizza and salad', 5, 'Las Vegas')"
   ]
  },
  {
   "cell_type": "code",
   "execution_count": 2,
   "metadata": {},
   "outputs": [
    {
     "name": "stdout",
     "output_type": "stream",
     "text": [
      "(6455, 10)\n"
     ]
    },
    {
     "data": {
      "text/html": [
       "<div>\n",
       "<style scoped>\n",
       "    .dataframe tbody tr th:only-of-type {\n",
       "        vertical-align: middle;\n",
       "    }\n",
       "\n",
       "    .dataframe tbody tr th {\n",
       "        vertical-align: top;\n",
       "    }\n",
       "\n",
       "    .dataframe thead th {\n",
       "        text-align: right;\n",
       "    }\n",
       "</style>\n",
       "<table border=\"1\" class=\"dataframe\">\n",
       "  <thead>\n",
       "    <tr style=\"text-align: right;\">\n",
       "      <th></th>\n",
       "      <th>Similarity</th>\n",
       "    </tr>\n",
       "    <tr>\n",
       "      <th>name</th>\n",
       "      <th></th>\n",
       "    </tr>\n",
       "  </thead>\n",
       "  <tbody>\n",
       "    <tr>\n",
       "      <th>Cugino's Pizzeria</th>\n",
       "      <td>0.975713</td>\n",
       "    </tr>\n",
       "    <tr>\n",
       "      <th>Steve-O's New York Pizza</th>\n",
       "      <td>0.971231</td>\n",
       "    </tr>\n",
       "    <tr>\n",
       "      <th>Rollin' Pizza Pies</th>\n",
       "      <td>0.969228</td>\n",
       "    </tr>\n",
       "    <tr>\n",
       "      <th>Red Brick Pizza</th>\n",
       "      <td>0.968324</td>\n",
       "    </tr>\n",
       "    <tr>\n",
       "      <th>Sicilian Pizza II</th>\n",
       "      <td>0.967341</td>\n",
       "    </tr>\n",
       "  </tbody>\n",
       "</table>\n",
       "</div>"
      ],
      "text/plain": [
       "                          Similarity\n",
       "name                                \n",
       "Cugino's Pizzeria           0.975713\n",
       "Steve-O's New York Pizza    0.971231\n",
       "Rollin' Pizza Pies          0.969228\n",
       "Red Brick Pizza             0.968324\n",
       "Sicilian Pizza II           0.967341"
      ]
     },
     "execution_count": 2,
     "metadata": {},
     "output_type": "execute_result"
    }
   ],
   "source": [
    "help_function.find_similarity_LSA('pizza and salad', 5, 'Las Vegas')"
   ]
  },
  {
   "cell_type": "code",
   "execution_count": null,
   "metadata": {},
   "outputs": [],
   "source": []
  }
 ],
 "metadata": {
  "kernelspec": {
   "display_name": "Python 3",
   "language": "python",
   "name": "python3"
  },
  "language_info": {
   "codemirror_mode": {
    "name": "ipython",
    "version": 3
   },
   "file_extension": ".py",
   "mimetype": "text/x-python",
   "name": "python",
   "nbconvert_exporter": "python",
   "pygments_lexer": "ipython3",
   "version": "3.7.3"
  }
 },
 "nbformat": 4,
 "nbformat_minor": 4
}
