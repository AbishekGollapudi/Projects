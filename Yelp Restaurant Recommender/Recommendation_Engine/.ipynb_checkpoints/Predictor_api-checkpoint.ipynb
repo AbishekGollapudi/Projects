{
 "cells": [
  {
   "cell_type": "code",
   "execution_count": 1,
   "metadata": {},
   "outputs": [],
   "source": [
    "import help_function "
   ]
  },
  {
   "cell_type": "code",
   "execution_count": 2,
   "metadata": {},
   "outputs": [
    {
     "data": {
      "text/html": [
       "<div>\n",
       "<style scoped>\n",
       "    .dataframe tbody tr th:only-of-type {\n",
       "        vertical-align: middle;\n",
       "    }\n",
       "\n",
       "    .dataframe tbody tr th {\n",
       "        vertical-align: top;\n",
       "    }\n",
       "\n",
       "    .dataframe thead th {\n",
       "        text-align: right;\n",
       "    }\n",
       "</style>\n",
       "<table border=\"1\" class=\"dataframe\">\n",
       "  <thead>\n",
       "    <tr style=\"text-align: right;\">\n",
       "      <th></th>\n",
       "      <th>Similarity</th>\n",
       "    </tr>\n",
       "    <tr>\n",
       "      <th>name</th>\n",
       "      <th></th>\n",
       "    </tr>\n",
       "  </thead>\n",
       "  <tbody>\n",
       "    <tr>\n",
       "      <th>Burger King</th>\n",
       "      <td>0.889504</td>\n",
       "    </tr>\n",
       "    <tr>\n",
       "      <th>The Habit Burger Grill</th>\n",
       "      <td>0.927249</td>\n",
       "    </tr>\n",
       "    <tr>\n",
       "      <th>Fatburger</th>\n",
       "      <td>0.887235</td>\n",
       "    </tr>\n",
       "    <tr>\n",
       "      <th>Five Guys</th>\n",
       "      <td>0.862604</td>\n",
       "    </tr>\n",
       "    <tr>\n",
       "      <th>Tommy's Hamburgers</th>\n",
       "      <td>0.863366</td>\n",
       "    </tr>\n",
       "  </tbody>\n",
       "</table>\n",
       "</div>"
      ],
      "text/plain": [
       "                        Similarity\n",
       "name                              \n",
       "Burger King               0.889504\n",
       "The Habit Burger Grill    0.927249\n",
       "Fatburger                 0.887235\n",
       "Five Guys                 0.862604\n",
       "Tommy's Hamburgers        0.863366"
      ]
     },
     "execution_count": 2,
     "metadata": {},
     "output_type": "execute_result"
    }
   ],
   "source": [
    "help_function.find_similarity_LSA('I want the best burger', 5, 'Las Vegas', random = True)"
   ]
  },
  {
   "cell_type": "code",
   "execution_count": 6,
   "metadata": {},
   "outputs": [
    {
     "data": {
      "text/html": [
       "<div>\n",
       "<style scoped>\n",
       "    .dataframe tbody tr th:only-of-type {\n",
       "        vertical-align: middle;\n",
       "    }\n",
       "\n",
       "    .dataframe tbody tr th {\n",
       "        vertical-align: top;\n",
       "    }\n",
       "\n",
       "    .dataframe thead th {\n",
       "        text-align: right;\n",
       "    }\n",
       "</style>\n",
       "<table border=\"1\" class=\"dataframe\">\n",
       "  <thead>\n",
       "    <tr style=\"text-align: right;\">\n",
       "      <th></th>\n",
       "      <th>Similarity</th>\n",
       "    </tr>\n",
       "    <tr>\n",
       "      <th>name</th>\n",
       "      <th></th>\n",
       "    </tr>\n",
       "  </thead>\n",
       "  <tbody>\n",
       "    <tr>\n",
       "      <th>The Coffee Bean &amp; Tea Leaf</th>\n",
       "      <td>0.861219</td>\n",
       "    </tr>\n",
       "    <tr>\n",
       "      <th>Castle Coffee</th>\n",
       "      <td>0.856088</td>\n",
       "    </tr>\n",
       "    <tr>\n",
       "      <th>Kaldi's Coffee Las Vegas</th>\n",
       "      <td>0.849533</td>\n",
       "    </tr>\n",
       "    <tr>\n",
       "      <th>Juke N Java</th>\n",
       "      <td>0.843704</td>\n",
       "    </tr>\n",
       "    <tr>\n",
       "      <th>Chess House Cafe</th>\n",
       "      <td>0.843013</td>\n",
       "    </tr>\n",
       "  </tbody>\n",
       "</table>\n",
       "</div>"
      ],
      "text/plain": [
       "                            Similarity\n",
       "name                                  \n",
       "The Coffee Bean & Tea Leaf    0.861219\n",
       "Castle Coffee                 0.856088\n",
       "Kaldi's Coffee Las Vegas      0.849533\n",
       "Juke N Java                   0.843704\n",
       "Chess House Cafe              0.843013"
      ]
     },
     "execution_count": 6,
     "metadata": {},
     "output_type": "execute_result"
    }
   ],
   "source": [
    "help_function.find_similarity_LSA('I want the best burger', 5, 'Las Vegas', random = False)"
   ]
  },
  {
   "cell_type": "code",
   "execution_count": 8,
   "metadata": {},
   "outputs": [],
   "source": [
    "somelist = []\n",
    "for n in find_similarity_LSA('Morning Coffee and breakfast food', 5, 'Las Vegas').index:\n",
    "    somelist.append(n)"
   ]
  },
  {
   "cell_type": "code",
   "execution_count": 9,
   "metadata": {},
   "outputs": [
    {
     "data": {
      "text/plain": [
       "['Viva Café Espresso Bar',\n",
       " 'E Go Cafe',\n",
       " 'C.B.M. French bistro',\n",
       " 'Big Town Hero',\n",
       " 'Castle Coffee']"
      ]
     },
     "execution_count": 9,
     "metadata": {},
     "output_type": "execute_result"
    }
   ],
   "source": [
    "somelist"
   ]
  },
  {
   "cell_type": "code",
   "execution_count": null,
   "metadata": {},
   "outputs": [],
   "source": []
  }
 ],
 "metadata": {
  "kernelspec": {
   "display_name": "Python 3",
   "language": "python",
   "name": "python3"
  },
  "language_info": {
   "codemirror_mode": {
    "name": "ipython",
    "version": 3
   },
   "file_extension": ".py",
   "mimetype": "text/x-python",
   "name": "python",
   "nbconvert_exporter": "python",
   "pygments_lexer": "ipython3",
   "version": "3.7.3"
  }
 },
 "nbformat": 4,
 "nbformat_minor": 4
}
