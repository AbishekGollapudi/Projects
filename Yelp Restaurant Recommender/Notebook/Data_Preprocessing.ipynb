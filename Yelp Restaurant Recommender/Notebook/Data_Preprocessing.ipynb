{
 "cells": [
  {
   "cell_type": "markdown",
   "metadata": {},
   "source": [
    "## Using Yelp Open Dataset\n",
    "\n",
    "##### Currently, users' opinions about a particular restaurant on Yelp are heavily influenced by only a few aspects displayed on the business's yelp page. Here are just a few:\n",
    "\n",
    "1. Number of reviews on the restaurant\n",
    "2. The overall rating of the restaurant (out of 5 stars)\n",
    "3. Photos\n",
    "4. The top listed reviews picked by Yelp\n",
    "5. Popular dishes\n",
    "\n",
    "Despite Yelp's attempt to give users an overview of what the restaurant is like, it is still a very cumbersome job for users to browser through all these information and make an informed decision which yields a positive experience for the user overall.\n",
    "\n",
    "\n",
    "This project is an attempt to increase overall user experience by analyzing all of a restaurant's reviews and summarizing the main topics in a form of unigram adjectives clouds describing each of the main topics. "
   ]
  },
  {
   "cell_type": "code",
   "execution_count": 1,
   "metadata": {},
   "outputs": [],
   "source": [
    "import pandas as pd, numpy as np"
   ]
  },
  {
   "cell_type": "code",
   "execution_count": 2,
   "metadata": {},
   "outputs": [],
   "source": [
    "yelp_df = pd.read_pickle('yelp_df.pkl')"
   ]
  },
  {
   "cell_type": "code",
   "execution_count": 3,
   "metadata": {},
   "outputs": [
    {
     "name": "stdout",
     "output_type": "stream",
     "text": [
      "<class 'pandas.core.frame.DataFrame'>\n",
      "RangeIndex: 192609 entries, 0 to 192608\n",
      "Data columns (total 16 columns):\n",
      "_id             192609 non-null object\n",
      "address         192609 non-null object\n",
      "attributes      163773 non-null object\n",
      "business_id     192609 non-null object\n",
      "categories      192127 non-null object\n",
      "city            192609 non-null object\n",
      "hours           147779 non-null object\n",
      "is_open         192609 non-null int64\n",
      "latitude        192609 non-null float64\n",
      "longitude       192609 non-null float64\n",
      "name            192609 non-null object\n",
      "postal_code     192609 non-null object\n",
      "review_count    192609 non-null int64\n",
      "stars           192609 non-null float64\n",
      "state           192609 non-null object\n",
      "text            192606 non-null object\n",
      "dtypes: float64(3), int64(2), object(11)\n",
      "memory usage: 23.5+ MB\n"
     ]
    }
   ],
   "source": [
    "yelp_df.info()"
   ]
  },
  {
   "cell_type": "code",
   "execution_count": 15,
   "metadata": {
    "collapsed": true,
    "jupyter": {
     "outputs_hidden": true
    }
   },
   "outputs": [
    {
     "data": {
      "text/plain": [
       "0                                         Golf, Active Life\n",
       "1                      Nail Salons, Beauty & Spas, Day Spas\n",
       "2             Beauty & Spas, Nail Salons, Day Spas, Massage\n",
       "3         Hair Salons, Hair Stylists, Barbers, Men's Hai...\n",
       "4         Plumbing, Shopping, Local Services, Home Servi...\n",
       "5         Shipping Centers, Couriers & Delivery Services...\n",
       "6         Local Services, Professional Services, Compute...\n",
       "7                                            Bakeries, Food\n",
       "8                         Sushi Bars, Restaurants, Japanese\n",
       "9         Hair Stylists, Beauty & Spas, Hair Salons, Men...\n",
       "10        Restaurants, Breakfast & Brunch, Mexican, Taco...\n",
       "11        Event Planning & Services, Photographers, Prof...\n",
       "12                 Fitness & Instruction, Active Life, Yoga\n",
       "13        Bars, Nightlife, Pubs, Barbers, Beauty & Spas,...\n",
       "14        Specialty Food, Restaurants, Dim Sum, Imported...\n",
       "15               Italian, Restaurants, Pizza, Chicken Wings\n",
       "16                                     Restaurants, Italian\n",
       "17                                  Automotive, Car Dealers\n",
       "18        Trainers, Health & Medical, Active Life, Physi...\n",
       "19                               Beauty & Spas, Hair Salons\n",
       "20                            Arcades, Arts & Entertainment\n",
       "21        Car Rental, Windshield Installation & Repair, ...\n",
       "22        Women's Clothing, Shopping, Accessories, Fashi...\n",
       "23                            Insurance, Financial Services\n",
       "24        Nightlife, Arts & Entertainment, Bars, Strip C...\n",
       "25        Sandwiches, Salad, Restaurants, Burgers, Comfo...\n",
       "26                                           Bakeries, Food\n",
       "27        Fashion, Sporting Goods, Men's Clothing, Shopp...\n",
       "28        Mexican, Restaurants, Patisserie/Cake Shop, Fo...\n",
       "29        Juice Bars & Smoothies, Food, Restaurants, Fas...\n",
       "                                ...                        \n",
       "192579                 Pizza, Italian, Restaurants, Seafood\n",
       "192580    Shredding Services, Professional Services, Jun...\n",
       "192581                      Champagne Bars, Nightlife, Bars\n",
       "192582                                                 None\n",
       "192583    Specialty Food, International Grocery, Ethnic ...\n",
       "192584    Landscape Architects, Home Services, Gardeners...\n",
       "192585          Korean, Japanese, Asian Fusion, Restaurants\n",
       "192586                  Shopping, Women's Clothing, Fashion\n",
       "192587                                    Restaurants, Thai\n",
       "192588                                  Restaurants, Indian\n",
       "192589                           Nail Salons, Beauty & Spas\n",
       "192590    Hair Salons, Beauty & Spas, Nightlife, Dance C...\n",
       "192591                Restaurants, Soup, Chinese, Caribbean\n",
       "192592      Burgers, Restaurants, Fast Food, American (New)\n",
       "192593    Electronics, Home Services, Professional Servi...\n",
       "192594                                   Food, Coffee & Tea\n",
       "192595                           Nail Salons, Beauty & Spas\n",
       "192596                      Chiropractors, Health & Medical\n",
       "192597    Chinese Martial Arts, Specialty Schools, Educa...\n",
       "192598    Plumbing, Water Heater Installation/Repair, Pr...\n",
       "192599    Pet Training, Professional Services, Pet Servi...\n",
       "192600    Water Purification Services, Water Heater Inst...\n",
       "192601                               Beauty & Spas, Barbers\n",
       "192602                           Food, Beer, Wine & Spirits\n",
       "192603                 Books, Mags, Music & Video, Shopping\n",
       "192604    Home Services, Contractors, Landscaping, Mason...\n",
       "192605                               Massage, Beauty & Spas\n",
       "192606                                 Restaurants, Italian\n",
       "192607    Golf, Hotels, Day Spas, Hotels & Travel, Event...\n",
       "192608                        Vietnamese, Soup, Restaurants\n",
       "Name: categories, Length: 192609, dtype: object"
      ]
     },
     "execution_count": 15,
     "metadata": {},
     "output_type": "execute_result"
    }
   ],
   "source": [
    "yelp_df.categories"
   ]
  },
  {
   "cell_type": "markdown",
   "metadata": {},
   "source": [
    "For this project, we are only interested in Yelp in the Restaurant Category"
   ]
  },
  {
   "cell_type": "code",
   "execution_count": 39,
   "metadata": {},
   "outputs": [],
   "source": [
    "def restaurant(list_categories):\n",
    "    if list_categories == '':\n",
    "        return False\n",
    "    if list_categories == None:\n",
    "        return False\n",
    "    if 'Restaurants' in list_categories or 'Restaurant' in list_categories:\n",
    "        return True\n",
    "    else:\n",
    "        return False"
   ]
  },
  {
   "cell_type": "code",
   "execution_count": 40,
   "metadata": {},
   "outputs": [],
   "source": [
    "yelp_df['is_this_a_restaurant'] = yelp_df['categories'].apply(restaurant)"
   ]
  },
  {
   "cell_type": "code",
   "execution_count": 46,
   "metadata": {},
   "outputs": [],
   "source": [
    "# Let's filter where our data is only for restaurants\n",
    "yelp_res = yelp_df[yelp_df['is_this_a_restaurant'] == True]"
   ]
  },
  {
   "cell_type": "markdown",
   "metadata": {},
   "source": [
    "#### Pickle Checkpoint"
   ]
  },
  {
   "cell_type": "markdown",
   "metadata": {},
   "source": [
    "yelp_res.to_pickle('yelp_restaurants')"
   ]
  },
  {
   "cell_type": "code",
   "execution_count": 2,
   "metadata": {},
   "outputs": [],
   "source": [
    "import pandas as pd"
   ]
  },
  {
   "cell_type": "code",
   "execution_count": 3,
   "metadata": {},
   "outputs": [],
   "source": [
    "yelp_res = pd.read_pickle('yelp_restaurants')"
   ]
  },
  {
   "cell_type": "markdown",
   "metadata": {},
   "source": [
    "#### Let's start EDA and Preprocessing"
   ]
  },
  {
   "cell_type": "code",
   "execution_count": 6,
   "metadata": {},
   "outputs": [
    {
     "name": "stdout",
     "output_type": "stream",
     "text": [
      "<class 'pandas.core.frame.DataFrame'>\n",
      "Int64Index: 59387 entries, 8 to 192608\n",
      "Data columns (total 17 columns):\n",
      "_id                     59387 non-null object\n",
      "address                 59387 non-null object\n",
      "attributes              57176 non-null object\n",
      "business_id             59387 non-null object\n",
      "categories              59387 non-null object\n",
      "city                    59387 non-null object\n",
      "hours                   45391 non-null object\n",
      "is_open                 59387 non-null int64\n",
      "latitude                59387 non-null float64\n",
      "longitude               59387 non-null float64\n",
      "name                    59387 non-null object\n",
      "postal_code             59387 non-null object\n",
      "review_count            59387 non-null int64\n",
      "stars                   59387 non-null float64\n",
      "state                   59387 non-null object\n",
      "text                    59387 non-null object\n",
      "is_this_a_restaurant    59387 non-null bool\n",
      "dtypes: bool(1), float64(3), int64(2), object(11)\n",
      "memory usage: 7.8+ MB\n"
     ]
    }
   ],
   "source": [
    "yelp_res.info()"
   ]
  },
  {
   "cell_type": "code",
   "execution_count": 66,
   "metadata": {},
   "outputs": [],
   "source": [
    "yelp_drop_text = yelp_res.drop('text', 1)"
   ]
  },
  {
   "cell_type": "code",
   "execution_count": 67,
   "metadata": {},
   "outputs": [],
   "source": [
    "# Turn the dataframe into \n",
    "yelp_drop_text.to_csv('yelp_res_no_test.csv')"
   ]
  },
  {
   "cell_type": "code",
   "execution_count": 14,
   "metadata": {},
   "outputs": [],
   "source": [
    "import seaborn as sns\n",
    "import matplotlib.pyplot as plt\n",
    "%matplotlib inline"
   ]
  },
  {
   "cell_type": "code",
   "execution_count": 48,
   "metadata": {},
   "outputs": [
    {
     "data": {
      "image/png": "[encoded data removed]",
      "text/plain": [
       "<Figure size 1152x720 with 1 Axes>"
      ]
     },
     "metadata": {
      "needs_background": "light"
     },
     "output_type": "display_data"
    }
   ],
   "source": [
    "plt.figure(figsize = (16,10))\n",
    "sns.countplot('state', data = yelp_drop_text, palette = 'muted', \n",
    "                  order = yelp_drop_text['state'].value_counts().index)\n",
    "plt.xticks(rotation=90);"
   ]
  },
  {
   "cell_type": "markdown",
   "metadata": {},
   "source": [
    "Looks like majority of the restaurants are located in Ontaria, Arizona, and Nevada\n",
    "\n",
    "For the scope of this project, let's focus on one region such as Las Vegas only."
   ]
  },
  {
   "cell_type": "code",
   "execution_count": 49,
   "metadata": {},
   "outputs": [],
   "source": [
    "yelp_res_NV = yelp_res[yelp_res['state'] == 'NV']"
   ]
  },
  {
   "cell_type": "code",
   "execution_count": 56,
   "metadata": {},
   "outputs": [],
   "source": [
    "sub_yelp_NV = yelp_res_NV.drop(['business_id', '_id', 'hours', \n",
    "                                'is_open', 'state', 'is_this_a_restaurant',\n",
    "                                'attributes', 'city', 'postal_code'], 1)"
   ]
  },
  {
   "cell_type": "markdown",
   "metadata": {},
   "source": [
    "#### Pickle Checkpoint"
   ]
  },
  {
   "cell_type": "code",
   "execution_count": 57,
   "metadata": {},
   "outputs": [],
   "source": [
    "sub_yelp_NV.to_pickle('yelp_res_NV.pkl')"
   ]
  },
  {
   "cell_type": "code",
   "execution_count": 61,
   "metadata": {},
   "outputs": [],
   "source": [
    "import pandas as pd\n",
    "yelp_NV = pd.read_pickle('yelp_res_NV.pkl')"
   ]
  },
  {
   "cell_type": "code",
   "execution_count": 65,
   "metadata": {},
   "outputs": [],
   "source": [
    "yelp_NV_notext = yelp_NV.drop('text', 1)\n",
    "yelp_NV_notext.to_csv('yelp_NV_notext.csv')"
   ]
  },
  {
   "cell_type": "markdown",
   "metadata": {},
   "source": [
    "#### Let's create a category feature so we can use this information to filter our df with"
   ]
  },
  {
   "cell_type": "code",
   "execution_count": 7,
   "metadata": {},
   "outputs": [],
   "source": [
    "food_cat_string = '''Afghan\n",
    "African\n",
    "Senegalese\n",
    "South African\n",
    "American (New)\n",
    "American (Traditional)\n",
    "Arabian\n",
    "Argentine\n",
    "Armenian\n",
    "Asian Fusion\n",
    "Australian\n",
    "Austrian\n",
    "Bangladeshi\n",
    "Barbeque\n",
    "Basque\n",
    "Belgian\n",
    "Brasseries\n",
    "Brazilian\n",
    "Breakfast & Brunch\n",
    "British\n",
    "Buffets\n",
    "Burgers\n",
    "Burmese\n",
    "Cafes\n",
    "Themed Cafes\n",
    "Cafeteria\n",
    "Cajun/Creole\n",
    "Cambodian\n",
    "Caribbean\n",
    "Dominican\n",
    "Haitian\n",
    "Puerto Rican\n",
    "Trinidadian\n",
    "Catalan\n",
    "Cheesesteaks\n",
    "Chicken Shop\n",
    "Chicken Wings\n",
    "Chinese\n",
    "Cantonese\n",
    "Dim Sum\n",
    "Hainan\n",
    "Shanghainese\n",
    "Szechuan\n",
    "Comfort Food\n",
    "Creperies\n",
    "Cuban\n",
    "Czech\n",
    "Delis\n",
    "Diners\n",
    "Dinner Theater\n",
    "Ethiopian\n",
    "Fast Food\n",
    "Filipino\n",
    "Fish & Chips\n",
    "Fondue\n",
    "Food Court\n",
    "Food Stands\n",
    "French\n",
    "Mauritius\n",
    "Reunion\n",
    "Game Meat\n",
    "Gastropubs\n",
    "German\n",
    "Gluten-Free\n",
    "Greek\n",
    "Guamanian\n",
    "Halal\n",
    "Hawaiian\n",
    "Himalayan/Nepalese\n",
    "Honduran\n",
    "Hong Kong Style Cafe\n",
    "Hot Dogs\n",
    "Hot Pot\n",
    "Hungarian\n",
    "Iberian\n",
    "Indian\n",
    "Indonesian\n",
    "Irish\n",
    "Italian\n",
    "Calabrian\n",
    "Sardinian\n",
    "Sicilian\n",
    "Tuscan\n",
    "Japanese\n",
    "Conveyor Belt Sushi\n",
    "Izakaya\n",
    "Japanese Curry\n",
    "Ramen\n",
    "Teppanyaki\n",
    "Kebab\n",
    "Korean\n",
    "Kosher\n",
    "Laotian\n",
    "Latin American\n",
    "Colombian\n",
    "Salvadoran\n",
    "Venezuelan\n",
    "Live/Raw Food\n",
    "Malaysian\n",
    "Mediterranean\n",
    "Falafel\n",
    "Mexican\n",
    "Tacos\n",
    "Middle Eastern\n",
    "Egyptian\n",
    "Lebanese\n",
    "Modern European\n",
    "Mongolian\n",
    "Moroccan\n",
    "New Mexican Cuisine\n",
    "Nicaraguan\n",
    "Noodles\n",
    "Pakistani\n",
    "Pan Asia\n",
    "Persian/Iranian\n",
    "Peruvian\n",
    "Pizza\n",
    "Polish\n",
    "Polynesian\n",
    "Pop-Up Restaurants\n",
    "Portuguese\n",
    "Poutineries\n",
    "Russian\n",
    "Salad\n",
    "Sandwiches\n",
    "Scandinavian\n",
    "Scottish\n",
    "Seafood\n",
    "Singaporean\n",
    "Slovakian\n",
    "Soul Food\n",
    "Soup\n",
    "Southern\n",
    "Spanish\n",
    "Sri Lankan\n",
    "Steakhouses\n",
    "Supper Clubs\n",
    "Sushi Bars\n",
    "Syrian\n",
    "Taiwanese\n",
    "Tapas Bars\n",
    "Tapas/Small Plates\n",
    "Tex-Mex\n",
    "Thai\n",
    "Turkish\n",
    "Ukrainian\n",
    "Uzbek\n",
    "Vegan\n",
    "Vegetarian\n",
    "Vietnamese\n",
    "Waffles\n",
    "Wraps\n",
    "Shopping\n",
    "Adult\n",
    "Antiques\n",
    "Art Galleries\n",
    "Arts & Crafts\n",
    "Art Supplies\n",
    "Cards & Stationery\n",
    "Cooking Classes\n",
    "Costumes\n",
    "Embroidery & Crochet\n",
    "Fabric Stores\n",
    "Framing\n",
    "Paint-Your-Own Pottery\n",
    "Auction Houses\n",
    "Baby Gear & Furniture\n",
    "Battery Stores\n",
    "Bespoke Clothing\n",
    "Books, Mags, Music & Video\n",
    "Bookstores\n",
    "Comic Books\n",
    "Music & DVDs\n",
    "Newspapers & Magazines\n",
    "Video Game Stores\n",
    "Videos & Video Game Rental\n",
    "Vinyl Records\n",
    "Brewing Supplies\n",
    "Bridal\n",
    "Cannabis Dispensaries\n",
    "Computers\n",
    "Cosmetics & Beauty Supply\n",
    "Customized Merchandise\n",
    "Department Stores\n",
    "Discount Storeurg\n",
    "Drones\n",
    "Drugstores\n",
    "Duty-Free Shops\n",
    "Electronics\n",
    "Eyewear & Opticians\n",
    "Sunglasses\n",
    "Farming Equipment\n",
    "Fashion\n",
    "Accessories\n",
    "Ceremonial Clothing\n",
    "Children’s Clothing\n",
    "Clothing Rental\n",
    "Department Stores\n",
    "Formal Wear\n",
    "Fur Clothing\n",
    "Hats\n",
    "Leather Goods\n",
    "Lingerie\n",
    "Maternity Wear\n",
    "Men’s Clothing\n",
    "Plus Size Fashion\n",
    "Shoe Stores\n",
    "Sports Wear\n",
    "Dance Wear\n",
    "Surf Shop\n",
    "Swimwear\n",
    "Traditional Clothing\n",
    "Used, Vintage & Consignment\n",
    "Women’s Clothing\n",
    "Fireworks\n",
    "Fitness/Exercise Equipment\n",
    "Flea Markets\n",
    "Flowers & Gifts\n",
    "Cards & Stationery\n",
    "Florists\n",
    "Gift Shops\n",
    "Gemstones & Minerals\n",
    "Gold Buyers\n",
    "Guns & Ammo\n",
    "Head Shops\n",
    "High Fidelity Audio Equipment\n",
    "Hobby Shops\n",
    "Home & Garden\n",
    "Appliances\n",
    "Candle Stores\n",
    "Christmas Trees\n",
    "Furniture Stores\n",
    "Grilling Equipment\n",
    "Hardware Stores\n",
    "Holiday Decorations\n",
    "Home Decor\n",
    "Hot Tub & Pool\n",
    "Kitchen & Bath\n",
    "Kitchen Supplies\n",
    "Lighting Stores\n",
    "Mattresses\n",
    "Nurseries & Gardening\n",
    "Hydroponics\n",
    "Outdoor Furniture Stores\n",
    "Paint Stores\n",
    "Playsets\n",
    "Pumpkin Patches\n",
    "Rugs\n",
    "Tableware\n",
    "Horse Equipment Shops\n",
    "Jewelry\n",
    "Knitting Supplies\n",
    "Livestock Feed & Supply\n",
    "Luggage\n",
    "Medical Supplies\n",
    "Military Surplus\n",
    "Mobile Phone Accessories\n",
    "Mobile Phones\n",
    "Motorcycle Gear\n",
    "Musical Instruments & Teachers\n",
    "Office Equipment\n",
    "Outlet Stores\n",
    "Packing Supplies\n",
    "Pawn Shops\n",
    "Perfume\n",
    "Personal Shopping\n",
    "Photography Stores & Services\n",
    "Pool & Billiards\n",
    "Pop-up Shops\n",
    "Props\n",
    "Public Markets\n",
    "Religious Items\n",
    "Safe Stores\n",
    "Safety Equipment\n",
    "Shopping Centers\n",
    "Souvenir Shops\n",
    "Spiritual Shop\n",
    "Sporting Goods\n",
    "Bikes\n",
    "Dive Shops\n",
    "Golf Equipment\n",
    "Hockey Equipment\n",
    "Hunting & Fishing Supplies\n",
    "Outdoor Gear\n",
    "Skate Shops\n",
    "Ski & Snowboard Shops\n",
    "Sports Wear\n",
    "Dance Wear\n",
    "Tabletop Games\n",
    "Teacher Supplies\n",
    "Thrift Stores\n",
    "Tobacco Shops\n",
    "Toy Stores\n",
    "Trophy Shops\n",
    "Uniforms\n",
    "Used Bookstore\n",
    "Vape Shops\n",
    "Vitamins & Supplements\n",
    "Watches\n",
    "Wholesale Stores\n",
    "Wigs'''"
   ]
  },
  {
   "cell_type": "code",
   "execution_count": 8,
   "metadata": {},
   "outputs": [],
   "source": [
    "food_cat_split = food_cat_string.split(', ')"
   ]
  },
  {
   "cell_type": "code",
   "execution_count": 9,
   "metadata": {},
   "outputs": [],
   "source": [
    "food_cat_replace = [x.split('\\n') for x in food_cat_split]"
   ]
  },
  {
   "cell_type": "code",
   "execution_count": 10,
   "metadata": {},
   "outputs": [],
   "source": [
    "category_list = []\n",
    "for n in food_cat_replace:\n",
    "    for n in n:\n",
    "        category_list.append(n)"
   ]
  },
  {
   "cell_type": "code",
   "execution_count": 11,
   "metadata": {},
   "outputs": [],
   "source": [
    "category_list;"
   ]
  },
  {
   "cell_type": "markdown",
   "metadata": {},
   "source": [
    "Let's add each category of food to be one of our features in the dataframe"
   ]
  },
  {
   "cell_type": "code",
   "execution_count": 12,
   "metadata": {},
   "outputs": [],
   "source": [
    "working_yelp_res = yelp_res[['categories', 'city','name','state', 'text']]"
   ]
  },
  {
   "cell_type": "code",
   "execution_count": 13,
   "metadata": {},
   "outputs": [],
   "source": [
    "working_yelp_res_cat = working_yelp_res.copy()\n",
    "for cat in category_list:\n",
    "    working_yelp_res_cat[cat] = 0"
   ]
  },
  {
   "cell_type": "code",
   "execution_count": 14,
   "metadata": {},
   "outputs": [
    {
     "data": {
      "text/plain": [
       "(59387, 305)"
      ]
     },
     "execution_count": 14,
     "metadata": {},
     "output_type": "execute_result"
    }
   ],
   "source": [
    "working_yelp_res_cat.shape"
   ]
  },
  {
   "cell_type": "code",
   "execution_count": 17,
   "metadata": {},
   "outputs": [
    {
     "data": {
      "text/plain": [
       "59387"
      ]
     },
     "execution_count": 17,
     "metadata": {},
     "output_type": "execute_result"
    }
   ],
   "source": [
    "len(working_yelp_res_cat)"
   ]
  },
  {
   "cell_type": "code",
   "execution_count": 18,
   "metadata": {},
   "outputs": [],
   "source": [
    "working_yelp_res_cat.reset_index(drop = True, inplace = True)"
   ]
  },
  {
   "cell_type": "code",
   "execution_count": 35,
   "metadata": {},
   "outputs": [],
   "source": [
    "yelp_all = working_yelp_res_cat.copy()\n",
    "for index in range(yelp_all.shape[0]):\n",
    "    for cat in category_list:\n",
    "        if cat in [x for x in yelp_all.loc[index,'categories'].split(', ')]:\n",
    "            yelp_all.loc[index,cat] = 1"
   ]
  },
  {
   "cell_type": "markdown",
   "metadata": {},
   "source": [
    "#### Pickle Checkpoint"
   ]
  },
  {
   "cell_type": "code",
   "execution_count": 37,
   "metadata": {},
   "outputs": [],
   "source": [
    "yelp_all.to_pickle('yelp_restaurants.pkl')"
   ]
  },
  {
   "cell_type": "code",
   "execution_count": 4,
   "metadata": {},
   "outputs": [],
   "source": [
    "import pandas as pd\n",
    "yelp_all = pd.read_pickle('yelp_restaurants.pkl')"
   ]
  },
  {
   "cell_type": "code",
   "execution_count": 5,
   "metadata": {},
   "outputs": [
    {
     "data": {
      "text/plain": [
       "(59387, 306)"
      ]
     },
     "execution_count": 5,
     "metadata": {},
     "output_type": "execute_result"
    }
   ],
   "source": [
    "yelp_all.shape"
   ]
  },
  {
   "cell_type": "markdown",
   "metadata": {},
   "source": [
    "Let's find the top categories represented by the restaurants"
   ]
  },
  {
   "cell_type": "code",
   "execution_count": 6,
   "metadata": {},
   "outputs": [
    {
     "data": {
      "text/plain": [
       "Index(['yelp_all_top20', 'Sandwiches', 'Fast Food', 'American (Traditional)',\n",
       "       'Pizza', 'Burgers', 'Breakfast & Brunch', 'American (New)', 'Italian',\n",
       "       'Mexican'],\n",
       "      dtype='object')"
      ]
     },
     "execution_count": 6,
     "metadata": {},
     "output_type": "execute_result"
    }
   ],
   "source": [
    "yelp_all.describe().loc['mean'].sort_values(ascending = False).head(10).index"
   ]
  },
  {
   "cell_type": "code",
   "execution_count": 52,
   "metadata": {},
   "outputs": [],
   "source": [
    "food_cat = ['Sandwiches', 'Fast Food', 'American (Traditional)', 'Pizza', 'Burgers',\n",
    "       'Breakfast & Brunch', 'American (New)', 'Italian', 'Mexican', 'Chinese',\n",
    "       'Cafes', 'Japanese', 'Chicken Wings', 'Salad', 'Seafood', 'Sushi Bars',\n",
    "       'Delis', 'Asian Fusion', 'Mediterranean', 'Barbeque']"
   ]
  },
  {
   "cell_type": "code",
   "execution_count": 53,
   "metadata": {},
   "outputs": [],
   "source": [
    "yelp_all = yelp_all.copy()\n",
    "yelp_all['yelp_all_top20'] = 0 "
   ]
  },
  {
   "cell_type": "code",
   "execution_count": 54,
   "metadata": {},
   "outputs": [],
   "source": [
    "for index in range(yelp_all.shape[0]):\n",
    "    for cat in [x for x in yelp_all.loc[index,'categories'].split(', ')]:\n",
    "        if cat in food_cat:\n",
    "            yelp_all.loc[index,'yelp_all_top20'] = 1"
   ]
  },
  {
   "cell_type": "markdown",
   "metadata": {},
   "source": [
    "#### Pickle Checkpoint"
   ]
  },
  {
   "cell_type": "code",
   "execution_count": 68,
   "metadata": {},
   "outputs": [],
   "source": [
    "yelp_all.to_pickle('yelp_restaurants.pkl')"
   ]
  },
  {
   "cell_type": "code",
   "execution_count": 69,
   "metadata": {},
   "outputs": [],
   "source": [
    "city_list = ['Toronto', 'Las Vegas', 'Phoenix', 'Montréal', 'Calgary', 'Charlotte',\n",
    "       'Pittsburgh']"
   ]
  },
  {
   "cell_type": "code",
   "execution_count": 70,
   "metadata": {},
   "outputs": [],
   "source": [
    "yelp_all = yelp_all.copy()\n",
    "yelp_all['major_city'] = 0\n",
    "for index in range(yelp_all.shape[0]):\n",
    "    if yelp_all.loc[index,'city'] in city_list:\n",
    "        yelp_all.loc[index,'major_city'] = 1\n",
    "    "
   ]
  },
  {
   "cell_type": "code",
   "execution_count": 74,
   "metadata": {},
   "outputs": [],
   "source": [
    "yelp_major = yelp_all[yelp_all['major_city'] == 1]"
   ]
  },
  {
   "cell_type": "code",
   "execution_count": 75,
   "metadata": {},
   "outputs": [
    {
     "data": {
      "text/plain": [
       "(30285, 307)"
      ]
     },
     "execution_count": 75,
     "metadata": {},
     "output_type": "execute_result"
    }
   ],
   "source": [
    "yelp_major.shape"
   ]
  },
  {
   "cell_type": "markdown",
   "metadata": {},
   "source": [
    "#### Pickle Checkpoint"
   ]
  },
  {
   "cell_type": "code",
   "execution_count": 76,
   "metadata": {},
   "outputs": [],
   "source": [
    "yelp_major.to_pickle('yelp_df_top_cities.pkl')"
   ]
  }
 ],
 "metadata": {
  "kernelspec": {
   "display_name": "Python 3",
   "language": "python",
   "name": "python3"
  },
  "language_info": {
   "codemirror_mode": {
    "name": "ipython",
    "version": 3
   },
   "file_extension": ".py",
   "mimetype": "text/x-python",
   "name": "python",
   "nbconvert_exporter": "python",
   "pygments_lexer": "ipython3",
   "version": "3.7.3"
  }
 },
 "nbformat": 4,
 "nbformat_minor": 4
}
